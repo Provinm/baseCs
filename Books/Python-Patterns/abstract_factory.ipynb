{
 "cells": [
  {
   "cell_type": "markdown",
   "metadata": {},
   "source": [
    "## abstract_factory"
   ]
  },
  {
   "cell_type": "code",
   "execution_count": 1,
   "metadata": {},
   "outputs": [],
   "source": [
    "# 抽象工厂函数`"
   ]
  },
  {
   "cell_type": "markdown",
   "metadata": {},
   "source": [
    "[subclass reference](https://stackoverflow.com/questions/3862310/how-can-i-find-all-subclasses-of-a-class-given-its-name)"
   ]
  },
  {
   "cell_type": "code",
   "execution_count": 2,
   "metadata": {},
   "outputs": [],
   "source": [
    "import six\n",
    "import abc\n",
    "import random"
   ]
  },
  {
   "cell_type": "code",
   "execution_count": 4,
   "metadata": {},
   "outputs": [],
   "source": [
    "class PetShop(object):\n",
    "    \n",
    "    def __init__(self, animal_factory=None):\n",
    "        self.pet_factory = animal_factory\n",
    "    \n",
    "    def show_pet(self):\n",
    "        \n",
    "        pet = self.pet_factory.get_pet()\n",
    "        print('we have a lovely {}'.format(pet))\n",
    "        print('it says {}'.format(pet.speak()))\n",
    "        print('we also have {}'.format(self.pet_factory.get_food()))\n",
    "        "
   ]
  },
  {
   "cell_type": "code",
   "execution_count": 5,
   "metadata": {},
   "outputs": [],
   "source": [
    "class Dog(object):\n",
    "    \n",
    "    def speak(self):\n",
    "        return 'woof'\n",
    "    \n",
    "    def __str__(self):\n",
    "        return 'Dog'\n"
   ]
  },
  {
   "cell_type": "code",
   "execution_count": 7,
   "metadata": {},
   "outputs": [],
   "source": [
    "class Cat(object):\n",
    "    \n",
    "    def speak(self):\n",
    "        return 'meow'\n",
    "    \n",
    "    def __str__(self):\n",
    "        return 'Cat'"
   ]
  },
  {
   "cell_type": "code",
   "execution_count": 8,
   "metadata": {},
   "outputs": [],
   "source": [
    "class DogFactory(object):\n",
    "    \n",
    "    def get_pet(self):\n",
    "        return Dog()\n",
    "    \n",
    "    def get_food(self):\n",
    "        return 'dog food'"
   ]
  },
  {
   "cell_type": "code",
   "execution_count": 9,
   "metadata": {},
   "outputs": [],
   "source": [
    "class CatFactory(object):\n",
    "    \n",
    "    def get_pet(self):\n",
    "        return Cat()\n",
    "    \n",
    "    def get_food(self):\n",
    "        return 'cat food'"
   ]
  },
  {
   "cell_type": "code",
   "execution_count": 10,
   "metadata": {},
   "outputs": [],
   "source": [
    "def get_factory():\n",
    "    \n",
    "    return random.choice([DogFactory, CatFactory])()"
   ]
  },
  {
   "cell_type": "code",
   "execution_count": 14,
   "metadata": {},
   "outputs": [],
   "source": [
    "@six.add_metaclass(abc.ABCMeta)\n",
    "class Pet(object):\n",
    "    \n",
    "    @classmethod\n",
    "    def from_name(cls, name):\n",
    "        for sub_cls in cls.__subclasses__():\n",
    "            if name == sub_cls.__name__.lower():\n",
    "                return sub_cls()\n",
    "            \n",
    "    @abc.abstractmethod\n",
    "    def speak(self):\n",
    "        pass"
   ]
  },
  {
   "cell_type": "code",
   "execution_count": 15,
   "metadata": {},
   "outputs": [],
   "source": [
    "class Kitty(Pet):\n",
    "    \n",
    "    def speak(self):\n",
    "        return 'meow'\n",
    "    \n",
    "    "
   ]
  },
  {
   "cell_type": "code",
   "execution_count": 16,
   "metadata": {},
   "outputs": [],
   "source": [
    "class Duck(Pet):\n",
    "    def speak(self):\n",
    "        return 'Quak'"
   ]
  },
  {
   "cell_type": "code",
   "execution_count": 17,
   "metadata": {},
   "outputs": [
    {
     "name": "stdout",
     "output_type": "stream",
     "text": [
      "we have a lovely Dog\n",
      "it says woof\n",
      "we also have dog food\n",
      "============\n",
      "we have a lovely Cat\n",
      "it says meow\n",
      "we also have cat food\n",
      "============\n",
      "we have a lovely Dog\n",
      "it says woof\n",
      "we also have dog food\n",
      "============\n"
     ]
    }
   ],
   "source": [
    "for i in range(3):\n",
    "    shop = PetShop(get_factory())\n",
    "    shop.show_pet()\n",
    "    print('============')"
   ]
  },
  {
   "cell_type": "code",
   "execution_count": 18,
   "metadata": {},
   "outputs": [
    {
     "name": "stdout",
     "output_type": "stream",
     "text": [
      "kitty, meow\n",
      "duck, Quak\n"
     ]
    }
   ],
   "source": [
    "for n in ['kitty', 'duck']:\n",
    "    pet = Pet.from_name(n)\n",
    "    print('{}, {}'.format(n, pet.speak()))"
   ]
  },
  {
   "cell_type": "code",
   "execution_count": 19,
   "metadata": {},
   "outputs": [],
   "source": [
    "# subclasses\n",
    "\n",
    "class A(object):\n",
    "    pass\n",
    "\n",
    "class SubA(A):\n",
    "    pass\n",
    "\n",
    "class SubB(A):\n",
    "    pass\n",
    "\n",
    "class SubSubB(SubB):\n",
    "    pass"
   ]
  },
  {
   "cell_type": "code",
   "execution_count": 20,
   "metadata": {},
   "outputs": [
    {
     "data": {
      "text/plain": [
       "<function A.__subclasses__>"
      ]
     },
     "execution_count": 20,
     "metadata": {},
     "output_type": "execute_result"
    }
   ],
   "source": [
    "A.__subclasses__"
   ]
  },
  {
   "cell_type": "code",
   "execution_count": 21,
   "metadata": {},
   "outputs": [
    {
     "data": {
      "text/plain": [
       "[__main__.SubA, __main__.SubB]"
      ]
     },
     "execution_count": 21,
     "metadata": {},
     "output_type": "execute_result"
    }
   ],
   "source": [
    "A.__subclasses__()"
   ]
  },
  {
   "cell_type": "code",
   "execution_count": 22,
   "metadata": {},
   "outputs": [
    {
     "data": {
      "text/plain": [
       "[__main__.SubSubB]"
      ]
     },
     "execution_count": 22,
     "metadata": {},
     "output_type": "execute_result"
    }
   ],
   "source": [
    "SubB.__subclasses__()"
   ]
  },
  {
   "cell_type": "code",
   "execution_count": null,
   "metadata": {},
   "outputs": [],
   "source": []
  }
 ],
 "metadata": {
  "kernelspec": {
   "display_name": "Python 3",
   "language": "python",
   "name": "python3"
  },
  "language_info": {
   "codemirror_mode": {
    "name": "ipython",
    "version": 3
   },
   "file_extension": ".py",
   "mimetype": "text/x-python",
   "name": "python",
   "nbconvert_exporter": "python",
   "pygments_lexer": "ipython3",
   "version": "3.6.2"
  }
 },
 "nbformat": 4,
 "nbformat_minor": 2
}
