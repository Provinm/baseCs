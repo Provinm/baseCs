{
 "cells": [
  {
   "cell_type": "code",
   "execution_count": 80,
   "metadata": {
    "collapsed": true
   },
   "outputs": [],
   "source": [
    "# 使用递归解决最大子组\n",
    "\n",
    "# def find_max_crossing_subarray(lst, low, mid, high):\n",
    "    \n",
    "#     left_sum = 0\n",
    "#     _sum = 0\n",
    "#     max_left = mid\n",
    "#     for i in range(mid, low, -1):\n",
    "#         _sum += lst[i]\n",
    "#         if _sum >= left_sum:\n",
    "#             left_sum = _sum\n",
    "#             max_left = i\n",
    "            \n",
    "    \n",
    "    \n",
    "def max_sub_array(lst, low, high):\n",
    "    if low == high:\n",
    "        return (low, high, lst[low])\n",
    "    \n",
    "    mid = (low + high) // 2\n",
    "    \n",
    "    # 分别求左右的最大子组\n",
    "    l_low, l_high, left_sum = \\\n",
    "        max_sub_array(lst, low, mid)\n",
    "        \n",
    "    r_low, r_high, right_sum = \\\n",
    "        max_sub_array(lst, mid+1, high)\n",
    "        \n",
    "    # 跨子组的结果\n",
    "    cross_left, cross_right, cross_sum = \\\n",
    "        cross_array(lst, low, mid, high)\n",
    "    \n",
    "    if left_sum > right_sum and left_sum > cross_sum:\n",
    "        return (l_low, l_high, left_sum)\n",
    "    \n",
    "    elif right_sum > left_sum and right_sum > cross_sum:\n",
    "        return (r_low, r_high, right_sum)\n",
    "    \n",
    "    else:\n",
    "        return (cross_left, cross_right, cross_sum)\n",
    "    \n",
    "def cross_array(lst, low, mid, high):\n",
    "    \n",
    "    _sum = 0\n",
    "    left_sum = lst[mid]\n",
    "    max_left = mid\n",
    "    for i in range(mid, low, -1):\n",
    "        _sum += lst[i]\n",
    "        if _sum >= left_sum:\n",
    "            left_sum = _sum\n",
    "            max_left = i\n",
    "            \n",
    "    right_sum = lst[mid+1]\n",
    "    _sum = 0\n",
    "    max_right = mid + 1\n",
    "    for j in range(mid+1, high):\n",
    "        _sum += lst[j]\n",
    "        if _sum >= right_sum:\n",
    "            right_sum = _sum\n",
    "            max_right = j\n",
    "            \n",
    "    return (max_left, max_right, left_sum+right_sum)\n",
    "    "
   ]
  },
  {
   "cell_type": "code",
   "execution_count": 81,
   "metadata": {
    "collapsed": true
   },
   "outputs": [],
   "source": [
    "import random"
   ]
  },
  {
   "cell_type": "code",
   "execution_count": 82,
   "metadata": {
    "collapsed": true
   },
   "outputs": [],
   "source": [
    "l = list(range(-30, 30))"
   ]
  },
  {
   "cell_type": "code",
   "execution_count": 106,
   "metadata": {
    "collapsed": true
   },
   "outputs": [],
   "source": [
    "l = random.sample(l, 10)"
   ]
  },
  {
   "cell_type": "code",
   "execution_count": 107,
   "metadata": {},
   "outputs": [
    {
     "data": {
      "text/plain": [
       "[-19, -11, -16, 5, 12, 0, 10, -8, -9, 7]"
      ]
     },
     "execution_count": 107,
     "metadata": {},
     "output_type": "execute_result"
    }
   ],
   "source": [
    "l"
   ]
  },
  {
   "cell_type": "code",
   "execution_count": 111,
   "metadata": {
    "collapsed": true
   },
   "outputs": [],
   "source": [
    "l = list(range(-10, -1))"
   ]
  },
  {
   "cell_type": "code",
   "execution_count": 112,
   "metadata": {},
   "outputs": [
    {
     "data": {
      "text/plain": [
       "(8, 8, -2)"
      ]
     },
     "execution_count": 112,
     "metadata": {},
     "output_type": "execute_result"
    }
   ],
   "source": [
    "max_sub_array(l, 0, len(l)-1)"
   ]
  },
  {
   "cell_type": "markdown",
   "metadata": {},
   "source": [
    "### 练习"
   ]
  },
  {
   "cell_type": "code",
   "execution_count": 115,
   "metadata": {},
   "outputs": [
    {
     "data": {
      "text/plain": [
       "(8, 8, -2)"
      ]
     },
     "execution_count": 115,
     "metadata": {},
     "output_type": "execute_result"
    }
   ],
   "source": [
    "# 4.1-1\n",
    "# 会得到负数中的最小值\n",
    "\n",
    "l = list(range(-10, -1))\n",
    "max_sub_array(l, 0, len(l)-1)"
   ]
  },
  {
   "cell_type": "code",
   "execution_count": 126,
   "metadata": {
    "collapsed": true
   },
   "outputs": [],
   "source": [
    "# 4.1-2\n",
    "# 暴力求解\n",
    "\n",
    "def func(lst):\n",
    "    \n",
    "    max_sum = lst[0]\n",
    "    for i in range(len(lst)):\n",
    "        for j in range(i, len(lst)):\n",
    "            tem = sum(lst[i:j])\n",
    "            if tem > max_sum:\n",
    "                max_sum = tem\n",
    "            \n",
    "    return max_sum"
   ]
  },
  {
   "cell_type": "code",
   "execution_count": 127,
   "metadata": {},
   "outputs": [],
   "source": [
    "l = random.sample(list(range(-30,30)), 10)"
   ]
  },
  {
   "cell_type": "code",
   "execution_count": 128,
   "metadata": {},
   "outputs": [
    {
     "data": {
      "text/plain": [
       "[-10, 11, -15, 29, 6, 5, 21, -1, -8, -29]"
      ]
     },
     "execution_count": 128,
     "metadata": {},
     "output_type": "execute_result"
    }
   ],
   "source": [
    "l"
   ]
  },
  {
   "cell_type": "code",
   "execution_count": 130,
   "metadata": {},
   "outputs": [
    {
     "name": "stdout",
     "output_type": "stream",
     "text": [
      "CPU times: user 0 ns, sys: 0 ns, total: 0 ns\n",
      "Wall time: 26.7 µs\n"
     ]
    },
    {
     "data": {
      "text/plain": [
       "61"
      ]
     },
     "execution_count": 130,
     "metadata": {},
     "output_type": "execute_result"
    }
   ],
   "source": [
    "%time func(l)"
   ]
  },
  {
   "cell_type": "code",
   "execution_count": 133,
   "metadata": {},
   "outputs": [
    {
     "name": "stdout",
     "output_type": "stream",
     "text": [
      "CPU times: user 0 ns, sys: 0 ns, total: 0 ns\n",
      "Wall time: 23.4 µs\n"
     ]
    },
    {
     "data": {
      "text/plain": [
       "(3, 6, 61)"
      ]
     },
     "execution_count": 133,
     "metadata": {},
     "output_type": "execute_result"
    }
   ],
   "source": [
    "%time max_sub_array(l, 0, len(l)-1)"
   ]
  },
  {
   "cell_type": "code",
   "execution_count": 135,
   "metadata": {
    "collapsed": true
   },
   "outputs": [],
   "source": [
    "# 4.1-5\n",
    "\n",
    "def liner_max_sub_array(lst):\n",
    "    \n",
    "    max_sum = lst[0]\n",
    "    pre_sum = lst[0]\n",
    "    \n",
    "    for i in lst[1:]:\n",
    "        if pre_sum < 0:\n",
    "            pre_sum = i\n",
    "        else:\n",
    "            pre_sum += i\n",
    "        if pre_sum > max_sum:\n",
    "            max_sum = pre_sum\n",
    "    return max_sum"
   ]
  },
  {
   "cell_type": "code",
   "execution_count": 136,
   "metadata": {},
   "outputs": [
    {
     "data": {
      "text/plain": [
       "[-10, 11, -15, 29, 6, 5, 21, -1, -8, -29]"
      ]
     },
     "execution_count": 136,
     "metadata": {},
     "output_type": "execute_result"
    }
   ],
   "source": [
    "l"
   ]
  },
  {
   "cell_type": "code",
   "execution_count": 138,
   "metadata": {},
   "outputs": [
    {
     "data": {
      "text/plain": [
       "61"
      ]
     },
     "execution_count": 138,
     "metadata": {},
     "output_type": "execute_result"
    }
   ],
   "source": [
    "liner_max_sub_array(l)"
   ]
  },
  {
   "cell_type": "code",
   "execution_count": null,
   "metadata": {
    "collapsed": true
   },
   "outputs": [],
   "source": []
  }
 ],
 "metadata": {
  "kernelspec": {
   "display_name": "Python 3",
   "language": "python",
   "name": "python3"
  },
  "language_info": {
   "codemirror_mode": {
    "name": "ipython",
    "version": 3
   },
   "file_extension": ".py",
   "mimetype": "text/x-python",
   "name": "python",
   "nbconvert_exporter": "python",
   "pygments_lexer": "ipython3",
   "version": "3.5.2"
  }
 },
 "nbformat": 4,
 "nbformat_minor": 2
}
