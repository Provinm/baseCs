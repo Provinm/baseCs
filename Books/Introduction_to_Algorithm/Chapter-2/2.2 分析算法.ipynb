{
 "cells": [
  {
   "cell_type": "markdown",
   "metadata": {},
   "source": [
    "算法分析的总结：\n",
    "\n",
    "- 算法的复杂度可简单看做总执行语句 次数 × 每条语句执行的 时间\n",
    "- 每条语句执行的时间看做一个常数\n",
    "- 所以，简单来说 复杂度 近似与 执行语句的次数\n",
    "- 这里的每条语句代表一次执行指令"
   ]
  },
  {
   "cell_type": "code",
   "execution_count": 3,
   "metadata": {
    "collapsed": true
   },
   "outputs": [],
   "source": [
    "# 分析之前的排序\n",
    "\n",
    "def insert_sort_desending(lst):\n",
    "    \n",
    "    for idx in range(len(lst)):                 # n\n",
    "        \n",
    "        i = idx                                 # n-1\n",
    "        while i > 0 and lst[i] > lst[i-1]:      # 求和 t -> i\n",
    "            \n",
    "            lst[i], lst[i-1] = lst[i-1], lst[i] # t -> i\n",
    "            \n",
    "            i -= 1                              # t -> i\n",
    "            \n",
    "    return lst                                  "
   ]
  },
  {
   "cell_type": "markdown",
   "metadata": {},
   "source": [
    "所以，总的执行时间如下：\n",
    "\n",
    "total_t = c1 \\* n + c2 \\* (n-1) + c3 \\* ∑(j->i) + c4 \\* ∑(j->i) + c5 \\* ∑(j->i)"
   ]
  },
  {
   "cell_type": "markdown",
   "metadata": {},
   "source": [
    "最优情况：\n",
    "\n",
    "当 lst 已经按照输出的要求排列时 \n",
    "\n",
    "total_t = c1 \\* n + c2 \\* (n-1) + c3 \\* ∑(j->i) + c4 \\* ∑(j->i) + c5 \\* ∑(j->i)\n",
    "\n",
    "        = c1 * n + c2 * (n-1) + c3 * (n-1) + c4 * (n-1) + c5 * (n-1)\n",
    "        \n",
    "        = (c1+c2+c3+c4+c5) * n - (c1+c2+c3+c4+c5)"
   ]
  },
  {
   "cell_type": "markdown",
   "metadata": {},
   "source": [
    "最差情况：\n",
    "\n",
    "当 lst 按照另一个方向增序排列\n",
    "\n",
    "total_t = c1 \\* n + c2 \\* (n-1) + c3 \\* ∑(j->i) + c4 \\* ∑(j->i) + c5 \\* ∑(j->i)\n",
    "\n",
    "        = c1 * n + c2 * (n-1) + c3 * (n*(n+1)/2) + c4 * (n*(n-1)/2) + c5 * (n*(n-1)/2)\n",
    "        \n",
    "        "
   ]
  },
  {
   "cell_type": "markdown",
   "metadata": {},
   "source": [
    "增长量级表示复杂度\n",
    "\n",
    "最优 n\n",
    "最差 n^2"
   ]
  },
  {
   "cell_type": "markdown",
   "metadata": {},
   "source": [
    "练习题："
   ]
  },
  {
   "cell_type": "markdown",
   "metadata": {},
   "source": [
    "2.2-1\n",
    "\n",
    "n^3"
   ]
  },
  {
   "cell_type": "code",
   "execution_count": 13,
   "metadata": {
    "collapsed": true
   },
   "outputs": [],
   "source": [
    "# 2.2-2\n",
    "# 选择排序\n",
    "\n",
    "def select_sort(lst):\n",
    "    \n",
    "    for i in range(len(lst)-1):            # n-1\n",
    "        \n",
    "        s = i                              # n - 2\n",
    "        for j in range(i+1, len(lst)):     # j -> n\n",
    "            if lst[j] < lst[s]:            # j -> n-1\n",
    "                s = j                      # x\n",
    "                \n",
    "        lst[i], lst[s] = lst[s], lst[i]    # j -> n-1\n",
    "        \n",
    "    return lst"
   ]
  },
  {
   "cell_type": "code",
   "execution_count": 14,
   "metadata": {
    "collapsed": true
   },
   "outputs": [],
   "source": [
    "import random"
   ]
  },
  {
   "cell_type": "code",
   "execution_count": 15,
   "metadata": {
    "collapsed": true
   },
   "outputs": [],
   "source": [
    "l = list(range(10))"
   ]
  },
  {
   "cell_type": "code",
   "execution_count": 16,
   "metadata": {
    "collapsed": true
   },
   "outputs": [],
   "source": [
    "random.shuffle(l)"
   ]
  },
  {
   "cell_type": "code",
   "execution_count": 17,
   "metadata": {},
   "outputs": [
    {
     "data": {
      "text/plain": [
       "[2, 3, 7, 0, 8, 4, 9, 1, 5, 6]"
      ]
     },
     "execution_count": 17,
     "metadata": {},
     "output_type": "execute_result"
    }
   ],
   "source": [
    "l"
   ]
  },
  {
   "cell_type": "code",
   "execution_count": 18,
   "metadata": {},
   "outputs": [
    {
     "data": {
      "text/plain": [
       "[0, 1, 2, 3, 4, 5, 6, 7, 8, 9]"
      ]
     },
     "execution_count": 18,
     "metadata": {},
     "output_type": "execute_result"
    }
   ],
   "source": [
    "select_sort(l)"
   ]
  },
  {
   "cell_type": "markdown",
   "metadata": {},
   "source": [
    "复杂度和插入排序类似\n",
    "\n",
    "为 n^2"
   ]
  },
  {
   "cell_type": "markdown",
   "metadata": {},
   "source": [
    "2.2-3\n",
    "\n",
    "- n/2\n",
    "- n"
   ]
  },
  {
   "cell_type": "markdown",
   "metadata": {},
   "source": [
    "2.2-4\n",
    "\n",
    "降低其相对增长率"
   ]
  },
  {
   "cell_type": "code",
   "execution_count": null,
   "metadata": {
    "collapsed": true
   },
   "outputs": [],
   "source": []
  }
 ],
 "metadata": {
  "kernelspec": {
   "display_name": "Python 3",
   "language": "python",
   "name": "python3"
  },
  "language_info": {
   "codemirror_mode": {
    "name": "ipython",
    "version": 3
   },
   "file_extension": ".py",
   "mimetype": "text/x-python",
   "name": "python",
   "nbconvert_exporter": "python",
   "pygments_lexer": "ipython3",
   "version": "3.5.2"
  }
 },
 "nbformat": 4,
 "nbformat_minor": 2
}
