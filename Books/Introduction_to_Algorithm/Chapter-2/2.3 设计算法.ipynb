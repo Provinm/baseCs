{
 "cells": [
  {
   "cell_type": "markdown",
   "metadata": {},
   "source": [
    "### 分治法\n",
    "\n",
    "- 分解， 成若干个小问题\n",
    "- 解决， 解决这些小问题\n",
    "- 合并， 将晓得结果汇总成总的结果"
   ]
  },
  {
   "cell_type": "code",
   "execution_count": 2,
   "metadata": {
    "collapsed": true
   },
   "outputs": [],
   "source": [
    "# 归并排序\n",
    "\n",
    "def merger(lst):\n",
    "    \n",
    "    length = len(lst)\n",
    "    mid = length // 2\n",
    "    \n",
    "    if length < 2:\n",
    "        return lst\n",
    "    \n",
    "    left = merger(lst[:mid])\n",
    "    right = merger(lst[mid:])\n",
    "    \n",
    "    res = []\n",
    "    while left and right:\n",
    "        if left[0] > right[0]:\n",
    "            res.append(right.pop(0))\n",
    "        else:\n",
    "            res.append(left.pop(0))\n",
    "            \n",
    "    res += left or right\n",
    "    \n",
    "    return res"
   ]
  },
  {
   "cell_type": "code",
   "execution_count": 3,
   "metadata": {
    "collapsed": true
   },
   "outputs": [],
   "source": [
    "import random"
   ]
  },
  {
   "cell_type": "code",
   "execution_count": 4,
   "metadata": {
    "collapsed": true
   },
   "outputs": [],
   "source": [
    "l = list(range(10))"
   ]
  },
  {
   "cell_type": "code",
   "execution_count": 5,
   "metadata": {
    "collapsed": true
   },
   "outputs": [],
   "source": [
    "random.shuffle(l)"
   ]
  },
  {
   "cell_type": "code",
   "execution_count": 6,
   "metadata": {},
   "outputs": [
    {
     "data": {
      "text/plain": [
       "[8, 5, 2, 0, 4, 1, 7, 3, 9, 6]"
      ]
     },
     "execution_count": 6,
     "metadata": {},
     "output_type": "execute_result"
    }
   ],
   "source": [
    "l"
   ]
  },
  {
   "cell_type": "code",
   "execution_count": 7,
   "metadata": {},
   "outputs": [
    {
     "data": {
      "text/plain": [
       "[0, 1, 2, 3, 4, 5, 6, 7, 8, 9]"
      ]
     },
     "execution_count": 7,
     "metadata": {},
     "output_type": "execute_result"
    }
   ],
   "source": [
    "merger(l)"
   ]
  },
  {
   "cell_type": "markdown",
   "metadata": {},
   "source": [
    "### 分析分治算法"
   ]
  },
  {
   "cell_type": "markdown",
   "metadata": {},
   "source": [
    "分治法包含基础部分和递归部分。这里以刚才的归并排序为例\n",
    "\n",
    "```\n",
    "Tn = |- O(1)  # 当 n = 1\n",
    "     |\n",
    "     |- 2T(n/2) + Cn  # 当 n > 1\n",
    "     \n",
    "```\n",
    "        \n",
    "这里，Cn 表示分解和合并的过程"
   ]
  },
  {
   "cell_type": "markdown",
   "metadata": {},
   "source": [
    "这里自己构造一棵递归树进行计算，最后可得到复杂度\n",
    "\n",
    "O(nlgn)"
   ]
  },
  {
   "cell_type": "markdown",
   "metadata": {},
   "source": [
    "### 练习题："
   ]
  },
  {
   "cell_type": "code",
   "execution_count": 11,
   "metadata": {
    "collapsed": true
   },
   "outputs": [],
   "source": [
    "# 2.3-1 略\n",
    "# 2.3-2 查看上面的 merge 代码\n",
    "# 2.3-3 数学知识匮乏，将 k 多取几个数，然后逐一验证"
   ]
  },
  {
   "cell_type": "markdown",
   "metadata": {},
   "source": [
    "2.3-4\n",
    "\n",
    "```\n",
    "Tn = |- 1  #  n=1\n",
    "     |\n",
    "     |- T(n-1) + V # n > 1, V 介于 (1, n-1) 之间，取决于实际情况\n",
    "     \n",
    "```\n",
    "\n"
   ]
  },
  {
   "cell_type": "code",
   "execution_count": 17,
   "metadata": {
    "collapsed": true
   },
   "outputs": [],
   "source": [
    "# 2.3-5\n",
    "# 二分查找\n",
    "\n",
    "def binary_search(lst, target):\n",
    "    \n",
    "    length = len(lst)\n",
    "    mid = length // 2\n",
    "    \n",
    "    if not lst:\n",
    "        return False\n",
    "    if lst[mid] == target:\n",
    "        return True\n",
    "    \n",
    "    elif lst[mid] > target:\n",
    "        return binary_search(lst[:mid], target)\n",
    "    \n",
    "    else:\n",
    "        return binary_search(lst[mid+1:], target)"
   ]
  },
  {
   "cell_type": "code",
   "execution_count": 18,
   "metadata": {
    "collapsed": true
   },
   "outputs": [],
   "source": [
    "l = list(range(10))"
   ]
  },
  {
   "cell_type": "code",
   "execution_count": 19,
   "metadata": {},
   "outputs": [
    {
     "data": {
      "text/plain": [
       "True"
      ]
     },
     "execution_count": 19,
     "metadata": {},
     "output_type": "execute_result"
    }
   ],
   "source": [
    "binary_search(l, 5)"
   ]
  },
  {
   "cell_type": "code",
   "execution_count": 20,
   "metadata": {},
   "outputs": [
    {
     "data": {
      "text/plain": [
       "False"
      ]
     },
     "execution_count": 20,
     "metadata": {},
     "output_type": "execute_result"
    }
   ],
   "source": [
    "binary_search(l, 11)"
   ]
  },
  {
   "cell_type": "markdown",
   "metadata": {},
   "source": [
    "二分查找的复杂度：\n",
    "\n",
    "```\n",
    "Tn = |- 1 # n <= 1\n",
    "     |\n",
    "     |- T(n/2)  # n > 1\n",
    "     \n",
    "```\n"
   ]
  },
  {
   "cell_type": "code",
   "execution_count": 22,
   "metadata": {
    "collapsed": true
   },
   "outputs": [],
   "source": [
    "#2.3-6\n",
    "# 将插入排序的复杂度缩短为 O(nlgn), 应该是不可以的\n",
    "# 伪代码，二分查找寻址没写\n",
    "\n",
    "def binary_search_for_position(lst, target):\n",
    "    # 寻址伪代码\n",
    "    return 1\n",
    "\n",
    "def abv_insert_sort(lst):\n",
    "    \n",
    "    for i in range(len(lst)):  # n\n",
    "        \n",
    "        pos = binary_search_for_position(lst[:i], lst[i]) # n-1 * lgn\n",
    "        val = lst[i]  # n-1\n",
    "        # 移动位置\n",
    "        j = i    # n-1\n",
    "        while j>pos:  # j - pos\n",
    "            lst[j] = lst[j-1]\n",
    "            j -= 1\n",
    "            \n",
    "        lst[pos] = lst[i]\n",
    "         \n",
    "    return lst\n",
    "\n",
    "# while 移动位置这一步不能简化的话\n",
    "# 复杂度仍为 O(n^2)"
   ]
  },
  {
   "cell_type": "markdown",
   "metadata": {},
   "source": [
    "### 思考题"
   ]
  },
  {
   "cell_type": "markdown",
   "metadata": {},
   "source": [
    "2-1\n",
    "\n",
    "1、　\n",
    "\n",
    "当　k = n 时，归并排序变为 插入排序，此时复杂度为 O(n^2) = O(nk)\n",
    "\n",
    "2、\n",
    "\n",
    "合并子表，当  k = Cn 时，C为常数, 1/2, 1/3 都可以。 O(nlg(n/(n/2))) = O(Dn) D为常数。\n",
    "\n",
    "3、\n",
    "\n",
    "O(nk + nlg(n/k)) = O(nlgn)\n",
    "\n",
    "\\>>>\n",
    "\n",
    "2^k = k\n",
    "\n",
    "求 k 即可\n",
    "\n",
    "4、\n",
    "\n",
    "如何选择 k， 就是在 n 较小的情况下，常数影响了算法复杂度，计算此时的 k\n",
    "同时，插入排序的空间复杂度为 O(1)，而归并排序的空间复杂度 O(n)"
   ]
  },
  {
   "cell_type": "markdown",
   "metadata": {},
   "source": [
    "2-3\n",
    "\n",
    "1、\n",
    "\n",
    "O(x^n)\n",
    "\n",
    "2、\n",
    "\n",
    "递归解法\n",
    "\n",
    "```\n",
    "def multi(i):\n",
    "\n",
    "    if i == n:\n",
    "        return An-1 + xAn\n",
    "        \n",
    "    else:\n",
    "        i, j = i+1, i\n",
    "        return Aj + x(multi(i)) \n",
    "\n",
    "```\n",
    "\n"
   ]
  },
  {
   "cell_type": "code",
   "execution_count": 23,
   "metadata": {
    "collapsed": true
   },
   "outputs": [],
   "source": [
    "# 2-4\n",
    "# 逆序对\n",
    "\n",
    "def func(lst):\n",
    "    \n",
    "    res = []\n",
    "    for i in range(len(lst)-1):\n",
    "        \n",
    "        for j in range(i+1, len(lst)):\n",
    "            \n",
    "            if lst[i] > lst[j]:\n",
    "                res.append([lst[i], lst[j]])\n",
    "                \n",
    "    return res"
   ]
  },
  {
   "cell_type": "code",
   "execution_count": 24,
   "metadata": {
    "collapsed": true
   },
   "outputs": [],
   "source": [
    "l = [2, 3, 8, 6, 1]"
   ]
  },
  {
   "cell_type": "code",
   "execution_count": 25,
   "metadata": {},
   "outputs": [
    {
     "data": {
      "text/plain": [
       "[[2, 1], [3, 1], [8, 6], [8, 1], [6, 1]]"
      ]
     },
     "execution_count": 25,
     "metadata": {},
     "output_type": "execute_result"
    }
   ],
   "source": [
    "func(l)"
   ]
  },
  {
   "cell_type": "code",
   "execution_count": null,
   "metadata": {
    "collapsed": true
   },
   "outputs": [],
   "source": []
  }
 ],
 "metadata": {
  "kernelspec": {
   "display_name": "Python 3",
   "language": "python",
   "name": "python3"
  },
  "language_info": {
   "codemirror_mode": {
    "name": "ipython",
    "version": 3
   },
   "file_extension": ".py",
   "mimetype": "text/x-python",
   "name": "python",
   "nbconvert_exporter": "python",
   "pygments_lexer": "ipython3",
   "version": "3.5.2"
  }
 },
 "nbformat": 4,
 "nbformat_minor": 2
}
