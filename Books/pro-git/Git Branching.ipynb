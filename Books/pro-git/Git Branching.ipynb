{
 "cells": [
  {
   "cell_type": "markdown",
   "metadata": {},
   "source": [
    "## Git Branching"
   ]
  },
  {
   "cell_type": "markdown",
   "metadata": {},
   "source": [
    "summary:\n",
    "\n",
    "- git branch\n",
    "- git checkout \n",
    "- git merge\n",
    "- git mergetool"
   ]
  },
  {
   "cell_type": "markdown",
   "metadata": {},
   "source": [
    "### git branch\n",
    "\n",
    "add a new branch\n",
    "\n",
    "`git branch dev`\n",
    "\n",
    "delete a existing branch\n",
    "\n",
    "`git branch -d dev`\n",
    "\n",
    "check existing branches\n",
    "\n",
    "- `git branch`\n",
    "- `git branch -v` \n",
    "- `git branch -a`\n",
    "- `git branch -merged`\n",
    "- `git branch --no-merged`\n"
   ]
  },
  {
   "cell_type": "markdown",
   "metadata": {},
   "source": [
    "### git push\n",
    "\n",
    "`git branch origin branch1:branch1`\n",
    "\n",
    "delete a remote branch\n",
    "\n",
    "`git push origin --delete branch1`"
   ]
  },
  {
   "cell_type": "markdown",
   "metadata": {},
   "source": [
    "### Rebasing\n",
    "\n",
    "pro-git page 81\n",
    "\n",
    "commands:\n",
    "\n",
    "- `git checkout branch1`\n",
    "- `git rebase master`\n",
    "- `git checkout master`\n",
    "- `git merge branch1`\n",
    "\n",
    "\n"
   ]
  }
 ],
 "metadata": {
  "kernelspec": {
   "display_name": "Python 3",
   "language": "python",
   "name": "python3"
  },
  "language_info": {
   "codemirror_mode": {
    "name": "ipython",
    "version": 3
   },
   "file_extension": ".py",
   "mimetype": "text/x-python",
   "name": "python",
   "nbconvert_exporter": "python",
   "pygments_lexer": "ipython3",
   "version": "3.6.2"
  }
 },
 "nbformat": 4,
 "nbformat_minor": 2
}
