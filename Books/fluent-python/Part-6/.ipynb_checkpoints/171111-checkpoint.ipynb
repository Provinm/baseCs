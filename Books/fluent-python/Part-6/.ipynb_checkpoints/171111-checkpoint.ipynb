{
 "cells": [
  {
   "cell_type": "markdown",
   "metadata": {},
   "source": [
    "## Class metaprogramming"
   ]
  },
  {
   "cell_type": "markdown",
   "metadata": {},
   "source": [
    "### A class factory\n"
   ]
  },
  {
   "cell_type": "code",
   "execution_count": 11,
   "metadata": {
    "collapsed": true
   },
   "outputs": [],
   "source": [
    "def record_factory(cls_name, cls_fields):\n",
    "    \n",
    "    try:\n",
    "        cls_fields = cls_fields.replace(',', ' ').split(' ')\n",
    "    except:\n",
    "        pass\n",
    "    \n",
    "    cls_fields = tuple(cls_fields)\n",
    "    \n",
    "    def __init__(self, *args, **kw):\n",
    "        attrs = dict(zip(self.__slots__, args))\n",
    "        print('-> self.__slots__ = {}'.format(self.__slots__))\n",
    "        attrs.update(kw)\n",
    "        for name, value in attrs.items():\n",
    "            setattr(self, name, value)\n",
    "    \n",
    "    def __iter__(self):\n",
    "        print('-> self.__slots__ = {}'.format(self.__slots__))\n",
    "        for name in self.__slots__:\n",
    "            yield getattr(self, name)\n",
    "    \n",
    "    def __repr__(self):\n",
    "        print('-> self.__slots__ = {}'.format(self.__slots__))\n",
    "        value = ', '.join('{}={!r}'.format(*i) for i\n",
    "                         in zip(self.__slots__, self))\n",
    "        return '{}([])'.format(self.__class__.__name__, value)\n",
    "    \n",
    "    cls_attrs = dict(__slots__ = cls_fields,\n",
    "                     __init__ = __init__,\n",
    "                     __iter__ = __iter__,\n",
    "                     __repr__ = __repr__)\n",
    "    \n",
    "    return type(cls_name, (object,), cls_attrs)"
   ]
  },
  {
   "cell_type": "code",
   "execution_count": 12,
   "metadata": {
    "collapsed": true
   },
   "outputs": [],
   "source": [
    "Dog = record_factory('Dog', 'name weight owner')"
   ]
  },
  {
   "cell_type": "code",
   "execution_count": 13,
   "metadata": {},
   "outputs": [
    {
     "name": "stdout",
     "output_type": "stream",
     "text": [
      "-> self.__slots__ = ('name', 'weight', 'owner')\n"
     ]
    }
   ],
   "source": [
    "dog = Dog('miki', 30, 'xue')"
   ]
  },
  {
   "cell_type": "code",
   "execution_count": 4,
   "metadata": {},
   "outputs": [
    {
     "data": {
      "text/plain": [
       "'miki'"
      ]
     },
     "execution_count": 4,
     "metadata": {},
     "output_type": "execute_result"
    }
   ],
   "source": [
    "dog.name"
   ]
  },
  {
   "cell_type": "code",
   "execution_count": 5,
   "metadata": {},
   "outputs": [
    {
     "data": {
      "text/plain": [
       "30"
      ]
     },
     "execution_count": 5,
     "metadata": {},
     "output_type": "execute_result"
    }
   ],
   "source": [
    "dog.weight"
   ]
  },
  {
   "cell_type": "code",
   "execution_count": 8,
   "metadata": {},
   "outputs": [
    {
     "name": "stdout",
     "output_type": "stream",
     "text": [
      "-> self.__slots__ = ('name', 'weight', 'owner')\n",
      "-> self.__slots__ = ('name', 'weight', 'owner')\n"
     ]
    },
    {
     "data": {
      "text/plain": [
       "Dog([])"
      ]
     },
     "execution_count": 8,
     "metadata": {},
     "output_type": "execute_result"
    }
   ],
   "source": [
    "dog"
   ]
  },
  {
   "cell_type": "code",
   "execution_count": 9,
   "metadata": {},
   "outputs": [
    {
     "name": "stdout",
     "output_type": "stream",
     "text": [
      "-> self.__slots__ = ('name', 'weight', 'owner')\n"
     ]
    }
   ],
   "source": [
    "name, weight, owner = dog"
   ]
  },
  {
   "cell_type": "code",
   "execution_count": 10,
   "metadata": {},
   "outputs": [
    {
     "data": {
      "text/plain": [
       "('miki', 30, 'xue')"
      ]
     },
     "execution_count": 10,
     "metadata": {},
     "output_type": "execute_result"
    }
   ],
   "source": [
    "name, weight, owner"
   ]
  }
 ],
 "metadata": {
  "kernelspec": {
   "display_name": "Python 3",
   "language": "python",
   "name": "python3"
  },
  "language_info": {
   "codemirror_mode": {
    "name": "ipython",
    "version": 3
   },
   "file_extension": ".py",
   "mimetype": "text/x-python",
   "name": "python",
   "nbconvert_exporter": "python",
   "pygments_lexer": "ipython3",
   "version": "3.5.2"
  }
 },
 "nbformat": 4,
 "nbformat_minor": 2
}
