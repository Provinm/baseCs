{
 "cells": [
  {
   "cell_type": "markdown",
   "metadata": {},
   "source": [
    "## Dynamic attributes and properties\n"
   ]
  },
  {
   "cell_type": "markdown",
   "metadata": {},
   "source": [
    "### Data wrangling with dynamic attributes\n"
   ]
  },
  {
   "cell_type": "code",
   "execution_count": 34,
   "metadata": {
    "collapsed": true
   },
   "outputs": [],
   "source": [
    "import requests\n",
    "import warnings\n",
    "import os\n",
    "import json\n",
    "\n",
    "URL = 'http://www.oreilly.com/pub/sc/osconfeed'\n",
    "JSON = 'osconfeed.json'\n",
    "\n",
    "def load():\n",
    "    req = requests.get(URL)\n",
    "    print(req.status_code)\n",
    "    data = req.text\n",
    "    print(data[:100])\n",
    "    with open(JSON, 'w')as local:\n",
    "        local.write(data)\n",
    "    print('saved')\n",
    "            \n",
    "    with open(JSON, 'r')as fp:\n",
    "        return json.load(fp)\n"
   ]
  },
  {
   "cell_type": "code",
   "execution_count": 20,
   "metadata": {},
   "outputs": [
    {
     "name": "stdout",
     "output_type": "stream",
     "text": [
      "200\n",
      "\n",
      "\r\n",
      "\r\n",
      "\r\n",
      "\r\n",
      "  { \"Schedule\": {\r\n",
      "    \"conferences\": [{\"serial\": 115 }],\r\n",
      "    \"events\": [\r\n",
      "    \r\n",
      "      {\r\n",
      "\n",
      "saved\n"
     ]
    }
   ],
   "source": [
    "feed = load()"
   ]
  },
  {
   "cell_type": "code",
   "execution_count": 23,
   "metadata": {},
   "outputs": [
    {
     "data": {
      "text/plain": [
       "['conferences', 'events', 'speakers', 'venues']"
      ]
     },
     "execution_count": 23,
     "metadata": {},
     "output_type": "execute_result"
    }
   ],
   "source": [
    "sorted(feed['Schedule'].keys())"
   ]
  },
  {
   "cell_type": "code",
   "execution_count": 24,
   "metadata": {},
   "outputs": [
    {
     "name": "stdout",
     "output_type": "stream",
     "text": [
      "  1conferences\n",
      "494events\n",
      "357speakers\n",
      " 53venues\n"
     ]
    }
   ],
   "source": [
    "# load 的使用方法请注意\n",
    "\n",
    "for key, value in sorted(feed['Schedule'].items()):\n",
    "    print('{:3}{}'.format(len(value), key))"
   ]
  },
  {
   "cell_type": "code",
   "execution_count": 25,
   "metadata": {},
   "outputs": [
    {
     "data": {
      "text/plain": [
       "'Carina C. Zona'"
      ]
     },
     "execution_count": 25,
     "metadata": {},
     "output_type": "execute_result"
    }
   ],
   "source": [
    "feed['Schedule']['speakers'][-1]['name']"
   ]
  },
  {
   "cell_type": "code",
   "execution_count": 26,
   "metadata": {},
   "outputs": [
    {
     "data": {
      "text/plain": [
       "141590"
      ]
     },
     "execution_count": 26,
     "metadata": {},
     "output_type": "execute_result"
    }
   ],
   "source": [
    "feed['Schedule']['speakers'][-1]['serial']"
   ]
  },
  {
   "cell_type": "code",
   "execution_count": 27,
   "metadata": {},
   "outputs": [
    {
     "data": {
      "text/plain": [
       "'There *Will* Be Bugs'"
      ]
     },
     "execution_count": 27,
     "metadata": {},
     "output_type": "execute_result"
    }
   ],
   "source": [
    "feed['Schedule']['events'][40]['name']"
   ]
  },
  {
   "cell_type": "code",
   "execution_count": 28,
   "metadata": {},
   "outputs": [
    {
     "data": {
      "text/plain": [
       "[3471, 5199]"
      ]
     },
     "execution_count": 28,
     "metadata": {},
     "output_type": "execute_result"
    }
   ],
   "source": [
    "feed['Schedule']['events'][40]['speakers']"
   ]
  },
  {
   "cell_type": "markdown",
   "metadata": {},
   "source": [
    "### Exploring JSON-like data with dynamic attributes\n"
   ]
  },
  {
   "cell_type": "code",
   "execution_count": 32,
   "metadata": {
    "collapsed": true
   },
   "outputs": [],
   "source": [
    "from collections import abc\n",
    "\n",
    "class FrozenJson:\n",
    "    \n",
    "    def __init__(self, mapping):\n",
    "        self.__data = dict(mapping)\n",
    "        \n",
    "    def __getattr__(self, name):\n",
    "        \n",
    "        if hasattr(self.__data, name):\n",
    "            return getattr(self.__data, name)\n",
    "        else:\n",
    "            return FrozenJson.build(self.__data[name])\n",
    "        \n",
    "    @classmethod\n",
    "    def build(cls, obj):\n",
    "        if isinstance(obj, abc.Mapping):\n",
    "            return cls(obj)\n",
    "        elif isinstance(obj, abc.MutableSequence):\n",
    "            return [cls(i) for i in obj]\n",
    "        else:\n",
    "            return obj\n",
    "        \n"
   ]
  },
  {
   "cell_type": "code",
   "execution_count": 33,
   "metadata": {
    "collapsed": true
   },
   "outputs": [],
   "source": [
    "fj = FrozenJson(feed)"
   ]
  },
  {
   "cell_type": "code",
   "execution_count": 34,
   "metadata": {},
   "outputs": [
    {
     "data": {
      "text/plain": [
       "<__main__.FrozenJson at 0x7f68bd02a860>"
      ]
     },
     "execution_count": 34,
     "metadata": {},
     "output_type": "execute_result"
    }
   ],
   "source": [
    "fj.Schedule"
   ]
  },
  {
   "cell_type": "code",
   "execution_count": 37,
   "metadata": {
    "collapsed": true
   },
   "outputs": [],
   "source": [
    "grad = FrozenJson({'a': 1, 'b':2})"
   ]
  },
  {
   "cell_type": "code",
   "execution_count": 38,
   "metadata": {},
   "outputs": [
    {
     "data": {
      "text/plain": [
       "1"
      ]
     },
     "execution_count": 38,
     "metadata": {},
     "output_type": "execute_result"
    }
   ],
   "source": [
    "grad.a"
   ]
  },
  {
   "cell_type": "code",
   "execution_count": 39,
   "metadata": {},
   "outputs": [
    {
     "data": {
      "text/plain": [
       "2"
      ]
     },
     "execution_count": 39,
     "metadata": {},
     "output_type": "execute_result"
    }
   ],
   "source": [
    "grad.b"
   ]
  },
  {
   "cell_type": "code",
   "execution_count": 40,
   "metadata": {},
   "outputs": [
    {
     "data": {
      "text/plain": [
       "'Carina C. Zona'"
      ]
     },
     "execution_count": 40,
     "metadata": {},
     "output_type": "execute_result"
    }
   ],
   "source": [
    "fj.Schedule.speakers[-1].name"
   ]
  },
  {
   "cell_type": "markdown",
   "metadata": {
    "collapsed": true
   },
   "source": [
    "### Flexible object creation with __new__"
   ]
  },
  {
   "cell_type": "code",
   "execution_count": 30,
   "metadata": {
    "collapsed": true
   },
   "outputs": [],
   "source": [
    "from collections import abc\n",
    "\n",
    "class FrozenJson:\n",
    "    '''a readonly facade for navigating a json-like object using attribute notation'''\n",
    "    def __new__(cls, arg):\n",
    "        if isinstance(arg, abc.Mapping):\n",
    "            return super().__new__(cls)\n",
    "        elif isinstance(arg, abc.MutableSequence):\n",
    "            return [cls(i) for i in arg]\n",
    "        else:\n",
    "            return arg\n",
    "                    \n",
    "    def __init__(self, mapping):\n",
    "        self.__data = {}\n",
    "        for key, value in mapping.items():\n",
    "#             if key in mapping:\n",
    "#                 key += '_'\n",
    "                \n",
    "            self.__data[key] = value\n",
    "            \n",
    "        print(self.__data)\n",
    "            \n",
    "    def __getattr__(self, name):\n",
    "        if hasattr(self.__data, name):\n",
    "            return getattr(self.__data, name)\n",
    "        else:\n",
    "            return FrozenJson(self.__data[name])"
   ]
  },
  {
   "cell_type": "code",
   "execution_count": 22,
   "metadata": {
    "collapsed": true
   },
   "outputs": [],
   "source": [
    "dct3 = {i: ord(i) for i in 'ABCD'}"
   ]
  },
  {
   "cell_type": "code",
   "execution_count": 31,
   "metadata": {},
   "outputs": [
    {
     "name": "stdout",
     "output_type": "stream",
     "text": [
      "{'B': 66, 'D': 68, 'C': 67, 'A': 65}\n"
     ]
    }
   ],
   "source": [
    "fj2 = FrozenJson(dct3)"
   ]
  },
  {
   "cell_type": "code",
   "execution_count": 24,
   "metadata": {},
   "outputs": [
    {
     "data": {
      "text/plain": [
       "{'A': 65, 'B': 66, 'C': 67, 'D': 68}"
      ]
     },
     "execution_count": 24,
     "metadata": {},
     "output_type": "execute_result"
    }
   ],
   "source": [
    "dct3"
   ]
  },
  {
   "cell_type": "code",
   "execution_count": 32,
   "metadata": {},
   "outputs": [
    {
     "data": {
      "text/plain": [
       "65"
      ]
     },
     "execution_count": 32,
     "metadata": {},
     "output_type": "execute_result"
    }
   ],
   "source": [
    "fj2.A"
   ]
  },
  {
   "cell_type": "code",
   "execution_count": 33,
   "metadata": {},
   "outputs": [
    {
     "data": {
      "text/plain": [
       "66"
      ]
     },
     "execution_count": 33,
     "metadata": {},
     "output_type": "execute_result"
    }
   ],
   "source": [
    "fj2.B"
   ]
  },
  {
   "cell_type": "code",
   "execution_count": 6,
   "metadata": {
    "collapsed": true
   },
   "outputs": [],
   "source": [
    "import warnings \n",
    "\n",
    "DB_NAME ='data/scheduleq_db'\n",
    "CONFERENCE = 'conference.115'\n",
    "\n",
    "class Record:\n",
    "    def __init__(self, **kw):\n",
    "        self.__dict__.update(kw)\n",
    "        \n",
    "# def load_db(db):\n",
    "#     raw_data = load()\n",
    "#     warnings.warn('loading ' + DB_NAME)\n",
    "#     for cllection,rec_list in raw_data['Schedule'].items():\n",
    "#         record_type = collection[:-1]\n",
    "#         for record in rec_lst:\n",
    "#             key = '{}.{}'.format(record_type, record['serial'])\n",
    "#             record['serial'] = key\n",
    "#             db[key] = Record(**record)\n",
    "            \n"
   ]
  },
  {
   "cell_type": "code",
   "execution_count": 41,
   "metadata": {
    "collapsed": true
   },
   "outputs": [],
   "source": [
    "# self.__dict__\n",
    "\n",
    "class Dct:\n",
    "    \n",
    "    def __init__(self, **kw):\n",
    "        self.__dict__.update(kw)\n",
    "        \n",
    "        \n",
    "dct = Dct(a=1, b=2, c=3)\n"
   ]
  },
  {
   "cell_type": "code",
   "execution_count": 42,
   "metadata": {},
   "outputs": [
    {
     "data": {
      "text/plain": [
       "1"
      ]
     },
     "execution_count": 42,
     "metadata": {},
     "output_type": "execute_result"
    }
   ],
   "source": [
    "dct.a\n"
   ]
  },
  {
   "cell_type": "code",
   "execution_count": 4,
   "metadata": {},
   "outputs": [],
   "source": [
    "class MissingDataBaseError(RuntimeError):\n",
    "    '''pass'''\n",
    "    \n",
    "class DbRecord(Record):\n",
    "    _db = None\n",
    "    \n",
    "    @staticmethod\n",
    "    def set_db(db):\n",
    "        DbRecord.db\n",
    "    \n",
    "    @staticmethod\n",
    "    def get_db():\n",
    "        return DbRecord.db\n",
    "    \n",
    "    @classmethod\n",
    "    def fetch(cls, indent):\n",
    "        db = cls.get_db()\n",
    "        try:\n",
    "            return db[indent]\n",
    "        except TypeError:\n",
    "            if db is None:\n",
    "                msg = \"atabase not set, '{},set_db(mydb)'\"\n",
    "                raise MissingDataBaseError(msg.format(cls.__name__))\n",
    "            else:\n",
    "                raise\n",
    "                \n",
    "    def __repr__(self):\n",
    "        if hasattr(self, 'serial'):\n",
    "            cls_name = self.__class__.__name__\n",
    "            return '<{} serial ={!r}>'.format(cls_name, self.serial)\n",
    "        else:\n",
    "            return super().__repr__()"
   ]
  },
  {
   "cell_type": "code",
   "execution_count": 5,
   "metadata": {
    "collapsed": true
   },
   "outputs": [],
   "source": [
    "class Event(DbRecord):\n",
    "    \n",
    "    @property\n",
    "    def venue(self):\n",
    "        key = 'venue.{}'.foramt(self.venue_serial)\n",
    "        return self.__class__.fetch(key)\n",
    "    \n",
    "    @property\n",
    "    def speaker(self):\n",
    "        if not hasattr(self, '_speaker_objs'):\n",
    "            spkr_serial = self.__dict__['speakers']\n",
    "            fetch = self.__class__.fetch\n",
    "            self._speaker_objs = [fetch('speaker.{}'.format(key)) for key in spkr_serial]\n",
    "            \n",
    "        return self._speaker_objs\n",
    "    \n",
    "    def __repr__(self):\n",
    "        if hasattr(self, 'name'):\n",
    "            cls_name = self.__class__.__name__\n",
    "            return '{} {!r}'.format(cls_name, self.name)\n",
    "        else:\n",
    "            return super().__repr__()\n",
    "        \n",
    "        "
   ]
  },
  {
   "cell_type": "code",
   "execution_count": null,
   "metadata": {
    "collapsed": true
   },
   "outputs": [],
   "source": [
    "        \n",
    "def load_db(db):\n",
    "    raw_data = load()\n",
    "    warnings.warn('loading ' + DB_NAME)\n",
    "    for cllection,rec_list in raw_data['Schedule'].items():\n",
    "        record_type = collection[:-1]\n",
    "        cls_name = record_type.capitalize()\n",
    "        cls = globals().get(cls_name, DbRecord)\n",
    "        if [inspect.isclass(cls)] and issubclass(cls, DbRecord):\n",
    "            factory = cls\n",
    "            \n",
    "        else:\n",
    "            factory = DbRecord\n",
    "            \n",
    "        for record in rec_list:\n",
    "            key = '{}.{}'.format(record_type, record['serial'])\n",
    "            record['serial'] = key\n",
    "            db[key] = factory(**record)\n",
    "            \n",
    "            "
   ]
  },
  {
   "cell_type": "markdown",
   "metadata": {},
   "source": [
    "#### Tricks:\n",
    "\n",
    "\n",
    "绝对安全的获取某个类下的方法\n",
    "\n",
    "`fetch = self.__class__.fetch`\n",
    "\n",
    "高级用法 globals \n",
    "\n",
    "\n",
    "检测是否为 类\n",
    "\n",
    "inspect.isclass(cls)\n",
    "\n",
    "\n",
    "部分属性\n",
    "```\n",
    "__class__\n",
    "\n",
    "__name__\n",
    "\n",
    "```\n",
    "\n",
    "`__dict__` 的用法\n"
   ]
  },
  {
   "cell_type": "code",
   "execution_count": 7,
   "metadata": {},
   "outputs": [
    {
     "data": {
      "text/plain": [
       "{'CONFERENCE': 'conference.115',\n",
       " 'DB_NAME': 'data/scheduleq_db',\n",
       " 'DbRecord': __main__.DbRecord,\n",
       " 'Event': __main__.Event,\n",
       " 'In': ['',\n",
       "  \"import warnings \\n\\nDB_NAME ='data/scheduleq_db'\\nCONFERENCE = 'conference.115'\\n\\nclass Record:\\n    def __init__(self, **kw):\\n        self.__dict__.update(kw)\\n        \\ndef load_db(db):\\n    raw_data = load()\\n    warnings.warn('loading ' + DB_NAME)\\n    for cllection,rec_list in raw_data['Schedule'].items():\\n        record_type = collection[:-1]\\n        for record in rec_lst:\\n            key = '{}.{}'.format(record_type, record['serial'])\\n            record['serial'] = key\\n            db[key] = Record(**record)\\n            \",\n",
       "  'class MissingDataBaseError(Runtmeerror):\\n    \\'\\'\\'pass\\'\\'\\'\\n    \\nclass DbRecord(Record):\\n    _db = None\\n    \\n    @staticmethod\\n    def set_db(db):\\n        DbRecord.db\\n    \\n    @staticmethod\\n    def get_db():\\n        return DbRecord.db\\n    \\n    @classmethod\\n    def fetch(cls, indent):\\n        db = cls.get_db()\\n        try:\\n            return db[indent]\\n        except TypeError:\\n            if db is None:\\n                msg = \"atabase not set, \\'{},set_db(mydb)\\'\"\\n                raise MissingDataBaseError(msg.format(cls.__name__))\\n            else:\\n                raise\\n                \\n    def __repr__(self):\\n        if hasattr(self, \\'serial\\'):\\n            cls_name = self.__class__.__name__\\n            return \\'<{} serial ={!r}>\\'.format(cls_name, self.serial)\\n        else:\\n            return super().__repr__()',\n",
       "  'class MissingDataBaseError(Runtimeerror):\\n    \\'\\'\\'pass\\'\\'\\'\\n    \\nclass DbRecord(Record):\\n    _db = None\\n    \\n    @staticmethod\\n    def set_db(db):\\n        DbRecord.db\\n    \\n    @staticmethod\\n    def get_db():\\n        return DbRecord.db\\n    \\n    @classmethod\\n    def fetch(cls, indent):\\n        db = cls.get_db()\\n        try:\\n            return db[indent]\\n        except TypeError:\\n            if db is None:\\n                msg = \"atabase not set, \\'{},set_db(mydb)\\'\"\\n                raise MissingDataBaseError(msg.format(cls.__name__))\\n            else:\\n                raise\\n                \\n    def __repr__(self):\\n        if hasattr(self, \\'serial\\'):\\n            cls_name = self.__class__.__name__\\n            return \\'<{} serial ={!r}>\\'.format(cls_name, self.serial)\\n        else:\\n            return super().__repr__()',\n",
       "  'class MissingDataBaseError(RuntimeError):\\n    \\'\\'\\'pass\\'\\'\\'\\n    \\nclass DbRecord(Record):\\n    _db = None\\n    \\n    @staticmethod\\n    def set_db(db):\\n        DbRecord.db\\n    \\n    @staticmethod\\n    def get_db():\\n        return DbRecord.db\\n    \\n    @classmethod\\n    def fetch(cls, indent):\\n        db = cls.get_db()\\n        try:\\n            return db[indent]\\n        except TypeError:\\n            if db is None:\\n                msg = \"atabase not set, \\'{},set_db(mydb)\\'\"\\n                raise MissingDataBaseError(msg.format(cls.__name__))\\n            else:\\n                raise\\n                \\n    def __repr__(self):\\n        if hasattr(self, \\'serial\\'):\\n            cls_name = self.__class__.__name__\\n            return \\'<{} serial ={!r}>\\'.format(cls_name, self.serial)\\n        else:\\n            return super().__repr__()',\n",
       "  \"class Event(DbRecord):\\n    \\n    @property\\n    def venue(self):\\n        key = 'venue.{}'.foramt(self.venue_serial)\\n        return self.__class__.fetch(key)\\n    \\n    @property\\n    def speaker(self):\\n        if not hasattr(self, '_speaker_objs'):\\n            spkr_serial = self.__dict__['speakers']\\n            fetch = self.__class__.fetch\\n            self._speaker_objs = [fetch('speaker.{}'.format(key)) for key in spkr_serial]\\n            \\n        return self._speaker_objs\\n    \\n    def __repr__(self):\\n        if hasattr(self, 'name'):\\n            cls_name = self.__class__.__name__\\n            return '{} {!r}'.format(cls_name, self.name)\\n        else:\\n            return super().__repr__()\\n        \\n        \",\n",
       "  \"import warnings \\n\\nDB_NAME ='data/scheduleq_db'\\nCONFERENCE = 'conference.115'\\n\\nclass Record:\\n    def __init__(self, **kw):\\n        self.__dict__.update(kw)\\n        \\n# def load_db(db):\\n#     raw_data = load()\\n#     warnings.warn('loading ' + DB_NAME)\\n#     for cllection,rec_list in raw_data['Schedule'].items():\\n#         record_type = collection[:-1]\\n#         for record in rec_lst:\\n#             key = '{}.{}'.format(record_type, record['serial'])\\n#             record['serial'] = key\\n#             db[key] = Record(**record)\\n            \",\n",
       "  'globals()'],\n",
       " 'MissingDataBaseError': __main__.MissingDataBaseError,\n",
       " 'Out': {},\n",
       " 'Record': __main__.Record,\n",
       " '_': '',\n",
       " '__': '',\n",
       " '___': '',\n",
       " '__builtin__': <module 'builtins' (built-in)>,\n",
       " '__builtins__': <module 'builtins' (built-in)>,\n",
       " '__doc__': 'Automatically created module for IPython interactive environment',\n",
       " '__loader__': None,\n",
       " '__name__': '__main__',\n",
       " '__package__': None,\n",
       " '__spec__': None,\n",
       " '_dh': ['/home/zx/Documents/github/learn/baseCs/Books/fluent-python/Part-6'],\n",
       " '_i': \"import warnings \\n\\nDB_NAME ='data/scheduleq_db'\\nCONFERENCE = 'conference.115'\\n\\nclass Record:\\n    def __init__(self, **kw):\\n        self.__dict__.update(kw)\\n        \\n# def load_db(db):\\n#     raw_data = load()\\n#     warnings.warn('loading ' + DB_NAME)\\n#     for cllection,rec_list in raw_data['Schedule'].items():\\n#         record_type = collection[:-1]\\n#         for record in rec_lst:\\n#             key = '{}.{}'.format(record_type, record['serial'])\\n#             record['serial'] = key\\n#             db[key] = Record(**record)\\n            \",\n",
       " '_i1': \"import warnings \\n\\nDB_NAME ='data/scheduleq_db'\\nCONFERENCE = 'conference.115'\\n\\nclass Record:\\n    def __init__(self, **kw):\\n        self.__dict__.update(kw)\\n        \\ndef load_db(db):\\n    raw_data = load()\\n    warnings.warn('loading ' + DB_NAME)\\n    for cllection,rec_list in raw_data['Schedule'].items():\\n        record_type = collection[:-1]\\n        for record in rec_lst:\\n            key = '{}.{}'.format(record_type, record['serial'])\\n            record['serial'] = key\\n            db[key] = Record(**record)\\n            \",\n",
       " '_i2': 'class MissingDataBaseError(Runtmeerror):\\n    \\'\\'\\'pass\\'\\'\\'\\n    \\nclass DbRecord(Record):\\n    _db = None\\n    \\n    @staticmethod\\n    def set_db(db):\\n        DbRecord.db\\n    \\n    @staticmethod\\n    def get_db():\\n        return DbRecord.db\\n    \\n    @classmethod\\n    def fetch(cls, indent):\\n        db = cls.get_db()\\n        try:\\n            return db[indent]\\n        except TypeError:\\n            if db is None:\\n                msg = \"atabase not set, \\'{},set_db(mydb)\\'\"\\n                raise MissingDataBaseError(msg.format(cls.__name__))\\n            else:\\n                raise\\n                \\n    def __repr__(self):\\n        if hasattr(self, \\'serial\\'):\\n            cls_name = self.__class__.__name__\\n            return \\'<{} serial ={!r}>\\'.format(cls_name, self.serial)\\n        else:\\n            return super().__repr__()',\n",
       " '_i3': 'class MissingDataBaseError(Runtimeerror):\\n    \\'\\'\\'pass\\'\\'\\'\\n    \\nclass DbRecord(Record):\\n    _db = None\\n    \\n    @staticmethod\\n    def set_db(db):\\n        DbRecord.db\\n    \\n    @staticmethod\\n    def get_db():\\n        return DbRecord.db\\n    \\n    @classmethod\\n    def fetch(cls, indent):\\n        db = cls.get_db()\\n        try:\\n            return db[indent]\\n        except TypeError:\\n            if db is None:\\n                msg = \"atabase not set, \\'{},set_db(mydb)\\'\"\\n                raise MissingDataBaseError(msg.format(cls.__name__))\\n            else:\\n                raise\\n                \\n    def __repr__(self):\\n        if hasattr(self, \\'serial\\'):\\n            cls_name = self.__class__.__name__\\n            return \\'<{} serial ={!r}>\\'.format(cls_name, self.serial)\\n        else:\\n            return super().__repr__()',\n",
       " '_i4': 'class MissingDataBaseError(RuntimeError):\\n    \\'\\'\\'pass\\'\\'\\'\\n    \\nclass DbRecord(Record):\\n    _db = None\\n    \\n    @staticmethod\\n    def set_db(db):\\n        DbRecord.db\\n    \\n    @staticmethod\\n    def get_db():\\n        return DbRecord.db\\n    \\n    @classmethod\\n    def fetch(cls, indent):\\n        db = cls.get_db()\\n        try:\\n            return db[indent]\\n        except TypeError:\\n            if db is None:\\n                msg = \"atabase not set, \\'{},set_db(mydb)\\'\"\\n                raise MissingDataBaseError(msg.format(cls.__name__))\\n            else:\\n                raise\\n                \\n    def __repr__(self):\\n        if hasattr(self, \\'serial\\'):\\n            cls_name = self.__class__.__name__\\n            return \\'<{} serial ={!r}>\\'.format(cls_name, self.serial)\\n        else:\\n            return super().__repr__()',\n",
       " '_i5': \"class Event(DbRecord):\\n    \\n    @property\\n    def venue(self):\\n        key = 'venue.{}'.foramt(self.venue_serial)\\n        return self.__class__.fetch(key)\\n    \\n    @property\\n    def speaker(self):\\n        if not hasattr(self, '_speaker_objs'):\\n            spkr_serial = self.__dict__['speakers']\\n            fetch = self.__class__.fetch\\n            self._speaker_objs = [fetch('speaker.{}'.format(key)) for key in spkr_serial]\\n            \\n        return self._speaker_objs\\n    \\n    def __repr__(self):\\n        if hasattr(self, 'name'):\\n            cls_name = self.__class__.__name__\\n            return '{} {!r}'.format(cls_name, self.name)\\n        else:\\n            return super().__repr__()\\n        \\n        \",\n",
       " '_i6': \"import warnings \\n\\nDB_NAME ='data/scheduleq_db'\\nCONFERENCE = 'conference.115'\\n\\nclass Record:\\n    def __init__(self, **kw):\\n        self.__dict__.update(kw)\\n        \\n# def load_db(db):\\n#     raw_data = load()\\n#     warnings.warn('loading ' + DB_NAME)\\n#     for cllection,rec_list in raw_data['Schedule'].items():\\n#         record_type = collection[:-1]\\n#         for record in rec_lst:\\n#             key = '{}.{}'.format(record_type, record['serial'])\\n#             record['serial'] = key\\n#             db[key] = Record(**record)\\n            \",\n",
       " '_i7': 'globals()',\n",
       " '_ih': ['',\n",
       "  \"import warnings \\n\\nDB_NAME ='data/scheduleq_db'\\nCONFERENCE = 'conference.115'\\n\\nclass Record:\\n    def __init__(self, **kw):\\n        self.__dict__.update(kw)\\n        \\ndef load_db(db):\\n    raw_data = load()\\n    warnings.warn('loading ' + DB_NAME)\\n    for cllection,rec_list in raw_data['Schedule'].items():\\n        record_type = collection[:-1]\\n        for record in rec_lst:\\n            key = '{}.{}'.format(record_type, record['serial'])\\n            record['serial'] = key\\n            db[key] = Record(**record)\\n            \",\n",
       "  'class MissingDataBaseError(Runtmeerror):\\n    \\'\\'\\'pass\\'\\'\\'\\n    \\nclass DbRecord(Record):\\n    _db = None\\n    \\n    @staticmethod\\n    def set_db(db):\\n        DbRecord.db\\n    \\n    @staticmethod\\n    def get_db():\\n        return DbRecord.db\\n    \\n    @classmethod\\n    def fetch(cls, indent):\\n        db = cls.get_db()\\n        try:\\n            return db[indent]\\n        except TypeError:\\n            if db is None:\\n                msg = \"atabase not set, \\'{},set_db(mydb)\\'\"\\n                raise MissingDataBaseError(msg.format(cls.__name__))\\n            else:\\n                raise\\n                \\n    def __repr__(self):\\n        if hasattr(self, \\'serial\\'):\\n            cls_name = self.__class__.__name__\\n            return \\'<{} serial ={!r}>\\'.format(cls_name, self.serial)\\n        else:\\n            return super().__repr__()',\n",
       "  'class MissingDataBaseError(Runtimeerror):\\n    \\'\\'\\'pass\\'\\'\\'\\n    \\nclass DbRecord(Record):\\n    _db = None\\n    \\n    @staticmethod\\n    def set_db(db):\\n        DbRecord.db\\n    \\n    @staticmethod\\n    def get_db():\\n        return DbRecord.db\\n    \\n    @classmethod\\n    def fetch(cls, indent):\\n        db = cls.get_db()\\n        try:\\n            return db[indent]\\n        except TypeError:\\n            if db is None:\\n                msg = \"atabase not set, \\'{},set_db(mydb)\\'\"\\n                raise MissingDataBaseError(msg.format(cls.__name__))\\n            else:\\n                raise\\n                \\n    def __repr__(self):\\n        if hasattr(self, \\'serial\\'):\\n            cls_name = self.__class__.__name__\\n            return \\'<{} serial ={!r}>\\'.format(cls_name, self.serial)\\n        else:\\n            return super().__repr__()',\n",
       "  'class MissingDataBaseError(RuntimeError):\\n    \\'\\'\\'pass\\'\\'\\'\\n    \\nclass DbRecord(Record):\\n    _db = None\\n    \\n    @staticmethod\\n    def set_db(db):\\n        DbRecord.db\\n    \\n    @staticmethod\\n    def get_db():\\n        return DbRecord.db\\n    \\n    @classmethod\\n    def fetch(cls, indent):\\n        db = cls.get_db()\\n        try:\\n            return db[indent]\\n        except TypeError:\\n            if db is None:\\n                msg = \"atabase not set, \\'{},set_db(mydb)\\'\"\\n                raise MissingDataBaseError(msg.format(cls.__name__))\\n            else:\\n                raise\\n                \\n    def __repr__(self):\\n        if hasattr(self, \\'serial\\'):\\n            cls_name = self.__class__.__name__\\n            return \\'<{} serial ={!r}>\\'.format(cls_name, self.serial)\\n        else:\\n            return super().__repr__()',\n",
       "  \"class Event(DbRecord):\\n    \\n    @property\\n    def venue(self):\\n        key = 'venue.{}'.foramt(self.venue_serial)\\n        return self.__class__.fetch(key)\\n    \\n    @property\\n    def speaker(self):\\n        if not hasattr(self, '_speaker_objs'):\\n            spkr_serial = self.__dict__['speakers']\\n            fetch = self.__class__.fetch\\n            self._speaker_objs = [fetch('speaker.{}'.format(key)) for key in spkr_serial]\\n            \\n        return self._speaker_objs\\n    \\n    def __repr__(self):\\n        if hasattr(self, 'name'):\\n            cls_name = self.__class__.__name__\\n            return '{} {!r}'.format(cls_name, self.name)\\n        else:\\n            return super().__repr__()\\n        \\n        \",\n",
       "  \"import warnings \\n\\nDB_NAME ='data/scheduleq_db'\\nCONFERENCE = 'conference.115'\\n\\nclass Record:\\n    def __init__(self, **kw):\\n        self.__dict__.update(kw)\\n        \\n# def load_db(db):\\n#     raw_data = load()\\n#     warnings.warn('loading ' + DB_NAME)\\n#     for cllection,rec_list in raw_data['Schedule'].items():\\n#         record_type = collection[:-1]\\n#         for record in rec_lst:\\n#             key = '{}.{}'.format(record_type, record['serial'])\\n#             record['serial'] = key\\n#             db[key] = Record(**record)\\n            \",\n",
       "  'globals()'],\n",
       " '_ii': \"class Event(DbRecord):\\n    \\n    @property\\n    def venue(self):\\n        key = 'venue.{}'.foramt(self.venue_serial)\\n        return self.__class__.fetch(key)\\n    \\n    @property\\n    def speaker(self):\\n        if not hasattr(self, '_speaker_objs'):\\n            spkr_serial = self.__dict__['speakers']\\n            fetch = self.__class__.fetch\\n            self._speaker_objs = [fetch('speaker.{}'.format(key)) for key in spkr_serial]\\n            \\n        return self._speaker_objs\\n    \\n    def __repr__(self):\\n        if hasattr(self, 'name'):\\n            cls_name = self.__class__.__name__\\n            return '{} {!r}'.format(cls_name, self.name)\\n        else:\\n            return super().__repr__()\\n        \\n        \",\n",
       " '_iii': 'class MissingDataBaseError(RuntimeError):\\n    \\'\\'\\'pass\\'\\'\\'\\n    \\nclass DbRecord(Record):\\n    _db = None\\n    \\n    @staticmethod\\n    def set_db(db):\\n        DbRecord.db\\n    \\n    @staticmethod\\n    def get_db():\\n        return DbRecord.db\\n    \\n    @classmethod\\n    def fetch(cls, indent):\\n        db = cls.get_db()\\n        try:\\n            return db[indent]\\n        except TypeError:\\n            if db is None:\\n                msg = \"atabase not set, \\'{},set_db(mydb)\\'\"\\n                raise MissingDataBaseError(msg.format(cls.__name__))\\n            else:\\n                raise\\n                \\n    def __repr__(self):\\n        if hasattr(self, \\'serial\\'):\\n            cls_name = self.__class__.__name__\\n            return \\'<{} serial ={!r}>\\'.format(cls_name, self.serial)\\n        else:\\n            return super().__repr__()',\n",
       " '_oh': {},\n",
       " 'exit': <IPython.core.autocall.ZMQExitAutocall at 0x7f26e4696f98>,\n",
       " 'get_ipython': <bound method InteractiveShell.get_ipython of <ipykernel.zmqshell.ZMQInteractiveShell object at 0x7f26e76dec50>>,\n",
       " 'load_db': <function __main__.load_db>,\n",
       " 'quit': <IPython.core.autocall.ZMQExitAutocall at 0x7f26e4696f98>,\n",
       " 'warnings': <module 'warnings' from '/usr/lib/python3.5/warnings.py'>}"
      ]
     },
     "execution_count": 7,
     "metadata": {},
     "output_type": "execute_result"
    }
   ],
   "source": [
    "globals()"
   ]
  },
  {
   "cell_type": "code",
   "execution_count": 8,
   "metadata": {},
   "outputs": [
    {
     "data": {
      "text/plain": [
       "__main__.DbRecord"
      ]
     },
     "execution_count": 8,
     "metadata": {},
     "output_type": "execute_result"
    }
   ],
   "source": [
    "globals().get('DbRecord')"
   ]
  },
  {
   "cell_type": "markdown",
   "metadata": {},
   "source": [
    "### Using a property for attribute validation\n"
   ]
  },
  {
   "cell_type": "code",
   "execution_count": 10,
   "metadata": {},
   "outputs": [],
   "source": [
    "class LineItem:\n",
    "    def __init__(self, description, weight, price):\n",
    "        self.description = description\n",
    "        self.weight = weight\n",
    "        self.price = price\n",
    "    def subtotal(self):\n",
    "        return self.weight * self.price\n",
    "    \n",
    "    @property\n",
    "    def weight(self):\n",
    "        return self.__weight\n",
    "    \n",
    "    @weight.setter\n",
    "    def weight(self, value):\n",
    "        if value > 0:\n",
    "            self.__weight = value\n",
    "        else:\n",
    "            raise ValueError('value must be > 0')"
   ]
  },
  {
   "cell_type": "code",
   "execution_count": 11,
   "metadata": {},
   "outputs": [
    {
     "ename": "ValueError",
     "evalue": "value must be > 0",
     "output_type": "error",
     "traceback": [
      "\u001b[0;31m---------------------------------------------------------------------------\u001b[0m",
      "\u001b[0;31mValueError\u001b[0m                                Traceback (most recent call last)",
      "\u001b[0;32m<ipython-input-11-d524d3e7edd0>\u001b[0m in \u001b[0;36m<module>\u001b[0;34m()\u001b[0m\n\u001b[0;32m----> 1\u001b[0;31m \u001b[0mwalnuts\u001b[0m \u001b[0;34m=\u001b[0m \u001b[0mLineItem\u001b[0m\u001b[0;34m(\u001b[0m\u001b[0;34m'walnuts'\u001b[0m\u001b[0;34m,\u001b[0m \u001b[0;36m0\u001b[0m\u001b[0;34m,\u001b[0m \u001b[0;36m100\u001b[0m\u001b[0;34m)\u001b[0m\u001b[0;34m\u001b[0m\u001b[0m\n\u001b[0m",
      "\u001b[0;32m<ipython-input-10-ae4b930a9ab1>\u001b[0m in \u001b[0;36m__init__\u001b[0;34m(self, description, weight, price)\u001b[0m\n\u001b[1;32m      2\u001b[0m     \u001b[0;32mdef\u001b[0m \u001b[0m__init__\u001b[0m\u001b[0;34m(\u001b[0m\u001b[0mself\u001b[0m\u001b[0;34m,\u001b[0m \u001b[0mdescription\u001b[0m\u001b[0;34m,\u001b[0m \u001b[0mweight\u001b[0m\u001b[0;34m,\u001b[0m \u001b[0mprice\u001b[0m\u001b[0;34m)\u001b[0m\u001b[0;34m:\u001b[0m\u001b[0;34m\u001b[0m\u001b[0m\n\u001b[1;32m      3\u001b[0m         \u001b[0mself\u001b[0m\u001b[0;34m.\u001b[0m\u001b[0mdescription\u001b[0m \u001b[0;34m=\u001b[0m \u001b[0mdescription\u001b[0m\u001b[0;34m\u001b[0m\u001b[0m\n\u001b[0;32m----> 4\u001b[0;31m         \u001b[0mself\u001b[0m\u001b[0;34m.\u001b[0m\u001b[0mweight\u001b[0m \u001b[0;34m=\u001b[0m \u001b[0mweight\u001b[0m\u001b[0;34m\u001b[0m\u001b[0m\n\u001b[0m\u001b[1;32m      5\u001b[0m         \u001b[0mself\u001b[0m\u001b[0;34m.\u001b[0m\u001b[0mprice\u001b[0m \u001b[0;34m=\u001b[0m \u001b[0mprice\u001b[0m\u001b[0;34m\u001b[0m\u001b[0m\n\u001b[1;32m      6\u001b[0m     \u001b[0;32mdef\u001b[0m \u001b[0msubtotal\u001b[0m\u001b[0;34m(\u001b[0m\u001b[0mself\u001b[0m\u001b[0;34m)\u001b[0m\u001b[0;34m:\u001b[0m\u001b[0;34m\u001b[0m\u001b[0m\n",
      "\u001b[0;32m<ipython-input-10-ae4b930a9ab1>\u001b[0m in \u001b[0;36mweight\u001b[0;34m(self, value)\u001b[0m\n\u001b[1;32m     16\u001b[0m             \u001b[0mself\u001b[0m\u001b[0;34m.\u001b[0m\u001b[0m__weight\u001b[0m \u001b[0;34m=\u001b[0m \u001b[0mvalue\u001b[0m\u001b[0;34m\u001b[0m\u001b[0m\n\u001b[1;32m     17\u001b[0m         \u001b[0;32melse\u001b[0m\u001b[0;34m:\u001b[0m\u001b[0;34m\u001b[0m\u001b[0m\n\u001b[0;32m---> 18\u001b[0;31m             \u001b[0;32mraise\u001b[0m \u001b[0mValueError\u001b[0m\u001b[0;34m(\u001b[0m\u001b[0;34m'value must be > 0'\u001b[0m\u001b[0;34m)\u001b[0m\u001b[0;34m\u001b[0m\u001b[0m\n\u001b[0m",
      "\u001b[0;31mValueError\u001b[0m: value must be > 0"
     ]
    }
   ],
   "source": [
    "walnuts = LineItem('walnuts', 0, 100)"
   ]
  },
  {
   "cell_type": "code",
   "execution_count": 12,
   "metadata": {
    "collapsed": true
   },
   "outputs": [],
   "source": [
    "walnuts = LineItem('walnuts', 10, 100)"
   ]
  },
  {
   "cell_type": "code",
   "execution_count": 13,
   "metadata": {},
   "outputs": [
    {
     "data": {
      "text/plain": [
       "10"
      ]
     },
     "execution_count": 13,
     "metadata": {},
     "output_type": "execute_result"
    }
   ],
   "source": [
    "walnuts.weight"
   ]
  },
  {
   "cell_type": "code",
   "execution_count": 14,
   "metadata": {},
   "outputs": [
    {
     "data": {
      "text/plain": [
       "1000"
      ]
     },
     "execution_count": 14,
     "metadata": {},
     "output_type": "execute_result"
    }
   ],
   "source": [
    "walnuts.subtotal()"
   ]
  },
  {
   "cell_type": "markdown",
   "metadata": {},
   "source": [
    "### Properties override instance attributes\n"
   ]
  },
  {
   "cell_type": "code",
   "execution_count": 15,
   "metadata": {
    "collapsed": true
   },
   "outputs": [],
   "source": [
    "class Cls:\n",
    "    data = 'the class data attr'\n",
    "    @property\n",
    "    def prop(self):\n",
    "        return 'the prop value '\n"
   ]
  },
  {
   "cell_type": "code",
   "execution_count": 16,
   "metadata": {},
   "outputs": [
    {
     "data": {
      "text/plain": [
       "<__main__.Cls at 0x7f26e44f2c88>"
      ]
     },
     "execution_count": 16,
     "metadata": {},
     "output_type": "execute_result"
    }
   ],
   "source": [
    "obj = Cls()\n",
    "obj"
   ]
  },
  {
   "cell_type": "code",
   "execution_count": 17,
   "metadata": {},
   "outputs": [
    {
     "data": {
      "text/plain": [
       "{}"
      ]
     },
     "execution_count": 17,
     "metadata": {},
     "output_type": "execute_result"
    }
   ],
   "source": [
    "vars(obj)"
   ]
  },
  {
   "cell_type": "code",
   "execution_count": 18,
   "metadata": {},
   "outputs": [
    {
     "data": {
      "text/plain": [
       "'the class data attr'"
      ]
     },
     "execution_count": 18,
     "metadata": {},
     "output_type": "execute_result"
    }
   ],
   "source": [
    "obj.data"
   ]
  },
  {
   "cell_type": "code",
   "execution_count": 19,
   "metadata": {
    "collapsed": true
   },
   "outputs": [],
   "source": [
    "obj.data = 'var'"
   ]
  },
  {
   "cell_type": "code",
   "execution_count": 20,
   "metadata": {},
   "outputs": [
    {
     "data": {
      "text/plain": [
       "{'data': 'var'}"
      ]
     },
     "execution_count": 20,
     "metadata": {},
     "output_type": "execute_result"
    }
   ],
   "source": [
    "vars(obj)"
   ]
  },
  {
   "cell_type": "code",
   "execution_count": 21,
   "metadata": {},
   "outputs": [
    {
     "data": {
      "text/plain": [
       "'the class data attr'"
      ]
     },
     "execution_count": 21,
     "metadata": {},
     "output_type": "execute_result"
    }
   ],
   "source": [
    "Cls.data"
   ]
  },
  {
   "cell_type": "code",
   "execution_count": 35,
   "metadata": {},
   "outputs": [
    {
     "data": {
      "text/plain": [
       "'bar'"
      ]
     },
     "execution_count": 35,
     "metadata": {},
     "output_type": "execute_result"
    }
   ],
   "source": [
    "# =========================\n",
    "Cls.prop"
   ]
  },
  {
   "cell_type": "code",
   "execution_count": 23,
   "metadata": {},
   "outputs": [
    {
     "data": {
      "text/plain": [
       "'the prop value '"
      ]
     },
     "execution_count": 23,
     "metadata": {},
     "output_type": "execute_result"
    }
   ],
   "source": [
    "obj.prop"
   ]
  },
  {
   "cell_type": "code",
   "execution_count": 24,
   "metadata": {},
   "outputs": [
    {
     "ename": "AttributeError",
     "evalue": "can't set attribute",
     "output_type": "error",
     "traceback": [
      "\u001b[0;31m---------------------------------------------------------------------------\u001b[0m",
      "\u001b[0;31mAttributeError\u001b[0m                            Traceback (most recent call last)",
      "\u001b[0;32m<ipython-input-24-401fd92b00da>\u001b[0m in \u001b[0;36m<module>\u001b[0;34m()\u001b[0m\n\u001b[0;32m----> 1\u001b[0;31m \u001b[0mobj\u001b[0m\u001b[0;34m.\u001b[0m\u001b[0mprop\u001b[0m \u001b[0;34m=\u001b[0m \u001b[0;34m'var'\u001b[0m\u001b[0;34m\u001b[0m\u001b[0m\n\u001b[0m",
      "\u001b[0;31mAttributeError\u001b[0m: can't set attribute"
     ]
    }
   ],
   "source": [
    "obj.prop = 'var'"
   ]
  },
  {
   "cell_type": "code",
   "execution_count": 25,
   "metadata": {},
   "outputs": [
    {
     "ename": "AttributeError",
     "evalue": "can't set attribute",
     "output_type": "error",
     "traceback": [
      "\u001b[0;31m---------------------------------------------------------------------------\u001b[0m",
      "\u001b[0;31mAttributeError\u001b[0m                            Traceback (most recent call last)",
      "\u001b[0;32m<ipython-input-25-258882c4fb0d>\u001b[0m in \u001b[0;36m<module>\u001b[0;34m()\u001b[0m\n\u001b[0;32m----> 1\u001b[0;31m \u001b[0mobj\u001b[0m\u001b[0;34m.\u001b[0m\u001b[0mprop\u001b[0m \u001b[0;34m=\u001b[0m \u001b[0;32mlambda\u001b[0m\u001b[0;34m:\u001b[0m \u001b[0;36m1\u001b[0m\u001b[0;34m\u001b[0m\u001b[0m\n\u001b[0m",
      "\u001b[0;31mAttributeError\u001b[0m: can't set attribute"
     ]
    }
   ],
   "source": [
    "obj.prop = lambda: 1"
   ]
  },
  {
   "cell_type": "code",
   "execution_count": 26,
   "metadata": {
    "collapsed": true
   },
   "outputs": [],
   "source": [
    "obj.__dict__['prop'] = 'foo'"
   ]
  },
  {
   "cell_type": "code",
   "execution_count": 27,
   "metadata": {},
   "outputs": [
    {
     "data": {
      "text/plain": [
       "'the prop value '"
      ]
     },
     "execution_count": 27,
     "metadata": {},
     "output_type": "execute_result"
    }
   ],
   "source": [
    "obj.prop"
   ]
  },
  {
   "cell_type": "code",
   "execution_count": 28,
   "metadata": {
    "collapsed": true
   },
   "outputs": [],
   "source": [
    "Cls.prop = 'bar'"
   ]
  },
  {
   "cell_type": "code",
   "execution_count": 29,
   "metadata": {},
   "outputs": [
    {
     "data": {
      "text/plain": [
       "'foo'"
      ]
     },
     "execution_count": 29,
     "metadata": {},
     "output_type": "execute_result"
    }
   ],
   "source": [
    "obj.prop"
   ]
  },
  {
   "cell_type": "code",
   "execution_count": 30,
   "metadata": {},
   "outputs": [
    {
     "data": {
      "text/plain": [
       "'var'"
      ]
     },
     "execution_count": 30,
     "metadata": {},
     "output_type": "execute_result"
    }
   ],
   "source": [
    "# =================\n",
    "obj.data"
   ]
  },
  {
   "cell_type": "code",
   "execution_count": 31,
   "metadata": {},
   "outputs": [
    {
     "data": {
      "text/plain": [
       "'the class data attr'"
      ]
     },
     "execution_count": 31,
     "metadata": {},
     "output_type": "execute_result"
    }
   ],
   "source": [
    "Cls.data "
   ]
  },
  {
   "cell_type": "code",
   "execution_count": 32,
   "metadata": {},
   "outputs": [
    {
     "data": {
      "text/plain": [
       "'lalalala'"
      ]
     },
     "execution_count": 32,
     "metadata": {},
     "output_type": "execute_result"
    }
   ],
   "source": [
    "Cls.data = property(lambda self: \"lalalala\")\n",
    "obj.data"
   ]
  },
  {
   "cell_type": "code",
   "execution_count": 33,
   "metadata": {
    "collapsed": true
   },
   "outputs": [],
   "source": [
    "del Cls.data"
   ]
  },
  {
   "cell_type": "code",
   "execution_count": 34,
   "metadata": {},
   "outputs": [
    {
     "data": {
      "text/plain": [
       "'var'"
      ]
     },
     "execution_count": 34,
     "metadata": {},
     "output_type": "execute_result"
    }
   ],
   "source": [
    "obj.data"
   ]
  },
  {
   "cell_type": "markdown",
   "metadata": {},
   "source": [
    "conclusion\n",
    "\n",
    "对于属性：\n",
    "\n",
    "1. 分 类属性 和 实例属性\n",
    "2. 都可以进行重新赋值\n",
    "3. 实例属性 的更改不会影响到 类属性\n",
    "4. 类属性的更改会影响到 实例属性\n",
    "5. 接4 ，如果 类属性 消失(del)， 实例属性重新获得实例属性\n",
    "\n",
    "\n",
    "对于方法：\n",
    "\n",
    "1. 分 类方法 和 实例方法\n",
    "2. 实例中 不能对直接实例方法进行更改，而要通过 `__dict__` 关键字进行指定，但仍不能更改其原有方法\n",
    "3. 类 可以直接修改 类方法\n",
    "4. 接 2/3 ,2中重新指定后，3中修改后，实例方法会变为 2 中指定的方法。\n"
   ]
  },
  {
   "cell_type": "markdown",
   "metadata": {},
   "source": [
    "### Coding a property factory\n"
   ]
  },
  {
   "cell_type": "code",
   "execution_count": 37,
   "metadata": {},
   "outputs": [
    {
     "ename": "NameError",
     "evalue": "name 'quantity' is not defined",
     "output_type": "error",
     "traceback": [
      "\u001b[0;31m---------------------------------------------------------------------------\u001b[0m",
      "\u001b[0;31mNameError\u001b[0m                                 Traceback (most recent call last)",
      "\u001b[0;32m<ipython-input-37-bcd0d0cf274c>\u001b[0m in \u001b[0;36m<module>\u001b[0;34m()\u001b[0m\n\u001b[0;32m----> 1\u001b[0;31m \u001b[0;32mclass\u001b[0m \u001b[0mLineitem\u001b[0m\u001b[0;34m:\u001b[0m\u001b[0;34m\u001b[0m\u001b[0m\n\u001b[0m\u001b[1;32m      2\u001b[0m \u001b[0;34m\u001b[0m\u001b[0m\n\u001b[1;32m      3\u001b[0m     \u001b[0mweight\u001b[0m \u001b[0;34m=\u001b[0m \u001b[0mquantity\u001b[0m\u001b[0;34m(\u001b[0m\u001b[0;34m'weight'\u001b[0m\u001b[0;34m)\u001b[0m\u001b[0;34m\u001b[0m\u001b[0m\n\u001b[1;32m      4\u001b[0m     \u001b[0mprice\u001b[0m \u001b[0;34m=\u001b[0m \u001b[0mquantity\u001b[0m\u001b[0;34m(\u001b[0m\u001b[0;34m'price'\u001b[0m\u001b[0;34m)\u001b[0m\u001b[0;34m\u001b[0m\u001b[0m\n\u001b[1;32m      5\u001b[0m \u001b[0;34m\u001b[0m\u001b[0m\n",
      "\u001b[0;32m<ipython-input-37-bcd0d0cf274c>\u001b[0m in \u001b[0;36mLineitem\u001b[0;34m()\u001b[0m\n\u001b[1;32m      1\u001b[0m \u001b[0;32mclass\u001b[0m \u001b[0mLineitem\u001b[0m\u001b[0;34m:\u001b[0m\u001b[0;34m\u001b[0m\u001b[0m\n\u001b[1;32m      2\u001b[0m \u001b[0;34m\u001b[0m\u001b[0m\n\u001b[0;32m----> 3\u001b[0;31m     \u001b[0mweight\u001b[0m \u001b[0;34m=\u001b[0m \u001b[0mquantity\u001b[0m\u001b[0;34m(\u001b[0m\u001b[0;34m'weight'\u001b[0m\u001b[0;34m)\u001b[0m\u001b[0;34m\u001b[0m\u001b[0m\n\u001b[0m\u001b[1;32m      4\u001b[0m     \u001b[0mprice\u001b[0m \u001b[0;34m=\u001b[0m \u001b[0mquantity\u001b[0m\u001b[0;34m(\u001b[0m\u001b[0;34m'price'\u001b[0m\u001b[0;34m)\u001b[0m\u001b[0;34m\u001b[0m\u001b[0m\n\u001b[1;32m      5\u001b[0m \u001b[0;34m\u001b[0m\u001b[0m\n",
      "\u001b[0;31mNameError\u001b[0m: name 'quantity' is not defined"
     ]
    }
   ],
   "source": [
    "class Lineitem:\n",
    "    \n",
    "    weight = self.quantity('weight')\n",
    "    price = self.quantity('price')\n",
    "    \n",
    "    def __init__(self, description, weight, price):\n",
    "        self.description = description\n",
    "        self.weight - weight\n",
    "        self.price = price\n",
    "        \n",
    "    def subtotal(self):\n",
    "        return self.weight * self.price\n",
    "    \n",
    "    @staticmethod\n",
    "    def quantity(storage_name):\n",
    "        def qty_getter(instance):\n",
    "            return instance.__dict__[storage_name]\n",
    "        def qty_setter(instance, value):\n",
    "            if value > 0:\n",
    "                instance.__dict__[storage_name] = value\n",
    "            else:\n",
    "                raise ValueError('value must be > 0')\n",
    "\n",
    "        return property(qty_getter, qty_setter)\n",
    "\n",
    "\n",
    "        "
   ]
  },
  {
   "cell_type": "code",
   "execution_count": null,
   "metadata": {
    "collapsed": true
   },
   "outputs": [],
   "source": []
  }
 ],
 "metadata": {
  "kernelspec": {
   "display_name": "Python 3",
   "language": "python",
   "name": "python3"
  },
  "language_info": {
   "codemirror_mode": {
    "name": "ipython",
    "version": 3
   },
   "file_extension": ".py",
   "mimetype": "text/x-python",
   "name": "python",
   "nbconvert_exporter": "python",
   "pygments_lexer": "ipython3",
   "version": "3.5.2"
  }
 },
 "nbformat": 4,
 "nbformat_minor": 2
}
