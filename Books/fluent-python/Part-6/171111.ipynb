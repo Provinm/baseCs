{
 "cells": [
  {
   "cell_type": "markdown",
   "metadata": {},
   "source": [
    "## Class metaprogramming"
   ]
  },
  {
   "cell_type": "markdown",
   "metadata": {},
   "source": [
    "### A class factory\n"
   ]
  },
  {
   "cell_type": "code",
   "execution_count": 15,
   "metadata": {
    "collapsed": true
   },
   "outputs": [],
   "source": [
    "def record_factory(cls_name, cls_fields):\n",
    "    \n",
    "    try:\n",
    "        cls_fields = cls_fields.replace(',', ' ').split(' ')\n",
    "    except:\n",
    "        pass\n",
    "    \n",
    "    cls_fields = tuple(cls_fields)\n",
    "    \n",
    "    def __init__(self, *args, **kw):\n",
    "        attrs = dict(zip(self.__slots__, args))\n",
    "        print('-> self.__slots__ = {}'.format(self.__slots__))\n",
    "        attrs.update(kw)\n",
    "        for name, value in attrs.items():\n",
    "            setattr(self, name, value)\n",
    "    \n",
    "    def __iter__(self):\n",
    "        print('-> self.__slots__ = {}'.format(self.__slots__))\n",
    "        for name in self.__slots__:\n",
    "            yield getattr(self, name)\n",
    "    \n",
    "    def __repr__(self):\n",
    "        print('-> self.__slots__ = {}'.format(self.__slots__))\n",
    "        value = ', '.join('{}={!r}'.format(*i) for i\n",
    "                         in zip(self.__slots__, self))\n",
    "        return '{}([])'.format(self.__class__.__name__, value)\n",
    "    \n",
    "    cls_attrs = dict(__slots__ = cls_fields,\n",
    "                     __init__ = __init__,\n",
    "                     __iter__ = __iter__,\n",
    "                     __repr__ = __repr__)\n",
    "    \n",
    "    return type(cls_name, (object,), cls_attrs)"
   ]
  },
  {
   "cell_type": "code",
   "execution_count": 16,
   "metadata": {
    "collapsed": true
   },
   "outputs": [],
   "source": [
    "Dog = record_factory('Dog', 'name weight owner')"
   ]
  },
  {
   "cell_type": "code",
   "execution_count": 13,
   "metadata": {},
   "outputs": [
    {
     "name": "stdout",
     "output_type": "stream",
     "text": [
      "-> self.__slots__ = ('name', 'weight', 'owner')\n"
     ]
    }
   ],
   "source": [
    "dog = Dog('miki', 30, 'xue')"
   ]
  },
  {
   "cell_type": "code",
   "execution_count": 4,
   "metadata": {},
   "outputs": [
    {
     "data": {
      "text/plain": [
       "'miki'"
      ]
     },
     "execution_count": 4,
     "metadata": {},
     "output_type": "execute_result"
    }
   ],
   "source": [
    "dog.name"
   ]
  },
  {
   "cell_type": "code",
   "execution_count": 5,
   "metadata": {},
   "outputs": [
    {
     "data": {
      "text/plain": [
       "30"
      ]
     },
     "execution_count": 5,
     "metadata": {},
     "output_type": "execute_result"
    }
   ],
   "source": [
    "dog.weight"
   ]
  },
  {
   "cell_type": "code",
   "execution_count": 8,
   "metadata": {},
   "outputs": [
    {
     "name": "stdout",
     "output_type": "stream",
     "text": [
      "-> self.__slots__ = ('name', 'weight', 'owner')\n",
      "-> self.__slots__ = ('name', 'weight', 'owner')\n"
     ]
    },
    {
     "data": {
      "text/plain": [
       "Dog([])"
      ]
     },
     "execution_count": 8,
     "metadata": {},
     "output_type": "execute_result"
    }
   ],
   "source": [
    "dog"
   ]
  },
  {
   "cell_type": "code",
   "execution_count": 9,
   "metadata": {},
   "outputs": [
    {
     "name": "stdout",
     "output_type": "stream",
     "text": [
      "-> self.__slots__ = ('name', 'weight', 'owner')\n"
     ]
    }
   ],
   "source": [
    "name, weight, owner = dog"
   ]
  },
  {
   "cell_type": "code",
   "execution_count": 10,
   "metadata": {},
   "outputs": [
    {
     "data": {
      "text/plain": [
       "('miki', 30, 'xue')"
      ]
     },
     "execution_count": 10,
     "metadata": {},
     "output_type": "execute_result"
    }
   ],
   "source": [
    "name, weight, owner"
   ]
  },
  {
   "cell_type": "markdown",
   "metadata": {},
   "source": [
    "example\n",
    "\n",
    "```python\n",
    "MyClass = type('MyClass', (Cls1, Cls2), {'x1': 1, 'x2': lambda self: self.x1 * 2}) \n",
    "\n",
    "# equicalent to \n",
    "\n",
    "class MyClass:\n",
    "    \n",
    "    x1 = 1\n",
    "    def x2(self):\n",
    "        return self.x1 * 2\n",
    "        \n",
    "```"
   ]
  },
  {
   "cell_type": "code",
   "execution_count": 25,
   "metadata": {},
   "outputs": [
    {
     "name": "stdout",
     "output_type": "stream",
     "text": [
      "{'__dict__': <attribute '__dict__' of 'Cls' objects>, '__init__': <function Cls.__init__ at 0x7f0c9c4a9378>, '__doc__': None, '__weakref__': <attribute '__weakref__' of 'Cls' objects>, 'counter': 0, '__module__': '__main__'}\n"
     ]
    }
   ],
   "source": [
    "# class decorator\n",
    "\n",
    "\n",
    "def plus_cnt(cls):\n",
    "    \n",
    "    print(cls.__dict__)\n",
    "    cls.counter += 1\n",
    "    return cls\n",
    "\n",
    "\n",
    "@plus_cnt\n",
    "class Cls:\n",
    "    \n",
    "    counter = 0\n",
    "    def __init__(self):\n",
    "        self.__counter = 1\n"
   ]
  },
  {
   "cell_type": "code",
   "execution_count": 26,
   "metadata": {},
   "outputs": [
    {
     "data": {
      "text/plain": [
       "1"
      ]
     },
     "execution_count": 26,
     "metadata": {},
     "output_type": "execute_result"
    }
   ],
   "source": [
    "Cls.counter"
   ]
  },
  {
   "cell_type": "markdown",
   "metadata": {},
   "source": [
    "### Metaclasses 101\n"
   ]
  },
  {
   "cell_type": "code",
   "execution_count": 27,
   "metadata": {},
   "outputs": [
    {
     "data": {
      "text/plain": [
       "abc.ABCMeta"
      ]
     },
     "execution_count": 27,
     "metadata": {},
     "output_type": "execute_result"
    }
   ],
   "source": [
    "import collections\n",
    "\n",
    "collections.Iterable.__class__"
   ]
  },
  {
   "cell_type": "code",
   "execution_count": 28,
   "metadata": {
    "collapsed": true
   },
   "outputs": [],
   "source": [
    "import abc"
   ]
  },
  {
   "cell_type": "code",
   "execution_count": 29,
   "metadata": {},
   "outputs": [
    {
     "data": {
      "text/plain": [
       "type"
      ]
     },
     "execution_count": 29,
     "metadata": {},
     "output_type": "execute_result"
    }
   ],
   "source": [
    "abc.ABCMeta.__class__"
   ]
  },
  {
   "cell_type": "code",
   "execution_count": 30,
   "metadata": {},
   "outputs": [
    {
     "data": {
      "text/plain": [
       "(abc.ABCMeta, type, object)"
      ]
     },
     "execution_count": 30,
     "metadata": {},
     "output_type": "execute_result"
    }
   ],
   "source": [
    "abc.ABCMeta.__mro__"
   ]
  },
  {
   "cell_type": "code",
   "execution_count": null,
   "metadata": {
    "collapsed": true
   },
   "outputs": [],
   "source": []
  }
 ],
 "metadata": {
  "kernelspec": {
   "display_name": "Python 3",
   "language": "python",
   "name": "python3"
  },
  "language_info": {
   "codemirror_mode": {
    "name": "ipython",
    "version": 3
   },
   "file_extension": ".py",
   "mimetype": "text/x-python",
   "name": "python",
   "nbconvert_exporter": "python",
   "pygments_lexer": "ipython3",
   "version": "3.5.2"
  }
 },
 "nbformat": 4,
 "nbformat_minor": 2
}
