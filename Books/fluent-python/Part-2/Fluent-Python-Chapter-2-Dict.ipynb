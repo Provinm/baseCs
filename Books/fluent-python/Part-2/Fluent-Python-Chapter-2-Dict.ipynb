{
 "cells": [
  {
   "cell_type": "markdown",
   "metadata": {},
   "source": [
    "## Dict"
   ]
  },
  {
   "cell_type": "code",
   "execution_count": 8,
   "metadata": {},
   "outputs": [
    {
     "data": {
      "text/plain": [
       "True"
      ]
     },
     "execution_count": 8,
     "metadata": {},
     "output_type": "execute_result"
    }
   ],
   "source": [
    "from collections import abc\n",
    "\n",
    "dct = {}\n",
    "isinstance(dct, abc.Mapping)"
   ]
  },
  {
   "cell_type": "code",
   "execution_count": 9,
   "metadata": {},
   "outputs": [
    {
     "data": {
      "text/plain": [
       "-2725224101759650258"
      ]
     },
     "execution_count": 9,
     "metadata": {},
     "output_type": "execute_result"
    }
   ],
   "source": [
    "# hash\n",
    "\n",
    "tt = (1, 2, (3, 4))\n",
    "hash(tt)"
   ]
  },
  {
   "cell_type": "code",
   "execution_count": 10,
   "metadata": {},
   "outputs": [
    {
     "ename": "TypeError",
     "evalue": "unhashable type: 'list'",
     "output_type": "error",
     "traceback": [
      "\u001b[0;31m---------------------------------------------------------------------------\u001b[0m",
      "\u001b[0;31mTypeError\u001b[0m                                 Traceback (most recent call last)",
      "\u001b[0;32m<ipython-input-10-50c378d29b20>\u001b[0m in \u001b[0;36m<module>\u001b[0;34m()\u001b[0m\n\u001b[1;32m      1\u001b[0m \u001b[0mtl\u001b[0m \u001b[0;34m=\u001b[0m \u001b[0;34m(\u001b[0m\u001b[0;36m1\u001b[0m\u001b[0;34m,\u001b[0m \u001b[0;36m2\u001b[0m\u001b[0;34m,\u001b[0m \u001b[0;34m[\u001b[0m\u001b[0;36m3\u001b[0m\u001b[0;34m,\u001b[0m \u001b[0;36m4\u001b[0m\u001b[0;34m]\u001b[0m\u001b[0;34m)\u001b[0m\u001b[0;34m\u001b[0m\u001b[0m\n\u001b[0;32m----> 2\u001b[0;31m \u001b[0mhash\u001b[0m\u001b[0;34m(\u001b[0m\u001b[0mtl\u001b[0m\u001b[0;34m)\u001b[0m\u001b[0;34m\u001b[0m\u001b[0m\n\u001b[0m",
      "\u001b[0;31mTypeError\u001b[0m: unhashable type: 'list'"
     ]
    }
   ],
   "source": [
    "tl = (1, 2, [3, 4])\n",
    "hash(tl)"
   ]
  },
  {
   "cell_type": "code",
   "execution_count": 11,
   "metadata": {},
   "outputs": [
    {
     "data": {
      "text/plain": [
       "-4138728974339688815"
      ]
     },
     "execution_count": 11,
     "metadata": {},
     "output_type": "execute_result"
    }
   ],
   "source": [
    "tf = (1, 2, frozenset([3, 4]))\n",
    "hash(tf)"
   ]
  },
  {
   "cell_type": "markdown",
   "metadata": {},
   "source": [
    "hash 的对象不可变"
   ]
  },
  {
   "cell_type": "code",
   "execution_count": 12,
   "metadata": {},
   "outputs": [
    {
     "data": {
      "text/plain": [
       "True"
      ]
     },
     "execution_count": 12,
     "metadata": {},
     "output_type": "execute_result"
    }
   ],
   "source": [
    "# 创建 dict 的几种方式\n",
    "\n",
    "a = {'one': 1, 'two': 2, 'three': 3}\n",
    "b = dict(one=1, two=2, three=3)\n",
    "c = dict(zip(['one', 'two', 'three'], [1,2,3]))\n",
    "d = dict([('one', 1), ('two', 2), ('three', 3)])\n",
    "e = dict({'three': 3, 'one': 1, 'two': 2})\n",
    "\n",
    "a == b == c == d == e"
   ]
  },
  {
   "cell_type": "code",
   "execution_count": 13,
   "metadata": {},
   "outputs": [
    {
     "data": {
      "text/plain": [
       "{'one': 1, 'three': 3, 'two': 2}"
      ]
     },
     "execution_count": 13,
     "metadata": {},
     "output_type": "execute_result"
    }
   ],
   "source": [
    "# dict comprehension\n",
    "\n",
    "data = [('one', 1), ('two', 2), ('three', 3)]\n",
    "dct = {s: num for s, num in data}\n",
    "dct"
   ]
  },
  {
   "cell_type": "markdown",
   "metadata": {},
   "source": [
    "#### dict vs defaultdict"
   ]
  },
  {
   "cell_type": "code",
   "execution_count": 14,
   "metadata": {},
   "outputs": [
    {
     "name": "stdout",
     "output_type": "stream",
     "text": [
      "{'yellow': [1, 3], 'blue': [2, 4], 'red': [1]}\n"
     ]
    }
   ],
   "source": [
    "s = [('yellow', 1), ('blue', 2), ('yellow', 3), ('blue', 4), ('red', 1)]\n",
    "\n",
    "dct = {}\n",
    "for k,v in s:\n",
    "    dct.setdefault(k, []).append(v)\n",
    "    \n",
    "print(dct)\n"
   ]
  },
  {
   "cell_type": "code",
   "execution_count": 15,
   "metadata": {},
   "outputs": [
    {
     "name": "stdout",
     "output_type": "stream",
     "text": [
      "defaultdict(<class 'list'>, {'yellow': [1, 3], 'blue': [2, 4], 'red': [1]})\n"
     ]
    }
   ],
   "source": [
    "from collections import defaultdict\n",
    "\n",
    "ddct = defaultdict(list)\n",
    "for k, v in s:\n",
    "    ddct[k].append(v)\n",
    "    \n",
    "print(ddct)"
   ]
  },
  {
   "cell_type": "code",
   "execution_count": 16,
   "metadata": {},
   "outputs": [
    {
     "data": {
      "text/plain": [
       "[2, 4]"
      ]
     },
     "execution_count": 16,
     "metadata": {},
     "output_type": "execute_result"
    }
   ],
   "source": [
    "ddct['blue']"
   ]
  },
  {
   "cell_type": "code",
   "execution_count": 17,
   "metadata": {},
   "outputs": [
    {
     "data": {
      "text/plain": [
       "[2, 4]"
      ]
     },
     "execution_count": 17,
     "metadata": {},
     "output_type": "execute_result"
    }
   ],
   "source": [
    "dct['blue']"
   ]
  },
  {
   "cell_type": "markdown",
   "metadata": {},
   "source": [
    "#### enumerate"
   ]
  },
  {
   "cell_type": "code",
   "execution_count": 19,
   "metadata": {},
   "outputs": [
    {
     "data": {
      "text/plain": [
       "[(0, 'Spring'), (1, 'Summer'), (2, 'Fall'), (3, 'Winter')]"
      ]
     },
     "execution_count": 19,
     "metadata": {},
     "output_type": "execute_result"
    }
   ],
   "source": [
    "seasons = ['Spring', 'Summer', 'Fall', 'Winter']\n",
    "\n",
    "l = enumerate(seasons)\n",
    "list(l)"
   ]
  },
  {
   "cell_type": "code",
   "execution_count": 21,
   "metadata": {},
   "outputs": [
    {
     "data": {
      "text/plain": [
       "[(1, 'Spring'), (2, 'Summer'), (3, 'Fall'), (4, 'Winter')]"
      ]
     },
     "execution_count": 21,
     "metadata": {},
     "output_type": "execute_result"
    }
   ],
   "source": [
    "l2 = enumerate(seasons, 1)\n",
    "list(l2)\n"
   ]
  },
  {
   "cell_type": "code",
   "execution_count": 22,
   "metadata": {},
   "outputs": [
    {
     "data": {
      "text/plain": [
       "[(100, 'Spring'), (101, 'Summer'), (102, 'Fall'), (103, 'Winter')]"
      ]
     },
     "execution_count": 22,
     "metadata": {},
     "output_type": "execute_result"
    }
   ],
   "source": [
    "l2 = enumerate(seasons, 100)\n",
    "list(l2)"
   ]
  },
  {
   "cell_type": "markdown",
   "metadata": {},
   "source": [
    "#### locals/globals"
   ]
  },
  {
   "cell_type": "code",
   "execution_count": 23,
   "metadata": {
    "collapsed": true
   },
   "outputs": [
    {
     "data": {
      "text/plain": [
       "ChainMap({'_i': 'l2 = enumerate(seasons, 100)\\nlist(l2)', '_i20': 'l2 = enumerate(seasons, 1)\\nlist(l)', 'In': ['', 'dct - {}\\nisinstance(dct, abc,mapping)', 'dct = {}\\nisinstance(dct, abc,mapping)', 'dct = {}\\nisinstance(dct, abc.mapping)', 'import abc\\ndct = {}\\nisinstance(dct, abc.mapping)', 'import abc\\ndct = {}\\nisinstance(dct, abc.Mapping)', 'from collectons import abc\\n\\ndct = {}\\nisinsance(dct, abc.Mapping)', 'from collections import abc\\n\\ndct = {}\\nisinsance(dct, abc.Mapping)', 'from collections import abc\\n\\ndct = {}\\nisinstance(dct, abc.Mapping)', '# hash\\n\\ntt = (1, 2, (3, 4))\\nhash(tt)', 'tl = (1, 2, [3, 4])\\nhash(tl)', 'tf = (1, 2, frozenset([3, 4]))\\nhash(tf)', \"# 创建 dict 的几种方式\\n\\na = {'one': 1, 'two': 2, 'three': 3}\\nb = dict(one=1, two=2, three=3)\\nc = dict(zip(['one', 'two', 'three'], [1,2,3]))\\nd = dict([('one', 1), ('two', 2), ('three', 3)])\\ne = dict({'three': 3, 'one': 1, 'two': 2})\\n\\na == b == c == d == e\", \"# dict comprehension\\n\\ndata = [('one', 1), ('two', 2), ('three', 3)]\\ndct = {s: num for s, num in data}\\ndct\", \"s = [('yellow', 1), ('blue', 2), ('yellow', 3), ('blue', 4), ('red', 1)]\\n\\ndct = {}\\nfor k,v in s:\\n    dct.setdefault(k, []).append(v)\\n    \\nprint(dct)\", 'from collections import defaultdict\\n\\nddct = defaultdict(list)\\nfor k, v in s:\\n    ddct[k].append(v)\\n    \\nprint(ddct)', \"ddct['blue']\", \"dct['blue']\", \"seasons = ['Spring', 'Summer', 'Fall', 'Winter']\\n\\nl = enumerate(seasons)\\nl\", \"seasons = ['Spring', 'Summer', 'Fall', 'Winter']\\n\\nl = enumerate(seasons)\\nlist(l)\", 'l2 = enumerate(seasons, 1)\\nlist(l)', 'l2 = enumerate(seasons, 1)\\nlist(l2)', 'l2 = enumerate(seasons, 100)\\nlist(l2)', 'import builtins\\nfrom collections import ChainMap\\npylookup = ChainMap(locals(), globals(), vars(builtins))\\npylookup'], '__doc__': 'Automatically created module for IPython interactive environment', 'v': 1, 'b': {'three': 3, 'one': 1, 'two': 2}, 'Out': {8: True, 9: -2725224101759650258, 11: -4138728974339688815, 12: True, 13: {'three': 3, 'one': 1, 'two': 2}, 16: [2, 4], 17: [2, 4], 18: <enumerate object at 0x7f6124265cf0>, 19: [(0, 'Spring'), (1, 'Summer'), (2, 'Fall'), (3, 'Winter')], 20: [], 21: [(1, 'Spring'), (2, 'Summer'), (3, 'Fall'), (4, 'Winter')], 22: [(100, 'Spring'), (101, 'Summer'), (102, 'Fall'), (103, 'Winter')]}, '__name__': '__main__', '_dh': ['/home/zx/Documents/daily'], 'data': [('one', 1), ('two', 2), ('three', 3)], '_i7': 'from collections import abc\\n\\ndct = {}\\nisinsance(dct, abc.Mapping)', 'dct': {'yellow': [1, 3], 'blue': [2, 4], 'red': [1]}, '__': [(1, 'Spring'), (2, 'Summer'), (3, 'Fall'), (4, 'Winter')], '_i5': 'import abc\\ndct = {}\\nisinstance(dct, abc.Mapping)', '_i6': 'from collectons import abc\\n\\ndct = {}\\nisinsance(dct, abc.Mapping)', '_oh': {8: True, 9: -2725224101759650258, 11: -4138728974339688815, 12: True, 13: {'three': 3, 'one': 1, 'two': 2}, 16: [2, 4], 17: [2, 4], 18: <enumerate object at 0x7f6124265cf0>, 19: [(0, 'Spring'), (1, 'Summer'), (2, 'Fall'), (3, 'Winter')], 20: [], 21: [(1, 'Spring'), (2, 'Summer'), (3, 'Fall'), (4, 'Winter')], 22: [(100, 'Spring'), (101, 'Summer'), (102, 'Fall'), (103, 'Winter')]}, '_i18': \"seasons = ['Spring', 'Summer', 'Fall', 'Winter']\\n\\nl = enumerate(seasons)\\nl\", '_i10': 'tl = (1, 2, [3, 4])\\nhash(tl)', '__spec__': None, 'pylookup': ..., 'c': {'three': 3, 'one': 1, 'two': 2}, '_i15': 'from collections import defaultdict\\n\\nddct = defaultdict(list)\\nfor k, v in s:\\n    ddct[k].append(v)\\n    \\nprint(ddct)', 'defaultdict': <class 'collections.defaultdict'>, '_11': -4138728974339688815, '_i17': \"dct['blue']\", '__builtins__': <module 'builtins' (built-in)>, '_ih': ['', 'dct - {}\\nisinstance(dct, abc,mapping)', 'dct = {}\\nisinstance(dct, abc,mapping)', 'dct = {}\\nisinstance(dct, abc.mapping)', 'import abc\\ndct = {}\\nisinstance(dct, abc.mapping)', 'import abc\\ndct = {}\\nisinstance(dct, abc.Mapping)', 'from collectons import abc\\n\\ndct = {}\\nisinsance(dct, abc.Mapping)', 'from collections import abc\\n\\ndct = {}\\nisinsance(dct, abc.Mapping)', 'from collections import abc\\n\\ndct = {}\\nisinstance(dct, abc.Mapping)', '# hash\\n\\ntt = (1, 2, (3, 4))\\nhash(tt)', 'tl = (1, 2, [3, 4])\\nhash(tl)', 'tf = (1, 2, frozenset([3, 4]))\\nhash(tf)', \"# 创建 dict 的几种方式\\n\\na = {'one': 1, 'two': 2, 'three': 3}\\nb = dict(one=1, two=2, three=3)\\nc = dict(zip(['one', 'two', 'three'], [1,2,3]))\\nd = dict([('one', 1), ('two', 2), ('three', 3)])\\ne = dict({'three': 3, 'one': 1, 'two': 2})\\n\\na == b == c == d == e\", \"# dict comprehension\\n\\ndata = [('one', 1), ('two', 2), ('three', 3)]\\ndct = {s: num for s, num in data}\\ndct\", \"s = [('yellow', 1), ('blue', 2), ('yellow', 3), ('blue', 4), ('red', 1)]\\n\\ndct = {}\\nfor k,v in s:\\n    dct.setdefault(k, []).append(v)\\n    \\nprint(dct)\", 'from collections import defaultdict\\n\\nddct = defaultdict(list)\\nfor k, v in s:\\n    ddct[k].append(v)\\n    \\nprint(ddct)', \"ddct['blue']\", \"dct['blue']\", \"seasons = ['Spring', 'Summer', 'Fall', 'Winter']\\n\\nl = enumerate(seasons)\\nl\", \"seasons = ['Spring', 'Summer', 'Fall', 'Winter']\\n\\nl = enumerate(seasons)\\nlist(l)\", 'l2 = enumerate(seasons, 1)\\nlist(l)', 'l2 = enumerate(seasons, 1)\\nlist(l2)', 'l2 = enumerate(seasons, 100)\\nlist(l2)', 'import builtins\\nfrom collections import ChainMap\\npylookup = ChainMap(locals(), globals(), vars(builtins))\\npylookup'], '_i19': \"seasons = ['Spring', 'Summer', 'Fall', 'Winter']\\n\\nl = enumerate(seasons)\\nlist(l)\", 'e': {'three': 3, 'one': 1, 'two': 2}, '__builtin__': <module 'builtins' (built-in)>, '_12': True, '_8': True, 'get_ipython': <bound method InteractiveShell.get_ipython of <ipykernel.zmqshell.ZMQInteractiveShell object at 0x7f6125b4c1d0>>, '_21': [(1, 'Spring'), (2, 'Summer'), (3, 'Fall'), (4, 'Winter')], '_i1': 'dct - {}\\nisinstance(dct, abc,mapping)', 's': [('yellow', 1), ('blue', 2), ('yellow', 3), ('blue', 4), ('red', 1)], 'abc': <module 'collections.abc' from '/usr/lib/python3.5/collections/abc.py'>, 'k': 'red', 'd': {'three': 3, 'one': 1, 'two': 2}, 'seasons': ['Spring', 'Summer', 'Fall', 'Winter'], '_9': -2725224101759650258, '_i12': \"# 创建 dict 的几种方式\\n\\na = {'one': 1, 'two': 2, 'three': 3}\\nb = dict(one=1, two=2, three=3)\\nc = dict(zip(['one', 'two', 'three'], [1,2,3]))\\nd = dict([('one', 1), ('two', 2), ('three', 3)])\\ne = dict({'three': 3, 'one': 1, 'two': 2})\\n\\na == b == c == d == e\", '__loader__': None, 'ddct': defaultdict(<class 'list'>, {'yellow': [1, 3], 'blue': [2, 4], 'red': [1]}), '_i14': \"s = [('yellow', 1), ('blue', 2), ('yellow', 3), ('blue', 4), ('red', 1)]\\n\\ndct = {}\\nfor k,v in s:\\n    dct.setdefault(k, []).append(v)\\n    \\nprint(dct)\", '_': [(100, 'Spring'), (101, 'Summer'), (102, 'Fall'), (103, 'Winter')], 'l': <enumerate object at 0x7f6124265438>, '_13': {'three': 3, 'one': 1, 'two': 2}, '_i13': \"# dict comprehension\\n\\ndata = [('one', 1), ('two', 2), ('three', 3)]\\ndct = {s: num for s, num in data}\\ndct\", '_ii': 'l2 = enumerate(seasons, 1)\\nlist(l2)', '_i2': 'dct = {}\\nisinstance(dct, abc,mapping)', 'a': {'three': 3, 'one': 1, 'two': 2}, '_i4': 'import abc\\ndct = {}\\nisinstance(dct, abc.mapping)', '_i9': '# hash\\n\\ntt = (1, 2, (3, 4))\\nhash(tt)', '_i11': 'tf = (1, 2, frozenset([3, 4]))\\nhash(tf)', '_20': [], '_i22': 'l2 = enumerate(seasons, 100)\\nlist(l2)', '_i3': 'dct = {}\\nisinstance(dct, abc.mapping)', 'tl': (1, 2, [3, 4]), '__package__': None, 'l2': <enumerate object at 0x7f6124265828>, '___': [], '_i21': 'l2 = enumerate(seasons, 1)\\nlist(l2)', 'quit': <IPython.core.autocall.ZMQExitAutocall object at 0x7f6124313898>, 'exit': <IPython.core.autocall.ZMQExitAutocall object at 0x7f6124313898>, 'builtins': <module 'builtins' (built-in)>, 'ChainMap': <class 'collections.ChainMap'>, '_i16': \"ddct['blue']\", '_19': [(0, 'Spring'), (1, 'Summer'), (2, 'Fall'), (3, 'Winter')], '_22': [(100, 'Spring'), (101, 'Summer'), (102, 'Fall'), (103, 'Winter')], '_16': [2, 4], '_17': [2, 4], 'tt': (1, 2, (3, 4)), '_iii': 'l2 = enumerate(seasons, 1)\\nlist(l)', '_i8': 'from collections import abc\\n\\ndct = {}\\nisinstance(dct, abc.Mapping)', 'tf': (1, 2, frozenset({3, 4})), '_18': <enumerate object at 0x7f6124265cf0>, '_i23': 'import builtins\\nfrom collections import ChainMap\\npylookup = ChainMap(locals(), globals(), vars(builtins))\\npylookup'}, {'_i': 'l2 = enumerate(seasons, 100)\\nlist(l2)', '_i20': 'l2 = enumerate(seasons, 1)\\nlist(l)', 'In': ['', 'dct - {}\\nisinstance(dct, abc,mapping)', 'dct = {}\\nisinstance(dct, abc,mapping)', 'dct = {}\\nisinstance(dct, abc.mapping)', 'import abc\\ndct = {}\\nisinstance(dct, abc.mapping)', 'import abc\\ndct = {}\\nisinstance(dct, abc.Mapping)', 'from collectons import abc\\n\\ndct = {}\\nisinsance(dct, abc.Mapping)', 'from collections import abc\\n\\ndct = {}\\nisinsance(dct, abc.Mapping)', 'from collections import abc\\n\\ndct = {}\\nisinstance(dct, abc.Mapping)', '# hash\\n\\ntt = (1, 2, (3, 4))\\nhash(tt)', 'tl = (1, 2, [3, 4])\\nhash(tl)', 'tf = (1, 2, frozenset([3, 4]))\\nhash(tf)', \"# 创建 dict 的几种方式\\n\\na = {'one': 1, 'two': 2, 'three': 3}\\nb = dict(one=1, two=2, three=3)\\nc = dict(zip(['one', 'two', 'three'], [1,2,3]))\\nd = dict([('one', 1), ('two', 2), ('three', 3)])\\ne = dict({'three': 3, 'one': 1, 'two': 2})\\n\\na == b == c == d == e\", \"# dict comprehension\\n\\ndata = [('one', 1), ('two', 2), ('three', 3)]\\ndct = {s: num for s, num in data}\\ndct\", \"s = [('yellow', 1), ('blue', 2), ('yellow', 3), ('blue', 4), ('red', 1)]\\n\\ndct = {}\\nfor k,v in s:\\n    dct.setdefault(k, []).append(v)\\n    \\nprint(dct)\", 'from collections import defaultdict\\n\\nddct = defaultdict(list)\\nfor k, v in s:\\n    ddct[k].append(v)\\n    \\nprint(ddct)', \"ddct['blue']\", \"dct['blue']\", \"seasons = ['Spring', 'Summer', 'Fall', 'Winter']\\n\\nl = enumerate(seasons)\\nl\", \"seasons = ['Spring', 'Summer', 'Fall', 'Winter']\\n\\nl = enumerate(seasons)\\nlist(l)\", 'l2 = enumerate(seasons, 1)\\nlist(l)', 'l2 = enumerate(seasons, 1)\\nlist(l2)', 'l2 = enumerate(seasons, 100)\\nlist(l2)', 'import builtins\\nfrom collections import ChainMap\\npylookup = ChainMap(locals(), globals(), vars(builtins))\\npylookup'], '__doc__': 'Automatically created module for IPython interactive environment', 'v': 1, 'b': {'three': 3, 'one': 1, 'two': 2}, 'Out': {8: True, 9: -2725224101759650258, 11: -4138728974339688815, 12: True, 13: {'three': 3, 'one': 1, 'two': 2}, 16: [2, 4], 17: [2, 4], 18: <enumerate object at 0x7f6124265cf0>, 19: [(0, 'Spring'), (1, 'Summer'), (2, 'Fall'), (3, 'Winter')], 20: [], 21: [(1, 'Spring'), (2, 'Summer'), (3, 'Fall'), (4, 'Winter')], 22: [(100, 'Spring'), (101, 'Summer'), (102, 'Fall'), (103, 'Winter')]}, '__name__': '__main__', '_dh': ['/home/zx/Documents/daily'], 'data': [('one', 1), ('two', 2), ('three', 3)], '_i7': 'from collections import abc\\n\\ndct = {}\\nisinsance(dct, abc.Mapping)', 'dct': {'yellow': [1, 3], 'blue': [2, 4], 'red': [1]}, '__': [(1, 'Spring'), (2, 'Summer'), (3, 'Fall'), (4, 'Winter')], '_i5': 'import abc\\ndct = {}\\nisinstance(dct, abc.Mapping)', '_i6': 'from collectons import abc\\n\\ndct = {}\\nisinsance(dct, abc.Mapping)', '_oh': {8: True, 9: -2725224101759650258, 11: -4138728974339688815, 12: True, 13: {'three': 3, 'one': 1, 'two': 2}, 16: [2, 4], 17: [2, 4], 18: <enumerate object at 0x7f6124265cf0>, 19: [(0, 'Spring'), (1, 'Summer'), (2, 'Fall'), (3, 'Winter')], 20: [], 21: [(1, 'Spring'), (2, 'Summer'), (3, 'Fall'), (4, 'Winter')], 22: [(100, 'Spring'), (101, 'Summer'), (102, 'Fall'), (103, 'Winter')]}, '_i18': \"seasons = ['Spring', 'Summer', 'Fall', 'Winter']\\n\\nl = enumerate(seasons)\\nl\", '_i10': 'tl = (1, 2, [3, 4])\\nhash(tl)', '__spec__': None, 'pylookup': ..., 'c': {'three': 3, 'one': 1, 'two': 2}, '_i15': 'from collections import defaultdict\\n\\nddct = defaultdict(list)\\nfor k, v in s:\\n    ddct[k].append(v)\\n    \\nprint(ddct)', 'defaultdict': <class 'collections.defaultdict'>, '_11': -4138728974339688815, '_i17': \"dct['blue']\", '__builtins__': <module 'builtins' (built-in)>, '_ih': ['', 'dct - {}\\nisinstance(dct, abc,mapping)', 'dct = {}\\nisinstance(dct, abc,mapping)', 'dct = {}\\nisinstance(dct, abc.mapping)', 'import abc\\ndct = {}\\nisinstance(dct, abc.mapping)', 'import abc\\ndct = {}\\nisinstance(dct, abc.Mapping)', 'from collectons import abc\\n\\ndct = {}\\nisinsance(dct, abc.Mapping)', 'from collections import abc\\n\\ndct = {}\\nisinsance(dct, abc.Mapping)', 'from collections import abc\\n\\ndct = {}\\nisinstance(dct, abc.Mapping)', '# hash\\n\\ntt = (1, 2, (3, 4))\\nhash(tt)', 'tl = (1, 2, [3, 4])\\nhash(tl)', 'tf = (1, 2, frozenset([3, 4]))\\nhash(tf)', \"# 创建 dict 的几种方式\\n\\na = {'one': 1, 'two': 2, 'three': 3}\\nb = dict(one=1, two=2, three=3)\\nc = dict(zip(['one', 'two', 'three'], [1,2,3]))\\nd = dict([('one', 1), ('two', 2), ('three', 3)])\\ne = dict({'three': 3, 'one': 1, 'two': 2})\\n\\na == b == c == d == e\", \"# dict comprehension\\n\\ndata = [('one', 1), ('two', 2), ('three', 3)]\\ndct = {s: num for s, num in data}\\ndct\", \"s = [('yellow', 1), ('blue', 2), ('yellow', 3), ('blue', 4), ('red', 1)]\\n\\ndct = {}\\nfor k,v in s:\\n    dct.setdefault(k, []).append(v)\\n    \\nprint(dct)\", 'from collections import defaultdict\\n\\nddct = defaultdict(list)\\nfor k, v in s:\\n    ddct[k].append(v)\\n    \\nprint(ddct)', \"ddct['blue']\", \"dct['blue']\", \"seasons = ['Spring', 'Summer', 'Fall', 'Winter']\\n\\nl = enumerate(seasons)\\nl\", \"seasons = ['Spring', 'Summer', 'Fall', 'Winter']\\n\\nl = enumerate(seasons)\\nlist(l)\", 'l2 = enumerate(seasons, 1)\\nlist(l)', 'l2 = enumerate(seasons, 1)\\nlist(l2)', 'l2 = enumerate(seasons, 100)\\nlist(l2)', 'import builtins\\nfrom collections import ChainMap\\npylookup = ChainMap(locals(), globals(), vars(builtins))\\npylookup'], '_i19': \"seasons = ['Spring', 'Summer', 'Fall', 'Winter']\\n\\nl = enumerate(seasons)\\nlist(l)\", 'e': {'three': 3, 'one': 1, 'two': 2}, '__builtin__': <module 'builtins' (built-in)>, '_12': True, '_8': True, 'get_ipython': <bound method InteractiveShell.get_ipython of <ipykernel.zmqshell.ZMQInteractiveShell object at 0x7f6125b4c1d0>>, '_21': [(1, 'Spring'), (2, 'Summer'), (3, 'Fall'), (4, 'Winter')], '_i1': 'dct - {}\\nisinstance(dct, abc,mapping)', 's': [('yellow', 1), ('blue', 2), ('yellow', 3), ('blue', 4), ('red', 1)], 'abc': <module 'collections.abc' from '/usr/lib/python3.5/collections/abc.py'>, 'k': 'red', 'd': {'three': 3, 'one': 1, 'two': 2}, 'seasons': ['Spring', 'Summer', 'Fall', 'Winter'], '_9': -2725224101759650258, '_i12': \"# 创建 dict 的几种方式\\n\\na = {'one': 1, 'two': 2, 'three': 3}\\nb = dict(one=1, two=2, three=3)\\nc = dict(zip(['one', 'two', 'three'], [1,2,3]))\\nd = dict([('one', 1), ('two', 2), ('three', 3)])\\ne = dict({'three': 3, 'one': 1, 'two': 2})\\n\\na == b == c == d == e\", '__loader__': None, 'ddct': defaultdict(<class 'list'>, {'yellow': [1, 3], 'blue': [2, 4], 'red': [1]}), '_i14': \"s = [('yellow', 1), ('blue', 2), ('yellow', 3), ('blue', 4), ('red', 1)]\\n\\ndct = {}\\nfor k,v in s:\\n    dct.setdefault(k, []).append(v)\\n    \\nprint(dct)\", '_': [(100, 'Spring'), (101, 'Summer'), (102, 'Fall'), (103, 'Winter')], 'l': <enumerate object at 0x7f6124265438>, '_13': {'three': 3, 'one': 1, 'two': 2}, '_i13': \"# dict comprehension\\n\\ndata = [('one', 1), ('two', 2), ('three', 3)]\\ndct = {s: num for s, num in data}\\ndct\", '_ii': 'l2 = enumerate(seasons, 1)\\nlist(l2)', '_i2': 'dct = {}\\nisinstance(dct, abc,mapping)', 'a': {'three': 3, 'one': 1, 'two': 2}, '_i4': 'import abc\\ndct = {}\\nisinstance(dct, abc.mapping)', '_i9': '# hash\\n\\ntt = (1, 2, (3, 4))\\nhash(tt)', '_i11': 'tf = (1, 2, frozenset([3, 4]))\\nhash(tf)', '_20': [], '_i22': 'l2 = enumerate(seasons, 100)\\nlist(l2)', '_i3': 'dct = {}\\nisinstance(dct, abc.mapping)', 'tl': (1, 2, [3, 4]), '__package__': None, 'l2': <enumerate object at 0x7f6124265828>, '___': [], '_i21': 'l2 = enumerate(seasons, 1)\\nlist(l2)', 'quit': <IPython.core.autocall.ZMQExitAutocall object at 0x7f6124313898>, 'exit': <IPython.core.autocall.ZMQExitAutocall object at 0x7f6124313898>, 'builtins': <module 'builtins' (built-in)>, 'ChainMap': <class 'collections.ChainMap'>, '_i16': \"ddct['blue']\", '_19': [(0, 'Spring'), (1, 'Summer'), (2, 'Fall'), (3, 'Winter')], '_22': [(100, 'Spring'), (101, 'Summer'), (102, 'Fall'), (103, 'Winter')], '_16': [2, 4], '_17': [2, 4], 'tt': (1, 2, (3, 4)), '_iii': 'l2 = enumerate(seasons, 1)\\nlist(l)', '_i8': 'from collections import abc\\n\\ndct = {}\\nisinstance(dct, abc.Mapping)', 'tf': (1, 2, frozenset({3, 4})), '_18': <enumerate object at 0x7f6124265cf0>, '_i23': 'import builtins\\nfrom collections import ChainMap\\npylookup = ChainMap(locals(), globals(), vars(builtins))\\npylookup'}, {'bool': <class 'bool'>, 'ResourceWarning': <class 'ResourceWarning'>, 'int': <class 'int'>, 'ProcessLookupError': <class 'ProcessLookupError'>, 'reversed': <class 'reversed'>, 'globals': <built-in function globals>, '__debug__': True, '__name__': 'builtins', 'RuntimeError': <class 'RuntimeError'>, 'Warning': <class 'Warning'>, 'BaseException': <class 'BaseException'>, 'ConnectionError': <class 'ConnectionError'>, 'isinstance': <built-in function isinstance>, 'StopAsyncIteration': <class 'StopAsyncIteration'>, 'repr': <built-in function repr>, 'hex': <built-in function hex>, 'filter': <class 'filter'>, '__doc__': \"Built-in functions, exceptions, and other objects.\\n\\nNoteworthy: None is the `nil' object; Ellipsis represents `...' in slices.\", 'BrokenPipeError': <class 'BrokenPipeError'>, 'SystemExit': <class 'SystemExit'>, 'issubclass': <built-in function issubclass>, 'UserWarning': <class 'UserWarning'>, 'UnboundLocalError': <class 'UnboundLocalError'>, 'SyntaxWarning': <class 'SyntaxWarning'>, 'staticmethod': <class 'staticmethod'>, 'bytes': <class 'bytes'>, 'UnicodeTranslateError': <class 'UnicodeTranslateError'>, 'dir': <built-in function dir>, 'max': <built-in function max>, 'ConnectionRefusedError': <class 'ConnectionRefusedError'>, 'ConnectionResetError': <class 'ConnectionResetError'>, 'ArithmeticError': <class 'ArithmeticError'>, 'frozenset': <class 'frozenset'>, 'get_ipython': <bound method InteractiveShell.get_ipython of <ipykernel.zmqshell.ZMQInteractiveShell object at 0x7f6125b4c1d0>>, 'ascii': <built-in function ascii>, 'Ellipsis': Ellipsis, 'round': <built-in function round>, 'sorted': <built-in function sorted>, 'len': <built-in function len>, 'IsADirectoryError': <class 'IsADirectoryError'>, '__loader__': <class '_frozen_importlib.BuiltinImporter'>, 'map': <class 'map'>, 'min': <built-in function min>, 'StopIteration': <class 'StopIteration'>, 'slice': <class 'slice'>, 'UnicodeError': <class 'UnicodeError'>, 'OSError': <class 'OSError'>, 'AssertionError': <class 'AssertionError'>, 'UnicodeDecodeError': <class 'UnicodeDecodeError'>, 'IndexError': <class 'IndexError'>, 'type': <class 'type'>, 'DeprecationWarning': <class 'DeprecationWarning'>, 'True': True, 'ConnectionAbortedError': <class 'ConnectionAbortedError'>, 'BufferError': <class 'BufferError'>, 'vars': <built-in function vars>, 'RuntimeWarning': <class 'RuntimeWarning'>, 'KeyboardInterrupt': <class 'KeyboardInterrupt'>, 'credits':     Thanks to CWI, CNRI, BeOpen.com, Zope Corporation and a cast of thousands\n",
       "    for supporting Python development.  See www.python.org for more information., 'BytesWarning': <class 'BytesWarning'>, 'delattr': <built-in function delattr>, 'getattr': <built-in function getattr>, 'license': Type license() to see the full license text, 'enumerate': <class 'enumerate'>, 'MemoryError': <class 'MemoryError'>, 'ChildProcessError': <class 'ChildProcessError'>, 'tuple': <class 'tuple'>, 'TypeError': <class 'TypeError'>, 'eval': <built-in function eval>, 'sum': <built-in function sum>, 'compile': <built-in function compile>, '__import__': <built-in function __import__>, '__build_class__': <built-in function __build_class__>, 'classmethod': <class 'classmethod'>, 'any': <built-in function any>, 'range': <class 'range'>, 'next': <built-in function next>, 'FloatingPointError': <class 'FloatingPointError'>, 'SyntaxError': <class 'SyntaxError'>, 'TimeoutError': <class 'TimeoutError'>, 'help': Type help() for interactive help, or help(object) for help about object., 'property': <class 'property'>, 'UnicodeWarning': <class 'UnicodeWarning'>, 'locals': <built-in function locals>, 'ord': <built-in function ord>, 'PendingDeprecationWarning': <class 'PendingDeprecationWarning'>, 'memoryview': <class 'memoryview'>, 'ZeroDivisionError': <class 'ZeroDivisionError'>, 'list': <class 'list'>, 'hash': <built-in function hash>, 'pow': <built-in function pow>, '__spec__': ModuleSpec(name='builtins', loader=<class '_frozen_importlib.BuiltinImporter'>), 'False': False, 'bin': <built-in function bin>, 'input': <bound method Kernel.raw_input of <ipykernel.ipkernel.IPythonKernel object at 0x7f6125b4c080>>, 'BlockingIOError': <class 'BlockingIOError'>, 'InterruptedError': <class 'InterruptedError'>, 'NameError': <class 'NameError'>, 'complex': <class 'complex'>, 'PermissionError': <class 'PermissionError'>, 'exec': <built-in function exec>, 'IndentationError': <class 'IndentationError'>, 'ValueError': <class 'ValueError'>, 'format': <built-in function format>, 'copyright': Copyright (c) 2001-2016 Python Software Foundation.\n",
       "All Rights Reserved.\n",
       "\n",
       "Copyright (c) 2000 BeOpen.com.\n",
       "All Rights Reserved.\n",
       "\n",
       "Copyright (c) 1995-2001 Corporation for National Research Initiatives.\n",
       "All Rights Reserved.\n",
       "\n",
       "Copyright (c) 1991-1995 Stichting Mathematisch Centrum, Amsterdam.\n",
       "All Rights Reserved., 'AttributeError': <class 'AttributeError'>, 'TabError': <class 'TabError'>, 'all': <built-in function all>, 'id': <built-in function id>, 'ReferenceError': <class 'ReferenceError'>, 'Exception': <class 'Exception'>, 'abs': <built-in function abs>, 'FutureWarning': <class 'FutureWarning'>, 'ImportError': <class 'ImportError'>, 'EnvironmentError': <class 'OSError'>, 'FileExistsError': <class 'FileExistsError'>, 'GeneratorExit': <class 'GeneratorExit'>, 'callable': <built-in function callable>, 'UnicodeEncodeError': <class 'UnicodeEncodeError'>, 'set': <class 'set'>, 'SystemError': <class 'SystemError'>, 'NotImplemented': NotImplemented, 'None': None, 'RecursionError': <class 'RecursionError'>, 'print': <built-in function print>, 'divmod': <built-in function divmod>, 'dict': <class 'dict'>, '__package__': '', 'bytearray': <class 'bytearray'>, 'IOError': <class 'OSError'>, 'zip': <class 'zip'>, 'hasattr': <built-in function hasattr>, 'str': <class 'str'>, 'super': <class 'super'>, 'iter': <built-in function iter>, 'EOFError': <class 'EOFError'>, '__IPYTHON__': True, 'FileNotFoundError': <class 'FileNotFoundError'>, 'open': <built-in function open>, 'float': <class 'float'>, 'setattr': <built-in function setattr>, 'display': <function display at 0x7f612b2fb8c8>, 'NotImplementedError': <class 'NotImplementedError'>, 'oct': <built-in function oct>, 'ImportWarning': <class 'ImportWarning'>, 'OverflowError': <class 'OverflowError'>, 'KeyError': <class 'KeyError'>, 'NotADirectoryError': <class 'NotADirectoryError'>, 'object': <class 'object'>, 'LookupError': <class 'LookupError'>, 'chr': <built-in function chr>})"
      ]
     },
     "execution_count": 23,
     "metadata": {},
     "output_type": "execute_result"
    }
   ],
   "source": [
    "import builtins\n",
    "from collections import ChainMap\n",
    "pylookup = ChainMap(locals(), globals(), vars(builtins))\n",
    "pylookup"
   ]
  },
  {
   "cell_type": "code",
   "execution_count": 25,
   "metadata": {},
   "outputs": [
    {
     "data": {
      "text/plain": [
       "ChainMap({'a': 1, 'b': 2}, {'c': 3, 'd': 4})"
      ]
     },
     "execution_count": 25,
     "metadata": {},
     "output_type": "execute_result"
    }
   ],
   "source": [
    "dct1 = {'a': 1, 'b': 2}\n",
    "dct2 = {'c': 3, 'd': 4}\n",
    "\n",
    "dcm = ChainMap(dct1, dct2)\n",
    "dcm"
   ]
  },
  {
   "cell_type": "code",
   "execution_count": 26,
   "metadata": {},
   "outputs": [
    {
     "data": {
      "text/plain": [
       "1"
      ]
     },
     "execution_count": 26,
     "metadata": {},
     "output_type": "execute_result"
    }
   ],
   "source": [
    "dcm['a']"
   ]
  },
  {
   "cell_type": "code",
   "execution_count": 27,
   "metadata": {},
   "outputs": [
    {
     "data": {
      "text/plain": [
       "4"
      ]
     },
     "execution_count": 27,
     "metadata": {},
     "output_type": "execute_result"
    }
   ],
   "source": [
    "dcm['d']"
   ]
  },
  {
   "cell_type": "code",
   "execution_count": 29,
   "metadata": {},
   "outputs": [
    {
     "name": "stdout",
     "output_type": "stream",
     "text": [
      "a: 1\n",
      "c: 3\n",
      "d: 4\n",
      "b: 2\n"
     ]
    }
   ],
   "source": [
    "for k,v in dcm.items():\n",
    "    print('{0}: {1}'.format(k, v))\n",
    "    "
   ]
  },
  {
   "cell_type": "code",
   "execution_count": null,
   "metadata": {
    "collapsed": true
   },
   "outputs": [],
   "source": []
  }
 ],
 "metadata": {
  "kernelspec": {
   "display_name": "Python 3",
   "language": "python",
   "name": "python3"
  },
  "language_info": {
   "codemirror_mode": {
    "name": "ipython",
    "version": 3
   },
   "file_extension": ".py",
   "mimetype": "text/x-python",
   "name": "python",
   "nbconvert_exporter": "python",
   "pygments_lexer": "ipython3",
   "version": "3.5.2"
  }
 },
 "nbformat": 4,
 "nbformat_minor": 2
}
