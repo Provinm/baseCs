{
 "cells": [
  {
   "cell_type": "markdown",
   "metadata": {},
   "source": [
    "## Concurrency with asyncio\n"
   ]
  },
  {
   "cell_type": "markdown",
   "metadata": {},
   "source": [
    "### Thread versus coroutine: a comparison\n"
   ]
  },
  {
   "cell_type": "code",
   "execution_count": 5,
   "metadata": {},
   "outputs": [
    {
     "name": "stdout",
     "output_type": "stream",
     "text": [
      "spinner object:  <Thread(Thread-6, initial)>\n",
      "thinkingthinkingthinkingthinkingthinkingthinkingthinkingthinkingthinkingthinkingthinkingthinkingthinkingthinkingthinkingthinkingthinkingthinkingthinkingthinkingthinkingthinkingthinkingthinkingthinkingthinkingthinkingthinkingthinkingthinkingthinkingthinkingthinkingthinkingthinkingthinkingthinkingthinkingthinkingthinkingthinkingthinkingthinkingthinkingthinkingthinkingthinkingthinkingthinkingthinking           Answer:  42\n"
     ]
    }
   ],
   "source": [
    "# example thread\n",
    "\n",
    "import threading\n",
    "import itertools\n",
    "import sys\n",
    "import time\n",
    "\n",
    "class Signal:\n",
    "    go = True\n",
    "    \n",
    "def spin(msg, signal):\n",
    "    write, flush = sys.stdout.write, sys.stdout.flush\n",
    "    for char in itertools.cycle('|/-\\\\'):\n",
    "        status = char + ' ' + msg\n",
    "        write(msg)\n",
    "        flush()\n",
    "        write('\\x08'*len(status))\n",
    "        time.sleep(.1)\n",
    "        if not signal.go:\n",
    "            break\n",
    "    write(' '*len(status) + '\\x08' * len(status))\n",
    "    \n",
    "def slow_function():\n",
    "    time.sleep(5)\n",
    "    return 42\n",
    "\n",
    "def supervisor():\n",
    "    signal = Signal()\n",
    "    spinner = threading.Thread(target=spin, args=('thinking!', signal))\n",
    "    print('spinner object: ', spinner)\n",
    "    spinner.start()\n",
    "    result = slow_function()\n",
    "    signal.go = False\n",
    "    spinner.join()\n",
    "    return result\n",
    "\n",
    "def main():\n",
    "    result = supervisor()\n",
    "    print(' Answer: ',result)\n",
    "\n",
    "main()\n",
    "\n"
   ]
  },
  {
   "cell_type": "code",
   "execution_count": 8,
   "metadata": {},
   "outputs": [
    {
     "name": "stdout",
     "output_type": "stream",
     "text": [
      "spinner object: <Task pending coro=<spin() running at <ipython-input-8-2fe6b17db71c>:8>>\n",
      "| thinking/ thinking- thinking\\ thinking| thinking/ thinking- thinking\\ thinking| thinking/ thinking- thinking\\ thinking| thinking/ thinking- thinking\\ thinking| thinking/ thinking- thinking\\ thinking| thinking/ thinking- thinking\\ thinking| thinking/ thinking- thinking\\ thinking| thinking/ thinking          Answer:  42\n"
     ]
    }
   ],
   "source": [
    "# example \n",
    "# asyncio\n",
    "\n",
    "import asyncio\n",
    "import itertools\n",
    "import sys\n",
    "\n",
    "@asyncio.coroutine\n",
    "def spin(msg):\n",
    "    write,flush = sys.stdout.write, sys.stdout.flush\n",
    "    for char in itertools.cycle('|/-\\\\'):\n",
    "        status = char + ' ' + msg\n",
    "        write(status)\n",
    "        flush()\n",
    "        write('\\x08' * len(status))\n",
    "        try:\n",
    "            yield from asyncio.sleep(.1)\n",
    "        except asyncio.CancelledError:\n",
    "            break\n",
    "    write(' '*len(status)+'\\x08'*len(status))\n",
    "    \n",
    "\n",
    "@asyncio.coroutine\n",
    "def slow_function():\n",
    "    yield from asyncio.sleep(3)\n",
    "    return 42\n",
    "\n",
    "@asyncio.coroutine\n",
    "def supervisor():\n",
    "    spinner = asyncio.async(spin('thinking!'))\n",
    "    print('spinner object:', spinner)\n",
    "    result = yield from slow_function()\n",
    "    spinner.cancel()\n",
    "    return result\n",
    "\n",
    "def main():\n",
    "    loop = asyncio.get_event_loop()\n",
    "    result = loop.run_until_complete(supervisor())\n",
    "    loop.close()\n",
    "    print('Answer: ', result)\n",
    "    \n",
    "main()\n"
   ]
  },
  {
   "cell_type": "markdown",
   "metadata": {},
   "source": [
    "### asyncio.Future: non-blocking by design\n"
   ]
  },
  {
   "cell_type": "code",
   "execution_count": null,
   "metadata": {
    "collapsed": true
   },
   "outputs": [],
   "source": [
    "# example 煎蛋\n",
    "import requests\n",
    "import aiohttp\n",
    "import asyncio\n",
    "\n",
    "\n",
    "PATH = 'pics/'\n",
    "def download_pic(url):\n",
    "    resp = yield from aiohttp.requests('GET', url)\n",
    "    img = yield from resp.read()\n",
    "    return img\n",
    "\n",
    "def save(url, content):\n",
    "    name = url.split('/')[-1]\n",
    "    with open(PATH + name, 'wb')as f:\n",
    "        f.write(content)\n",
    "\n",
    "        \n",
    "def download_one(url):\n",
    "    img = yield from download_pic(url)\n",
    "    save(url, img)\n",
    "    return url\n",
    "\n",
    "def get_pic_urls(url):\n",
    "    \n",
    "    req = requests.get(url)\n",
    "    soup = bs4.BeautifulSoup(req.text, 'lxml')\n",
    "    soup_pic_urls = soup.find_all('a', class_='view_img_link')\n",
    "    return [i['href'] for i in soup_pic_urls]\n",
    "\n",
    "\n",
    "def download_lst():\n",
    "    url = 'http://jandan.net/ooxx/page-231#comments'\n",
    "    return get_pic_urls(url)\n",
    "\n",
    "\n",
    "def download_many():\n",
    "    lst = download_lst()\n",
    "    loop = asyncio.get_event_loop()\n",
    "    to_do = [download_one(u) for u in lst]\n",
    "    wait_coro = asyncio.wait(to_do)\n",
    "    res, _ = loop.run_utill_complete(wait_coro)\n",
    "    loop.close()\n",
    "    \n",
    "    return len(res)\n",
    "\n",
    "        \n",
    "def main():\n",
    "    start = datetime.datetime.now()\n",
    "    download_many()\n",
    "    end = datetime.datetime.now()\n",
    "    print((end-start).seconds)"
   ]
  }
 ],
 "metadata": {
  "kernelspec": {
   "display_name": "Python 3",
   "language": "python",
   "name": "python3"
  },
  "language_info": {
   "codemirror_mode": {
    "name": "ipython",
    "version": 3
   },
   "file_extension": ".py",
   "mimetype": "text/x-python",
   "name": "python",
   "nbconvert_exporter": "python",
   "pygments_lexer": "ipython3",
   "version": "3.5.2"
  }
 },
 "nbformat": 4,
 "nbformat_minor": 2
}
