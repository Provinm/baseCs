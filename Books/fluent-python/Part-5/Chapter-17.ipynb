{
 "cells": [
  {
   "cell_type": "markdown",
   "metadata": {},
   "source": [
    "## Concurrency with futures\n"
   ]
  },
  {
   "cell_type": "code",
   "execution_count": 11,
   "metadata": {},
   "outputs": [
    {
     "name": "stdout",
     "output_type": "stream",
     "text": [
      "27\n"
     ]
    }
   ],
   "source": [
    "# example 1\n",
    "# 普通下载\n",
    "# 并发\n",
    "# 异步\n",
    "# 多线程等\n",
    "\n",
    "import os\n",
    "import time\n",
    "import datetime\n",
    "import requests\n",
    "import sys\n",
    "import bs4\n",
    "\n",
    "# 下载煎蛋妹子图为例\n",
    "# 普通实例\n",
    "\n",
    "PATH = 'pics/'\n",
    "def download_pic(url):\n",
    "    name = url.split('/')[-1]\n",
    "    with open(PATH+name, 'wb')as f:\n",
    "        f.write(requests.get('https:'+url).content)\n",
    "        \n",
    "    return name\n",
    "        \n",
    "def get_pic_urls(url):\n",
    "    \n",
    "    req = requests.get(url)\n",
    "    soup = bs4.BeautifulSoup(req.text, 'lxml')\n",
    "    soup_pic_urls = soup.find_all('a', class_='view_img_link')\n",
    "    return [i['href'] for i in soup_pic_urls]\n",
    "\n",
    "def down():\n",
    "    url = 'http://jandan.net/ooxx/page-231#comments'\n",
    "    for u in get_pic_urls(url):\n",
    "        download_pic(u)\n",
    "        \n",
    "def main():\n",
    "    start = datetime.datetime.now()\n",
    "    down()\n",
    "    end = datetime.datetime.now()\n",
    "    print((end-start).seconds)\n",
    "    \n",
    "main()"
   ]
  },
  {
   "cell_type": "code",
   "execution_count": 5,
   "metadata": {
    "collapsed": true
   },
   "outputs": [],
   "source": [
    "# 在 100m 光纤的速度下，运行 main 函数花了 12 秒"
   ]
  },
  {
   "cell_type": "code",
   "execution_count": 9,
   "metadata": {},
   "outputs": [
    {
     "name": "stdout",
     "output_type": "stream",
     "text": [
      "10\n"
     ]
    }
   ],
   "source": [
    "# 并发代码\n",
    "\n",
    "from concurrent import futures\n",
    "\n",
    "MAX_WORKS = 20\n",
    "\n",
    "def downoad_concurrent(cc_lst):\n",
    "    workers = min(MAX_WORKS, len(cc_lst))\n",
    "    with futures.ThreadPoolExecutor(workers) as exe:\n",
    "        exe.map(download_pic, cc_lst)\n",
    "        \n",
    "\n",
    "def main_cc():\n",
    "    url = 'http://jandan.net/ooxx/page-231#comments'\n",
    "    start = datetime.datetime.now()\n",
    "    downoad_concurrent(get_pic_urls(url))\n",
    "    end = datetime.datetime.now()\n",
    "    print((end-start).seconds)\n",
    "    \n",
    "main_cc()"
   ]
  },
  {
   "cell_type": "code",
   "execution_count": 10,
   "metadata": {
    "collapsed": true
   },
   "outputs": [],
   "source": [
    "# 只下载一页数据貌似不能体现并发的强大\n",
    "# 毕竟 100m 光纤"
   ]
  },
  {
   "cell_type": "code",
   "execution_count": 18,
   "metadata": {},
   "outputs": [
    {
     "name": "stdout",
     "output_type": "stream",
     "text": [
      "scheduled for //wx3.sinaimg.cn/large/6a4e1623gy1fkvqsjph0lj21ka2cfaw4.jpg: <Future at 0x7f7697af1898 state=running>\n",
      "scheduled for //wx2.sinaimg.cn/large/6a4e1623gy1fkvqrv4tiij21kw1kwx2u.jpg: <Future at 0x7f7697af2358 state=running>\n",
      "scheduled for //wx3.sinaimg.cn/large/6a4e1623gy1fkvqrqkdoqj21kw2dc4fc.jpg: <Future at 0x7f7697c3ba90 state=running>\n",
      "scheduled for //wx2.sinaimg.cn/large/6a4e1623gy1fkvqrn7j02j2104104jx9.jpg: <Future at 0x7f7697c3ba20 state=running>\n",
      "scheduled for //wx3.sinaimg.cn/large/6a4e1623gy1fkvqrkzp10j20jg0t6dkt.jpg: <Future at 0x7f7697c39c50 state=running>\n",
      "scheduled for //wx2.sinaimg.cn/large/6a4e1623gy1fkvqqzdc2jj20jg0t6170.jpg: <Future at 0x7f7697c2de48 state=running>\n",
      "scheduled for //wx3.sinaimg.cn/large/6a4e1623gy1fkvqqwhrbkj21kw2dcar0.jpg: <Future at 0x7f7697c2dc18 state=running>\n",
      "scheduled for //wx2.sinaimg.cn/large/6a4e1623gy1fkvqqrnqkdj21hc1hc7jl.jpg: <Future at 0x7f7697c2d5f8 state=running>\n",
      "scheduled for //wx1.sinaimg.cn/large/6a4e1623gy1fkvqqn47lej20jg0t5djy.jpg: <Future at 0x7f7697c2a748 state=running>\n",
      "scheduled for //wx4.sinaimg.cn/large/6a4e1623gy1fkvqqmfbkbj20jg0t6wi6.jpg: <Future at 0x7f7697c24da0 state=running>\n",
      "scheduled for //wx3.sinaimg.cn/large/6a4e1623gy1fkvqmrz7p7j21kw2dcb29.jpg: <Future at 0x7f7697c21828 state=running>\n",
      "scheduled for //wx2.sinaimg.cn/large/6a4e1623gy1fkvqml2whhj20jg0t5whc.jpg: <Future at 0x7f7697c24c18 state=running>\n",
      "scheduled for //wx2.sinaimg.cn/large/6a4e1623gy1fkvqmkcx88j20qo0zkjvr.jpg: <Future at 0x7f7697c21be0 state=running>\n",
      "scheduled for //wx3.sinaimg.cn/large/6a4e1623gy1fkvqmjcvotj20sg0sgwik.jpg: <Future at 0x7f7697c1e630 state=running>\n",
      "scheduled for //wx2.sinaimg.cn/large/6a4e1623gy1fkvqmi0rozj21kw1kwhdt.jpg: <Future at 0x7f7697c16518 state=running>\n",
      "scheduled for //wx1.sinaimg.cn/large/6a4e1623gy1fkvqma9mmjg20dw07tkjl.gif: <Future at 0x7f7697c137f0 state=running>\n",
      "scheduled for //wx2.sinaimg.cn/large/6a4e1623gy1fkvqm26danj20de0ku75d.jpg: <Future at 0x7f7697c097f0 state=running>\n",
      "scheduled for //wx3.sinaimg.cn/large/6a4e1623gy1fkvqm1jpdhj20np0y90wj.jpg: <Future at 0x7f7697c04b00 state=running>\n",
      "scheduled for //wx1.sinaimg.cn/large/6a4e1623gy1fkvqltkyvjj20eu0m8jy5.jpg: <Future at 0x7f7697a8a198 state=running>\n",
      "scheduled for //wx3.sinaimg.cn/large/6a4e1623gy1fkvqlsc4b2g20dw07tx6p.gif: <Future at 0x7f7697a8ad30 state=running>\n",
      "scheduled for //wx2.sinaimg.cn/large/6a4e1623gy1fkvqliparzj20u019079s.jpg: <Future at 0x7f7697a8acf8 state=running>\n",
      "scheduled for //wx3.sinaimg.cn/large/6a4e1623gy1fkvql8zcobj21kw2dc4qp.jpg: <Future at 0x7f7697a8eef0 state=running>\n",
      "scheduled for //wx2.sinaimg.cn/large/6a4e1623gy1fkvql2teesj20kg0oodh1.jpg: <Future at 0x7f7697a94d68 state=running>\n",
      "scheduled for //wx4.sinaimg.cn/large/6a4e1623gy1fkvql2358kj21901o07wi.jpg: <Future at 0x7f7697a94f98 state=running>\n",
      "scheduled for //wx2.sinaimg.cn/large/6a4e1623gy1fkvqkp6k20j21kw1kw7wh.jpg: <Future at 0x7f7697a9fa58 state=running>\n",
      "<Future at 0x7f7697a9fa58 state=finished returned str> result: '6a4e1623gy1fkvqkp6k20j21kw1kw7wh.jpg'\n",
      "<Future at 0x7f7697a9fa58 state=finished returned str> result: '6a4e1623gy1fkvqkp6k20j21kw1kw7wh.jpg'\n",
      "<Future at 0x7f7697a9fa58 state=finished returned str> result: '6a4e1623gy1fkvqkp6k20j21kw1kw7wh.jpg'\n",
      "<Future at 0x7f7697a9fa58 state=finished returned str> result: '6a4e1623gy1fkvqkp6k20j21kw1kw7wh.jpg'\n",
      "<Future at 0x7f7697a9fa58 state=finished returned str> result: '6a4e1623gy1fkvqkp6k20j21kw1kw7wh.jpg'\n",
      "<Future at 0x7f7697a9fa58 state=finished returned str> result: '6a4e1623gy1fkvqkp6k20j21kw1kw7wh.jpg'\n",
      "<Future at 0x7f7697a9fa58 state=finished returned str> result: '6a4e1623gy1fkvqkp6k20j21kw1kw7wh.jpg'\n",
      "<Future at 0x7f7697a9fa58 state=finished returned str> result: '6a4e1623gy1fkvqkp6k20j21kw1kw7wh.jpg'\n",
      "<Future at 0x7f7697a9fa58 state=finished returned str> result: '6a4e1623gy1fkvqkp6k20j21kw1kw7wh.jpg'\n",
      "<Future at 0x7f7697a9fa58 state=finished returned str> result: '6a4e1623gy1fkvqkp6k20j21kw1kw7wh.jpg'\n",
      "<Future at 0x7f7697a9fa58 state=finished returned str> result: '6a4e1623gy1fkvqkp6k20j21kw1kw7wh.jpg'\n",
      "<Future at 0x7f7697a9fa58 state=finished returned str> result: '6a4e1623gy1fkvqkp6k20j21kw1kw7wh.jpg'\n",
      "<Future at 0x7f7697a9fa58 state=finished returned str> result: '6a4e1623gy1fkvqkp6k20j21kw1kw7wh.jpg'\n",
      "<Future at 0x7f7697a9fa58 state=finished returned str> result: '6a4e1623gy1fkvqkp6k20j21kw1kw7wh.jpg'\n",
      "<Future at 0x7f7697a9fa58 state=finished returned str> result: '6a4e1623gy1fkvqkp6k20j21kw1kw7wh.jpg'\n",
      "<Future at 0x7f7697a9fa58 state=finished returned str> result: '6a4e1623gy1fkvqkp6k20j21kw1kw7wh.jpg'\n",
      "<Future at 0x7f7697a9fa58 state=finished returned str> result: '6a4e1623gy1fkvqkp6k20j21kw1kw7wh.jpg'\n",
      "<Future at 0x7f7697a9fa58 state=finished returned str> result: '6a4e1623gy1fkvqkp6k20j21kw1kw7wh.jpg'\n",
      "<Future at 0x7f7697a9fa58 state=finished returned str> result: '6a4e1623gy1fkvqkp6k20j21kw1kw7wh.jpg'\n",
      "<Future at 0x7f7697a9fa58 state=finished returned str> result: '6a4e1623gy1fkvqkp6k20j21kw1kw7wh.jpg'\n",
      "<Future at 0x7f7697a9fa58 state=finished returned str> result: '6a4e1623gy1fkvqkp6k20j21kw1kw7wh.jpg'\n",
      "<Future at 0x7f7697a9fa58 state=finished returned str> result: '6a4e1623gy1fkvqkp6k20j21kw1kw7wh.jpg'\n",
      "<Future at 0x7f7697a9fa58 state=finished returned str> result: '6a4e1623gy1fkvqkp6k20j21kw1kw7wh.jpg'\n",
      "<Future at 0x7f7697a9fa58 state=finished returned str> result: '6a4e1623gy1fkvqkp6k20j21kw1kw7wh.jpg'\n",
      "<Future at 0x7f7697a9fa58 state=finished returned str> result: '6a4e1623gy1fkvqkp6k20j21kw1kw7wh.jpg'\n",
      "7\n"
     ]
    }
   ],
   "source": [
    "# 并发代码 二\n",
    "from concurrent import futures\n",
    "\n",
    "def download_cc_2(lst):\n",
    "    global futures\n",
    "    with futures.ThreadPoolExecutor(max_workers=25) as exe:\n",
    "        to_do = []\n",
    "        for cc in lst:\n",
    "            future = exe.submit(download_pic, cc)\n",
    "            to_do.append(future)\n",
    "            msg = 'scheduled for {}: {}'\n",
    "            print(msg.format(cc, future))\n",
    "            \n",
    "    results = []\n",
    "    for futures in futures.as_completed(to_do):\n",
    "        res = future.result()\n",
    "        msg = '{} result: {!r}'\n",
    "        print(msg.format(future, res))\n",
    "        results.append(msg)\n",
    "        \n",
    "    return len(results)\n",
    "\n",
    "def main_cc_2():\n",
    "    url = 'http://jandan.net/ooxx/page-231#comments'\n",
    "    start = datetime.datetime.now()\n",
    "    download_cc_2(get_pic_urls(url))\n",
    "    end = datetime.datetime.now()\n",
    "    print((end-start).seconds)\n",
    "    \n",
    "main_cc_2()"
   ]
  },
  {
   "cell_type": "markdown",
   "metadata": {
    "collapsed": true
   },
   "source": [
    "# 171029 Experimenting with Executor.map\n"
   ]
  },
  {
   "cell_type": "code",
   "execution_count": 5,
   "metadata": {},
   "outputs": [
    {
     "name": "stdout",
     "output_type": "stream",
     "text": [
      "[09: 59: 04][09: 59: 04][09: 59: 04]script starting...\n",
      "\tloiter(1): doing nothing for 1s...\n",
      "[09: 59: 04][09: 59: 04]results: loiter(0): doing nothing for 0s... \n",
      "<generator object Executor.map.<locals>.result_iterator at 0x7fa713f6c150>[09: 59: 04]\n",
      "[09: 59: 04]loiter(0):done\n",
      "waiting for individual results:[09: 59: 04]\n",
      "\t\t\tloiter(3): doing nothing for 3s...\n",
      "[09: 59: 04]results 0: 0\n",
      "\t\tloiter(2): doing nothing for 2s...\n",
      "[09: 59: 05]\tloiter(1):done\n",
      "[09: 59: 05][09: 59: 05]results 1: 10\n",
      "\t\t\t\tloiter(4): doing nothing for 4s...\n",
      "[09: 59: 06]\t\tloiter(2):done\n",
      "[09: 59: 06]results 2: 20\n",
      "[09: 59: 07]\t\t\tloiter(3):done\n",
      "[09: 59: 07]results 3: 30\n",
      "[09: 59: 09][09: 59: 09]results 4: 40\t\t\t\tloiter(4):done\n",
      "\n"
     ]
    }
   ],
   "source": [
    "from time import sleep, strftime\n",
    "from concurrent import futures\n",
    "\n",
    "def display(*args):\n",
    "    print(strftime('[%H: %M: %S]'), end='')\n",
    "    print(*args)\n",
    "    \n",
    "def loiter(n):\n",
    "    msg = '{}loiter({}): doing nothing for {}s...'\n",
    "    display(msg.format('\\t'*n, n, n))\n",
    "    sleep(n)\n",
    "    msg = '{}loiter({}):done'\n",
    "    display(msg.format('\\t'*n, n))\n",
    "    return n * 10\n",
    "\n",
    "def main():\n",
    "    display('script starting...')\n",
    "    executor = futures.ThreadPoolExecutor(max_workers=3)\n",
    "    results = executor.map(loiter, range(5))\n",
    "    display('results: ', results)\n",
    "    display('waiting for individual results:')\n",
    "    for i, result in enumerate(results):\n",
    "        display('results {}: {}'.format(i, result))\n",
    "        \n",
    "main()"
   ]
  },
  {
   "cell_type": "markdown",
   "metadata": {},
   "source": [
    "注意：\n",
    "\n",
    "- futures.ThreadPoolExecutor 接受 max_workers 参数控制并发数量\n",
    "- futures.ProcessPoolExecutor 没有 max_workers 参数，因为该参数与cpu 数量有关\n",
    "- futures.ThreadPoolExecutor.map 有返回，但会随着单个并发的释放而放出\n"
   ]
  },
  {
   "cell_type": "code",
   "execution_count": 10,
   "metadata": {},
   "outputs": [
    {
     "name": "stderr",
     "output_type": "stream",
     "text": [
      "100%|██████████| 100/100 [00:01<00:00, 96.88it/s]\n"
     ]
    }
   ],
   "source": [
    "from tqdm import tqdm\n",
    "import time\n",
    "\n",
    "for i in tqdm(range(100)):\n",
    "    time.sleep(.01)"
   ]
  },
  {
   "cell_type": "code",
   "execution_count": null,
   "metadata": {
    "collapsed": true
   },
   "outputs": [],
   "source": []
  }
 ],
 "metadata": {
  "kernelspec": {
   "display_name": "Python 3",
   "language": "python",
   "name": "python3"
  },
  "language_info": {
   "codemirror_mode": {
    "name": "ipython",
    "version": 3
   },
   "file_extension": ".py",
   "mimetype": "text/x-python",
   "name": "python",
   "nbconvert_exporter": "python",
   "pygments_lexer": "ipython3",
   "version": "3.5.2"
  }
 },
 "nbformat": 4,
 "nbformat_minor": 2
}
