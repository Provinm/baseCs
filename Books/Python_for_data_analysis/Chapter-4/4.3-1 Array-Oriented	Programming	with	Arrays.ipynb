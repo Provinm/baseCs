{
 "cells": [
  {
   "cell_type": "markdown",
   "metadata": {},
   "source": [
    "## Array-Oriented\tProgramming\twith\tArrays"
   ]
  },
  {
   "cell_type": "code",
   "execution_count": 1,
   "metadata": {
    "collapsed": true
   },
   "outputs": [],
   "source": [
    "import numpy as np"
   ]
  },
  {
   "cell_type": "code",
   "execution_count": 2,
   "metadata": {
    "collapsed": true
   },
   "outputs": [],
   "source": [
    "points = np.arange(-5, 5, 0.01)"
   ]
  },
  {
   "cell_type": "code",
   "execution_count": 4,
   "metadata": {
    "collapsed": true
   },
   "outputs": [],
   "source": [
    "xs, ys = np.meshgrid(points, points)"
   ]
  },
  {
   "cell_type": "code",
   "execution_count": 5,
   "metadata": {},
   "outputs": [
    {
     "data": {
      "text/plain": [
       "array([[-5.  , -4.99, -4.98, ...,  4.97,  4.98,  4.99],\n",
       "       [-5.  , -4.99, -4.98, ...,  4.97,  4.98,  4.99],\n",
       "       [-5.  , -4.99, -4.98, ...,  4.97,  4.98,  4.99],\n",
       "       ..., \n",
       "       [-5.  , -4.99, -4.98, ...,  4.97,  4.98,  4.99],\n",
       "       [-5.  , -4.99, -4.98, ...,  4.97,  4.98,  4.99],\n",
       "       [-5.  , -4.99, -4.98, ...,  4.97,  4.98,  4.99]])"
      ]
     },
     "execution_count": 5,
     "metadata": {},
     "output_type": "execute_result"
    }
   ],
   "source": [
    "xs"
   ]
  },
  {
   "cell_type": "code",
   "execution_count": 6,
   "metadata": {
    "collapsed": true
   },
   "outputs": [],
   "source": [
    "z = np.sqrt(xs**2 + ys**2)"
   ]
  },
  {
   "cell_type": "code",
   "execution_count": 7,
   "metadata": {},
   "outputs": [
    {
     "data": {
      "text/plain": [
       "array([[ 7.07106781,  7.06400028,  7.05693985, ...,  7.04988652,\n",
       "         7.05693985,  7.06400028],\n",
       "       [ 7.06400028,  7.05692568,  7.04985815, ...,  7.04279774,\n",
       "         7.04985815,  7.05692568],\n",
       "       [ 7.05693985,  7.04985815,  7.04278354, ...,  7.03571603,\n",
       "         7.04278354,  7.04985815],\n",
       "       ..., \n",
       "       [ 7.04988652,  7.04279774,  7.03571603, ...,  7.0286414 ,\n",
       "         7.03571603,  7.04279774],\n",
       "       [ 7.05693985,  7.04985815,  7.04278354, ...,  7.03571603,\n",
       "         7.04278354,  7.04985815],\n",
       "       [ 7.06400028,  7.05692568,  7.04985815, ...,  7.04279774,\n",
       "         7.04985815,  7.05692568]])"
      ]
     },
     "execution_count": 7,
     "metadata": {},
     "output_type": "execute_result"
    }
   ],
   "source": [
    "z"
   ]
  },
  {
   "cell_type": "code",
   "execution_count": 9,
   "metadata": {},
   "outputs": [],
   "source": [
    "z2 = np.sqrt(points**2+points**2)"
   ]
  },
  {
   "cell_type": "code",
   "execution_count": 10,
   "metadata": {},
   "outputs": [
    {
     "data": {
      "text/plain": [
       "array([  7.07106781e+00,   7.05692568e+00,   7.04278354e+00,\n",
       "         7.02864140e+00,   7.01449927e+00,   7.00035713e+00,\n",
       "         6.98621500e+00,   6.97207286e+00,   6.95793073e+00,\n",
       "         6.94378859e+00,   6.92964646e+00,   6.91550432e+00,\n",
       "         6.90136218e+00,   6.88722005e+00,   6.87307791e+00,\n",
       "         6.85893578e+00,   6.84479364e+00,   6.83065151e+00,\n",
       "         6.81650937e+00,   6.80236724e+00,   6.78822510e+00,\n",
       "         6.77408296e+00,   6.75994083e+00,   6.74579869e+00,\n",
       "         6.73165656e+00,   6.71751442e+00,   6.70337229e+00,\n",
       "         6.68923015e+00,   6.67508801e+00,   6.66094588e+00,\n",
       "         6.64680374e+00,   6.63266161e+00,   6.61851947e+00,\n",
       "         6.60437734e+00,   6.59023520e+00,   6.57609307e+00,\n",
       "         6.56195093e+00,   6.54780879e+00,   6.53366666e+00,\n",
       "         6.51952452e+00,   6.50538239e+00,   6.49124025e+00,\n",
       "         6.47709812e+00,   6.46295598e+00,   6.44881384e+00,\n",
       "         6.43467171e+00,   6.42052957e+00,   6.40638744e+00,\n",
       "         6.39224530e+00,   6.37810317e+00,   6.36396103e+00,\n",
       "         6.34981890e+00,   6.33567676e+00,   6.32153462e+00,\n",
       "         6.30739249e+00,   6.29325035e+00,   6.27910822e+00,\n",
       "         6.26496608e+00,   6.25082395e+00,   6.23668181e+00,\n",
       "         6.22253967e+00,   6.20839754e+00,   6.19425540e+00,\n",
       "         6.18011327e+00,   6.16597113e+00,   6.15182900e+00,\n",
       "         6.13768686e+00,   6.12354473e+00,   6.10940259e+00,\n",
       "         6.09526045e+00,   6.08111832e+00,   6.06697618e+00,\n",
       "         6.05283405e+00,   6.03869191e+00,   6.02454978e+00,\n",
       "         6.01040764e+00,   5.99626550e+00,   5.98212337e+00,\n",
       "         5.96798123e+00,   5.95383910e+00,   5.93969696e+00,\n",
       "         5.92555483e+00,   5.91141269e+00,   5.89727056e+00,\n",
       "         5.88312842e+00,   5.86898628e+00,   5.85484415e+00,\n",
       "         5.84070201e+00,   5.82655988e+00,   5.81241774e+00,\n",
       "         5.79827561e+00,   5.78413347e+00,   5.76999133e+00,\n",
       "         5.75584920e+00,   5.74170706e+00,   5.72756493e+00,\n",
       "         5.71342279e+00,   5.69928066e+00,   5.68513852e+00,\n",
       "         5.67099639e+00,   5.65685425e+00,   5.64271211e+00,\n",
       "         5.62856998e+00,   5.61442784e+00,   5.60028571e+00,\n",
       "         5.58614357e+00,   5.57200144e+00,   5.55785930e+00,\n",
       "         5.54371716e+00,   5.52957503e+00,   5.51543289e+00,\n",
       "         5.50129076e+00,   5.48714862e+00,   5.47300649e+00,\n",
       "         5.45886435e+00,   5.44472222e+00,   5.43058008e+00,\n",
       "         5.41643794e+00,   5.40229581e+00,   5.38815367e+00,\n",
       "         5.37401154e+00,   5.35986940e+00,   5.34572727e+00,\n",
       "         5.33158513e+00,   5.31744299e+00,   5.30330086e+00,\n",
       "         5.28915872e+00,   5.27501659e+00,   5.26087445e+00,\n",
       "         5.24673232e+00,   5.23259018e+00,   5.21844805e+00,\n",
       "         5.20430591e+00,   5.19016377e+00,   5.17602164e+00,\n",
       "         5.16187950e+00,   5.14773737e+00,   5.13359523e+00,\n",
       "         5.11945310e+00,   5.10531096e+00,   5.09116882e+00,\n",
       "         5.07702669e+00,   5.06288455e+00,   5.04874242e+00,\n",
       "         5.03460028e+00,   5.02045815e+00,   5.00631601e+00,\n",
       "         4.99217388e+00,   4.97803174e+00,   4.96388960e+00,\n",
       "         4.94974747e+00,   4.93560533e+00,   4.92146320e+00,\n",
       "         4.90732106e+00,   4.89317893e+00,   4.87903679e+00,\n",
       "         4.86489465e+00,   4.85075252e+00,   4.83661038e+00,\n",
       "         4.82246825e+00,   4.80832611e+00,   4.79418398e+00,\n",
       "         4.78004184e+00,   4.76589971e+00,   4.75175757e+00,\n",
       "         4.73761543e+00,   4.72347330e+00,   4.70933116e+00,\n",
       "         4.69518903e+00,   4.68104689e+00,   4.66690476e+00,\n",
       "         4.65276262e+00,   4.63862048e+00,   4.62447835e+00,\n",
       "         4.61033621e+00,   4.59619408e+00,   4.58205194e+00,\n",
       "         4.56790981e+00,   4.55376767e+00,   4.53962554e+00,\n",
       "         4.52548340e+00,   4.51134126e+00,   4.49719913e+00,\n",
       "         4.48305699e+00,   4.46891486e+00,   4.45477272e+00,\n",
       "         4.44063059e+00,   4.42648845e+00,   4.41234631e+00,\n",
       "         4.39820418e+00,   4.38406204e+00,   4.36991991e+00,\n",
       "         4.35577777e+00,   4.34163564e+00,   4.32749350e+00,\n",
       "         4.31335137e+00,   4.29920923e+00,   4.28506709e+00,\n",
       "         4.27092496e+00,   4.25678282e+00,   4.24264069e+00,\n",
       "         4.22849855e+00,   4.21435642e+00,   4.20021428e+00,\n",
       "         4.18607214e+00,   4.17193001e+00,   4.15778787e+00,\n",
       "         4.14364574e+00,   4.12950360e+00,   4.11536147e+00,\n",
       "         4.10121933e+00,   4.08707720e+00,   4.07293506e+00,\n",
       "         4.05879292e+00,   4.04465079e+00,   4.03050865e+00,\n",
       "         4.01636652e+00,   4.00222438e+00,   3.98808225e+00,\n",
       "         3.97394011e+00,   3.95979797e+00,   3.94565584e+00,\n",
       "         3.93151370e+00,   3.91737157e+00,   3.90322943e+00,\n",
       "         3.88908730e+00,   3.87494516e+00,   3.86080303e+00,\n",
       "         3.84666089e+00,   3.83251875e+00,   3.81837662e+00,\n",
       "         3.80423448e+00,   3.79009235e+00,   3.77595021e+00,\n",
       "         3.76180808e+00,   3.74766594e+00,   3.73352380e+00,\n",
       "         3.71938167e+00,   3.70523953e+00,   3.69109740e+00,\n",
       "         3.67695526e+00,   3.66281313e+00,   3.64867099e+00,\n",
       "         3.63452886e+00,   3.62038672e+00,   3.60624458e+00,\n",
       "         3.59210245e+00,   3.57796031e+00,   3.56381818e+00,\n",
       "         3.54967604e+00,   3.53553391e+00,   3.52139177e+00,\n",
       "         3.50724963e+00,   3.49310750e+00,   3.47896536e+00,\n",
       "         3.46482323e+00,   3.45068109e+00,   3.43653896e+00,\n",
       "         3.42239682e+00,   3.40825469e+00,   3.39411255e+00,\n",
       "         3.37997041e+00,   3.36582828e+00,   3.35168614e+00,\n",
       "         3.33754401e+00,   3.32340187e+00,   3.30925974e+00,\n",
       "         3.29511760e+00,   3.28097546e+00,   3.26683333e+00,\n",
       "         3.25269119e+00,   3.23854906e+00,   3.22440692e+00,\n",
       "         3.21026479e+00,   3.19612265e+00,   3.18198052e+00,\n",
       "         3.16783838e+00,   3.15369624e+00,   3.13955411e+00,\n",
       "         3.12541197e+00,   3.11126984e+00,   3.09712770e+00,\n",
       "         3.08298557e+00,   3.06884343e+00,   3.05470129e+00,\n",
       "         3.04055916e+00,   3.02641702e+00,   3.01227489e+00,\n",
       "         2.99813275e+00,   2.98399062e+00,   2.96984848e+00,\n",
       "         2.95570635e+00,   2.94156421e+00,   2.92742207e+00,\n",
       "         2.91327994e+00,   2.89913780e+00,   2.88499567e+00,\n",
       "         2.87085353e+00,   2.85671140e+00,   2.84256926e+00,\n",
       "         2.82842712e+00,   2.81428499e+00,   2.80014285e+00,\n",
       "         2.78600072e+00,   2.77185858e+00,   2.75771645e+00,\n",
       "         2.74357431e+00,   2.72943218e+00,   2.71529004e+00,\n",
       "         2.70114790e+00,   2.68700577e+00,   2.67286363e+00,\n",
       "         2.65872150e+00,   2.64457936e+00,   2.63043723e+00,\n",
       "         2.61629509e+00,   2.60215295e+00,   2.58801082e+00,\n",
       "         2.57386868e+00,   2.55972655e+00,   2.54558441e+00,\n",
       "         2.53144228e+00,   2.51730014e+00,   2.50315801e+00,\n",
       "         2.48901587e+00,   2.47487373e+00,   2.46073160e+00,\n",
       "         2.44658946e+00,   2.43244733e+00,   2.41830519e+00,\n",
       "         2.40416306e+00,   2.39002092e+00,   2.37587878e+00,\n",
       "         2.36173665e+00,   2.34759451e+00,   2.33345238e+00,\n",
       "         2.31931024e+00,   2.30516811e+00,   2.29102597e+00,\n",
       "         2.27688384e+00,   2.26274170e+00,   2.24859956e+00,\n",
       "         2.23445743e+00,   2.22031529e+00,   2.20617316e+00,\n",
       "         2.19203102e+00,   2.17788889e+00,   2.16374675e+00,\n",
       "         2.14960461e+00,   2.13546248e+00,   2.12132034e+00,\n",
       "         2.10717821e+00,   2.09303607e+00,   2.07889394e+00,\n",
       "         2.06475180e+00,   2.05060967e+00,   2.03646753e+00,\n",
       "         2.02232539e+00,   2.00818326e+00,   1.99404112e+00,\n",
       "         1.97989899e+00,   1.96575685e+00,   1.95161472e+00,\n",
       "         1.93747258e+00,   1.92333044e+00,   1.90918831e+00,\n",
       "         1.89504617e+00,   1.88090404e+00,   1.86676190e+00,\n",
       "         1.85261977e+00,   1.83847763e+00,   1.82433550e+00,\n",
       "         1.81019336e+00,   1.79605122e+00,   1.78190909e+00,\n",
       "         1.76776695e+00,   1.75362482e+00,   1.73948268e+00,\n",
       "         1.72534055e+00,   1.71119841e+00,   1.69705627e+00,\n",
       "         1.68291414e+00,   1.66877200e+00,   1.65462987e+00,\n",
       "         1.64048773e+00,   1.62634560e+00,   1.61220346e+00,\n",
       "         1.59806133e+00,   1.58391919e+00,   1.56977705e+00,\n",
       "         1.55563492e+00,   1.54149278e+00,   1.52735065e+00,\n",
       "         1.51320851e+00,   1.49906638e+00,   1.48492424e+00,\n",
       "         1.47078210e+00,   1.45663997e+00,   1.44249783e+00,\n",
       "         1.42835570e+00,   1.41421356e+00,   1.40007143e+00,\n",
       "         1.38592929e+00,   1.37178716e+00,   1.35764502e+00,\n",
       "         1.34350288e+00,   1.32936075e+00,   1.31521861e+00,\n",
       "         1.30107648e+00,   1.28693434e+00,   1.27279221e+00,\n",
       "         1.25865007e+00,   1.24450793e+00,   1.23036580e+00,\n",
       "         1.21622366e+00,   1.20208153e+00,   1.18793939e+00,\n",
       "         1.17379726e+00,   1.15965512e+00,   1.14551299e+00,\n",
       "         1.13137085e+00,   1.11722871e+00,   1.10308658e+00,\n",
       "         1.08894444e+00,   1.07480231e+00,   1.06066017e+00,\n",
       "         1.04651804e+00,   1.03237590e+00,   1.01823376e+00,\n",
       "         1.00409163e+00,   9.89949494e-01,   9.75807358e-01,\n",
       "         9.61665222e-01,   9.47523087e-01,   9.33380951e-01,\n",
       "         9.19238816e-01,   9.05096680e-01,   8.90954544e-01,\n",
       "         8.76812409e-01,   8.62670273e-01,   8.48528137e-01,\n",
       "         8.34386002e-01,   8.20243866e-01,   8.06101731e-01,\n",
       "         7.91959595e-01,   7.77817459e-01,   7.63675324e-01,\n",
       "         7.49533188e-01,   7.35391052e-01,   7.21248917e-01,\n",
       "         7.07106781e-01,   6.92964646e-01,   6.78822510e-01,\n",
       "         6.64680374e-01,   6.50538239e-01,   6.36396103e-01,\n",
       "         6.22253967e-01,   6.08111832e-01,   5.93969696e-01,\n",
       "         5.79827561e-01,   5.65685425e-01,   5.51543289e-01,\n",
       "         5.37401154e-01,   5.23259018e-01,   5.09116882e-01,\n",
       "         4.94974747e-01,   4.80832611e-01,   4.66690476e-01,\n",
       "         4.52548340e-01,   4.38406204e-01,   4.24264069e-01,\n",
       "         4.10121933e-01,   3.95979797e-01,   3.81837662e-01,\n",
       "         3.67695526e-01,   3.53553391e-01,   3.39411255e-01,\n",
       "         3.25269119e-01,   3.11126984e-01,   2.96984848e-01,\n",
       "         2.82842712e-01,   2.68700577e-01,   2.54558441e-01,\n",
       "         2.40416306e-01,   2.26274170e-01,   2.12132034e-01,\n",
       "         1.97989899e-01,   1.83847763e-01,   1.69705627e-01,\n",
       "         1.55563492e-01,   1.41421356e-01,   1.27279221e-01,\n",
       "         1.13137085e-01,   9.89949494e-02,   8.48528137e-02,\n",
       "         7.07106781e-02,   5.65685425e-02,   4.24264069e-02,\n",
       "         2.82842712e-02,   1.41421356e-02,   1.50728876e-13,\n",
       "         1.41421356e-02,   2.82842712e-02,   4.24264069e-02,\n",
       "         5.65685425e-02,   7.07106781e-02,   8.48528137e-02,\n",
       "         9.89949494e-02,   1.13137085e-01,   1.27279221e-01,\n",
       "         1.41421356e-01,   1.55563492e-01,   1.69705627e-01,\n",
       "         1.83847763e-01,   1.97989899e-01,   2.12132034e-01,\n",
       "         2.26274170e-01,   2.40416306e-01,   2.54558441e-01,\n",
       "         2.68700577e-01,   2.82842712e-01,   2.96984848e-01,\n",
       "         3.11126984e-01,   3.25269119e-01,   3.39411255e-01,\n",
       "         3.53553391e-01,   3.67695526e-01,   3.81837662e-01,\n",
       "         3.95979797e-01,   4.10121933e-01,   4.24264069e-01,\n",
       "         4.38406204e-01,   4.52548340e-01,   4.66690476e-01,\n",
       "         4.80832611e-01,   4.94974747e-01,   5.09116882e-01,\n",
       "         5.23259018e-01,   5.37401154e-01,   5.51543289e-01,\n",
       "         5.65685425e-01,   5.79827561e-01,   5.93969696e-01,\n",
       "         6.08111832e-01,   6.22253967e-01,   6.36396103e-01,\n",
       "         6.50538239e-01,   6.64680374e-01,   6.78822510e-01,\n",
       "         6.92964646e-01,   7.07106781e-01,   7.21248917e-01,\n",
       "         7.35391052e-01,   7.49533188e-01,   7.63675324e-01,\n",
       "         7.77817459e-01,   7.91959595e-01,   8.06101731e-01,\n",
       "         8.20243866e-01,   8.34386002e-01,   8.48528137e-01,\n",
       "         8.62670273e-01,   8.76812409e-01,   8.90954544e-01,\n",
       "         9.05096680e-01,   9.19238816e-01,   9.33380951e-01,\n",
       "         9.47523087e-01,   9.61665222e-01,   9.75807358e-01,\n",
       "         9.89949494e-01,   1.00409163e+00,   1.01823376e+00,\n",
       "         1.03237590e+00,   1.04651804e+00,   1.06066017e+00,\n",
       "         1.07480231e+00,   1.08894444e+00,   1.10308658e+00,\n",
       "         1.11722871e+00,   1.13137085e+00,   1.14551299e+00,\n",
       "         1.15965512e+00,   1.17379726e+00,   1.18793939e+00,\n",
       "         1.20208153e+00,   1.21622366e+00,   1.23036580e+00,\n",
       "         1.24450793e+00,   1.25865007e+00,   1.27279221e+00,\n",
       "         1.28693434e+00,   1.30107648e+00,   1.31521861e+00,\n",
       "         1.32936075e+00,   1.34350288e+00,   1.35764502e+00,\n",
       "         1.37178716e+00,   1.38592929e+00,   1.40007143e+00,\n",
       "         1.41421356e+00,   1.42835570e+00,   1.44249783e+00,\n",
       "         1.45663997e+00,   1.47078210e+00,   1.48492424e+00,\n",
       "         1.49906638e+00,   1.51320851e+00,   1.52735065e+00,\n",
       "         1.54149278e+00,   1.55563492e+00,   1.56977705e+00,\n",
       "         1.58391919e+00,   1.59806133e+00,   1.61220346e+00,\n",
       "         1.62634560e+00,   1.64048773e+00,   1.65462987e+00,\n",
       "         1.66877200e+00,   1.68291414e+00,   1.69705627e+00,\n",
       "         1.71119841e+00,   1.72534055e+00,   1.73948268e+00,\n",
       "         1.75362482e+00,   1.76776695e+00,   1.78190909e+00,\n",
       "         1.79605122e+00,   1.81019336e+00,   1.82433550e+00,\n",
       "         1.83847763e+00,   1.85261977e+00,   1.86676190e+00,\n",
       "         1.88090404e+00,   1.89504617e+00,   1.90918831e+00,\n",
       "         1.92333044e+00,   1.93747258e+00,   1.95161472e+00,\n",
       "         1.96575685e+00,   1.97989899e+00,   1.99404112e+00,\n",
       "         2.00818326e+00,   2.02232539e+00,   2.03646753e+00,\n",
       "         2.05060967e+00,   2.06475180e+00,   2.07889394e+00,\n",
       "         2.09303607e+00,   2.10717821e+00,   2.12132034e+00,\n",
       "         2.13546248e+00,   2.14960461e+00,   2.16374675e+00,\n",
       "         2.17788889e+00,   2.19203102e+00,   2.20617316e+00,\n",
       "         2.22031529e+00,   2.23445743e+00,   2.24859956e+00,\n",
       "         2.26274170e+00,   2.27688384e+00,   2.29102597e+00,\n",
       "         2.30516811e+00,   2.31931024e+00,   2.33345238e+00,\n",
       "         2.34759451e+00,   2.36173665e+00,   2.37587878e+00,\n",
       "         2.39002092e+00,   2.40416306e+00,   2.41830519e+00,\n",
       "         2.43244733e+00,   2.44658946e+00,   2.46073160e+00,\n",
       "         2.47487373e+00,   2.48901587e+00,   2.50315801e+00,\n",
       "         2.51730014e+00,   2.53144228e+00,   2.54558441e+00,\n",
       "         2.55972655e+00,   2.57386868e+00,   2.58801082e+00,\n",
       "         2.60215295e+00,   2.61629509e+00,   2.63043723e+00,\n",
       "         2.64457936e+00,   2.65872150e+00,   2.67286363e+00,\n",
       "         2.68700577e+00,   2.70114790e+00,   2.71529004e+00,\n",
       "         2.72943218e+00,   2.74357431e+00,   2.75771645e+00,\n",
       "         2.77185858e+00,   2.78600072e+00,   2.80014285e+00,\n",
       "         2.81428499e+00,   2.82842712e+00,   2.84256926e+00,\n",
       "         2.85671140e+00,   2.87085353e+00,   2.88499567e+00,\n",
       "         2.89913780e+00,   2.91327994e+00,   2.92742207e+00,\n",
       "         2.94156421e+00,   2.95570635e+00,   2.96984848e+00,\n",
       "         2.98399062e+00,   2.99813275e+00,   3.01227489e+00,\n",
       "         3.02641702e+00,   3.04055916e+00,   3.05470129e+00,\n",
       "         3.06884343e+00,   3.08298557e+00,   3.09712770e+00,\n",
       "         3.11126984e+00,   3.12541197e+00,   3.13955411e+00,\n",
       "         3.15369624e+00,   3.16783838e+00,   3.18198052e+00,\n",
       "         3.19612265e+00,   3.21026479e+00,   3.22440692e+00,\n",
       "         3.23854906e+00,   3.25269119e+00,   3.26683333e+00,\n",
       "         3.28097546e+00,   3.29511760e+00,   3.30925974e+00,\n",
       "         3.32340187e+00,   3.33754401e+00,   3.35168614e+00,\n",
       "         3.36582828e+00,   3.37997041e+00,   3.39411255e+00,\n",
       "         3.40825469e+00,   3.42239682e+00,   3.43653896e+00,\n",
       "         3.45068109e+00,   3.46482323e+00,   3.47896536e+00,\n",
       "         3.49310750e+00,   3.50724963e+00,   3.52139177e+00,\n",
       "         3.53553391e+00,   3.54967604e+00,   3.56381818e+00,\n",
       "         3.57796031e+00,   3.59210245e+00,   3.60624458e+00,\n",
       "         3.62038672e+00,   3.63452886e+00,   3.64867099e+00,\n",
       "         3.66281313e+00,   3.67695526e+00,   3.69109740e+00,\n",
       "         3.70523953e+00,   3.71938167e+00,   3.73352380e+00,\n",
       "         3.74766594e+00,   3.76180808e+00,   3.77595021e+00,\n",
       "         3.79009235e+00,   3.80423448e+00,   3.81837662e+00,\n",
       "         3.83251875e+00,   3.84666089e+00,   3.86080303e+00,\n",
       "         3.87494516e+00,   3.88908730e+00,   3.90322943e+00,\n",
       "         3.91737157e+00,   3.93151370e+00,   3.94565584e+00,\n",
       "         3.95979797e+00,   3.97394011e+00,   3.98808225e+00,\n",
       "         4.00222438e+00,   4.01636652e+00,   4.03050865e+00,\n",
       "         4.04465079e+00,   4.05879292e+00,   4.07293506e+00,\n",
       "         4.08707720e+00,   4.10121933e+00,   4.11536147e+00,\n",
       "         4.12950360e+00,   4.14364574e+00,   4.15778787e+00,\n",
       "         4.17193001e+00,   4.18607214e+00,   4.20021428e+00,\n",
       "         4.21435642e+00,   4.22849855e+00,   4.24264069e+00,\n",
       "         4.25678282e+00,   4.27092496e+00,   4.28506709e+00,\n",
       "         4.29920923e+00,   4.31335137e+00,   4.32749350e+00,\n",
       "         4.34163564e+00,   4.35577777e+00,   4.36991991e+00,\n",
       "         4.38406204e+00,   4.39820418e+00,   4.41234631e+00,\n",
       "         4.42648845e+00,   4.44063059e+00,   4.45477272e+00,\n",
       "         4.46891486e+00,   4.48305699e+00,   4.49719913e+00,\n",
       "         4.51134126e+00,   4.52548340e+00,   4.53962554e+00,\n",
       "         4.55376767e+00,   4.56790981e+00,   4.58205194e+00,\n",
       "         4.59619408e+00,   4.61033621e+00,   4.62447835e+00,\n",
       "         4.63862048e+00,   4.65276262e+00,   4.66690476e+00,\n",
       "         4.68104689e+00,   4.69518903e+00,   4.70933116e+00,\n",
       "         4.72347330e+00,   4.73761543e+00,   4.75175757e+00,\n",
       "         4.76589971e+00,   4.78004184e+00,   4.79418398e+00,\n",
       "         4.80832611e+00,   4.82246825e+00,   4.83661038e+00,\n",
       "         4.85075252e+00,   4.86489465e+00,   4.87903679e+00,\n",
       "         4.89317893e+00,   4.90732106e+00,   4.92146320e+00,\n",
       "         4.93560533e+00,   4.94974747e+00,   4.96388960e+00,\n",
       "         4.97803174e+00,   4.99217388e+00,   5.00631601e+00,\n",
       "         5.02045815e+00,   5.03460028e+00,   5.04874242e+00,\n",
       "         5.06288455e+00,   5.07702669e+00,   5.09116882e+00,\n",
       "         5.10531096e+00,   5.11945310e+00,   5.13359523e+00,\n",
       "         5.14773737e+00,   5.16187950e+00,   5.17602164e+00,\n",
       "         5.19016377e+00,   5.20430591e+00,   5.21844805e+00,\n",
       "         5.23259018e+00,   5.24673232e+00,   5.26087445e+00,\n",
       "         5.27501659e+00,   5.28915872e+00,   5.30330086e+00,\n",
       "         5.31744299e+00,   5.33158513e+00,   5.34572727e+00,\n",
       "         5.35986940e+00,   5.37401154e+00,   5.38815367e+00,\n",
       "         5.40229581e+00,   5.41643794e+00,   5.43058008e+00,\n",
       "         5.44472222e+00,   5.45886435e+00,   5.47300649e+00,\n",
       "         5.48714862e+00,   5.50129076e+00,   5.51543289e+00,\n",
       "         5.52957503e+00,   5.54371716e+00,   5.55785930e+00,\n",
       "         5.57200144e+00,   5.58614357e+00,   5.60028571e+00,\n",
       "         5.61442784e+00,   5.62856998e+00,   5.64271211e+00,\n",
       "         5.65685425e+00,   5.67099639e+00,   5.68513852e+00,\n",
       "         5.69928066e+00,   5.71342279e+00,   5.72756493e+00,\n",
       "         5.74170706e+00,   5.75584920e+00,   5.76999133e+00,\n",
       "         5.78413347e+00,   5.79827561e+00,   5.81241774e+00,\n",
       "         5.82655988e+00,   5.84070201e+00,   5.85484415e+00,\n",
       "         5.86898628e+00,   5.88312842e+00,   5.89727056e+00,\n",
       "         5.91141269e+00,   5.92555483e+00,   5.93969696e+00,\n",
       "         5.95383910e+00,   5.96798123e+00,   5.98212337e+00,\n",
       "         5.99626550e+00,   6.01040764e+00,   6.02454978e+00,\n",
       "         6.03869191e+00,   6.05283405e+00,   6.06697618e+00,\n",
       "         6.08111832e+00,   6.09526045e+00,   6.10940259e+00,\n",
       "         6.12354473e+00,   6.13768686e+00,   6.15182900e+00,\n",
       "         6.16597113e+00,   6.18011327e+00,   6.19425540e+00,\n",
       "         6.20839754e+00,   6.22253967e+00,   6.23668181e+00,\n",
       "         6.25082395e+00,   6.26496608e+00,   6.27910822e+00,\n",
       "         6.29325035e+00,   6.30739249e+00,   6.32153462e+00,\n",
       "         6.33567676e+00,   6.34981890e+00,   6.36396103e+00,\n",
       "         6.37810317e+00,   6.39224530e+00,   6.40638744e+00,\n",
       "         6.42052957e+00,   6.43467171e+00,   6.44881384e+00,\n",
       "         6.46295598e+00,   6.47709812e+00,   6.49124025e+00,\n",
       "         6.50538239e+00,   6.51952452e+00,   6.53366666e+00,\n",
       "         6.54780879e+00,   6.56195093e+00,   6.57609307e+00,\n",
       "         6.59023520e+00,   6.60437734e+00,   6.61851947e+00,\n",
       "         6.63266161e+00,   6.64680374e+00,   6.66094588e+00,\n",
       "         6.67508801e+00,   6.68923015e+00,   6.70337229e+00,\n",
       "         6.71751442e+00,   6.73165656e+00,   6.74579869e+00,\n",
       "         6.75994083e+00,   6.77408296e+00,   6.78822510e+00,\n",
       "         6.80236724e+00,   6.81650937e+00,   6.83065151e+00,\n",
       "         6.84479364e+00,   6.85893578e+00,   6.87307791e+00,\n",
       "         6.88722005e+00,   6.90136218e+00,   6.91550432e+00,\n",
       "         6.92964646e+00,   6.94378859e+00,   6.95793073e+00,\n",
       "         6.97207286e+00,   6.98621500e+00,   7.00035713e+00,\n",
       "         7.01449927e+00,   7.02864140e+00,   7.04278354e+00,\n",
       "         7.05692568e+00])"
      ]
     },
     "execution_count": 10,
     "metadata": {},
     "output_type": "execute_result"
    }
   ],
   "source": [
    "z2"
   ]
  },
  {
   "cell_type": "code",
   "execution_count": 11,
   "metadata": {
    "collapsed": true
   },
   "outputs": [],
   "source": [
    "# matplot\n",
    "import matplotlib.pyplot as plt"
   ]
  },
  {
   "cell_type": "code",
   "execution_count": 12,
   "metadata": {},
   "outputs": [
    {
     "data": {
      "text/plain": [
       "<matplotlib.image.AxesImage at 0x7f37d6f9b208>"
      ]
     },
     "execution_count": 12,
     "metadata": {},
     "output_type": "execute_result"
    }
   ],
   "source": [
    "plt.imshow(z, cmap=plt.cm.gray)"
   ]
  },
  {
   "cell_type": "code",
   "execution_count": 13,
   "metadata": {},
   "outputs": [
    {
     "data": {
      "text/plain": [
       "<matplotlib.colorbar.Colorbar at 0x7f37d6f507f0>"
      ]
     },
     "execution_count": 13,
     "metadata": {},
     "output_type": "execute_result"
    }
   ],
   "source": [
    "plt.colorbar()"
   ]
  },
  {
   "cell_type": "code",
   "execution_count": 15,
   "metadata": {},
   "outputs": [
    {
     "data": {
      "image/png": "[encoded data removed]",
      "text/plain": [
       "<matplotlib.figure.Figure at 0x7f37d8fbc160>"
      ]
     },
     "metadata": {},
     "output_type": "display_data"
    }
   ],
   "source": [
    "plt.show()"
   ]
  },
  {
   "cell_type": "markdown",
   "metadata": {},
   "source": [
    "### Expressing\tConditional\tLogic\tas\tArray\tOperations"
   ]
  },
  {
   "cell_type": "code",
   "execution_count": 16,
   "metadata": {
    "collapsed": true
   },
   "outputs": [],
   "source": [
    "xarr = np.array([1.1, 1.2, 1.3, 1.4, 1.5])"
   ]
  },
  {
   "cell_type": "code",
   "execution_count": 17,
   "metadata": {
    "collapsed": true
   },
   "outputs": [],
   "source": [
    "yarr = np.array([2.1, 2.2, 2.3, 2.4, 2.5])"
   ]
  },
  {
   "cell_type": "code",
   "execution_count": 18,
   "metadata": {
    "collapsed": true
   },
   "outputs": [],
   "source": [
    "cond = np.array([True, False, True, False, True])"
   ]
  },
  {
   "cell_type": "code",
   "execution_count": 19,
   "metadata": {
    "collapsed": true
   },
   "outputs": [],
   "source": [
    "result = [(x if c else y) for x,y,c in zip(xarr, yarr, cond)]"
   ]
  },
  {
   "cell_type": "code",
   "execution_count": 20,
   "metadata": {},
   "outputs": [
    {
     "data": {
      "text/plain": [
       "[1.1000000000000001, 2.2000000000000002, 1.3, 2.3999999999999999, 1.5]"
      ]
     },
     "execution_count": 20,
     "metadata": {},
     "output_type": "execute_result"
    }
   ],
   "source": [
    "result"
   ]
  },
  {
   "cell_type": "code",
   "execution_count": 21,
   "metadata": {},
   "outputs": [
    {
     "data": {
      "text/plain": [
       "array([ 1.1,  2.2,  1.3,  2.4,  1.5])"
      ]
     },
     "execution_count": 21,
     "metadata": {},
     "output_type": "execute_result"
    }
   ],
   "source": [
    "np.where(cond, xarr, yarr)"
   ]
  },
  {
   "cell_type": "code",
   "execution_count": 22,
   "metadata": {
    "collapsed": true
   },
   "outputs": [],
   "source": [
    "# where is far more better than python list comprehension"
   ]
  },
  {
   "cell_type": "code",
   "execution_count": 23,
   "metadata": {
    "collapsed": true
   },
   "outputs": [],
   "source": [
    "# np.where\n",
    "\n",
    "arr = np.random.randn(6,3)"
   ]
  },
  {
   "cell_type": "code",
   "execution_count": 24,
   "metadata": {},
   "outputs": [
    {
     "data": {
      "text/plain": [
       "array([[ 0.90037741,  0.02809274, -0.96442468],\n",
       "       [ 1.27504964, -0.12376242, -0.42460535],\n",
       "       [-0.44995476,  0.29977728,  1.28758107],\n",
       "       [-0.83094683, -0.11796422,  1.34048154],\n",
       "       [ 1.79833929,  0.93735262, -0.67203898],\n",
       "       [-0.98915032,  0.65551503, -0.51460919]])"
      ]
     },
     "execution_count": 24,
     "metadata": {},
     "output_type": "execute_result"
    }
   ],
   "source": [
    "arr"
   ]
  },
  {
   "cell_type": "code",
   "execution_count": 25,
   "metadata": {},
   "outputs": [
    {
     "data": {
      "text/plain": [
       "array([[-2, -2, -2],\n",
       "       [ 2, -2, -2],\n",
       "       [-2, -2,  2],\n",
       "       [-2, -2,  2],\n",
       "       [ 2, -2, -2],\n",
       "       [-2, -2, -2]])"
      ]
     },
     "execution_count": 25,
     "metadata": {},
     "output_type": "execute_result"
    }
   ],
   "source": [
    "np.where(arr>1, 2, -2)"
   ]
  },
  {
   "cell_type": "code",
   "execution_count": 26,
   "metadata": {},
   "outputs": [
    {
     "data": {
      "text/plain": [
       "array([[ 0.90037741,  0.02809274, -0.96442468],\n",
       "       [ 1.27504964, -0.12376242, -0.42460535],\n",
       "       [-0.44995476,  0.29977728,  1.28758107],\n",
       "       [-0.83094683, -0.11796422,  1.34048154],\n",
       "       [ 1.79833929,  0.93735262, -0.67203898],\n",
       "       [-0.98915032,  0.65551503, -0.51460919]])"
      ]
     },
     "execution_count": 26,
     "metadata": {},
     "output_type": "execute_result"
    }
   ],
   "source": [
    "arr"
   ]
  },
  {
   "cell_type": "code",
   "execution_count": 27,
   "metadata": {},
   "outputs": [
    {
     "data": {
      "text/plain": [
       "array([[-0.90037741, -0.02809274,  0.96442468],\n",
       "       [ 2.        ,  0.12376242,  0.42460535],\n",
       "       [ 0.44995476, -0.29977728,  2.        ],\n",
       "       [ 0.83094683,  0.11796422,  2.        ],\n",
       "       [ 2.        , -0.93735262,  0.67203898],\n",
       "       [ 0.98915032, -0.65551503,  0.51460919]])"
      ]
     },
     "execution_count": 27,
     "metadata": {},
     "output_type": "execute_result"
    }
   ],
   "source": [
    "np.where(arr>1, 2, -arr)"
   ]
  },
  {
   "cell_type": "markdown",
   "metadata": {},
   "source": [
    "### Mathematical\tand\tStatistical\tMethods"
   ]
  },
  {
   "cell_type": "code",
   "execution_count": 28,
   "metadata": {
    "collapsed": true
   },
   "outputs": [],
   "source": [
    "arr = np.random.randn(5,4)"
   ]
  },
  {
   "cell_type": "code",
   "execution_count": 29,
   "metadata": {},
   "outputs": [
    {
     "data": {
      "text/plain": [
       "array([[-0.14916988,  0.80312518, -0.94221835,  1.35153692],\n",
       "       [-0.76555283,  0.45168652,  0.37354462, -1.28334717],\n",
       "       [-0.43942298, -0.28831244,  2.6365091 , -1.19256444],\n",
       "       [-0.61583855,  0.43758565,  1.78880496, -2.16273735],\n",
       "       [ 1.14407523,  0.00321435,  1.09023756, -1.05129875]])"
      ]
     },
     "execution_count": 29,
     "metadata": {},
     "output_type": "execute_result"
    }
   ],
   "source": [
    "arr"
   ]
  },
  {
   "cell_type": "code",
   "execution_count": 31,
   "metadata": {},
   "outputs": [
    {
     "data": {
      "text/plain": [
       "0.059492867087911863"
      ]
     },
     "execution_count": 31,
     "metadata": {},
     "output_type": "execute_result"
    }
   ],
   "source": [
    "arr.mean()"
   ]
  },
  {
   "cell_type": "code",
   "execution_count": 32,
   "metadata": {
    "collapsed": true
   },
   "outputs": [],
   "source": [
    "arr.mean?"
   ]
  },
  {
   "cell_type": "code",
   "execution_count": 33,
   "metadata": {
    "collapsed": true
   },
   "outputs": [],
   "source": [
    "np.mean?"
   ]
  },
  {
   "cell_type": "code",
   "execution_count": 34,
   "metadata": {
    "collapsed": true
   },
   "outputs": [],
   "source": [
    "# .mean is same as average"
   ]
  },
  {
   "cell_type": "code",
   "execution_count": 35,
   "metadata": {},
   "outputs": [
    {
     "data": {
      "text/plain": [
       "array([ 0.26581847, -0.30591722,  0.17905231, -0.13804632,  0.2965571 ])"
      ]
     },
     "execution_count": 35,
     "metadata": {},
     "output_type": "execute_result"
    }
   ],
   "source": [
    "arr.mean(axis=1)"
   ]
  },
  {
   "cell_type": "code",
   "execution_count": 37,
   "metadata": {},
   "outputs": [],
   "source": [
    "arr = np.where(arr>1, 1, 0)"
   ]
  },
  {
   "cell_type": "code",
   "execution_count": 38,
   "metadata": {},
   "outputs": [
    {
     "data": {
      "text/plain": [
       "array([[0, 0, 0, 1],\n",
       "       [0, 0, 0, 0],\n",
       "       [0, 0, 1, 0],\n",
       "       [0, 0, 1, 0],\n",
       "       [1, 0, 1, 0]])"
      ]
     },
     "execution_count": 38,
     "metadata": {},
     "output_type": "execute_result"
    }
   ],
   "source": [
    "arr"
   ]
  },
  {
   "cell_type": "code",
   "execution_count": 39,
   "metadata": {},
   "outputs": [
    {
     "data": {
      "text/plain": [
       "array([ 0.2,  0. ,  0.6,  0.2])"
      ]
     },
     "execution_count": 39,
     "metadata": {},
     "output_type": "execute_result"
    }
   ],
   "source": [
    "arr.mean(axis=0)"
   ]
  },
  {
   "cell_type": "code",
   "execution_count": 40,
   "metadata": {},
   "outputs": [
    {
     "data": {
      "text/plain": [
       "array([ 0.25,  0.  ,  0.25,  0.25,  0.5 ])"
      ]
     },
     "execution_count": 40,
     "metadata": {},
     "output_type": "execute_result"
    }
   ],
   "source": [
    "arr.mean(axis=1)"
   ]
  },
  {
   "cell_type": "code",
   "execution_count": 41,
   "metadata": {},
   "outputs": [
    {
     "data": {
      "text/plain": [
       "5"
      ]
     },
     "execution_count": 41,
     "metadata": {},
     "output_type": "execute_result"
    }
   ],
   "source": [
    "arr.sum()"
   ]
  },
  {
   "cell_type": "code",
   "execution_count": 42,
   "metadata": {},
   "outputs": [
    {
     "data": {
      "text/plain": [
       "array([1, 0, 3, 1])"
      ]
     },
     "execution_count": 42,
     "metadata": {},
     "output_type": "execute_result"
    }
   ],
   "source": [
    "arr.sum(axis=0)"
   ]
  },
  {
   "cell_type": "code",
   "execution_count": 43,
   "metadata": {},
   "outputs": [
    {
     "data": {
      "text/plain": [
       "array([1, 0, 1, 1, 2])"
      ]
     },
     "execution_count": 43,
     "metadata": {},
     "output_type": "execute_result"
    }
   ],
   "source": [
    "arr.sum(axis=1)"
   ]
  },
  {
   "cell_type": "code",
   "execution_count": 44,
   "metadata": {
    "collapsed": true
   },
   "outputs": [],
   "source": [
    "# cum"
   ]
  },
  {
   "cell_type": "code",
   "execution_count": 45,
   "metadata": {
    "collapsed": true
   },
   "outputs": [],
   "source": [
    "arr = np.array(list(range(10)))"
   ]
  },
  {
   "cell_type": "code",
   "execution_count": 46,
   "metadata": {},
   "outputs": [
    {
     "data": {
      "text/plain": [
       "array([0, 1, 2, 3, 4, 5, 6, 7, 8, 9])"
      ]
     },
     "execution_count": 46,
     "metadata": {},
     "output_type": "execute_result"
    }
   ],
   "source": [
    "arr"
   ]
  },
  {
   "cell_type": "code",
   "execution_count": 47,
   "metadata": {},
   "outputs": [
    {
     "data": {
      "text/plain": [
       "array([ 0,  1,  3,  6, 10, 15, 21, 28, 36, 45])"
      ]
     },
     "execution_count": 47,
     "metadata": {},
     "output_type": "execute_result"
    }
   ],
   "source": [
    "arr.cumsum()"
   ]
  },
  {
   "cell_type": "code",
   "execution_count": 48,
   "metadata": {
    "collapsed": true
   },
   "outputs": [],
   "source": [
    "arr.cumsum?"
   ]
  },
  {
   "cell_type": "code",
   "execution_count": 49,
   "metadata": {
    "collapsed": true
   },
   "outputs": [],
   "source": [
    "arr = np.array([[0,1,2], [3,4,5], [6,7,8]])"
   ]
  },
  {
   "cell_type": "code",
   "execution_count": 50,
   "metadata": {},
   "outputs": [
    {
     "data": {
      "text/plain": [
       "array([[0, 1, 2],\n",
       "       [3, 4, 5],\n",
       "       [6, 7, 8]])"
      ]
     },
     "execution_count": 50,
     "metadata": {},
     "output_type": "execute_result"
    }
   ],
   "source": [
    "arr"
   ]
  },
  {
   "cell_type": "code",
   "execution_count": 51,
   "metadata": {},
   "outputs": [
    {
     "data": {
      "text/plain": [
       "array([ 0,  1,  3,  6, 10, 15, 21, 28, 36])"
      ]
     },
     "execution_count": 51,
     "metadata": {},
     "output_type": "execute_result"
    }
   ],
   "source": [
    "arr.cumsum()"
   ]
  },
  {
   "cell_type": "code",
   "execution_count": 52,
   "metadata": {},
   "outputs": [
    {
     "data": {
      "text/plain": [
       "array([[ 0,  1,  2],\n",
       "       [ 3,  5,  7],\n",
       "       [ 9, 12, 15]])"
      ]
     },
     "execution_count": 52,
     "metadata": {},
     "output_type": "execute_result"
    }
   ],
   "source": [
    "arr.cumsum(axis=0)"
   ]
  },
  {
   "cell_type": "code",
   "execution_count": 53,
   "metadata": {
    "collapsed": true
   },
   "outputs": [],
   "source": [
    "# cumprod"
   ]
  },
  {
   "cell_type": "code",
   "execution_count": 54,
   "metadata": {},
   "outputs": [
    {
     "data": {
      "text/plain": [
       "array([0, 0, 0, 0, 0, 0, 0, 0, 0])"
      ]
     },
     "execution_count": 54,
     "metadata": {},
     "output_type": "execute_result"
    }
   ],
   "source": [
    "arr.cumprod()"
   ]
  },
  {
   "cell_type": "code",
   "execution_count": 56,
   "metadata": {},
   "outputs": [],
   "source": [
    "arr = np.array(list(range(1,10))).reshape(3,3)"
   ]
  },
  {
   "cell_type": "code",
   "execution_count": 57,
   "metadata": {},
   "outputs": [
    {
     "data": {
      "text/plain": [
       "array([[1, 2, 3],\n",
       "       [4, 5, 6],\n",
       "       [7, 8, 9]])"
      ]
     },
     "execution_count": 57,
     "metadata": {},
     "output_type": "execute_result"
    }
   ],
   "source": [
    "arr"
   ]
  },
  {
   "cell_type": "code",
   "execution_count": 58,
   "metadata": {},
   "outputs": [
    {
     "data": {
      "text/plain": [
       "array([     1,      2,      6,     24,    120,    720,   5040,  40320,\n",
       "       362880])"
      ]
     },
     "execution_count": 58,
     "metadata": {},
     "output_type": "execute_result"
    }
   ],
   "source": [
    "arr.cumprod()"
   ]
  },
  {
   "cell_type": "code",
   "execution_count": 59,
   "metadata": {},
   "outputs": [
    {
     "data": {
      "text/plain": [
       "array([[  1,   2,   3],\n",
       "       [  4,  10,  18],\n",
       "       [ 28,  80, 162]])"
      ]
     },
     "execution_count": 59,
     "metadata": {},
     "output_type": "execute_result"
    }
   ],
   "source": [
    "arr.cumprod(axis=0)"
   ]
  },
  {
   "cell_type": "code",
   "execution_count": 60,
   "metadata": {},
   "outputs": [
    {
     "data": {
      "text/plain": [
       "array([[  1,   2,   6],\n",
       "       [  4,  20, 120],\n",
       "       [  7,  56, 504]])"
      ]
     },
     "execution_count": 60,
     "metadata": {},
     "output_type": "execute_result"
    }
   ],
   "source": [
    "arr.cumprod(axis=1)"
   ]
  },
  {
   "cell_type": "markdown",
   "metadata": {},
   "source": [
    "### Methods\tfor\tBoolean\tArrays"
   ]
  },
  {
   "cell_type": "code",
   "execution_count": 61,
   "metadata": {
    "collapsed": true
   },
   "outputs": [],
   "source": [
    "arr = np.random.randn(100)"
   ]
  },
  {
   "cell_type": "code",
   "execution_count": 62,
   "metadata": {},
   "outputs": [
    {
     "data": {
      "text/plain": [
       "49"
      ]
     },
     "execution_count": 62,
     "metadata": {},
     "output_type": "execute_result"
    }
   ],
   "source": [
    "(arr>0).sum()"
   ]
  },
  {
   "cell_type": "code",
   "execution_count": 63,
   "metadata": {},
   "outputs": [
    {
     "data": {
      "text/plain": [
       "array([ 0.50902196, -0.10728364,  3.10570458,  0.27863422,  0.45726629,\n",
       "       -1.97759584, -0.9891759 , -0.5603661 , -0.57135986, -0.62409573,\n",
       "       -0.08905705, -2.00790127,  1.23410097, -0.34953592,  0.93356936,\n",
       "       -0.98763743,  1.00709673, -0.80768503, -0.12720383,  1.11225002,\n",
       "        2.0652381 ,  1.37866298, -0.80129508,  0.87200713, -2.2657324 ,\n",
       "       -0.15149272,  0.3756943 ,  0.13246894,  0.83726212, -0.26578317,\n",
       "        0.79051873,  0.38925091,  0.91422175,  0.91400324, -0.59760008,\n",
       "       -0.5506467 ,  0.07479761,  1.57773018, -1.13073836, -0.58249732,\n",
       "        1.59000227, -0.72144011, -1.50621725,  0.12130313, -1.14318215,\n",
       "       -0.45012399, -0.16059038, -1.3081158 , -0.11801913, -0.52943759,\n",
       "       -0.83045329,  0.22376354,  1.53793924,  1.52714149, -0.29495931,\n",
       "        0.75338122,  0.73410317, -0.51368867,  0.66692973, -0.13654395,\n",
       "        0.82831044, -0.6811397 ,  0.63885238,  0.79553949, -1.2303357 ,\n",
       "       -0.09553563, -0.87274742, -0.22171208,  0.21996316,  0.72842872,\n",
       "       -0.85253743,  1.22048998, -0.29524714,  0.62108528,  1.80936889,\n",
       "        0.67459053,  1.41673913,  0.57045189, -1.73769551, -1.21499001,\n",
       "       -0.35596094,  1.83789693, -0.33164291,  0.91375372,  0.86948192,\n",
       "        0.87365158, -0.17933626,  0.60186795, -1.15190809, -0.6784038 ,\n",
       "       -1.35760345,  0.37938397, -1.29510153,  0.20758258,  1.20067997,\n",
       "       -0.12658805,  1.76272116,  0.46650277, -0.28894947, -0.29013431])"
      ]
     },
     "execution_count": 63,
     "metadata": {},
     "output_type": "execute_result"
    }
   ],
   "source": [
    "arr"
   ]
  },
  {
   "cell_type": "code",
   "execution_count": 64,
   "metadata": {
    "collapsed": true
   },
   "outputs": [],
   "source": [
    "# any / all"
   ]
  },
  {
   "cell_type": "code",
   "execution_count": 65,
   "metadata": {
    "collapsed": true
   },
   "outputs": [],
   "source": [
    "bools = np.array([False, False, True, False])"
   ]
  },
  {
   "cell_type": "code",
   "execution_count": 66,
   "metadata": {},
   "outputs": [
    {
     "data": {
      "text/plain": [
       "True"
      ]
     },
     "execution_count": 66,
     "metadata": {},
     "output_type": "execute_result"
    }
   ],
   "source": [
    "bools.any()"
   ]
  },
  {
   "cell_type": "code",
   "execution_count": 67,
   "metadata": {},
   "outputs": [
    {
     "data": {
      "text/plain": [
       "False"
      ]
     },
     "execution_count": 67,
     "metadata": {},
     "output_type": "execute_result"
    }
   ],
   "source": [
    "bools.all()"
   ]
  },
  {
   "cell_type": "markdown",
   "metadata": {},
   "source": [
    "### Sorting"
   ]
  },
  {
   "cell_type": "code",
   "execution_count": 68,
   "metadata": {
    "collapsed": true
   },
   "outputs": [],
   "source": [
    "np.random.randint?"
   ]
  },
  {
   "cell_type": "code",
   "execution_count": 71,
   "metadata": {},
   "outputs": [],
   "source": [
    "arr = np.random.randint(10, size=(3,5))"
   ]
  },
  {
   "cell_type": "code",
   "execution_count": 72,
   "metadata": {},
   "outputs": [
    {
     "data": {
      "text/plain": [
       "array([[6, 4, 9, 5, 3],\n",
       "       [2, 2, 7, 8, 7],\n",
       "       [4, 1, 0, 1, 2]])"
      ]
     },
     "execution_count": 72,
     "metadata": {},
     "output_type": "execute_result"
    }
   ],
   "source": [
    "arr"
   ]
  },
  {
   "cell_type": "code",
   "execution_count": 73,
   "metadata": {
    "collapsed": true
   },
   "outputs": [],
   "source": [
    "arr.sort()"
   ]
  },
  {
   "cell_type": "code",
   "execution_count": 74,
   "metadata": {},
   "outputs": [
    {
     "data": {
      "text/plain": [
       "array([[3, 4, 5, 6, 9],\n",
       "       [2, 2, 7, 7, 8],\n",
       "       [0, 1, 1, 2, 4]])"
      ]
     },
     "execution_count": 74,
     "metadata": {},
     "output_type": "execute_result"
    }
   ],
   "source": [
    "arr"
   ]
  },
  {
   "cell_type": "code",
   "execution_count": 75,
   "metadata": {
    "collapsed": true
   },
   "outputs": [],
   "source": [
    "np.sort?"
   ]
  },
  {
   "cell_type": "code",
   "execution_count": 76,
   "metadata": {
    "collapsed": true
   },
   "outputs": [],
   "source": [
    "arr.sort(axis=0)"
   ]
  },
  {
   "cell_type": "code",
   "execution_count": 77,
   "metadata": {},
   "outputs": [
    {
     "data": {
      "text/plain": [
       "array([[0, 1, 1, 2, 4],\n",
       "       [2, 2, 5, 6, 8],\n",
       "       [3, 4, 7, 7, 9]])"
      ]
     },
     "execution_count": 77,
     "metadata": {},
     "output_type": "execute_result"
    }
   ],
   "source": [
    "arr"
   ]
  },
  {
   "cell_type": "code",
   "execution_count": 78,
   "metadata": {
    "collapsed": true
   },
   "outputs": [],
   "source": [
    "arr = np.random.randint(10, size=(3,5))"
   ]
  },
  {
   "cell_type": "code",
   "execution_count": 79,
   "metadata": {},
   "outputs": [
    {
     "data": {
      "text/plain": [
       "array([[6, 8, 3, 3, 4],\n",
       "       [9, 6, 1, 2, 5],\n",
       "       [5, 6, 3, 0, 1]])"
      ]
     },
     "execution_count": 79,
     "metadata": {},
     "output_type": "execute_result"
    }
   ],
   "source": [
    "arr"
   ]
  },
  {
   "cell_type": "code",
   "execution_count": 80,
   "metadata": {
    "collapsed": true
   },
   "outputs": [],
   "source": [
    "arr2 = arr.copy()"
   ]
  },
  {
   "cell_type": "code",
   "execution_count": 81,
   "metadata": {
    "collapsed": true
   },
   "outputs": [],
   "source": [
    "arr.sort(axis=0)"
   ]
  },
  {
   "cell_type": "code",
   "execution_count": 82,
   "metadata": {},
   "outputs": [
    {
     "data": {
      "text/plain": [
       "array([[5, 6, 1, 0, 1],\n",
       "       [6, 6, 3, 2, 4],\n",
       "       [9, 8, 3, 3, 5]])"
      ]
     },
     "execution_count": 82,
     "metadata": {},
     "output_type": "execute_result"
    }
   ],
   "source": [
    "arr"
   ]
  },
  {
   "cell_type": "code",
   "execution_count": 83,
   "metadata": {
    "collapsed": true
   },
   "outputs": [],
   "source": [
    "arr2.sort(axis=1)"
   ]
  },
  {
   "cell_type": "code",
   "execution_count": 84,
   "metadata": {},
   "outputs": [
    {
     "data": {
      "text/plain": [
       "array([[3, 3, 4, 6, 8],\n",
       "       [1, 2, 5, 6, 9],\n",
       "       [0, 1, 3, 5, 6]])"
      ]
     },
     "execution_count": 84,
     "metadata": {},
     "output_type": "execute_result"
    }
   ],
   "source": [
    "arr2"
   ]
  },
  {
   "cell_type": "code",
   "execution_count": 85,
   "metadata": {
    "collapsed": true
   },
   "outputs": [],
   "source": [
    "arr.sort()"
   ]
  },
  {
   "cell_type": "code",
   "execution_count": 86,
   "metadata": {},
   "outputs": [
    {
     "data": {
      "text/plain": [
       "array([[0, 1, 1, 5, 6],\n",
       "       [2, 3, 4, 6, 6],\n",
       "       [3, 3, 5, 8, 9]])"
      ]
     },
     "execution_count": 86,
     "metadata": {},
     "output_type": "execute_result"
    }
   ],
   "source": [
    "arr"
   ]
  },
  {
   "cell_type": "markdown",
   "metadata": {},
   "source": [
    "### Unique\tand\tOther\tSet\tLogic"
   ]
  },
  {
   "cell_type": "code",
   "execution_count": 87,
   "metadata": {
    "collapsed": true
   },
   "outputs": [],
   "source": [
    "names = np.array(['bob', 'will', 'jack', 'patrick', 'bob', 'will'])"
   ]
  },
  {
   "cell_type": "code",
   "execution_count": 88,
   "metadata": {},
   "outputs": [
    {
     "data": {
      "text/plain": [
       "array(['bob', 'jack', 'patrick', 'will'],\n",
       "      dtype='<U7')"
      ]
     },
     "execution_count": 88,
     "metadata": {},
     "output_type": "execute_result"
    }
   ],
   "source": [
    "np.unique(names)"
   ]
  },
  {
   "cell_type": "code",
   "execution_count": 89,
   "metadata": {
    "collapsed": true
   },
   "outputs": [],
   "source": [
    "ints = np.random.randint(2, size=10)"
   ]
  },
  {
   "cell_type": "code",
   "execution_count": 90,
   "metadata": {},
   "outputs": [
    {
     "data": {
      "text/plain": [
       "array([0, 0, 0, 1, 1, 1, 1, 0, 1, 1])"
      ]
     },
     "execution_count": 90,
     "metadata": {},
     "output_type": "execute_result"
    }
   ],
   "source": [
    "ints"
   ]
  },
  {
   "cell_type": "code",
   "execution_count": 91,
   "metadata": {},
   "outputs": [
    {
     "data": {
      "text/plain": [
       "array([0, 1])"
      ]
     },
     "execution_count": 91,
     "metadata": {},
     "output_type": "execute_result"
    }
   ],
   "source": [
    "np.unique(ints)"
   ]
  },
  {
   "cell_type": "code",
   "execution_count": 92,
   "metadata": {
    "collapsed": true
   },
   "outputs": [],
   "source": [
    "# np.unique(obj) is same as sorted(set(obj))"
   ]
  },
  {
   "cell_type": "code",
   "execution_count": 93,
   "metadata": {
    "collapsed": true
   },
   "outputs": [],
   "source": [
    "values = np.array([6, 0, 0, 3, 2, 5, 6])"
   ]
  },
  {
   "cell_type": "code",
   "execution_count": 94,
   "metadata": {},
   "outputs": [
    {
     "data": {
      "text/plain": [
       "array([6, 0, 0, 3, 2, 5, 6])"
      ]
     },
     "execution_count": 94,
     "metadata": {},
     "output_type": "execute_result"
    }
   ],
   "source": [
    "values"
   ]
  },
  {
   "cell_type": "code",
   "execution_count": 96,
   "metadata": {},
   "outputs": [
    {
     "data": {
      "text/plain": [
       "array([ True, False, False,  True,  True, False,  True], dtype=bool)"
      ]
     },
     "execution_count": 96,
     "metadata": {},
     "output_type": "execute_result"
    }
   ],
   "source": [
    "np.in1d(values, [2,3,6])"
   ]
  },
  {
   "cell_type": "code",
   "execution_count": null,
   "metadata": {
    "collapsed": true
   },
   "outputs": [],
   "source": []
  }
 ],
 "metadata": {
  "kernelspec": {
   "display_name": "Python 3",
   "language": "python",
   "name": "python3"
  },
  "language_info": {
   "codemirror_mode": {
    "name": "ipython",
    "version": 3
   },
   "file_extension": ".py",
   "mimetype": "text/x-python",
   "name": "python",
   "nbconvert_exporter": "python",
   "pygments_lexer": "ipython3",
   "version": "3.5.2"
  }
 },
 "nbformat": 4,
 "nbformat_minor": 2
}
