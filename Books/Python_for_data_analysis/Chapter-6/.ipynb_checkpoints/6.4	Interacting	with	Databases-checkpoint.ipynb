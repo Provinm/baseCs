{
 "cells": [
  {
   "cell_type": "markdown",
   "metadata": {},
   "source": [
    "## 6.4\tInteracting\twith\tDatabases"
   ]
  },
  {
   "cell_type": "code",
   "execution_count": 2,
   "metadata": {
    "collapsed": true
   },
   "outputs": [],
   "source": [
    "import numpy as np\n",
    "import pandas as pd\n",
    "import sqlite3"
   ]
  },
  {
   "cell_type": "code",
   "execution_count": 3,
   "metadata": {
    "collapsed": true
   },
   "outputs": [],
   "source": [
    "query = '''\n",
    "CREATE TABLE test \n",
    "(a VARCHAR(20), b VARCHAR(20),\n",
    "c REAL, d INTEGER);\n",
    "'''"
   ]
  },
  {
   "cell_type": "code",
   "execution_count": 11,
   "metadata": {
    "collapsed": true
   },
   "outputs": [],
   "source": [
    "con = sqlite3.connect('mydata.sqlite')"
   ]
  },
  {
   "cell_type": "code",
   "execution_count": 12,
   "metadata": {},
   "outputs": [
    {
     "data": {
      "text/plain": [
       "<sqlite3.Cursor at 0x7fbb25eee420>"
      ]
     },
     "execution_count": 12,
     "metadata": {},
     "output_type": "execute_result"
    }
   ],
   "source": [
    "con.execute(query)"
   ]
  },
  {
   "cell_type": "code",
   "execution_count": 13,
   "metadata": {
    "collapsed": true
   },
   "outputs": [],
   "source": [
    "con.commit()"
   ]
  },
  {
   "cell_type": "code",
   "execution_count": 7,
   "metadata": {
    "collapsed": true
   },
   "outputs": [],
   "source": [
    "data = [('atlanta', 'georgia', 1.25, 6),\n",
    "        ('tallahassee', 'florida', 2.6, 3),\n",
    "        ('sacramento', 'california', 1.7, 5)]"
   ]
  },
  {
   "cell_type": "code",
   "execution_count": 8,
   "metadata": {
    "collapsed": true
   },
   "outputs": [],
   "source": [
    "stmt = 'INSERT INTO test VALUES(?, ?, ?, ?)'"
   ]
  },
  {
   "cell_type": "code",
   "execution_count": 14,
   "metadata": {},
   "outputs": [
    {
     "data": {
      "text/plain": [
       "<sqlite3.Cursor at 0x7fbb25b9ff10>"
      ]
     },
     "execution_count": 14,
     "metadata": {},
     "output_type": "execute_result"
    }
   ],
   "source": [
    "con.executemany(stmt, data)"
   ]
  },
  {
   "cell_type": "code",
   "execution_count": null,
   "metadata": {
    "collapsed": true
   },
   "outputs": [],
   "source": []
  },
  {
   "cell_type": "code",
   "execution_count": 10,
   "metadata": {},
   "outputs": [
    {
     "name": "stdout",
     "output_type": "stream",
     "text": [
      "total 512\r\n",
      "-rw-rw-r-- 1 zx zx  56991 1月  14 14:37 6.1.ipynb\r\n",
      "-rw-rw-r-- 1 zx zx  20401 1月  14 15:04 6.2?Binary?Data?Formats.ipynb\r\n",
      "-rw-rw-r-- 1 zx zx  16584 1月  14 15:13 6.3?Interacting?with?Web?APIs.ipynb\r\n",
      "-rw-rw-r-- 1 zx zx   1953 1月  14 15:20 6.4?Interacting?with?Databases.ipynb\r\n",
      "-rw-rw-r-- 1 zx zx  89584 1月  14 15:01 data.h5\r\n",
      "-rw-rw-r-- 1 zx zx     91 1月  14 13:45 dates.csv\r\n",
      "-rw-rw-r-- 1 zx zx     43 1月  14 09:55 ex2.csv\r\n",
      "-rw-rw-r-- 1 zx zx    112 1月  14 10:22 ex3.csv\r\n",
      "-rw-rw-r-- 1 zx zx    155 1月  14 10:23 ex4.txt\r\n",
      "-rw-rw-r-- 1 zx zx    164 1月  14 10:27 ex5.csv\r\n",
      "-rw-rw-r-- 1 zx zx     79 1月  14 10:30 ex6.csv\r\n",
      "-rw-rw-r-- 1 zx zx 207821 1月  14 10:43 ex7.csv\r\n",
      "-rw-rw-r-- 1 zx zx     36 1月  14 13:49 ex8.csv\r\n",
      "-rw-rw-r-- 1 zx zx     59 1月  14 09:51 example-1.csv\r\n",
      "-rw-rw-r-- 1 zx zx    887 1月  14 14:41 from_pickle\r\n",
      "-rw-rw-r-- 1 zx zx  84157 1月  14 15:02 mydata.h5\r\n",
      "-rw-r--r-- 1 zx zx      0 1月  14 15:18 mydata.sqlite\r\n"
     ]
    }
   ],
   "source": [
    "!ls -l"
   ]
  },
  {
   "cell_type": "code",
   "execution_count": null,
   "metadata": {
    "collapsed": true
   },
   "outputs": [],
   "source": []
  }
 ],
 "metadata": {
  "kernelspec": {
   "display_name": "Python 3",
   "language": "python",
   "name": "python3"
  },
  "language_info": {
   "codemirror_mode": {
    "name": "ipython",
    "version": 3
   },
   "file_extension": ".py",
   "mimetype": "text/x-python",
   "name": "python",
   "nbconvert_exporter": "python",
   "pygments_lexer": "ipython3",
   "version": "3.5.2"
  }
 },
 "nbformat": 4,
 "nbformat_minor": 2
}
