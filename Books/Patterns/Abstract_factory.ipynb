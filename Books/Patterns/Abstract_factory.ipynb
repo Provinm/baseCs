{
 "cells": [
  {
   "cell_type": "markdown",
   "metadata": {},
   "source": [
    "抽象工厂模式\n",
    "\n",
    "本文一共展示了两种抽象工厂模式\n",
    "\n",
    "- 一种基于分类\n",
    "- 一种基于继承\n",
    "\n",
    "1、基于分类\n",
    "\n",
    "从顶层开始设计\n",
    "\n",
    "PetShop:\n",
    "\n",
    "- Cat_Fac\n",
    "- Dog_Fac\n",
    "\n",
    "Cat_fac:\n",
    "\n",
    "- 英短\n",
    "- 田园\n",
    "\n",
    "英短：\n",
    "\n",
    "- 老李家的英短\n",
    "- 老王家的英短\n",
    "\n",
    "做好层级结构之后，有一些函数来控制创建相应的实例\n",
    "\n",
    "2、基于继承\n",
    "\n",
    "建立一个大型的类\n",
    "\n",
    "Pet\n",
    "\n",
    "然后所有的动物类都继承此类\n",
    "\n",
    "在子类中规定好相关的成员属性，最后通过一定的方法得到子类的实例"
   ]
  },
  {
   "cell_type": "code",
   "execution_count": 3,
   "metadata": {
    "collapsed": true
   },
   "outputs": [],
   "source": [
    "import six\n",
    "import abc\n",
    "import random"
   ]
  },
  {
   "cell_type": "code",
   "execution_count": 18,
   "metadata": {},
   "outputs": [],
   "source": [
    "class PetShop(object):\n",
    "    '''a pet shop'''\n",
    "    def __init__(self, animal_factory=None):\n",
    "        self.animal_factory = animal_factory\n",
    "    \n",
    "    def show_pet(self):\n",
    "        \n",
    "        pet = self.animal_factory.get_pet()\n",
    "        print(\"we have a lovely {}\".format(pet))\n",
    "        print(\"it says {}\".format(pet.speak()))\n",
    "        print(\"we also have {}\".format(self.animal_factory.get_food()))"
   ]
  },
  {
   "cell_type": "code",
   "execution_count": 6,
   "metadata": {
    "collapsed": true
   },
   "outputs": [],
   "source": [
    "class Dog(object):\n",
    "    \n",
    "    def speak(self):\n",
    "        \n",
    "        return 'woof'\n",
    "    \n",
    "    def __str__(self):\n",
    "        \n",
    "        return 'Dog'"
   ]
  },
  {
   "cell_type": "code",
   "execution_count": 7,
   "metadata": {
    "collapsed": true
   },
   "outputs": [],
   "source": [
    "class Cat(object):\n",
    "    \n",
    "    def speak(self):\n",
    "        return 'mow'\n",
    "    \n",
    "    def __str__(self):\n",
    "        return 'Cat'\n",
    "    "
   ]
  },
  {
   "cell_type": "code",
   "execution_count": 8,
   "metadata": {
    "collapsed": true
   },
   "outputs": [],
   "source": [
    "class DogFactory(object):\n",
    "    \n",
    "    def get_pet(self):\n",
    "        \n",
    "        return Dog()\n",
    "    \n",
    "    def get_food(self):\n",
    "        \n",
    "        return \"dog food\""
   ]
  },
  {
   "cell_type": "code",
   "execution_count": 9,
   "metadata": {
    "collapsed": true
   },
   "outputs": [],
   "source": [
    "class CatFactory(object):\n",
    "    \n",
    "    def get_pet(self):\n",
    "        return Cat()\n",
    "    \n",
    "    def get_food(self):\n",
    "        return 'Cat food'\n"
   ]
  },
  {
   "cell_type": "code",
   "execution_count": 10,
   "metadata": {
    "collapsed": true
   },
   "outputs": [],
   "source": [
    "def get_factory():\n",
    "    \n",
    "    return random.choice([DogFactory, CatFactory])()"
   ]
  },
  {
   "cell_type": "code",
   "execution_count": 23,
   "metadata": {
    "collapsed": true
   },
   "outputs": [],
   "source": [
    "@six.add_metaclass(abc.ABCMeta)\n",
    "class Pet(object):\n",
    "    \n",
    "    @classmethod\n",
    "    def from_name(cls, name):\n",
    "        for sub_cls in cls.__subclasses__():\n",
    "            if name == sub_cls.__name__.lower():\n",
    "                return sub_cls()\n",
    "           \n",
    "    @abc.abstractmethod\n",
    "    def speak():\n",
    "        ''''''\n",
    "        "
   ]
  },
  {
   "cell_type": "code",
   "execution_count": 24,
   "metadata": {
    "collapsed": true
   },
   "outputs": [],
   "source": [
    "class Kitty(Pet):\n",
    "    \n",
    "    def speak(self):\n",
    "        return 'meow'\n",
    "    \n"
   ]
  },
  {
   "cell_type": "code",
   "execution_count": 25,
   "metadata": {},
   "outputs": [],
   "source": [
    "class Duck(Pet):\n",
    "    def speak(self):\n",
    "        return 'quak'"
   ]
  },
  {
   "cell_type": "code",
   "execution_count": 19,
   "metadata": {},
   "outputs": [
    {
     "name": "stdout",
     "output_type": "stream",
     "text": [
      "we have a lovely Cat\n",
      "it says mow\n",
      "we also have Cat food\n",
      "====================\n",
      "we have a lovely Cat\n",
      "it says mow\n",
      "we also have Cat food\n",
      "====================\n",
      "we have a lovely Cat\n",
      "it says mow\n",
      "we also have Cat food\n",
      "====================\n"
     ]
    }
   ],
   "source": [
    "for i in range(3):\n",
    "    shop = PetShop(get_factory())\n",
    "    shop.show_pet()\n",
    "    \n",
    "    print('='*20)"
   ]
  },
  {
   "cell_type": "code",
   "execution_count": 26,
   "metadata": {},
   "outputs": [
    {
     "name": "stdout",
     "output_type": "stream",
     "text": [
      "kitty: meow\n",
      "duck: quak\n"
     ]
    }
   ],
   "source": [
    "for name in ['kitty', 'duck']:\n",
    "    pet = Pet.from_name(name)\n",
    "    print(\"{}: {}\".format(name, pet.speak()))"
   ]
  },
  {
   "cell_type": "code",
   "execution_count": null,
   "metadata": {
    "collapsed": true
   },
   "outputs": [],
   "source": []
  }
 ],
 "metadata": {
  "kernelspec": {
   "display_name": "Python 3",
   "language": "python",
   "name": "python3"
  },
  "language_info": {
   "codemirror_mode": {
    "name": "ipython",
    "version": 3
   },
   "file_extension": ".py",
   "mimetype": "text/x-python",
   "name": "python",
   "nbconvert_exporter": "python",
   "pygments_lexer": "ipython3",
   "version": "3.5.2"
  }
 },
 "nbformat": 4,
 "nbformat_minor": 2
}
