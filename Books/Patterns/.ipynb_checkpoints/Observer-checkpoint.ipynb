{
 "cells": [
  {
   "cell_type": "markdown",
   "metadata": {},
   "source": [
    "## Observer"
   ]
  },
  {
   "cell_type": "code",
   "execution_count": 1,
   "metadata": {
    "collapsed": true
   },
   "outputs": [],
   "source": [
    "import threading"
   ]
  },
  {
   "cell_type": "code",
   "execution_count": 41,
   "metadata": {},
   "outputs": [],
   "source": [
    "def synchronized(funx):\n",
    "    \n",
    "    def f(*args):\n",
    "        self = args[0]\n",
    "        self.mutex.acquire()\n",
    "        \n",
    "        try:\n",
    "            funx(*args)\n",
    "        finally:\n",
    "            self.mutex.release()\n",
    "            \n",
    "    return f\n",
    "\n",
    "def synchronize(cls, names=None):\n",
    "    \n",
    "    if isinstance(names, str):\n",
    "        names = names.split()\n",
    "        \n",
    "    for name, val in cls.__dict__.items():\n",
    "        if callable(val) and name != '__init__' and \\\n",
    "            (names == None or name in names):\n",
    "#                 print(name, val)\n",
    "                setattr(cls, name, synchronized(val))\n",
    "                \n",
    "class Synchronization(object):\n",
    "    \n",
    "    def __init__(self):\n",
    "        self.mutex = threading.RLock()\n",
    "        \n"
   ]
  },
  {
   "cell_type": "code",
   "execution_count": 31,
   "metadata": {
    "collapsed": true
   },
   "outputs": [],
   "source": [
    "# test syncronization\n",
    "\n",
    "class C(Synchronization):\n",
    "    \n",
    "    def __init__(self):\n",
    "        super(C, self).__init__()\n",
    "        self.data = 1\n",
    "    def m(self):\n",
    "        self.data += 1\n",
    "        return self.data\n",
    "    \n",
    "    m = synchronized(m)\n",
    "    def f(self):\n",
    "        return 47\n",
    "    def g(self):\n",
    "        return 'spam'\n",
    "    \n",
    "    "
   ]
  },
  {
   "cell_type": "code",
   "execution_count": 12,
   "metadata": {
    "collapsed": true
   },
   "outputs": [],
   "source": [
    "c = C()"
   ]
  },
  {
   "cell_type": "code",
   "execution_count": 16,
   "metadata": {},
   "outputs": [],
   "source": [
    "c.m()"
   ]
  },
  {
   "cell_type": "code",
   "execution_count": 17,
   "metadata": {},
   "outputs": [
    {
     "data": {
      "text/plain": [
       "4"
      ]
     },
     "execution_count": 17,
     "metadata": {},
     "output_type": "execute_result"
    }
   ],
   "source": [
    "c.data"
   ]
  },
  {
   "cell_type": "code",
   "execution_count": 18,
   "metadata": {},
   "outputs": [
    {
     "data": {
      "text/plain": [
       "<bound method synchronized.<locals>.f of <__main__.C object at 0x7f2ef7db2e10>>"
      ]
     },
     "execution_count": 18,
     "metadata": {},
     "output_type": "execute_result"
    }
   ],
   "source": [
    "c.m"
   ]
  },
  {
   "cell_type": "code",
   "execution_count": 32,
   "metadata": {
    "collapsed": true
   },
   "outputs": [],
   "source": [
    "class D(C):\n",
    "    \n",
    "    def __init__(self):\n",
    "        super(D, self).__init__()\n",
    "        \n",
    "    def f(self):\n",
    "        return super(D, self).f()"
   ]
  },
  {
   "cell_type": "code",
   "execution_count": 33,
   "metadata": {},
   "outputs": [
    {
     "name": "stdout",
     "output_type": "stream",
     "text": [
      "f <function D.f at 0x7f2ef7d9eb70>\n"
     ]
    }
   ],
   "source": [
    "synchronize(D)"
   ]
  },
  {
   "cell_type": "code",
   "execution_count": 34,
   "metadata": {
    "collapsed": true
   },
   "outputs": [],
   "source": [
    "d = D()"
   ]
  },
  {
   "cell_type": "code",
   "execution_count": 35,
   "metadata": {
    "collapsed": true
   },
   "outputs": [],
   "source": [
    "d.f()"
   ]
  },
  {
   "cell_type": "code",
   "execution_count": 36,
   "metadata": {},
   "outputs": [
    {
     "data": {
      "text/plain": [
       "'spam'"
      ]
     },
     "execution_count": 36,
     "metadata": {},
     "output_type": "execute_result"
    }
   ],
   "source": [
    "d.g()"
   ]
  },
  {
   "cell_type": "code",
   "execution_count": 38,
   "metadata": {},
   "outputs": [],
   "source": [
    "d.m()"
   ]
  },
  {
   "cell_type": "code",
   "execution_count": 42,
   "metadata": {},
   "outputs": [],
   "source": [
    "# 观察者模式\n",
    "\n",
    "class Observer:\n",
    "    \n",
    "    def update(observable, args):\n",
    "        pass\n",
    "    \n",
    "class Observable(Synchronization):\n",
    "    \n",
    "    def __init__(self):\n",
    "        \n",
    "        self.obs = []\n",
    "        self.changed = 0\n",
    "        super(Observable, self).__init__()\n",
    "        \n",
    "    def addObservable(self, observer):\n",
    "        if observer not in self.obs:\n",
    "            self.obs.append(observer)\n",
    "            \n",
    "    def deleteObserver(self, observer):\n",
    "        \n",
    "        self.obs.remove(observer)\n",
    "        \n",
    "    def notifyObservers(self):\n",
    "        \n",
    "        self.mutex.acquire()\n",
    "        try: \n",
    "            if not self.changed:\n",
    "                return \n",
    "            localArray = self.obs[:]\n",
    "            self.clearChanged()\n",
    "            \n",
    "        finally:\n",
    "            self.mutex.release()\n",
    "            \n",
    "        for observer in localArray:\n",
    "            observer.update(self, arg)\n",
    "            \n",
    "    def deleteObservers(self):\n",
    "        self.obs = []\n",
    "        \n",
    "    def setChanged(self):\n",
    "        self.changed = 1\n",
    "    \n",
    "    def clearChanged(self):\n",
    "        self.changed = 0\n",
    "        \n",
    "    def hasChanged(self):\n",
    "        return self.changed\n",
    "    def countObserver(self):\n",
    "        return len(self.obs)\n",
    "\n",
    "synchronize(Observable,\n",
    "  \"addObserver deleteObserver deleteObservers \" +\n",
    "  \"setChanged clearChanged hasChanged \" +\n",
    "  \"countObservers\")"
   ]
  },
  {
   "cell_type": "code",
   "execution_count": null,
   "metadata": {
    "collapsed": true
   },
   "outputs": [],
   "source": [
    "# example\n",
    "\n",
    "class Flower:\n",
    "    \n",
    "    def __init__(self):\n",
    "        self.isOpen = 0\n",
    "        self.openNotifier = Flower.OpenNotifier(self)\n",
    "        self.closeNotifier = Flower.CloseNotifier(self)\n",
    "        \n",
    "    def open(self):\n",
    "        self.isOpen = 1\n",
    "        self.openNotifier.notifyObservers()\n",
    "        self.closeNotifier.open()\n",
    "        \n",
    "    def close(self):\n",
    "        self.isOpen = 0\n",
    "        self.closeNotifier.notifyObservers()\n",
    "        self.openNotifier.close()\n",
    "        \n",
    "    class OpenNotifier(Observable):\n",
    "        def __init__(self, outer):\n",
    "            super(OpenNotifier, self).__init__()\n",
    "            self.outer = outer\n",
    "            self.alreadyOpen = 0\n",
    "            \n",
    "        def notifyObservers(self):\n",
    "            if self.outer.isOpen() and not self.alreadyOpen():\n",
    "                self.setChanged()\n",
    "                super(OpenNotifier, self).notifyObservers()\n",
    "                self.alreadyOpen = 1\n",
    "                \n",
    "        def close(self):\n",
    "            self.alreadyOpen =0\n",
    "            \n",
    "    class CloseNotifier(Observable):\n",
    "        def __init__(self, outer):\n",
    "            super(CloseNotifier, self).__init__()\n",
    "            self.outer = outer\n",
    "            self.alreadyClose = 0\n",
    "        def notifyObservers(self):\n",
    "            if not self.outer.isOpen and not self.alreadyClose():\n",
    "                self.setChanged()\n",
    "                super(CloseNotifier, self).__init__(self)\n",
    "                self.alreadyClose = 1\n",
    "        def open(self):\n",
    "            self.alreadyClose = 0\n",
    "            \n",
    "                "
   ]
  }
 ],
 "metadata": {
  "kernelspec": {
   "display_name": "Python 3",
   "language": "python",
   "name": "python3"
  },
  "language_info": {
   "codemirror_mode": {
    "name": "ipython",
    "version": 3
   },
   "file_extension": ".py",
   "mimetype": "text/x-python",
   "name": "python",
   "nbconvert_exporter": "python",
   "pygments_lexer": "ipython3",
   "version": "3.5.2"
  }
 },
 "nbformat": 4,
 "nbformat_minor": 2
}
