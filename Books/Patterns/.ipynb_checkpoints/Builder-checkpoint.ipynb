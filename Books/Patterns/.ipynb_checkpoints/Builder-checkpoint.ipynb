{
 "cells": [
  {
   "cell_type": "code",
   "execution_count": 1,
   "metadata": {
    "collapsed": true
   },
   "outputs": [],
   "source": [
    "# 建造者模式"
   ]
  },
  {
   "cell_type": "code",
   "execution_count": 2,
   "metadata": {
    "collapsed": true
   },
   "outputs": [],
   "source": [
    "# derector\n",
    "\n",
    "class Director(object):\n",
    "    \n",
    "    def __init__(self):\n",
    "        self.builder = None\n",
    "    \n",
    "    def construct_building(self):\n",
    "        self.builder.new_building()\n",
    "        self.builder.build_floor()\n",
    "        self.builder.build_size()\n",
    "        \n",
    "    def get_building(self):\n",
    "        return self.builder.building()"
   ]
  },
  {
   "cell_type": "code",
   "execution_count": 3,
   "metadata": {
    "collapsed": true
   },
   "outputs": [],
   "source": [
    "# abstract builder\n",
    "\n",
    "class Builder(object):\n",
    "    \n",
    "    def __init__(self):\n",
    "        self.building = None\n",
    "        \n",
    "    def new_building(self):\n",
    "        self.building = Building()\n",
    "        \n",
    "    def build_floor(self):\n",
    "        raise NotImplementedError\n",
    "        \n",
    "    def build_size(self):\n",
    "        raise NotImplementedError\n",
    "        \n",
    "        "
   ]
  },
  {
   "cell_type": "code",
   "execution_count": 5,
   "metadata": {},
   "outputs": [],
   "source": [
    "# create builders\n",
    "\n",
    "class BuilderHouse(Builder):\n",
    "    \n",
    "    def build_floor(self):\n",
    "        self.building.floor = 'One'\n",
    "        \n",
    "    def build_size(self):\n",
    "        self.building.size = 'Big'\n",
    "        \n",
    "\n",
    "class BuilderFlat(Builder):\n",
    "    \n",
    "    def build_floor(self):\n",
    "        self.building.floor = 'More than one'\n",
    "        \n",
    "    def build_size(self):\n",
    "        self.building.size = 'Small'"
   ]
  },
  {
   "cell_type": "code",
   "execution_count": null,
   "metadata": {
    "collapsed": true
   },
   "outputs": [],
   "source": [
    "# product\n",
    "\n",
    "class Building(object):\n",
    "    \n",
    "    def __init__(self):\n",
    "        self.floor = None\n",
    "        self.size = None\n",
    "        \n",
    "    def __repr__(self):\n",
    "        return 'Floor: {0.floor} | Size: {0.size}'.format(self)"
   ]
  }
 ],
 "metadata": {
  "kernelspec": {
   "display_name": "Python 3",
   "language": "python",
   "name": "python3"
  },
  "language_info": {
   "codemirror_mode": {
    "name": "ipython",
    "version": 3
   },
   "file_extension": ".py",
   "mimetype": "text/x-python",
   "name": "python",
   "nbconvert_exporter": "python",
   "pygments_lexer": "ipython3",
   "version": "3.5.2"
  }
 },
 "nbformat": 4,
 "nbformat_minor": 2
}
