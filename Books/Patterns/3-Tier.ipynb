{
 "cells": [
  {
   "cell_type": "code",
   "execution_count": 11,
   "metadata": {
    "collapsed": true
   },
   "outputs": [],
   "source": [
    "# Separates presentation, application processing, and data management functions."
   ]
  },
  {
   "cell_type": "code",
   "execution_count": 12,
   "metadata": {
    "collapsed": true
   },
   "outputs": [],
   "source": [
    "class Data(object):\n",
    "    \n",
    "    products = {\n",
    "        'milk': {'price': 1.5, 'quatity': 10},\n",
    "        'egg': {'price': 0.2, 'quatity': 100},\n",
    "        'cheese': {'price': 2.0, 'quatity': 10},\n",
    "    }\n",
    "    \n",
    "    def __get__(self, obj, klas):\n",
    "        print('Fetching from data store')\n",
    "        return {'product': self.products}\n",
    "    \n",
    "    "
   ]
  },
  {
   "cell_type": "code",
   "execution_count": 13,
   "metadata": {
    "collapsed": true
   },
   "outputs": [],
   "source": [
    "class BusinessLogic(object):\n",
    "    \n",
    "    data = Data()\n",
    "    def product_list(self):\n",
    "        return self.data['product'].keys()\n",
    "    \n",
    "    def product_information(self, product):\n",
    "        return self.data['product'].get(product, None)\n",
    "    \n",
    "    "
   ]
  },
  {
   "cell_type": "code",
   "execution_count": 14,
   "metadata": {
    "collapsed": true
   },
   "outputs": [],
   "source": [
    "class Ui(object):\n",
    "    \n",
    "    def __init__(self):\n",
    "        self.business_logic = BusinessLogic()\n",
    "        \n",
    "    def get_product_list(self):\n",
    "        print('PRODUCT LIST:')\n",
    "        for product in self.business_logic.product_list():\n",
    "            print(product)\n",
    "            \n",
    "        print('')\n",
    "        \n",
    "    def get_product_information(self, product):\n",
    "        product_info = self.business_logic.product_information(product)\n",
    "        if product_info:\n",
    "            print('PRODUCT INFOMATION')\n",
    "            print(product_info)\n",
    "        else:\n",
    "            print('not exist')"
   ]
  },
  {
   "cell_type": "code",
   "execution_count": 15,
   "metadata": {
    "collapsed": true
   },
   "outputs": [],
   "source": [
    "ui = Ui()"
   ]
  },
  {
   "cell_type": "code",
   "execution_count": 16,
   "metadata": {},
   "outputs": [
    {
     "name": "stdout",
     "output_type": "stream",
     "text": [
      "PRODUCT LIST:\n",
      "Fetching from data store\n",
      "egg\n",
      "milk\n",
      "cheese\n",
      "\n"
     ]
    }
   ],
   "source": [
    "ui.get_product_list()"
   ]
  },
  {
   "cell_type": "code",
   "execution_count": 17,
   "metadata": {},
   "outputs": [
    {
     "name": "stdout",
     "output_type": "stream",
     "text": [
      "Fetching from data store\n",
      "PRODUCT INFOMATION\n",
      "{'price': 0.2, 'quatity': 100}\n"
     ]
    }
   ],
   "source": [
    "ui.get_product_information('egg')"
   ]
  },
  {
   "cell_type": "code",
   "execution_count": 18,
   "metadata": {},
   "outputs": [
    {
     "name": "stdout",
     "output_type": "stream",
     "text": [
      "Fetching from data store\n",
      "PRODUCT INFOMATION\n",
      "{'price': 1.5, 'quatity': 10}\n"
     ]
    }
   ],
   "source": [
    "ui.get_product_information('milk')"
   ]
  },
  {
   "cell_type": "code",
   "execution_count": null,
   "metadata": {
    "collapsed": true
   },
   "outputs": [],
   "source": []
  }
 ],
 "metadata": {
  "kernelspec": {
   "display_name": "Python 3",
   "language": "python",
   "name": "python3"
  },
  "language_info": {
   "codemirror_mode": {
    "name": "ipython",
    "version": 3
   },
   "file_extension": ".py",
   "mimetype": "text/x-python",
   "name": "python",
   "nbconvert_exporter": "python",
   "pygments_lexer": "ipython3",
   "version": "3.5.2"
  }
 },
 "nbformat": 4,
 "nbformat_minor": 2
}
