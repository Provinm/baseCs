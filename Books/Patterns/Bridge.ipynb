{
 "cells": [
  {
   "cell_type": "code",
   "execution_count": 1,
   "metadata": {
    "collapsed": true
   },
   "outputs": [],
   "source": [
    "# Bridge"
   ]
  },
  {
   "cell_type": "code",
   "execution_count": 2,
   "metadata": {
    "collapsed": true
   },
   "outputs": [],
   "source": [
    "class DrawingApi1(object):\n",
    "    \n",
    "    def draw_circle(self, x, y, radius):\n",
    "        \n",
    "        print('API1.circle at {}:{} radius {}'.format(x, y, radius))"
   ]
  },
  {
   "cell_type": "code",
   "execution_count": 3,
   "metadata": {
    "collapsed": true
   },
   "outputs": [],
   "source": [
    "class DrawingApi2(object):\n",
    "    \n",
    "    def draw_circle(self, x, y, radius):\n",
    "        \n",
    "        print('API2.circle at {}:{} radius {}'.format(x, y, radius))"
   ]
  },
  {
   "cell_type": "code",
   "execution_count": 9,
   "metadata": {
    "collapsed": true
   },
   "outputs": [],
   "source": [
    "class CircleShape(object):\n",
    "    \n",
    "    def __init__(self, x, y, radius, drawing_api):\n",
    "        \n",
    "        self.x = x\n",
    "        self.y = y\n",
    "        self._radius = radius\n",
    "        self._drawing_api = drawing_api\n",
    "        \n",
    "    def draw(self):\n",
    "        \n",
    "        self._drawing_api.draw_circle(self.x, self.y, self._radius)\n",
    "        \n",
    "    def scale(self, pct):\n",
    "        self._radius *= pct"
   ]
  },
  {
   "cell_type": "code",
   "execution_count": 10,
   "metadata": {
    "collapsed": true
   },
   "outputs": [],
   "source": [
    "c1 = CircleShape(1, 2, 3, DrawingApi1())"
   ]
  },
  {
   "cell_type": "code",
   "execution_count": 11,
   "metadata": {
    "collapsed": true
   },
   "outputs": [],
   "source": [
    "c2 = CircleShape(5, 7, 11, DrawingApi2())"
   ]
  },
  {
   "cell_type": "code",
   "execution_count": 12,
   "metadata": {},
   "outputs": [
    {
     "name": "stdout",
     "output_type": "stream",
     "text": [
      "API1.circle at 1:2 radius 7.5\n",
      "API2.circle at 5:7 radius 27.5\n"
     ]
    }
   ],
   "source": [
    "for shape in [c1, c2]:\n",
    "    \n",
    "    shape.scale(2.5)\n",
    "    shape.draw()"
   ]
  },
  {
   "cell_type": "code",
   "execution_count": null,
   "metadata": {
    "collapsed": true
   },
   "outputs": [],
   "source": []
  }
 ],
 "metadata": {
  "kernelspec": {
   "display_name": "Python 3",
   "language": "python",
   "name": "python3"
  },
  "language_info": {
   "codemirror_mode": {
    "name": "ipython",
    "version": 3
   },
   "file_extension": ".py",
   "mimetype": "text/x-python",
   "name": "python",
   "nbconvert_exporter": "python",
   "pygments_lexer": "ipython3",
   "version": "3.5.2"
  }
 },
 "nbformat": 4,
 "nbformat_minor": 2
}
