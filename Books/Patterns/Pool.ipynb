{
 "cells": [
  {
   "cell_type": "code",
   "execution_count": 13,
   "metadata": {
    "collapsed": true
   },
   "outputs": [],
   "source": [
    "# pool"
   ]
  },
  {
   "cell_type": "code",
   "execution_count": 14,
   "metadata": {
    "collapsed": true
   },
   "outputs": [],
   "source": [
    "class ObjectPool(object):\n",
    "    \n",
    "    def __init__(self, queue, auto_get=False):\n",
    "        \n",
    "        self._queue = queue\n",
    "        self.item = self._queue.get() if auto_get else None\n",
    "        \n",
    "    def __enter__(self):\n",
    "        if self.item is None:\n",
    "            self.item = self._queue.get()\n",
    "            \n",
    "        return self.item\n",
    "    \n",
    "    def __exit__(self, Type, value, traceback):\n",
    "        if self.item is not None:\n",
    "            self._queue.put(self.item)\n",
    "            self.item = None\n",
    "            \n",
    "    def __del__(self):\n",
    "        print('mark')\n",
    "        if self.item is not None:\n",
    "            self._queue.put(self.item)\n",
    "            self.item = None"
   ]
  },
  {
   "cell_type": "code",
   "execution_count": 15,
   "metadata": {
    "collapsed": true
   },
   "outputs": [],
   "source": [
    "import queue"
   ]
  },
  {
   "cell_type": "code",
   "execution_count": 16,
   "metadata": {
    "collapsed": true
   },
   "outputs": [],
   "source": [
    "sample_queue = queue.Queue()"
   ]
  },
  {
   "cell_type": "code",
   "execution_count": 17,
   "metadata": {
    "collapsed": true
   },
   "outputs": [],
   "source": [
    "sample_queue.put('yam')"
   ]
  },
  {
   "cell_type": "code",
   "execution_count": 18,
   "metadata": {},
   "outputs": [
    {
     "name": "stdout",
     "output_type": "stream",
     "text": [
      "inside yam\n",
      "mark\n",
      "outside yam\n"
     ]
    }
   ],
   "source": [
    "with ObjectPool(sample_queue, True) as obj:\n",
    "    print('inside {}'.format(obj))\n",
    "    \n",
    "print('outside {}'.format(sample_queue.get()))"
   ]
  },
  {
   "cell_type": "code",
   "execution_count": 19,
   "metadata": {},
   "outputs": [
    {
     "data": {
      "text/plain": [
       "'yam'"
      ]
     },
     "execution_count": 19,
     "metadata": {},
     "output_type": "execute_result"
    }
   ],
   "source": [
    "obj"
   ]
  },
  {
   "cell_type": "code",
   "execution_count": 20,
   "metadata": {},
   "outputs": [
    {
     "data": {
      "text/plain": [
       "str"
      ]
     },
     "execution_count": 20,
     "metadata": {},
     "output_type": "execute_result"
    }
   ],
   "source": [
    "type(obj)"
   ]
  },
  {
   "cell_type": "code",
   "execution_count": null,
   "metadata": {
    "collapsed": true
   },
   "outputs": [],
   "source": []
  }
 ],
 "metadata": {
  "kernelspec": {
   "display_name": "Python 3",
   "language": "python",
   "name": "python3"
  },
  "language_info": {
   "codemirror_mode": {
    "name": "ipython",
    "version": 3
   },
   "file_extension": ".py",
   "mimetype": "text/x-python",
   "name": "python",
   "nbconvert_exporter": "python",
   "pygments_lexer": "ipython3",
   "version": "3.5.2"
  }
 },
 "nbformat": 4,
 "nbformat_minor": 2
}
