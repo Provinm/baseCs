{
 "cells": [
  {
   "cell_type": "code",
   "execution_count": 4,
   "metadata": {
    "collapsed": true
   },
   "outputs": [],
   "source": [
    "# 王炎\n",
    "# https://paste.ubuntu.com/25606404/\n",
    "def uniquePath(m,n):\n",
    "    #定义一个list作为网格元素,每个元素初始值为1\n",
    "    wangge=[[1 for i in range(n)] for j in range(m)]\n",
    "\n",
    "    #将有路径选择的元素值设定为2\n",
    "    for i in range(m-1):\n",
    "        for j in range(n-1):\n",
    "            wangge[i][j]=2\n",
    "\n",
    "    #通过观察，因为起点终点固定，按照规则不论是何种走法都有相同的步数（迭代次数）\n",
    "    bushu=m+n-2\n",
    "\n",
    "    #将m×n的网格看做是一个迷宫，然后有一个探险队前往探险，每当探险队到达有岔路的时候，探险队将会分成两只探险队分别前往\n",
    "    #最后统计探险队分队数量，就有多少种路径\n",
    "    group = 1\n",
    "\n",
    "    # 定义一个探险队开始的位置\n",
    "    position = [[0, 0]]\n",
    "\n",
    "    # 判断该位置有没有岔路\n",
    "    def fenlie(i,j):\n",
    "        return wangge[i][j]\n",
    "    pass\n",
    "\n",
    "    #探险开始\n",
    "    for a in range(bushu):\n",
    "        for b in range(len(position)):\n",
    "            #先判断探险队小队所在位置是否有岔路，有岔路分为两只探险队\n",
    "            if fenlie(position[b][0],position[b][1])==2:\n",
    "                K=position[b].copy()\n",
    "                position.append(K)\n",
    "                position[b][0]+=1\n",
    "                position[len(position)-1][1] +=1\n",
    "                group += 1\n",
    "            #如果靠近底边直接向前走一格\n",
    "            elif position[b][0]==m-1:\n",
    "                position[b][1]+=1\n",
    "            # 如果靠近侧边直接向下走一格\n",
    "            elif position[b][1] == n - 1:\n",
    "                position[b][0] += 1\n",
    "    print(group)\n",
    "    return group"
   ]
  },
  {
   "cell_type": "code",
   "execution_count": 5,
   "metadata": {},
   "outputs": [
    {
     "name": "stdout",
     "output_type": "stream",
     "text": [
      "1\n",
      "6\n",
      "6906900\n"
     ]
    }
   ],
   "source": [
    "assert uniquePath(1, 2) == 1\n",
    "assert uniquePath(3, 3) == 6\n",
    "assert uniquePath(10, 20) == 6906900\n"
   ]
  },
  {
   "cell_type": "code",
   "execution_count": 6,
   "metadata": {},
   "outputs": [
    {
     "name": "stdout",
     "output_type": "stream",
     "text": [
      "1\n",
      "6\n",
      "6906900\n"
     ]
    }
   ],
   "source": [
    "# 狮子不咬人\n",
    "# https://paste.ubuntu.com/25604140/\n",
    "def uniquePath_own(m, n):\n",
    "    if m == 1:\n",
    "        return 1\n",
    "    if m == 2:\n",
    "        return n\n",
    "    return sum(uniquePath_own(m-1, n-i+1) for i in range(1, n+1))\n",
    "\n",
    "\n",
    "if __name__ == '__main__':\n",
    "    print(uniquePath_own(1, 2))\n",
    "    print(uniquePath_own(3, 3))\n",
    "    print(uniquePath_own(10, 20))"
   ]
  },
  {
   "cell_type": "code",
   "execution_count": 7,
   "metadata": {
    "collapsed": true
   },
   "outputs": [],
   "source": [
    "# elyt￼\n",
    "# http://paste.ubuntu.com/25593236/\n",
    "def uniquePath(m, n):\n",
    "    '''\n",
    "    :type m: int\n",
    "    :type n: int\n",
    "    :rtype: int\n",
    "    '''\n",
    "    if (m==1) or (n==1):\n",
    "        return 1\n",
    "    else:\n",
    "        x=m+n-2\n",
    "        y=min(m,n)-1\n",
    "        return f(x)/(f(x-y)*f(y))\n",
    "\n",
    "def f(n):\n",
    "    if(n==0) or (n==1):\n",
    "        return 1\n",
    "    else:\n",
    "        return n * f(n-1)\n",
    "\n",
    "assert uniquePath(1,2) == 1\n",
    "assert uniquePath(3,3) == 6\n",
    "assert uniquePath(10,20) == 6906900\n"
   ]
  },
  {
   "cell_type": "code",
   "execution_count": 8,
   "metadata": {
    "collapsed": true
   },
   "outputs": [],
   "source": [
    "# elyt￼\n",
    "# https://paste.ubuntu.com/25593211/\n",
    "def uniquePath(m, n):\n",
    "    '''\n",
    "    :type m: int\n",
    "    :type n: int\n",
    "    :rtype: int\n",
    "    '''\n",
    "    if (m==1) or (n==1):\n",
    "        return 1\n",
    "    else:\n",
    "        return uniquePath(m,n-1)+uniquePath(m-1,n)\n",
    "\n",
    "assert uniquePath(1,2) == 1\n",
    "assert uniquePath(3,3) == 6\n",
    "assert uniquePath(10,20) == 6906900"
   ]
  },
  {
   "cell_type": "code",
   "execution_count": 9,
   "metadata": {},
   "outputs": [
    {
     "name": "stdout",
     "output_type": "stream",
     "text": [
      "1.0\n",
      "6.0\n",
      "6906900.0\n"
     ]
    }
   ],
   "source": [
    "# LDJ￼\n",
    "# https://github.com/NyanCat12/CrossinWeekly/blob/master/20170922/0922.py\n",
    "import math\n",
    "\n",
    "def uniquePath(m,n):\n",
    "\treturn ((math.factorial(m+n-2))/((math.factorial(m-1))*(math.factorial(n-1))))\n",
    "\n",
    "if __name__ == \"__main__\":\n",
    "\tprint (uniquePath(1,1))\n",
    "\tprint (uniquePath(3,3))\n",
    "\tprint (uniquePath(10,20))\n",
    "    "
   ]
  },
  {
   "cell_type": "code",
   "execution_count": 10,
   "metadata": {
    "collapsed": true
   },
   "outputs": [],
   "source": [
    "# -*- coding:utf-8 -*-\n",
    "# bolin 2017-09-22\n",
    "# https://paste.ubuntu.com/25591094/\n",
    "# 题目如下\n",
    "'''\n",
    "现有一个 m × n (m,n 都小于 100)的网格，位于左上角的 A 要去寻找右下角的 B，A 只能向下或者向右行走\n",
    "现在问题来了，按照刚才的规则，A 到达 B 一共有多少种不重复的路径？\n",
    "'''\n",
    "\n",
    "def uniquePath(m, n):\n",
    "    '''\n",
    "    :type m: int\n",
    "    :type n: int\n",
    "    :rtype: int\n",
    "    '''\n",
    "    if m == 1 or n==1:\n",
    "        return 1\n",
    "    if m > 1 and n > 1:\n",
    "        return uniquePath(m-1, n) + uniquePath(m, n-1)\n",
    "\n",
    "assert uniquePath(1, 2) == 1\n",
    "assert uniquePath(3, 3) == 6\n",
    "assert uniquePath(10, 20) == 6906900"
   ]
  },
  {
   "cell_type": "code",
   "execution_count": 11,
   "metadata": {
    "collapsed": true
   },
   "outputs": [],
   "source": [
    "def uniquePath(m, n):\n",
    "    '''\n",
    "    :type m: int\n",
    "    :type n: int\n",
    "    :rtype: int\n",
    "    '''\n",
    "\n",
    "    matrix = [[1 for i in range(m)] for j in range(n)]\n",
    "    for i in range(1, n):\n",
    "        for j in range(1, m):\n",
    "            matrix[i][j] = matrix[i][j-1] + matrix[i-1][j]\n",
    "\n",
    "    return matrix[-1][-1]\n",
    "    \n",
    "assert uniquePath(1, 2) == 1\n",
    "assert uniquePath(3, 3) == 6\n",
    "assert uniquePath(10, 20) == 6906900"
   ]
  },
  {
   "cell_type": "code",
   "execution_count": null,
   "metadata": {
    "collapsed": true
   },
   "outputs": [],
   "source": []
  }
 ],
 "metadata": {
  "kernelspec": {
   "display_name": "Python 3",
   "language": "python",
   "name": "python3"
  },
  "language_info": {
   "codemirror_mode": {
    "name": "ipython",
    "version": 3
   },
   "file_extension": ".py",
   "mimetype": "text/x-python",
   "name": "python",
   "nbconvert_exporter": "python",
   "pygments_lexer": "ipython3",
   "version": "3.5.2"
  }
 },
 "nbformat": 4,
 "nbformat_minor": 2
}
