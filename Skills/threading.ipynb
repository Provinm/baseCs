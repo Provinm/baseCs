{
 "cells": [
  {
   "cell_type": "markdown",
   "metadata": {},
   "source": [
    "## threading"
   ]
  },
  {
   "cell_type": "markdown",
   "metadata": {},
   "source": [
    "### threading"
   ]
  },
  {
   "cell_type": "code",
   "execution_count": 3,
   "metadata": {},
   "outputs": [],
   "source": [
    "import threading\n",
    "import requests"
   ]
  },
  {
   "cell_type": "code",
   "execution_count": 30,
   "metadata": {},
   "outputs": [
    {
     "name": "stdout",
     "output_type": "stream",
     "text": [
      "200\n",
      "200\n",
      "200\n",
      "200\n"
     ]
    }
   ],
   "source": [
    "class Fv(threading.Thread):\n",
    "    \n",
    "    def __init__(self, urls, outputs):\n",
    "        \n",
    "        threading.Thread.__init__(self)\n",
    "        self.urls = urls\n",
    "        self.outputs = outputs\n",
    "        \n",
    "    def run(self):\n",
    "        \n",
    "        while self.urls:\n",
    "            \n",
    "            url = self.urls.pop()\n",
    "            try:\n",
    "                req = requests.get(url)\n",
    "#                 req.encoding = 'utf-8'\n",
    "                print req.status_code\n",
    "                self.outputs.write(req.text.encode('utf8'))\n",
    "            except Exception, e:\n",
    "                print('error happens', e)\n",
    "                \n",
    "#             print(url)\n",
    "                \n",
    "def main():\n",
    "    \n",
    "    url1 = ['http://www.baidu.com', 'https://news.ycombinator.com/']\n",
    "    url2 = ['http://www.douban.com', 'http://www.sougou.com']\n",
    "    f = open('output.txt', 'a+')\n",
    "    t1 = Fv(url1, f)\n",
    "    t2 = Fv(url2, f)\n",
    "    \n",
    "    t1.start()\n",
    "    t2.start()\n",
    "    \n",
    "    t1.join()\n",
    "    t2.join()\n",
    "             \n",
    "    f.close()\n",
    "    \n",
    "main()\n",
    "\n"
   ]
  },
  {
   "cell_type": "markdown",
   "metadata": {},
   "source": [
    "### Lock"
   ]
  },
  {
   "cell_type": "code",
   "execution_count": 32,
   "metadata": {},
   "outputs": [
    {
     "name": "stdout",
     "output_type": "stream",
     "text": [
      "200\n",
      "200\n",
      "200\n",
      "200\n"
     ]
    }
   ],
   "source": [
    "class Fv(threading.Thread):\n",
    "    \n",
    "    def __init__(self, urls, outputs, lock):\n",
    "        \n",
    "        threading.Thread.__init__(self)\n",
    "        self.urls = urls\n",
    "        self.outputs = outputs\n",
    "        self.lock = lock\n",
    "        \n",
    "    def run(self):\n",
    "        \n",
    "        while self.urls:\n",
    "            \n",
    "            self.lock.acquire()\n",
    "            url = self.urls.pop()\n",
    "            try:\n",
    "                req = requests.get(url)\n",
    "                req.encoding = 'utf-8'\n",
    "                print req.status_code\n",
    "                \n",
    "                self.outputs.write(req.text.encode('utf8'))\n",
    "            except Exception, e:\n",
    "                print('error happens', e)\n",
    "                \n",
    "            self.lock.release()\n",
    "                \n",
    "#             print(url)\n",
    "                \n",
    "def main():\n",
    "    \n",
    "    lock = threading.Lock()\n",
    "    url1 = ['http://www.baidu.com', 'http://www.sina.com.cn']\n",
    "    url2 = ['http://www.douban.com', 'http://www.sougou.com']\n",
    "    f = open('output_lock.txt', 'a+')\n",
    "    t1 = Fv(url1, f, lock)\n",
    "    t2 = Fv(url2, f, lock)\n",
    "    \n",
    "    t1.start()\n",
    "    t2.start()\n",
    "    \n",
    "    t1.join()\n",
    "    t2.join()\n",
    "             \n",
    "    f.close()\n",
    "    \n",
    "main()"
   ]
  }
 ],
 "metadata": {
  "kernelspec": {
   "display_name": "Python 2",
   "language": "python",
   "name": "python2"
  },
  "language_info": {
   "codemirror_mode": {
    "name": "ipython",
    "version": 2
   },
   "file_extension": ".py",
   "mimetype": "text/x-python",
   "name": "python",
   "nbconvert_exporter": "python",
   "pygments_lexer": "ipython2",
   "version": "2.7.12"
  }
 },
 "nbformat": 4,
 "nbformat_minor": 2
}
