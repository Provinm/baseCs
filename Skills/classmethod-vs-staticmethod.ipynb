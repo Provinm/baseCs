{
 "cells": [
  {
   "cell_type": "markdown",
   "metadata": {},
   "source": [
    "## Classmethod vs Staticmethod"
   ]
  },
  {
   "cell_type": "markdown",
   "metadata": {},
   "source": [
    "### Classmethod"
   ]
  },
  {
   "cell_type": "markdown",
   "metadata": {},
   "source": [
    "reference:\n",
    "\n",
    "- [Difference between @staticmethod and @classmethod in Python](http://pythoncentral.io/difference-between-staticmethod-and-classmethod-in-python/)\n",
    "- [Meaning of @classmethod and @staticmethod for beginner?](https://stackoverflow.com/questions/12179271/meaning-of-classmethod-and-staticmethod-for-beginner/14605349#14605349)\n"
   ]
  },
  {
   "cell_type": "code",
   "execution_count": 5,
   "metadata": {},
   "outputs": [],
   "source": [
    "# classmethod 是类方法\n",
    "\n",
    "class Kls:\n",
    "    \n",
    "    g_data = 0\n",
    "    def __init__(self, data):\n",
    "        Kls.g_data = Kls.g_data + data\n",
    "    \n",
    "    @classmethod\n",
    "    def func(cls):\n",
    "        return cls.g_data"
   ]
  },
  {
   "cell_type": "code",
   "execution_count": 6,
   "metadata": {},
   "outputs": [
    {
     "name": "stdout",
     "output_type": "stream",
     "text": [
      "5\n"
     ]
    }
   ],
   "source": [
    "k = Kls(5)\n",
    "print(k.func())"
   ]
  },
  {
   "cell_type": "markdown",
   "metadata": {},
   "source": [
    "特征：\n",
    "\n",
    "- @classmethod 用作装饰器\n",
    "- 至少接受一个参数，类本身\n",
    "\n",
    "作用：\n",
    "\n",
    "- 如果把 类 和 类下函数 看作父与子的关系，那么使用添加 classmethod 装饰器后，该函数已经与 类 同级\n",
    "- 用其他的方法也可以操作类，不过这都只能在类外单独写，之后维护起来比较麻烦"
   ]
  },
  {
   "cell_type": "code",
   "execution_count": 8,
   "metadata": {},
   "outputs": [],
   "source": [
    "# fluent python \n",
    "# 中有一个示例，修改字典索引方法\n",
    "# dct[key] --> dct.key\n",
    "from collections import abc\n",
    "\n",
    "class Frozendct:\n",
    "    \n",
    "    def __init__(self, mapping):\n",
    "        self.mapping = dict(mapping)\n",
    "        \n",
    "    def __getattr__(self, key):\n",
    "        if hasattr(self.mapping, key):\n",
    "            return getattr(self.mapping, key)\n",
    "        else:\n",
    "            return Frozendct.build(self.mapping[key]) \n",
    "        \n",
    "    @classmethod\n",
    "    def build(cls, obj):\n",
    "        if isinstance(obj, abc.Mapping):\n",
    "            return cls(obj)\n",
    "        elif isinstance(obj, abc.MutableSequence):\n",
    "            return [cls(i) for i in obj]\n",
    "        else:\n",
    "            return obj"
   ]
  },
  {
   "cell_type": "code",
   "execution_count": 9,
   "metadata": {},
   "outputs": [],
   "source": [
    "dct = {'a': 1, 'b': 2}\n",
    "fdct = Frozendct(dct)\n"
   ]
  },
  {
   "cell_type": "code",
   "execution_count": 10,
   "metadata": {},
   "outputs": [
    {
     "data": {
      "text/plain": [
       "1"
      ]
     },
     "execution_count": 10,
     "metadata": {},
     "output_type": "execute_result"
    }
   ],
   "source": [
    "fdct.a"
   ]
  },
  {
   "cell_type": "code",
   "execution_count": 11,
   "metadata": {},
   "outputs": [
    {
     "data": {
      "text/plain": [
       "2"
      ]
     },
     "execution_count": 11,
     "metadata": {},
     "output_type": "execute_result"
    }
   ],
   "source": [
    "fdct.b"
   ]
  },
  {
   "cell_type": "code",
   "execution_count": 13,
   "metadata": {},
   "outputs": [],
   "source": [
    "#  getattr/setattr/hasattr 的用法见之后的笔记\n"
   ]
  },
  {
   "cell_type": "markdown",
   "metadata": {},
   "source": [
    "### Staticmethod"
   ]
  },
  {
   "cell_type": "code",
   "execution_count": 15,
   "metadata": {},
   "outputs": [],
   "source": [
    "# staticmethod 是静态方法\n",
    "# 它存在有类下，但相对来说又与类毫无关系\n",
    "# 因为它不需要接受默认的 self 参数\n",
    "\n",
    "class Skls:\n",
    "    \n",
    "    def __init__(self, lst):\n",
    "        # 判断 lst 是否为 list 类型\n",
    "        self.lst = lst\n",
    "        assert self.checklst(lst)\n",
    "       \n",
    "    @staticmethod\n",
    "    def checklst(lst):\n",
    "        return isinstance(lst, list)"
   ]
  },
  {
   "cell_type": "code",
   "execution_count": 16,
   "metadata": {},
   "outputs": [],
   "source": [
    "sk = Skls([1,2,3])\n"
   ]
  },
  {
   "cell_type": "code",
   "execution_count": 17,
   "metadata": {},
   "outputs": [
    {
     "data": {
      "text/plain": [
       "True"
      ]
     },
     "execution_count": 17,
     "metadata": {},
     "output_type": "execute_result"
    }
   ],
   "source": [
    "sk.checklst(list(range(5)))"
   ]
  },
  {
   "cell_type": "markdown",
   "metadata": {},
   "source": [
    "### examples\n"
   ]
  },
  {
   "cell_type": "code",
   "execution_count": 22,
   "metadata": {},
   "outputs": [],
   "source": [
    "class MyDate():\n",
    "    \n",
    "    def __init__(self, year=2017, month=10, day=31):\n",
    "        self.year = year\n",
    "        self.month = month\n",
    "        self.day = day\n",
    "        \n",
    "    def __str__(self):\n",
    "        return '{}-{}-{}'.format(self.year, self.month, self.day)\n",
    "        \n",
    "    @classmethod\n",
    "    def fromstring(cls, datestr):\n",
    "        tuple_res = tuple(datestr.split('-'))\n",
    "        return cls(*tuple_res)\n",
    "    \n",
    "    @staticmethod\n",
    "    def is_date(datestr):\n",
    "        year, month, day =  map(int, datestr.split('-'))\n",
    "        return year<=2017 and month<=12 and day<=31\n",
    "    "
   ]
  },
  {
   "cell_type": "code",
   "execution_count": 23,
   "metadata": {},
   "outputs": [
    {
     "name": "stdout",
     "output_type": "stream",
     "text": [
      "2017-10-31\n"
     ]
    }
   ],
   "source": [
    "md = MyDate()\n",
    "print(md)"
   ]
  },
  {
   "cell_type": "code",
   "execution_count": 24,
   "metadata": {},
   "outputs": [
    {
     "name": "stdout",
     "output_type": "stream",
     "text": [
      "2017-10-31\n"
     ]
    }
   ],
   "source": [
    "s = '2017-10-31'\n",
    "print(md.fromstring(s))\n"
   ]
  },
  {
   "cell_type": "code",
   "execution_count": 25,
   "metadata": {},
   "outputs": [
    {
     "name": "stdout",
     "output_type": "stream",
     "text": [
      "True\n"
     ]
    }
   ],
   "source": [
    "print(MyDate.is_date(s))"
   ]
  },
  {
   "cell_type": "code",
   "execution_count": null,
   "metadata": {},
   "outputs": [],
   "source": []
  }
 ],
 "metadata": {
  "kernelspec": {
   "display_name": "Python 3",
   "language": "python",
   "name": "python3"
  },
  "language_info": {
   "codemirror_mode": {
    "name": "ipython",
    "version": 3
   },
   "file_extension": ".py",
   "mimetype": "text/x-python",
   "name": "python",
   "nbconvert_exporter": "python",
   "pygments_lexer": "ipython3",
   "version": "3.6.2"
  }
 },
 "nbformat": 4,
 "nbformat_minor": 2
}
