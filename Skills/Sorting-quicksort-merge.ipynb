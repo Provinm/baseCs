{
 "cells": [
  {
   "cell_type": "markdown",
   "metadata": {},
   "source": [
    "## 快排"
   ]
  },
  {
   "cell_type": "markdown",
   "metadata": {},
   "source": [
    "### 时间复杂度\n",
    "\n",
    "最优时间复杂度，每次都将列表均匀分为两部分\n",
    "\n",
    "```\n",
    "T(n) = 2T(n/2) + F(n) \n",
    "\n",
    "本次的时间复杂度可分解为 2 个下一级运算的时间复杂度加上遍历本次所用的时间\n",
    "逐渐将 n 代为 n/2, n/4 直到 n = 1\n",
    "\n",
    "最后的结果为 n + nlogn\n",
    "\n",
    "```\n",
    "\n",
    "最差的时间复杂度，每一次都取到极值\n",
    "\n",
    "O(n^2)\n",
    "\n",
    "### 空间复杂度\n",
    "\n",
    "每次递归都使用了新的空间，依然要考虑最优最差情况\n",
    "\n",
    "最优： 每次都平分列表，所以创建新列表的次数为 logn -- O(logn)\n",
    "\n",
    "最差： 每次都创建一个空列表和 n-1 个元素的列表， n  -- O(n)\n",
    "\n"
   ]
  },
  {
   "cell_type": "code",
   "execution_count": 3,
   "metadata": {},
   "outputs": [
    {
     "name": "stdout",
     "output_type": "stream",
     "text": [
      "[5, 4, 3, 7, 6, 0, 1, 9, 2, 8]\n",
      "[0, 1, 2, 3, 4, 5, 6, 7, 8, 9]\n"
     ]
    }
   ],
   "source": [
    "import random\n",
    "\n",
    "def quicksort(lst):\n",
    "    \n",
    "    if not lst or len(lst)<2: return lst\n",
    "    length = len(lst)\n",
    "    left, right = [], []\n",
    "    for i in range(1, length):\n",
    "        if lst[i] > lst[0]:\n",
    "            right.append(lst[i])\n",
    "        else:\n",
    "            left.append(lst[i])\n",
    "            \n",
    "    return quicksort(left) + [lst[0]] + quicksort(right)\n",
    "\n",
    "l = list(range(10))\n",
    "random.shuffle(l)\n",
    "\n",
    "print(l)\n",
    "new_l = quicksort(l)\n",
    "print(new_l)"
   ]
  },
  {
   "cell_type": "markdown",
   "metadata": {
    "collapsed": true
   },
   "source": [
    "## 归并"
   ]
  },
  {
   "cell_type": "markdown",
   "metadata": {},
   "source": [
    "### 时间复杂度\n",
    "\n",
    "T(n) = 2T(n/2) + O(n)\n",
    "分而治之，每一次的时间复杂度等于 2 倍子节点的时间复杂度加上本次排序的 O(n)\n",
    "\n",
    "### 空间复杂度\n",
    "\n",
    "4 分 2， 2 分1 最后为 O(logn)"
   ]
  },
  {
   "cell_type": "code",
   "execution_count": 7,
   "metadata": {},
   "outputs": [
    {
     "name": "stdout",
     "output_type": "stream",
     "text": [
      "[6, 7, 4, 9, 0, 3, 2, 1, 8, 5]\n",
      "[0, 1, 2, 3, 4, 5, 6, 7, 8, 9]\n"
     ]
    }
   ],
   "source": [
    "def merge(lst):\n",
    "    \n",
    "    length = len(lst)\n",
    "    if length < 2: return lst\n",
    "    mid = length // 2\n",
    "    left = merge(lst[:mid])\n",
    "    right = merge(lst[mid:])\n",
    "    \n",
    "    result = []\n",
    "    while left and right:\n",
    "        l1, r1 = left[0], right[0]\n",
    "        if l1 > r1:\n",
    "            result.append(r1)\n",
    "            right = right[1:]\n",
    "        else:\n",
    "            result.append(l1)\n",
    "            left = left[1:]\n",
    "    result.extend(left or right)\n",
    "    return result\n",
    "\n",
    "l = list(range(10))\n",
    "random.shuffle(l)\n",
    "\n",
    "print(l)\n",
    "new_l = merge(l)\n",
    "print(new_l)"
   ]
  }
 ],
 "metadata": {
  "kernelspec": {
   "display_name": "Python 3",
   "language": "python",
   "name": "python3"
  },
  "language_info": {
   "codemirror_mode": {
    "name": "ipython",
    "version": 3
   },
   "file_extension": ".py",
   "mimetype": "text/x-python",
   "name": "python",
   "nbconvert_exporter": "python",
   "pygments_lexer": "ipython3",
   "version": "3.5.2"
  }
 },
 "nbformat": 4,
 "nbformat_minor": 2
}
