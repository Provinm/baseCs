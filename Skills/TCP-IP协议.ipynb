{
 "cells": [
  {
   "cell_type": "markdown",
   "metadata": {},
   "source": [
    "## TCP/IP 协议"
   ]
  },
  {
   "cell_type": "markdown",
   "metadata": {},
   "source": [
    "#### 基本概念\n",
    "\n",
    "- tcp/ip 供已连接因特网的计算机进行通信的协议\n",
    "- tcp: 传输控制协议\n",
    "- ip: 网际协议\n",
    "- 作用：定义了电子设备如何接入互联网，以及数据在他们之间传输的标准\n",
    "\n",
    "#### tcp/ip 包含的协议\n",
    "\n",
    "- TCP\n",
    "- UDP\n",
    "- IP\n",
    "- ICMP\n",
    "- DHCP\n",
    "\n"
   ]
  },
  {
   "cell_type": "markdown",
   "metadata": {},
   "source": [
    "#### TCP/IP 四层\n",
    "\n",
    "应用层 (http/ftp/..)\n",
    "\n",
    "网络层 (tcp/udp)\n",
    "\n",
    "传输层 ( ip )\n",
    "\n",
    "链路层\n"
   ]
  },
  {
   "cell_type": "markdown",
   "metadata": {},
   "source": [
    "#### 三次握手\n",
    "\n",
    "对有很底层的东西我还是不是很理解， SYN/ACK \n",
    "他的作用可以简化为\n",
    "\n",
    "客户端和服务端互相确认对方能接收信息，能发送信息\n",
    "\n",
    "第一次握手:\n",
    "\n",
    "客户端向服务端发起请求\n",
    "\n",
    "'我想跟你说话'\n",
    "\n",
    "第二次握手：\n",
    "\n",
    "服务端确认收到请求，并发起回应\n",
    "\n",
    "'我听到你的声音了，你能听到我么？'\n",
    "\n",
    "第三次握手：\n",
    "\n",
    "客户端确认收到回应，并向服务端确认\n",
    "\n",
    "'我也听到你了，我们开始说话吧！'\n",
    "\n"
   ]
  },
  {
   "cell_type": "markdown",
   "metadata": {},
   "source": [
    "#### 四次挥手\n",
    "\n",
    "断开链接需要挥手四次\n",
    "\n",
    "第一次：\n",
    "\n",
    "客户端向服务端发送 FIN 报文，表示我不再向你发送数据了\n",
    "\n",
    "'我不想聊了，你还有话说么？'\n",
    "\n",
    "第二次：\n",
    "\n",
    "服务端收到 FIN 发送 ACK 确认，然后将剩余的数据发完\n",
    "\n",
    "'哦哦，好的，我最后还有一句话'\n",
    "\n",
    "第三次：\n",
    "\n",
    "服务端发送 FIN 报文，表示我话说完了\n",
    "\n",
    "'我也没什么话了，我们散了吧'\n",
    "\n",
    "第四次：\n",
    "\n",
    "客户端收到 FIN ， 发出 ACK \n",
    "\n",
    "'好的，那我们散了吧'\n",
    "\n",
    "等待 2 MSL(最大等待时间) 后关闭链接。\n",
    "\n"
   ]
  },
  {
   "cell_type": "markdown",
   "metadata": {},
   "source": [
    "[reference](http://www.cnblogs.com/myvin/p/4862167.html)"
   ]
  },
  {
   "cell_type": "code",
   "execution_count": null,
   "metadata": {
    "collapsed": true
   },
   "outputs": [],
   "source": []
  }
 ],
 "metadata": {
  "kernelspec": {
   "display_name": "Python 3",
   "language": "python",
   "name": "python3"
  },
  "language_info": {
   "codemirror_mode": {
    "name": "ipython",
    "version": 3
   },
   "file_extension": ".py",
   "mimetype": "text/x-python",
   "name": "python",
   "nbconvert_exporter": "python",
   "pygments_lexer": "ipython3",
   "version": "3.5.2"
  }
 },
 "nbformat": 4,
 "nbformat_minor": 2
}
