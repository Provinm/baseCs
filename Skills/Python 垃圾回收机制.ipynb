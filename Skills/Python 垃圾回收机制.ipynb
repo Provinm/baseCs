{
 "cells": [
  {
   "cell_type": "markdown",
   "metadata": {},
   "source": [
    "### 垃圾回收机制\n",
    "\n",
    "[reference](http://python.jobbole.com/82061/)"
   ]
  },
  {
   "cell_type": "markdown",
   "metadata": {},
   "source": [
    "#### 1. 引用计数\n",
    "\n",
    "原理\n",
    "\n",
    "- 当一个对象被引用时，引用计数 + 1\n",
    "- 当一个对象被销毁时，引用计数 - 1\n",
    "- 当一个对象的引用计数为 0 时，完全释放内存\n",
    "\n",
    "\n",
    "弱点\n",
    "\n",
    "- 执行效率相对不高\n",
    "- 互相引用这种特殊情况下，无效对象不会被清除\n",
    "\n"
   ]
  },
  {
   "cell_type": "code",
   "execution_count": 1,
   "metadata": {},
   "outputs": [
    {
     "name": "stdout",
     "output_type": "stream",
     "text": [
      "[[[...]]]\n",
      "[[...]]\n"
     ]
    }
   ],
   "source": [
    "a = []\n",
    "b = []\n",
    "a.append(b)\n",
    "b.append(b)\n",
    "\n",
    "print(a)\n",
    "print(b)"
   ]
  },
  {
   "cell_type": "markdown",
   "metadata": {},
   "source": [
    "上面的例子表示，当两个对象相互引用时，这一块内存不会内释放，因为引用计数不会为 0"
   ]
  },
  {
   "cell_type": "markdown",
   "metadata": {},
   "source": [
    "#### 2.标记-清除\n",
    "\n",
    "为了引用计数的问题，开发者使用了标记清除来解决这一问题。\n",
    "\n",
    "原理：\n",
    "\n",
    "从某一入口建立一个有向图（链表），这样可以找到在工作链上所有的对象，并标记，像上一节中那些孤立的对象就会被清除。"
   ]
  },
  {
   "cell_type": "markdown",
   "metadata": {},
   "source": [
    "#### 3.分代回收\n",
    "\n",
    "Python中把对象分为 3 代，年轻代-中生代-老年代\n",
    "当年轻代对象满了之后就会触发回收机制(标记-清除)，处理完之后将目前的年轻代尚存对象移动至中生代，中生代道理相同。"
   ]
  }
 ],
 "metadata": {
  "kernelspec": {
   "display_name": "Python 3",
   "language": "python",
   "name": "python3"
  },
  "language_info": {
   "codemirror_mode": {
    "name": "ipython",
    "version": 3
   },
   "file_extension": ".py",
   "mimetype": "text/x-python",
   "name": "python",
   "nbconvert_exporter": "python",
   "pygments_lexer": "ipython3",
   "version": "3.5.2"
  }
 },
 "nbformat": 4,
 "nbformat_minor": 2
}
