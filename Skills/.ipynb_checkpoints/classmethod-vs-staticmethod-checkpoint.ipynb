{
 "cells": [
  {
   "cell_type": "markdown",
   "metadata": {},
   "source": [
    "## Classmethod vs Staticmethod"
   ]
  },
  {
   "cell_type": "markdown",
   "metadata": {},
   "source": [
    "### Classmethod"
   ]
  },
  {
   "cell_type": "code",
   "execution_count": 5,
   "metadata": {},
   "outputs": [],
   "source": [
    "# classmethod 是类方法\n",
    "\n",
    "class Kls:\n",
    "    \n",
    "    g_data = 0\n",
    "    def __init__(self, data):\n",
    "        Kls.g_data = Kls.g_data + data\n",
    "    \n",
    "    @classmethod\n",
    "    def func(cls):\n",
    "        return cls.g_data"
   ]
  },
  {
   "cell_type": "code",
   "execution_count": 6,
   "metadata": {},
   "outputs": [
    {
     "name": "stdout",
     "output_type": "stream",
     "text": [
      "5\n"
     ]
    }
   ],
   "source": [
    "k = Kls(5)\n",
    "print(k.func())"
   ]
  },
  {
   "cell_type": "markdown",
   "metadata": {},
   "source": [
    "特征：\n",
    "\n",
    "- @classmethod 用作装饰器\n",
    "- 至少接受一个参数，类本身\n",
    "\n",
    "作用：\n",
    "\n",
    "- 如果把 类 和 类下函数 看作父与子的关系，那么使用添加 classmethod 装饰器后，该函数已经与 类 同级\n",
    "- 用其他的方法也可以操作类，不过这都只能在类外单独写"
   ]
  },
  {
   "cell_type": "code",
   "execution_count": 7,
   "metadata": {},
   "outputs": [
    {
     "name": "stdout",
     "output_type": "stream",
     "text": [
      "\n"
     ]
    }
   ],
   "source": [
    "print()"
   ]
  },
  {
   "cell_type": "code",
   "execution_count": null,
   "metadata": {},
   "outputs": [],
   "source": [
    "                       "
   ]
  }
 ],
 "metadata": {
  "kernelspec": {
   "display_name": "Python 3",
   "language": "python",
   "name": "python3"
  },
  "language_info": {
   "codemirror_mode": {
    "name": "ipython",
    "version": 3
   },
   "file_extension": ".py",
   "mimetype": "text/x-python",
   "name": "python",
   "nbconvert_exporter": "python",
   "pygments_lexer": "ipython3",
   "version": "3.6.2"
  }
 },
 "nbformat": 4,
 "nbformat_minor": 2
}
