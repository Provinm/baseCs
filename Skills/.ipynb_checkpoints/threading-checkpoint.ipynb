{
 "cells": [
  {
   "cell_type": "markdown",
   "metadata": {},
   "source": [
    "## threading"
   ]
  },
  {
   "cell_type": "markdown",
   "metadata": {},
   "source": [
    "### threading"
   ]
  },
  {
   "cell_type": "code",
   "execution_count": 3,
   "metadata": {},
   "outputs": [],
   "source": [
    "import threading\n",
    "import requests"
   ]
  },
  {
   "cell_type": "code",
   "execution_count": 7,
   "metadata": {},
   "outputs": [
    {
     "name": "stdout",
     "output_type": "stream",
     "text": [
      "http://www.sina.com.cn\n",
      "error happens\n",
      "http://www.baidu.com\n",
      "error happens\n",
      "http://www.sougou.com\n",
      "error happens\n",
      "http://www.douban.com\n",
      "error happens\n"
     ]
    }
   ],
   "source": [
    "class Fv(threading.Thread):\n",
    "    \n",
    "    def __init__(self, urls, outputs):\n",
    "        \n",
    "        threading.Thread.__init__(self)\n",
    "        self.urls = urls\n",
    "        self.outputs = outputs\n",
    "        \n",
    "    def run(self):\n",
    "        \n",
    "        while self.urls:\n",
    "            \n",
    "            url = self.urls.pop()\n",
    "            try:\n",
    "                req = requests.get(url)\n",
    "                print(url)\n",
    "                self.outputs.write(req.text)\n",
    "            except:\n",
    "                print('error happens')\n",
    "                \n",
    "#             print(url)\n",
    "                \n",
    "def main():\n",
    "    \n",
    "    url1 = ['http://www.baidu.com', 'http://www.sina.com.cn']\n",
    "    url2 = ['http://www.douban.com', 'http://www.sougou.com']\n",
    "    f = open('output.txt', 'a+')\n",
    "    t1 = Fv(url1, f)\n",
    "    t2 = Fv(url2, f)\n",
    "    \n",
    "    t1.start()\n",
    "    t2.start()\n",
    "    \n",
    "    t1.join()\n",
    "    t2.join()\n",
    "             \n",
    "    f.close()\n",
    "    \n",
    "main()"
   ]
  },
  {
   "cell_type": "code",
   "execution_count": null,
   "metadata": {
    "collapsed": true
   },
   "outputs": [],
   "source": []
  }
 ],
 "metadata": {
  "kernelspec": {
   "display_name": "Python 2",
   "language": "python",
   "name": "python2"
  },
  "language_info": {
   "codemirror_mode": {
    "name": "ipython",
    "version": 2
   },
   "file_extension": ".py",
   "mimetype": "text/x-python",
   "name": "python",
   "nbconvert_exporter": "python",
   "pygments_lexer": "ipython2",
   "version": "2.7.12"
  }
 },
 "nbformat": 4,
 "nbformat_minor": 2
}
