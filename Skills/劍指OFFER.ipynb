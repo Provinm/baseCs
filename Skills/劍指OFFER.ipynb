{
 "cells": [
  {
   "cell_type": "markdown",
   "metadata": {},
   "source": [
    "## Chapter 3"
   ]
  },
  {
   "cell_type": "markdown",
   "metadata": {},
   "source": [
    "#### STAR 法则\n",
    "\n",
    "描述 lab 这个站\n",
    "\n",
    "S ：  \n",
    "\n",
    "在目前公司开发了一个项目展示网站，面对的用户为百人左右。只能算一个较小的网站。\n",
    "\n",
    "T：\n",
    "\n",
    "本站所有代码由我独立开发部署，代码可在 github 上查看，做的过程中得到老大的指导。\n",
    "\n",
    "A：\n",
    "\n",
    "数据库采用 Mysql,后端为 Django,前端为 bootstrap 和 Jquery.这网站开发的基本技术框架。网站内容提供大多也由我自己开发，涉及到的内容有， 全有 js 提供的小工具， requests 做的爬虫， scrapy 做的爬虫， 小程序， 自然语言分析，ecahrts 做的图表等等。部署采用的是 Nginx+UwSGI。\n",
    "\n",
    "R：\n",
    "\n",
    "其中的几个项目，写成文章在微信公众号和知乎专栏上展示，阅读量近万。老大还是挺满意的。\n",
    "\n",
    "最大的问题：\n",
    "\n",
    "在做其中的招聘网站分析这个项目时，需要将 scrapy 框架和 django 框架结合在一起，django 爬下来的数据直接通过 django-orm 存储到数据库。由于设计到两个框架，两种运行环境，在之前的工作学习之中没有遇到过，靠着搜索和自己琢磨研究出来了。\n",
    "\n",
    "学到了什么？\n",
    "\n",
    "编程的乐趣，在之前也说过，这个项目涉及到了很多不同的技术，从数据库到后端到前端再到一些工具，让我感受到了解决问题的乐趣。遗憾的是没有在某一个方面进行深入了解。\n",
    "\n",
    "冲突：\n",
    "\n",
    "由于我们的公司属于初创企业，人员配置非常不完善，常常一人身兼多职，在开发这个项目的过程中，前期所有的内容都由我自己规划完成，在最后交付的时候，老大常常会提出一些要求，时常这些要求在我看来，如果前期说的比较清楚的话，是完全可以避免的，所以有时我会希望到一个规范的环境中工作学习。\n",
    "\n",
    "\n",
    "\n"
   ]
  },
  {
   "cell_type": "code",
   "execution_count": null,
   "metadata": {
    "collapsed": true
   },
   "outputs": [],
   "source": []
  }
 ],
 "metadata": {
  "kernelspec": {
   "display_name": "Python 3",
   "language": "python",
   "name": "python3"
  },
  "language_info": {
   "codemirror_mode": {
    "name": "ipython",
    "version": 3
   },
   "file_extension": ".py",
   "mimetype": "text/x-python",
   "name": "python",
   "nbconvert_exporter": "python",
   "pygments_lexer": "ipython3",
   "version": "3.5.2"
  }
 },
 "nbformat": 4,
 "nbformat_minor": 2
}
