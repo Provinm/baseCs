{
 "cells": [
  {
   "cell_type": "markdown",
   "metadata": {},
   "source": [
    "#### char与 varchar 的区别\n",
    "\n",
    "char(10) 和 varchar(10) 是不一样的, 当存入 'abcd' 四个字符时, char是固定长度即 'abcdxxxx' x为空格，varchar是只会存 4 个字符\n",
    "\n",
    "char是一种空间换时间的策略，取出内容会相当快，使用 trim 做二次处理。\n",
    "char 中存储英文字符只占一个字节,中文两个字节\n",
    "varchar 是都占两个字节。\n",
    "都不是 unicode\n",
    "\n"
   ]
  },
  {
   "cell_type": "markdown",
   "metadata": {},
   "source": [
    "#### time_wait\n",
    "\n",
    "在四次挥手之后会有 2 MSL 等待时间\n",
    "\n"
   ]
  },
  {
   "cell_type": "markdown",
   "metadata": {},
   "source": [
    "#### primary key = unique +  not null \n",
    "\n",
    "primary key 不能重复不能包含空值\n",
    "unique 不能重复但可以包含空值。\n"
   ]
  },
  {
   "cell_type": "markdown",
   "metadata": {},
   "source": [
    "#### 索引\n",
    "\n",
    "1. 主键索引 primary key\n",
    "2. 唯一索引 unique \n",
    "3. 普通索引 index\n",
    "4. 全文索引 FULLTEXT\n"
   ]
  }
 ],
 "metadata": {
  "kernelspec": {
   "display_name": "Python 3",
   "language": "python",
   "name": "python3"
  },
  "language_info": {
   "codemirror_mode": {
    "name": "ipython",
    "version": 3
   },
   "file_extension": ".py",
   "mimetype": "text/x-python",
   "name": "python",
   "nbconvert_exporter": "python",
   "pygments_lexer": "ipython3",
   "version": "3.5.2"
  }
 },
 "nbformat": 4,
 "nbformat_minor": 2
}
