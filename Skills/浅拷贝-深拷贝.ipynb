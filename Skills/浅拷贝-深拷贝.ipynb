{
 "cells": [
  {
   "cell_type": "markdown",
   "metadata": {},
   "source": [
    "### 浅拷贝和深拷贝"
   ]
  },
  {
   "cell_type": "code",
   "execution_count": 3,
   "metadata": {
    "collapsed": true
   },
   "outputs": [],
   "source": [
    "import copy\n",
    "\n",
    "s = [1, [2,3], [4,5]]"
   ]
  },
  {
   "cell_type": "markdown",
   "metadata": {},
   "source": [
    "#### 浅拷贝\n",
    "\n",
    "浅拷贝只会改变最外层的地址而不会改变子对象的地址"
   ]
  },
  {
   "cell_type": "code",
   "execution_count": 5,
   "metadata": {},
   "outputs": [
    {
     "name": "stdout",
     "output_type": "stream",
     "text": [
      "139676970827720 139676979366792\n",
      "139676979366536 139676979366536\n"
     ]
    }
   ],
   "source": [
    "shallow_c = copy.copy(s)\n",
    "print(id(shallow_c), id(s))\n",
    "print(id(shallow_c[1]), id(s[1]))"
   ]
  },
  {
   "cell_type": "markdown",
   "metadata": {},
   "source": [
    "看到了吧， 列表中的子对象地址没有被改变，所以当你改变 shallow_c 或者 s 中的对象时，另一个会相应的改变\n",
    "地址结构如下图\n",
    "\n",
    "```\n",
    "\n",
    "      |--- 1      ---|\n",
    "s ----|--- [2,3]  ---| --- shallow_c\n",
    "      |--- [4,5]  ---|\n",
    "      \n",
    "      \n",
    "```"
   ]
  },
  {
   "cell_type": "markdown",
   "metadata": {},
   "source": [
    "#### 深拷贝\n",
    "\n",
    "深拷贝会改变所以对象的地址"
   ]
  },
  {
   "cell_type": "code",
   "execution_count": 6,
   "metadata": {},
   "outputs": [
    {
     "name": "stdout",
     "output_type": "stream",
     "text": [
      "139676988325512 139676979366792\n",
      "139677038960008 139676979366536\n"
     ]
    }
   ],
   "source": [
    "deep_c = copy.deepcopy(s)\n",
    "print(id(deep_c), id(s))\n",
    "print(id(deep_c[1]), id(s[1]))"
   ]
  },
  {
   "cell_type": "markdown",
   "metadata": {},
   "source": [
    "深拷贝之后，两个对象除了值一样，没有任何关系，修改其中一个不会影响另一个"
   ]
  },
  {
   "cell_type": "markdown",
   "metadata": {},
   "source": [
    "#### 如何实现浅拷贝和深拷贝\n",
    "\n",
    " \n",
    " "
   ]
  },
  {
   "cell_type": "code",
   "execution_count": 8,
   "metadata": {
    "collapsed": true
   },
   "outputs": [],
   "source": [
    "import inspect"
   ]
  },
  {
   "cell_type": "code",
   "execution_count": 9,
   "metadata": {},
   "outputs": [
    {
     "name": "stdout",
     "output_type": "stream",
     "text": [
      "def copy(x):\n",
      "    \"\"\"Shallow copy operation on arbitrary Python objects.\n",
      "\n",
      "    See the module's __doc__ string for more info.\n",
      "    \"\"\"\n",
      "\n",
      "    cls = type(x)\n",
      "\n",
      "    copier = _copy_dispatch.get(cls)\n",
      "    if copier:\n",
      "        return copier(x)\n",
      "\n",
      "    try:\n",
      "        issc = issubclass(cls, type)\n",
      "    except TypeError: # cls is not a class\n",
      "        issc = False\n",
      "    if issc:\n",
      "        # treat it as a regular class:\n",
      "        return _copy_immutable(x)\n",
      "\n",
      "    copier = getattr(cls, \"__copy__\", None)\n",
      "    if copier:\n",
      "        return copier(x)\n",
      "\n",
      "    reductor = dispatch_table.get(cls)\n",
      "    if reductor:\n",
      "        rv = reductor(x)\n",
      "    else:\n",
      "        reductor = getattr(x, \"__reduce_ex__\", None)\n",
      "        if reductor:\n",
      "            rv = reductor(4)\n",
      "        else:\n",
      "            reductor = getattr(x, \"__reduce__\", None)\n",
      "            if reductor:\n",
      "                rv = reductor()\n",
      "            else:\n",
      "                raise Error(\"un(shallow)copyable object of type %s\" % cls)\n",
      "\n",
      "    return _reconstruct(x, rv, 0)\n",
      "\n"
     ]
    }
   ],
   "source": [
    "print(inspect.getsource(copy.copy))"
   ]
  },
  {
   "cell_type": "markdown",
   "metadata": {},
   "source": [
    "上面 copy.copy 的源代码\n",
    "看不懂。"
   ]
  },
  {
   "cell_type": "code",
   "execution_count": null,
   "metadata": {
    "collapsed": true
   },
   "outputs": [],
   "source": []
  }
 ],
 "metadata": {
  "kernelspec": {
   "display_name": "Python 3",
   "language": "python",
   "name": "python3"
  },
  "language_info": {
   "codemirror_mode": {
    "name": "ipython",
    "version": 3
   },
   "file_extension": ".py",
   "mimetype": "text/x-python",
   "name": "python",
   "nbconvert_exporter": "python",
   "pygments_lexer": "ipython3",
   "version": "3.5.2"
  }
 },
 "nbformat": 4,
 "nbformat_minor": 2
}
