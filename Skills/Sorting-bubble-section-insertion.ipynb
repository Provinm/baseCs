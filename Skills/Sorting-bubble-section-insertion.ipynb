{
 "cells": [
  {
   "cell_type": "markdown",
   "metadata": {},
   "source": [
    "## 冒泡排序"
   ]
  },
  {
   "cell_type": "markdown",
   "metadata": {},
   "source": [
    "### 时间复杂度\n",
    "\n",
    "1、最优情况\n",
    "当队列的已经按所需结果排好序了，这时候时间复杂度为 O(n)\n",
    "\n",
    "2、最差情况\n",
    "列表初始为倒序排列 最差时间复杂度为 O(n^2)\n",
    "\n",
    "### 空间复杂度\n",
    "\n",
    "in-place O(1)"
   ]
  },
  {
   "cell_type": "code",
   "execution_count": 4,
   "metadata": {},
   "outputs": [
    {
     "data": {
      "text/plain": [
       "[0, 1, 2, 3, 4, 5, 6, 7, 8, 9]"
      ]
     },
     "execution_count": 4,
     "metadata": {},
     "output_type": "execute_result"
    }
   ],
   "source": [
    "# 迭代求解\n",
    "\n",
    "import random\n",
    "\n",
    "def sort_b(lst):\n",
    "    if not lst: return lst\n",
    "    for i in range(len(lst)-1):\n",
    "        for j in range(1, len(lst)-i):\n",
    "            if lst[j] < lst[j-1] :\n",
    "                lst[j], lst[j-1] = lst[j-1], lst[j]\n",
    "                \n",
    "    return lst\n",
    "\n",
    "\n",
    "l = list(range(10))\n",
    "random.shuffle(l)\n",
    "\n",
    "new_l = sort_b(l)\n",
    "new_l"
   ]
  },
  {
   "cell_type": "markdown",
   "metadata": {},
   "source": [
    "## 选择排序\n"
   ]
  },
  {
   "cell_type": "markdown",
   "metadata": {},
   "source": [
    "\n",
    "思想： 每次将列表中最小的数拿出来放在相对最左边\n",
    "### 时间复杂度\n",
    "\n",
    "固定为 O(n^2)\n",
    "\n",
    "### 空间复杂度\n",
    "\n",
    "inplace - O(n)"
   ]
  },
  {
   "cell_type": "code",
   "execution_count": 6,
   "metadata": {},
   "outputs": [
    {
     "name": "stdout",
     "output_type": "stream",
     "text": [
      "[2, 9, 5, 3, 0, 7, 8, 6, 4, 1]\n",
      "[0, 9, 5, 3, 2, 7, 8, 6, 4, 1]\n",
      "[0, 1, 5, 3, 2, 7, 8, 6, 4, 9]\n",
      "[0, 1, 2, 3, 5, 7, 8, 6, 4, 9]\n",
      "[0, 1, 2, 3, 5, 7, 8, 6, 4, 9]\n",
      "[0, 1, 2, 3, 4, 7, 8, 6, 5, 9]\n",
      "[0, 1, 2, 3, 4, 5, 8, 6, 7, 9]\n",
      "[0, 1, 2, 3, 4, 5, 6, 8, 7, 9]\n",
      "[0, 1, 2, 3, 4, 5, 6, 7, 8, 9]\n",
      "[0, 1, 2, 3, 4, 5, 6, 7, 8, 9]\n",
      "[0, 1, 2, 3, 4, 5, 6, 7, 8, 9]\n",
      "[0, 1, 2, 3, 4, 5, 6, 7, 8, 9]\n"
     ]
    }
   ],
   "source": [
    "def sort_s(lst):\n",
    "    \n",
    "    for i in range(len(lst)):\n",
    "        small = i\n",
    "        for j in range(i, len(lst)):\n",
    "            if lst[j] < lst[small]:\n",
    "                small = j\n",
    "        lst[i], lst[small] = lst[small], lst[i]\n",
    "        print(lst)\n",
    "        \n",
    "    return lst\n",
    "\n",
    "l = list(range(10))\n",
    "random.shuffle(l)\n",
    "\n",
    "print(l)\n",
    "new_l = sort_s(l)\n",
    "print(new_l)\n",
    "\n"
   ]
  },
  {
   "cell_type": "markdown",
   "metadata": {},
   "source": [
    "## 插入排序"
   ]
  },
  {
   "cell_type": "markdown",
   "metadata": {},
   "source": [
    "#### 时间复杂度\n",
    "\n",
    "当列表以及排好序了，最优情况为 O(n) \n",
    "最差的情况为 O(n^2)\n",
    "\n",
    "#### 空间复杂度\n",
    "\n",
    "inplace- O(1)\n",
    "\n"
   ]
  },
  {
   "cell_type": "code",
   "execution_count": 9,
   "metadata": {},
   "outputs": [
    {
     "name": "stdout",
     "output_type": "stream",
     "text": [
      "[0, 4, 5, 2, 6, 8, 9, 3, 1, 7]\n",
      "[0, 4, 5, 2, 6, 8, 9, 3, 1, 7]\n",
      "[0, 4, 5, 2, 6, 8, 9, 3, 1, 7]\n",
      "[0, 2, 4, 5, 6, 8, 9, 3, 1, 7]\n",
      "[0, 2, 4, 5, 6, 8, 9, 3, 1, 7]\n",
      "[0, 2, 4, 5, 6, 8, 9, 3, 1, 7]\n",
      "[0, 2, 4, 5, 6, 8, 9, 3, 1, 7]\n",
      "[0, 2, 3, 4, 5, 6, 8, 9, 1, 7]\n",
      "[0, 1, 2, 3, 4, 5, 6, 8, 9, 7]\n",
      "[0, 1, 2, 3, 4, 5, 6, 7, 8, 9]\n",
      "[0, 1, 2, 3, 4, 5, 6, 7, 8, 9]\n"
     ]
    }
   ],
   "source": [
    "def sort_i(lst):\n",
    "    \n",
    "    for i in range(1, len(lst)):\n",
    "        \n",
    "        idx = i\n",
    "        while lst[idx] < lst[idx-1] and idx > 0:\n",
    "            lst[idx], lst[idx-1] = lst[idx-1], lst[idx]\n",
    "            idx -= 1\n",
    "            \n",
    "        print(lst)\n",
    "            \n",
    "    return lst\n",
    "\n",
    "l = list(range(10))\n",
    "random.shuffle(l)\n",
    "\n",
    "print(l)\n",
    "new_l = sort_i(l)\n",
    "print(new_l)\n"
   ]
  }
 ],
 "metadata": {
  "kernelspec": {
   "display_name": "Python 3",
   "language": "python",
   "name": "python3"
  },
  "language_info": {
   "codemirror_mode": {
    "name": "ipython",
    "version": 3
   },
   "file_extension": ".py",
   "mimetype": "text/x-python",
   "name": "python",
   "nbconvert_exporter": "python",
   "pygments_lexer": "ipython3",
   "version": "3.5.2"
  }
 },
 "nbformat": 4,
 "nbformat_minor": 2
}
