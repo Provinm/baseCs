{
 "cells": [
  {
   "cell_type": "code",
   "execution_count": 1,
   "metadata": {},
   "outputs": [],
   "source": [
    "from transitions.extensions import LockedHierarchicalMachine as LHMachine\n",
    "from transitions import State\n",
    "import threading"
   ]
  },
  {
   "cell_type": "code",
   "execution_count": 2,
   "metadata": {},
   "outputs": [],
   "source": [
    "DIALOG_STATES = [\n",
    "    'not_initialized', \n",
    "    'idle', \n",
    "    {\n",
    "        'name': 'activated', \n",
    "        'initial': 'preparing', \n",
    "        'children': ['preparing', 'listening', 'processing'],\n",
    "    },\n",
    "    'aborted',\n",
    "    'loading',\n",
    "    'quit',\n",
    "]\n",
    "\n",
    "# states machine transitions\n",
    "# \n",
    "DIALOG_TRANSITIONS = [\n",
    "    # initializing\n",
    "    {\n",
    "        'trigger': 'ready', \n",
    "        'source': 'not_initialized', \n",
    "        'dest': 'idle', \n",
    "        'prepare': None,\n",
    "        'conditions': None, \n",
    "        'unless': None,\n",
    "        'before': None,\n",
    "        'after': None,\n",
    "    },\n",
    "    # activating\n",
    "    {\n",
    "        'trigger': 'ptt', \n",
    "        'source': 'idle', \n",
    "        'dest': 'activated', \n",
    "        'prepare': None,\n",
    "        'conditions': None, \n",
    "        'unless': None,\n",
    "        'before': None,\n",
    "        'after': None,\n",
    "    },\n",
    "    {\n",
    "        'trigger': 'enter_session', \n",
    "        'source': 'activated', \n",
    "        'dest': 'activated_listening', \n",
    "        'prepare': None,\n",
    "        'conditions': None, \n",
    "        'unless': None,\n",
    "        'before': None,\n",
    "        'after': None,\n",
    "    },\n",
    "    {\n",
    "        'trigger': 'result_returned', \n",
    "        'source': 'activated_listening', \n",
    "        'dest': 'activated_processing', \n",
    "        'prepare': None,\n",
    "        'conditions': None, \n",
    "        'unless': None,\n",
    "        'before': None,\n",
    "        'after': None,\n",
    "    },\n",
    "    # return idle\n",
    "    {\n",
    "        'trigger': 'leave_session', \n",
    "        'source': 'aborted', \n",
    "        'dest': 'idle', \n",
    "        'prepare': None,\n",
    "        'conditions': None, \n",
    "        'unless': None,\n",
    "        'before': None,\n",
    "        'after': None,\n",
    "    },\n",
    "    {\n",
    "        'trigger': 'leave_session', \n",
    "        'source': 'activated_processing', \n",
    "        'dest': 'idle', \n",
    "        'prepare': None,\n",
    "        'conditions': None, \n",
    "        'unless': None,\n",
    "        'before': None,\n",
    "        'after': None,\n",
    "    },\n",
    "    # aborting\n",
    "    {\n",
    "        'trigger': 'abort', \n",
    "        'source': 'activated', \n",
    "        'dest': 'aborted', \n",
    "        'prepare': None,\n",
    "        'conditions': None, \n",
    "        'unless': None,\n",
    "        'before': None,\n",
    "        'after': None,\n",
    "    },\n",
    "    # loading\n",
    "    {\n",
    "        'trigger': 'leave_loding', \n",
    "        'source': 'loading', \n",
    "        'dest': 'idle', \n",
    "        'prepare': None,\n",
    "        'conditions': None, \n",
    "        'unless': None,\n",
    "        'before': None,\n",
    "        'after': None,\n",
    "    },\n",
    "    {\n",
    "        'trigger': 'load_data', \n",
    "        'source': 'idle', \n",
    "        'dest': 'loading', \n",
    "        'prepare': None,\n",
    "        'conditions': None, \n",
    "        'unless': None,\n",
    "        'before': None,\n",
    "        'after': None,\n",
    "    },\n",
    "    # quiting\n",
    "    {\n",
    "        'trigger': 'quit', \n",
    "        'source': 'idle', \n",
    "        'dest': 'quit', \n",
    "        'prepare': None,\n",
    "        'conditions': None, \n",
    "        'unless': None,\n",
    "        'before': None,\n",
    "        'after': None,\n",
    "    },\n",
    "]\n"
   ]
  },
  {
   "cell_type": "code",
   "execution_count": 3,
   "metadata": {},
   "outputs": [],
   "source": [
    "class StateManger(LHMachine):\n",
    "    \n",
    "    _instance = None\n",
    "    def __new__(cls, *args, **kw):\n",
    "        \n",
    "        if cls._instance is None:\n",
    "            StateManger._instance = object.__new__(cls, *args, **kw)\n",
    "\n",
    "        return cls._instance\n",
    "\n",
    "    def __init__(self, *args, **kw):\n",
    "        states = kw.get('states', [])\n",
    "        transitions = kw.get('transitions', [])\n",
    "        super(StateManger, self).__init__(states=states, transitions=transitions, initial='not_initialized')\n",
    "        self.cond = threading.Condition()\n",
    "        # self.state indicates the current state\n",
    "\n",
    "    # def prepare_event(self):\n",
    "    #     '''executed once before individual transitions are processed'''\n",
    "    #     pass\n",
    "\n",
    "    # def finalize_event(self):\n",
    "    #     '''callbacks will be executed even if no transition took place or an exception has been raised'''\n",
    "    #     pass\n",
    "\n",
    "    # def on_enter_idle(self):\n",
    "    #     pass\n",
    "\n",
    "    # def on_enter_quit(self):\n",
    "    #     pass\n",
    "\n",
    "    def _is_matched_status(self, st):\n",
    "        return self.state == st\n",
    "\n",
    "    def need_state(self, status):\n",
    "        # wait the stat\n",
    "        # then leverage the decorated func\n",
    "        def _func(func):\n",
    "            def _inner(*args, **kw):\n",
    "                self.cond.acquire()\n",
    "                while not self._is_matched_status(status):\n",
    "                    self.cond.wait()\n",
    "                r = func(*args, **kw)\n",
    "                self.cond.release()\n",
    "                return r\n",
    "            return _inner\n",
    "        return _func"
   ]
  },
  {
   "cell_type": "code",
   "execution_count": 8,
   "metadata": {},
   "outputs": [],
   "source": [
    "stm = StateManger(states=DIALOG_STATES,\n",
    "            transitions=DIALOG_TRANSITIONS)\n",
    "              "
   ]
  },
  {
   "cell_type": "code",
   "execution_count": 9,
   "metadata": {},
   "outputs": [
    {
     "data": {
      "text/plain": [
       "'not_initialized'"
      ]
     },
     "execution_count": 9,
     "metadata": {},
     "output_type": "execute_result"
    }
   ],
   "source": [
    "stm.state"
   ]
  },
  {
   "cell_type": "code",
   "execution_count": 10,
   "metadata": {},
   "outputs": [
    {
     "data": {
      "text/plain": [
       "{'_after_state_change': [],\n",
       " '_before_state_change': [],\n",
       " '_buffered_transitions': [],\n",
       " '_finalize_event': [],\n",
       " '_initial': 'not_initialized',\n",
       " '_locked': 0,\n",
       " '_prepare_event': [],\n",
       " '_queued': False,\n",
       " '_transition_queue': deque([]),\n",
       " 'abort': <functools.partial at 0x5fa4b10>,\n",
       " 'auto_transitions': True,\n",
       " 'cond': <Condition(<_RLock owner=None count=0>, 0)>,\n",
       " 'enter_session': <functools.partial at 0x5fda1b0>,\n",
       " 'events': {'abort': <LockedNestedEvent('abort')@100492272>,\n",
       "  'enter_session': <LockedNestedEvent('enter_session')@100492080>,\n",
       "  'leave_loding': <LockedNestedEvent('leave_loding')@100492368>,\n",
       "  'leave_session': <LockedNestedEvent('leave_session')@100492208>,\n",
       "  'load_data': <LockedNestedEvent('load_data')@100492432>,\n",
       "  'ptt': <LockedNestedEvent('ptt')@100492016>,\n",
       "  'quit': <LockedNestedEvent('quit')@100492496>,\n",
       "  'ready': <LockedNestedEvent('ready')@100491696>,\n",
       "  'result_returned': <LockedNestedEvent('result_returned')@100492144>,\n",
       "  'to_aborted': <LockedNestedEvent('to_aborted')@100347568>,\n",
       "  'to_activated': <LockedNestedEvent('to_activated')@100346000>,\n",
       "  'to_activated_listening': <LockedNestedEvent('to_activated_listening')@100346608>,\n",
       "  'to_activated_preparing': <LockedNestedEvent('to_activated_preparing')@100346288>,\n",
       "  'to_activated_processing': <LockedNestedEvent('to_activated_processing')@100346928>,\n",
       "  'to_idle': <LockedNestedEvent('to_idle')@100345904>,\n",
       "  'to_loading': <LockedNestedEvent('to_loading')@100491312>,\n",
       "  'to_not_initialized': <LockedNestedEvent('to_not_initialized')@100345616>,\n",
       "  'to_quit': <LockedNestedEvent('to_quit')@100491664>},\n",
       " 'ignore_invalid_triggers': None,\n",
       " 'is_aborted': <functools.partial at 0x5fda5a0>,\n",
       " 'is_activated': <functools.partial at 0x5fda300>,\n",
       " 'is_activated_listening': <functools.partial at 0x5fda480>,\n",
       " 'is_activated_preparing': <functools.partial at 0x5fda3c0>,\n",
       " 'is_activated_processing': <functools.partial at 0x5fda540>,\n",
       " 'is_idle': <functools.partial at 0x5fa4b70>,\n",
       " 'is_loading': <functools.partial at 0x5fda570>,\n",
       " 'is_not_initialized': <functools.partial at 0x5fda270>,\n",
       " 'is_quit': <functools.partial at 0x5fda630>,\n",
       " 'leave_loding': <functools.partial at 0x5fda210>,\n",
       " 'leave_session': <functools.partial at 0x5fda180>,\n",
       " 'load_data': <functools.partial at 0x5fda030>,\n",
       " 'machine_context': [<transitions.extensions.locking.PicklableLock at 0x5fb24d0>,\n",
       "  <__main__.StateManger at 0x5fb2150>],\n",
       " 'model_context_map': defaultdict(list,\n",
       "             {<__main__.StateManger at 0x5fb2150>: [<transitions.extensions.locking.PicklableLock at 0x5fb24d0>,\n",
       "               <__main__.StateManger at 0x5fb2150>]}),\n",
       " 'models': [<__main__.StateManger at 0x5fb2150>],\n",
       " 'name': '',\n",
       " 'ptt': <functools.partial at 0x5fda090>,\n",
       " 'quit': <functools.partial at 0x5fa4f90>,\n",
       " 'ready': <functools.partial at 0x5fda150>,\n",
       " 'result_returned': <functools.partial at 0x5fa4a50>,\n",
       " 'send_event': False,\n",
       " 'state': 'not_initialized',\n",
       " 'states': OrderedDict([('not_initialized',\n",
       "               <NestedState('not_initialized')@100344272>),\n",
       "              ('idle', <NestedState('idle')@100343952>),\n",
       "              ('activated', <NestedState('activated')@100345072>),\n",
       "              ('activated_preparing',\n",
       "               <NestedState('activated_preparing')@100345424>),\n",
       "              ('activated_listening',\n",
       "               <NestedState('activated_listening')@100345296>),\n",
       "              ('activated_processing',\n",
       "               <NestedState('activated_processing')@100345488>),\n",
       "              ('aborted', <NestedState('aborted')@100345456>),\n",
       "              ('loading', <NestedState('loading')@100345520>),\n",
       "              ('quit', <NestedState('quit')@100345552>)]),\n",
       " 'to_aborted': <functools.partial at 0x5fda0c0>,\n",
       " 'to_activated': <functools.partial at 0x5fda060>,\n",
       " 'to_activated_listening': <functools.partial at 0x5fa4f30>,\n",
       " 'to_activated_preparing': <functools.partial at 0x5fda120>,\n",
       " 'to_activated_processing': <functools.partial at 0x5fa49f0>,\n",
       " 'to_idle': <functools.partial at 0x5fda1e0>,\n",
       " 'to_loading': <functools.partial at 0x5fa4fc0>,\n",
       " 'to_not_initialized': <functools.partial at 0x5fda0f0>,\n",
       " 'to_quit': <functools.partial at 0x5fa4f60>,\n",
       " 'trigger': <functools.partial at 0x5fa4990>}"
      ]
     },
     "execution_count": 10,
     "metadata": {},
     "output_type": "execute_result"
    }
   ],
   "source": [
    "vars(stm)"
   ]
  },
  {
   "cell_type": "code",
   "execution_count": 11,
   "metadata": {},
   "outputs": [
    {
     "data": {
      "text/plain": [
       "True"
      ]
     },
     "execution_count": 11,
     "metadata": {},
     "output_type": "execute_result"
    }
   ],
   "source": [
    "stm.to_quit()"
   ]
  },
  {
   "cell_type": "code",
   "execution_count": 12,
   "metadata": {},
   "outputs": [
    {
     "data": {
      "text/plain": [
       "'quit'"
      ]
     },
     "execution_count": 12,
     "metadata": {},
     "output_type": "execute_result"
    }
   ],
   "source": [
    "stm.state"
   ]
  },
  {
   "cell_type": "code",
   "execution_count": 13,
   "metadata": {},
   "outputs": [
    {
     "data": {
      "text/plain": [
       "True"
      ]
     },
     "execution_count": 13,
     "metadata": {},
     "output_type": "execute_result"
    }
   ],
   "source": [
    "stm.to_not_initialized()"
   ]
  },
  {
   "cell_type": "code",
   "execution_count": 14,
   "metadata": {},
   "outputs": [
    {
     "data": {
      "text/plain": [
       "'not_initialized'"
      ]
     },
     "execution_count": 14,
     "metadata": {},
     "output_type": "execute_result"
    }
   ],
   "source": [
    "stm.state "
   ]
  },
  {
   "cell_type": "code",
   "execution_count": 15,
   "metadata": {},
   "outputs": [
    {
     "ename": "MachineError",
     "evalue": "\"Can't trigger event quit from state not_initialized!\"",
     "output_type": "error",
     "traceback": [
      "\u001b[1;31m---------------------------------------------------------------------------\u001b[0m",
      "\u001b[1;31mMachineError\u001b[0m                              Traceback (most recent call last)",
      "\u001b[1;32m<ipython-input-15-cb595f113e77>\u001b[0m in \u001b[0;36m<module>\u001b[1;34m()\u001b[0m\n\u001b[1;32m----> 1\u001b[1;33m \u001b[0mstm\u001b[0m\u001b[1;33m.\u001b[0m\u001b[0mquit\u001b[0m\u001b[1;33m(\u001b[0m\u001b[1;33m)\u001b[0m\u001b[1;33m\u001b[0m\u001b[0m\n\u001b[0m",
      "\u001b[1;32mC:\\Python27\\lib\\site-packages\\transitions\\extensions\\locking.pyc\u001b[0m in \u001b[0;36mtrigger\u001b[1;34m(self, model, *args, **kwargs)\u001b[0m\n\u001b[0;32m     75\u001b[0m         \u001b[1;32mif\u001b[0m \u001b[0mself\u001b[0m\u001b[1;33m.\u001b[0m\u001b[0mmachine\u001b[0m\u001b[1;33m.\u001b[0m\u001b[0m_locked\u001b[0m \u001b[1;33m!=\u001b[0m \u001b[0mget_ident\u001b[0m\u001b[1;33m(\u001b[0m\u001b[1;33m)\u001b[0m\u001b[1;33m:\u001b[0m\u001b[1;33m\u001b[0m\u001b[0m\n\u001b[0;32m     76\u001b[0m             \u001b[1;32mwith\u001b[0m \u001b[0mnested\u001b[0m\u001b[1;33m(\u001b[0m\u001b[1;33m*\u001b[0m\u001b[0mself\u001b[0m\u001b[1;33m.\u001b[0m\u001b[0mmachine\u001b[0m\u001b[1;33m.\u001b[0m\u001b[0mmodel_context_map\u001b[0m\u001b[1;33m[\u001b[0m\u001b[0mmodel\u001b[0m\u001b[1;33m]\u001b[0m\u001b[1;33m)\u001b[0m\u001b[1;33m:\u001b[0m\u001b[1;33m\u001b[0m\u001b[0m\n\u001b[1;32m---> 77\u001b[1;33m                 \u001b[1;32mreturn\u001b[0m \u001b[0m_super\u001b[0m\u001b[1;33m(\u001b[0m\u001b[0mLockedEvent\u001b[0m\u001b[1;33m,\u001b[0m \u001b[0mself\u001b[0m\u001b[1;33m)\u001b[0m\u001b[1;33m.\u001b[0m\u001b[0mtrigger\u001b[0m\u001b[1;33m(\u001b[0m\u001b[0mmodel\u001b[0m\u001b[1;33m,\u001b[0m \u001b[1;33m*\u001b[0m\u001b[0margs\u001b[0m\u001b[1;33m,\u001b[0m \u001b[1;33m**\u001b[0m\u001b[0mkwargs\u001b[0m\u001b[1;33m)\u001b[0m\u001b[1;33m\u001b[0m\u001b[0m\n\u001b[0m\u001b[0;32m     78\u001b[0m         \u001b[1;32melse\u001b[0m\u001b[1;33m:\u001b[0m\u001b[1;33m\u001b[0m\u001b[0m\n\u001b[0;32m     79\u001b[0m             \u001b[1;32mreturn\u001b[0m \u001b[0m_super\u001b[0m\u001b[1;33m(\u001b[0m\u001b[0mLockedEvent\u001b[0m\u001b[1;33m,\u001b[0m \u001b[0mself\u001b[0m\u001b[1;33m)\u001b[0m\u001b[1;33m.\u001b[0m\u001b[0mtrigger\u001b[0m\u001b[1;33m(\u001b[0m\u001b[0mmodel\u001b[0m\u001b[1;33m,\u001b[0m \u001b[1;33m*\u001b[0m\u001b[0margs\u001b[0m\u001b[1;33m,\u001b[0m \u001b[1;33m**\u001b[0m\u001b[0mkwargs\u001b[0m\u001b[1;33m)\u001b[0m\u001b[1;33m\u001b[0m\u001b[0m\n",
      "\u001b[1;32mC:\\Python27\\lib\\site-packages\\transitions\\core.pyc\u001b[0m in \u001b[0;36mtrigger\u001b[1;34m(self, model, *args, **kwargs)\u001b[0m\n\u001b[0;32m    380\u001b[0m         \u001b[1;31m# Machine._process should not be called somewhere else. That's why it should not be exposed\u001b[0m\u001b[1;33m\u001b[0m\u001b[1;33m\u001b[0m\u001b[0m\n\u001b[0;32m    381\u001b[0m         \u001b[1;31m# to Machine users.\u001b[0m\u001b[1;33m\u001b[0m\u001b[1;33m\u001b[0m\u001b[0m\n\u001b[1;32m--> 382\u001b[1;33m         \u001b[1;32mreturn\u001b[0m \u001b[0mself\u001b[0m\u001b[1;33m.\u001b[0m\u001b[0mmachine\u001b[0m\u001b[1;33m.\u001b[0m\u001b[0m_process\u001b[0m\u001b[1;33m(\u001b[0m\u001b[0mfunc\u001b[0m\u001b[1;33m)\u001b[0m\u001b[1;33m\u001b[0m\u001b[0m\n\u001b[0m\u001b[0;32m    383\u001b[0m \u001b[1;33m\u001b[0m\u001b[0m\n\u001b[0;32m    384\u001b[0m     \u001b[1;32mdef\u001b[0m \u001b[0m_trigger\u001b[0m\u001b[1;33m(\u001b[0m\u001b[0mself\u001b[0m\u001b[1;33m,\u001b[0m \u001b[0mmodel\u001b[0m\u001b[1;33m,\u001b[0m \u001b[1;33m*\u001b[0m\u001b[0margs\u001b[0m\u001b[1;33m,\u001b[0m \u001b[1;33m**\u001b[0m\u001b[0mkwargs\u001b[0m\u001b[1;33m)\u001b[0m\u001b[1;33m:\u001b[0m\u001b[1;33m\u001b[0m\u001b[0m\n",
      "\u001b[1;32mC:\\Python27\\lib\\site-packages\\transitions\\core.pyc\u001b[0m in \u001b[0;36m_process\u001b[1;34m(self, trigger)\u001b[0m\n\u001b[0;32m    989\u001b[0m             \u001b[1;32mif\u001b[0m \u001b[1;32mnot\u001b[0m \u001b[0mself\u001b[0m\u001b[1;33m.\u001b[0m\u001b[0m_transition_queue\u001b[0m\u001b[1;33m:\u001b[0m\u001b[1;33m\u001b[0m\u001b[0m\n\u001b[0;32m    990\u001b[0m                 \u001b[1;31m# if trigger raises an Error, it has to be handled by the Machine.process caller\u001b[0m\u001b[1;33m\u001b[0m\u001b[1;33m\u001b[0m\u001b[0m\n\u001b[1;32m--> 991\u001b[1;33m                 \u001b[1;32mreturn\u001b[0m \u001b[0mtrigger\u001b[0m\u001b[1;33m(\u001b[0m\u001b[1;33m)\u001b[0m\u001b[1;33m\u001b[0m\u001b[0m\n\u001b[0m\u001b[0;32m    992\u001b[0m             \u001b[1;32melse\u001b[0m\u001b[1;33m:\u001b[0m\u001b[1;33m\u001b[0m\u001b[0m\n\u001b[0;32m    993\u001b[0m                 \u001b[1;32mraise\u001b[0m \u001b[0mMachineError\u001b[0m\u001b[1;33m(\u001b[0m\u001b[1;34m\"Attempt to process events synchronously while transition queue is not empty!\"\u001b[0m\u001b[1;33m)\u001b[0m\u001b[1;33m\u001b[0m\u001b[0m\n",
      "\u001b[1;32mC:\\Python27\\lib\\site-packages\\transitions\\extensions\\nesting.pyc\u001b[0m in \u001b[0;36m_trigger\u001b[1;34m(self, model, *args, **kwargs)\u001b[0m\n\u001b[0;32m    224\u001b[0m                 \u001b[0m_LOGGER\u001b[0m\u001b[1;33m.\u001b[0m\u001b[0mwarning\u001b[0m\u001b[1;33m(\u001b[0m\u001b[0mmsg\u001b[0m\u001b[1;33m)\u001b[0m\u001b[1;33m\u001b[0m\u001b[0m\n\u001b[0;32m    225\u001b[0m             \u001b[1;32melse\u001b[0m\u001b[1;33m:\u001b[0m\u001b[1;33m\u001b[0m\u001b[0m\n\u001b[1;32m--> 226\u001b[1;33m                 \u001b[1;32mraise\u001b[0m \u001b[0mMachineError\u001b[0m\u001b[1;33m(\u001b[0m\u001b[0mmsg\u001b[0m\u001b[1;33m)\u001b[0m\u001b[1;33m\u001b[0m\u001b[0m\n\u001b[0m\u001b[0;32m    227\u001b[0m         event_data = EventData(state, self, self.machine,\n\u001b[0;32m    228\u001b[0m                                model, args=args, kwargs=kwargs)\n",
      "\u001b[1;31mMachineError\u001b[0m: \"Can't trigger event quit from state not_initialized!\""
     ]
    }
   ],
   "source": [
    "stm.quit()"
   ]
  },
  {
   "cell_type": "code",
   "execution_count": null,
   "metadata": {},
   "outputs": [],
   "source": []
  }
 ],
 "metadata": {
  "kernelspec": {
   "display_name": "Python 2",
   "language": "python",
   "name": "python2"
  },
  "language_info": {
   "codemirror_mode": {
    "name": "ipython",
    "version": 2
   },
   "file_extension": ".py",
   "mimetype": "text/x-python",
   "name": "python",
   "nbconvert_exporter": "python",
   "pygments_lexer": "ipython2",
   "version": "2.7.10"
  }
 },
 "nbformat": 4,
 "nbformat_minor": 2
}
