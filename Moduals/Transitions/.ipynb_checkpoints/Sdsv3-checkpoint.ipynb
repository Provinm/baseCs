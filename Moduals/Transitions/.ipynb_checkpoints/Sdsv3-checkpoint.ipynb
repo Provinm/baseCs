{
 "cells": [
  {
   "cell_type": "markdown",
   "metadata": {},
   "source": [
    "## Sdsv3"
   ]
  },
  {
   "cell_type": "code",
   "execution_count": 4,
   "metadata": {},
   "outputs": [],
   "source": [
    "from transitions.extensions import LockedHierarchicalMachine as LHMachine\n",
    "\n",
    "\n",
    "\n",
    "DIALOG_STATES = [\n",
    "    'not_initialized', \n",
    "    'idle', \n",
    "    {\n",
    "        'name': 'activated', \n",
    "        'initial': 'preparing', \n",
    "        'children': ['preparing', 'listening', 'processing'],\n",
    "    },\n",
    "    'aborted',\n",
    "    'loading',\n",
    "    'quit',\n",
    "]\n",
    "\n",
    "DIALOG_TRANSITIONS = [\n",
    "    ['ready', 'not_initialized', 'idle'],\n",
    "    ['ptt', 'idle', 'activated'],\n",
    "    # activated\n",
    "    ['enter_session', 'activated', 'activated_listening'],\n",
    "    ['result_returned', 'activated_listening', 'activated_processing'],\n",
    "    #\n",
    "    ['leave_session', 'aborted', 'idle'],\n",
    "    ['leave_session', 'activated_processing', 'idle'],\n",
    "    # quit sub states\n",
    "    ['abort', 'activated', 'aborted'],\n",
    "    #\n",
    "    ['quit', 'idle', 'quit'],\n",
    "    {\n",
    "        'trigger': 'load_data', \n",
    "        'source': 'idle', \n",
    "        'dest': 'loading', \n",
    "        'prepare': ['lock_for_loading', 'prepare_loading'], \n",
    "        'conditions': 'check_context_holder', \n",
    "        'before': 'before_loading',\n",
    "        'after': 'unlock_for_loading',\n",
    "    },\n",
    "]\n",
    "\n",
    "class StateManger(LHMachine):\n",
    "\n",
    "    def __init__(self, *args, **kw):\n",
    "        states = kw.get('states', [])\n",
    "        transitions = kw.get('transitions', [])\n",
    "        super(StateManger, self).__init__(states=states, transitions=transitions, initial='not_initialized')\n",
    "\n",
    "sm = StateManger(states=DIALOG_STATES,\n",
    "                transitions=DIALOG_TRANSITIONS)\n"
   ]
  },
  {
   "cell_type": "code",
   "execution_count": 5,
   "metadata": {},
   "outputs": [
    {
     "data": {
      "text/plain": [
       "'not_initialized'"
      ]
     },
     "execution_count": 5,
     "metadata": {},
     "output_type": "execute_result"
    }
   ],
   "source": [
    "sm.state"
   ]
  },
  {
   "cell_type": "code",
   "execution_count": 6,
   "metadata": {},
   "outputs": [
    {
     "data": {
      "text/plain": [
       "True"
      ]
     },
     "execution_count": 6,
     "metadata": {},
     "output_type": "execute_result"
    }
   ],
   "source": [
    "sm.ready()"
   ]
  },
  {
   "cell_type": "code",
   "execution_count": 7,
   "metadata": {},
   "outputs": [
    {
     "data": {
      "text/plain": [
       "True"
      ]
     },
     "execution_count": 7,
     "metadata": {},
     "output_type": "execute_result"
    }
   ],
   "source": [
    "sm.ptt()"
   ]
  },
  {
   "cell_type": "code",
   "execution_count": 8,
   "metadata": {},
   "outputs": [
    {
     "data": {
      "text/plain": [
       "'activated_preparing'"
      ]
     },
     "execution_count": 8,
     "metadata": {},
     "output_type": "execute_result"
    }
   ],
   "source": [
    "sm.state"
   ]
  },
  {
   "cell_type": "code",
   "execution_count": 9,
   "metadata": {},
   "outputs": [
    {
     "data": {
      "text/plain": [
       "True"
      ]
     },
     "execution_count": 9,
     "metadata": {},
     "output_type": "execute_result"
    }
   ],
   "source": [
    "sm.enter_session()"
   ]
  },
  {
   "cell_type": "code",
   "execution_count": 10,
   "metadata": {},
   "outputs": [
    {
     "data": {
      "text/plain": [
       "'activated_listening'"
      ]
     },
     "execution_count": 10,
     "metadata": {},
     "output_type": "execute_result"
    }
   ],
   "source": [
    "sm.state"
   ]
  },
  {
   "cell_type": "code",
   "execution_count": 11,
   "metadata": {},
   "outputs": [
    {
     "data": {
      "text/plain": [
       "True"
      ]
     },
     "execution_count": 11,
     "metadata": {},
     "output_type": "execute_result"
    }
   ],
   "source": [
    "sm.to_quit()"
   ]
  },
  {
   "cell_type": "code",
   "execution_count": 12,
   "metadata": {},
   "outputs": [
    {
     "data": {
      "text/plain": [
       "'quit'"
      ]
     },
     "execution_count": 12,
     "metadata": {},
     "output_type": "execute_result"
    }
   ],
   "source": [
    "sm.state"
   ]
  },
  {
   "cell_type": "code",
   "execution_count": null,
   "metadata": {},
   "outputs": [],
   "source": [
    "from transitions.extensions import LockedHierarchicalMachine as LHMachine\n",
    "\n",
    "\n",
    "\n",
    "DIALOG_STATES = [\n",
    "    'not_initialized', \n",
    "    'idle', \n",
    "    {\n",
    "        'name': 'activated', \n",
    "        'initial': 'preparing', \n",
    "        'children': ['preparing', 'listening', 'processing'],\n",
    "    },\n",
    "    'aborted',\n",
    "    'loading',\n",
    "    'quit',\n",
    "]\n",
    "\n",
    "DIALOG_TRANSITIONS = [\n",
    "    ['ready', 'not_initialized', 'idle'],\n",
    "    ['ptt', 'idle', 'activated'],\n",
    "    # activated\n",
    "    ['enter_session', 'activated', 'activated_listening'],\n",
    "    ['result_returned', 'activated_listening', 'activated_processing'],\n",
    "    #\n",
    "    ['leave_session', 'aborted', 'idle'],\n",
    "    ['leave_session', 'activated_processing', 'idle'],\n",
    "    # quit sub states\n",
    "    ['abort', 'activated', 'aborted'],\n",
    "    #\n",
    "    ['quit', 'idle', 'quit'],\n",
    "    {\n",
    "        'trigger': 'load_data', \n",
    "        'source': 'idle', \n",
    "        'dest': 'loading', \n",
    "        'prepare': ['lock_for_loading', 'prepare_loading'], \n",
    "        'conditions': 'check_context_holder', \n",
    "        'before': 'before_loading',\n",
    "        'after': 'unlock_for_loading',\n",
    "    },\n",
    "]\n",
    "\n",
    "class NotIntialized(object):\n",
    "    \n",
    "    def on_enter_idle(self):\n",
    "        print('enter idle')\n",
    "        \n",
    "    def on_exit_idle(self):\n",
    "        print('exit idle')\n",
    "        \n",
    "class MiddleCls(NotIntialized):\n",
    "    pass\n",
    "\n",
    "\n",
    "\n",
    "class StateManger(MiddleCls, LHMachine):\n",
    "\n",
    "    def __init__(self, *args, **kw):\n",
    "        states = kw.get('states', [])\n",
    "        transitions = kw.get('transitions', [])\n",
    "        super(StateManger, self).__init__(states=states, transitions=transitions, initial='not_initialized')\n",
    "\n",
    "sm = StateManger(states=DIALOG_STATES,\n",
    "                transitions=DIALOG_TRANSITIONS)\n"
   ]
  }
 ],
 "metadata": {
  "kernelspec": {
   "display_name": "Python 2",
   "language": "python",
   "name": "python2"
  },
  "language_info": {
   "codemirror_mode": {
    "name": "ipython",
    "version": 2
   },
   "file_extension": ".py",
   "mimetype": "text/x-python",
   "name": "python",
   "nbconvert_exporter": "python",
   "pygments_lexer": "ipython2",
   "version": "2.7.10"
  }
 },
 "nbformat": 4,
 "nbformat_minor": 2
}
