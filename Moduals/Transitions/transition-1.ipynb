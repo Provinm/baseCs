{
 "cells": [
  {
   "cell_type": "markdown",
   "metadata": {},
   "source": [
    "## transition python 2 code"
   ]
  },
  {
   "cell_type": "markdown",
   "metadata": {},
   "source": [
    "### example-1"
   ]
  },
  {
   "cell_type": "code",
   "execution_count": 1,
   "metadata": {},
   "outputs": [],
   "source": [
    "from transitions import Machine\n",
    "\n",
    "\n",
    "# a new class\n",
    "class Matter(object):\n",
    "    pass\n",
    "\n",
    "lump = Matter()\n",
    "\n",
    "\n",
    "machine = Machine(model=lump, states=['solid', 'liquid', 'gas', 'plasma'], initial='solid')"
   ]
  },
  {
   "cell_type": "code",
   "execution_count": 2,
   "metadata": {},
   "outputs": [
    {
     "data": {
      "text/plain": [
       "'solid'"
      ]
     },
     "execution_count": 2,
     "metadata": {},
     "output_type": "execute_result"
    }
   ],
   "source": [
    "lump.state"
   ]
  },
  {
   "cell_type": "code",
   "execution_count": 3,
   "metadata": {},
   "outputs": [
    {
     "data": {
      "text/plain": [
       "{'is_gas': <functools.partial at 0x5ee6930>,\n",
       " 'is_liquid': <functools.partial at 0x5ee6900>,\n",
       " 'is_plasma': <functools.partial at 0x5ee6960>,\n",
       " 'is_solid': <functools.partial at 0x5ee68d0>,\n",
       " 'state': 'solid',\n",
       " 'to_gas': <functools.partial at 0x5ecd930>,\n",
       " 'to_liquid': <functools.partial at 0x5ecd750>,\n",
       " 'to_plasma': <functools.partial at 0x5ee6630>,\n",
       " 'to_solid': <functools.partial at 0x5ee68a0>,\n",
       " 'trigger': <functools.partial at 0x5c8d300>}"
      ]
     },
     "execution_count": 3,
     "metadata": {},
     "output_type": "execute_result"
    }
   ],
   "source": [
    "vars(lump)"
   ]
  },
  {
   "cell_type": "code",
   "execution_count": 4,
   "metadata": {},
   "outputs": [
    {
     "data": {
      "text/plain": [
       "False"
      ]
     },
     "execution_count": 4,
     "metadata": {},
     "output_type": "execute_result"
    }
   ],
   "source": [
    "lump.is_gas()"
   ]
  },
  {
   "cell_type": "code",
   "execution_count": 5,
   "metadata": {},
   "outputs": [
    {
     "data": {
      "text/plain": [
       "True"
      ]
     },
     "execution_count": 5,
     "metadata": {},
     "output_type": "execute_result"
    }
   ],
   "source": [
    "lump.to_plasma()"
   ]
  },
  {
   "cell_type": "markdown",
   "metadata": {},
   "source": [
    "### example-2"
   ]
  },
  {
   "cell_type": "code",
   "execution_count": 6,
   "metadata": {},
   "outputs": [],
   "source": [
    "states = ['solid', 'liquid', 'gas', 'plasma']\n",
    "\n",
    "transition = [\n",
    "    {'trigger': 'melt', 'source': 'solid', 'dest': 'liquid'},\n",
    "    {'trigger': 'evaporate', 'source': 'liquid', 'dest': 'gas'},\n",
    "    {'trigger': 'sublimate', 'source': 'solid', 'dest': 'gas'},\n",
    "    {'trigger': 'sublimate', 'source': 'solid', 'dest': 'gas'},\n",
    "    {'trigger': 'ionize', 'source': 'gas', 'dest': 'plasma'},\n",
    "]\n",
    "\n",
    "machine = Machine(lump, states=states, transitions=transition, initial='liquid')\n"
   ]
  },
  {
   "cell_type": "code",
   "execution_count": 7,
   "metadata": {},
   "outputs": [
    {
     "data": {
      "text/plain": [
       "'liquid'"
      ]
     },
     "execution_count": 7,
     "metadata": {},
     "output_type": "execute_result"
    }
   ],
   "source": [
    "lump.state"
   ]
  },
  {
   "cell_type": "code",
   "execution_count": 8,
   "metadata": {},
   "outputs": [
    {
     "data": {
      "text/plain": [
       "{'evaporate': <functools.partial at 0x5ecd750>,\n",
       " 'ionize': <functools.partial at 0x5f40d50>,\n",
       " 'is_gas': <functools.partial at 0x5ee6900>,\n",
       " 'is_liquid': <functools.partial at 0x5ee68d0>,\n",
       " 'is_plasma': <functools.partial at 0x5ee6930>,\n",
       " 'is_solid': <functools.partial at 0x5ee68a0>,\n",
       " 'melt': <functools.partial at 0x5ecd930>,\n",
       " 'state': 'liquid',\n",
       " 'sublimate': <functools.partial at 0x56e40f0>,\n",
       " 'to_gas': <functools.partial at 0x5f40cf0>,\n",
       " 'to_liquid': <functools.partial at 0x5f40d20>,\n",
       " 'to_plasma': <functools.partial at 0x5f40d80>,\n",
       " 'to_solid': <functools.partial at 0x5ee6630>,\n",
       " 'trigger': <functools.partial at 0x5c8d300>}"
      ]
     },
     "execution_count": 8,
     "metadata": {},
     "output_type": "execute_result"
    }
   ],
   "source": [
    "vars(lump)"
   ]
  },
  {
   "cell_type": "code",
   "execution_count": 10,
   "metadata": {},
   "outputs": [
    {
     "data": {
      "text/plain": [
       "True"
      ]
     },
     "execution_count": 10,
     "metadata": {},
     "output_type": "execute_result"
    }
   ],
   "source": [
    "lump.evaporate()"
   ]
  },
  {
   "cell_type": "code",
   "execution_count": 11,
   "metadata": {},
   "outputs": [
    {
     "data": {
      "text/plain": [
       "'gas'"
      ]
     },
     "execution_count": 11,
     "metadata": {},
     "output_type": "execute_result"
    }
   ],
   "source": [
    "lump.state"
   ]
  },
  {
   "cell_type": "code",
   "execution_count": 12,
   "metadata": {},
   "outputs": [
    {
     "data": {
      "text/plain": [
       "{'evaporate': <functools.partial at 0x5ecd750>,\n",
       " 'ionize': <functools.partial at 0x5f40d50>,\n",
       " 'is_gas': <functools.partial at 0x5ee6900>,\n",
       " 'is_liquid': <functools.partial at 0x5ee68d0>,\n",
       " 'is_plasma': <functools.partial at 0x5ee6930>,\n",
       " 'is_solid': <functools.partial at 0x5ee68a0>,\n",
       " 'melt': <functools.partial at 0x5ecd930>,\n",
       " 'state': 'gas',\n",
       " 'sublimate': <functools.partial at 0x56e40f0>,\n",
       " 'to_gas': <functools.partial at 0x5f40cf0>,\n",
       " 'to_liquid': <functools.partial at 0x5f40d20>,\n",
       " 'to_plasma': <functools.partial at 0x5f40d80>,\n",
       " 'to_solid': <functools.partial at 0x5ee6630>,\n",
       " 'trigger': <functools.partial at 0x5c8d300>}"
      ]
     },
     "execution_count": 12,
     "metadata": {},
     "output_type": "execute_result"
    }
   ],
   "source": [
    "vars(lump)"
   ]
  },
  {
   "cell_type": "code",
   "execution_count": 15,
   "metadata": {},
   "outputs": [
    {
     "data": {
      "text/plain": [
       "(__main__.Matter, object)"
      ]
     },
     "execution_count": 15,
     "metadata": {},
     "output_type": "execute_result"
    }
   ],
   "source": [
    "Matter.__mro__"
   ]
  },
  {
   "cell_type": "markdown",
   "metadata": {},
   "source": [
    "### example-3-States"
   ]
  },
  {
   "cell_type": "code",
   "execution_count": 18,
   "metadata": {},
   "outputs": [],
   "source": [
    "# different states expressions\n",
    "\n",
    "from transitions import State\n",
    "\n",
    "states = [\n",
    "    State(name='liquid'),\n",
    "    'gas',\n",
    "    {'name': 'solid'}\n",
    "]\n",
    "\n",
    "machine = Machine(lump, states)\n",
    "\n"
   ]
  },
  {
   "cell_type": "code",
   "execution_count": 19,
   "metadata": {},
   "outputs": [],
   "source": [
    "machine = Machine(lump)\n",
    "\n",
    "solid = State('solid')\n",
    "liquid = State('liquid')\n",
    "\n",
    "machine.add_states([solid, liquid])\n"
   ]
  },
  {
   "cell_type": "code",
   "execution_count": 20,
   "metadata": {},
   "outputs": [
    {
     "data": {
      "text/plain": [
       "'initial'"
      ]
     },
     "execution_count": 20,
     "metadata": {},
     "output_type": "execute_result"
    }
   ],
   "source": [
    "lump.state"
   ]
  },
  {
   "cell_type": "code",
   "execution_count": 21,
   "metadata": {},
   "outputs": [
    {
     "data": {
      "text/plain": [
       "{'evaporate': <functools.partial at 0x5ecd750>,\n",
       " 'ionize': <functools.partial at 0x5f40d50>,\n",
       " 'is_gas': <functools.partial at 0x5f40d20>,\n",
       " 'is_initial': <functools.partial at 0x5f9ce40>,\n",
       " 'is_liquid': <functools.partial at 0x5ee68d0>,\n",
       " 'is_plasma': <functools.partial at 0x5ee6930>,\n",
       " 'is_solid': <functools.partial at 0x5ee6900>,\n",
       " 'melt': <functools.partial at 0x5ecd930>,\n",
       " 'state': 'initial',\n",
       " 'sublimate': <functools.partial at 0x56e40f0>,\n",
       " 'to_gas': <functools.partial at 0x5f9cb10>,\n",
       " 'to_initial': <functools.partial at 0x5f9cf00>,\n",
       " 'to_liquid': <functools.partial at 0x5f9cde0>,\n",
       " 'to_plasma': <functools.partial at 0x5f40d80>,\n",
       " 'to_solid': <functools.partial at 0x5ee6630>,\n",
       " 'trigger': <functools.partial at 0x5c8d300>}"
      ]
     },
     "execution_count": 21,
     "metadata": {},
     "output_type": "execute_result"
    }
   ],
   "source": [
    "vars(lump)"
   ]
  },
  {
   "cell_type": "code",
   "execution_count": 22,
   "metadata": {},
   "outputs": [
    {
     "data": {
      "text/plain": [
       "{'_after_state_change': [],\n",
       " '_before_state_change': [],\n",
       " '_finalize_event': [],\n",
       " '_initial': 'initial',\n",
       " '_prepare_event': [],\n",
       " '_queued': False,\n",
       " '_transition_queue': deque([]),\n",
       " 'auto_transitions': True,\n",
       " 'events': {'to_initial': <Event('to_initial')@100370128>,\n",
       "  'to_liquid': <Event('to_liquid')@100370544>,\n",
       "  'to_solid': <Event('to_solid')@100370288>},\n",
       " 'ignore_invalid_triggers': None,\n",
       " 'models': [<__main__.Matter at 0x5ee3690>],\n",
       " 'name': '',\n",
       " 'send_event': False,\n",
       " 'states': OrderedDict([('initial', <State('initial')@100370064>),\n",
       "              ('solid', <State('solid')@100369968>),\n",
       "              ('liquid', <State('liquid')@100370032>)])}"
      ]
     },
     "execution_count": 22,
     "metadata": {},
     "output_type": "execute_result"
    }
   ],
   "source": [
    "vars(machine)"
   ]
  },
  {
   "cell_type": "code",
   "execution_count": 24,
   "metadata": {},
   "outputs": [
    {
     "data": {
      "text/plain": [
       "(transitions.core.Machine, object)"
      ]
     },
     "execution_count": 24,
     "metadata": {},
     "output_type": "execute_result"
    }
   ],
   "source": [
    "Machine.__mro__"
   ]
  },
  {
   "cell_type": "markdown",
   "metadata": {},
   "source": [
    "### example-3 -Callbacks"
   ]
  },
  {
   "cell_type": "code",
   "execution_count": 27,
   "metadata": {},
   "outputs": [],
   "source": [
    "class Matter(object):\n",
    "    def say_hello(self):\n",
    "        print('say hello')\n",
    "    def say_goodbye(self):\n",
    "        print('goodbye, old state')\n",
    "\n",
    "lump = Matter()\n",
    "\n",
    "states = [\n",
    "    State(name='solid', on_exit=['say_goodbye']),\n",
    "    'liquid',\n",
    "    {'name': 'gas'}\n",
    "]\n",
    "\n",
    "machine = Machine(lump, states=states)\n",
    "machine.add_transition('sublimate', 'solid', 'gas')\n",
    "machine.on_enter_gas('say_hello')\n",
    "\n",
    "machine.set_state('solid')\n"
   ]
  },
  {
   "cell_type": "code",
   "execution_count": 28,
   "metadata": {},
   "outputs": [
    {
     "data": {
      "text/plain": [
       "'solid'"
      ]
     },
     "execution_count": 28,
     "metadata": {},
     "output_type": "execute_result"
    }
   ],
   "source": [
    "lump.state"
   ]
  },
  {
   "cell_type": "code",
   "execution_count": 29,
   "metadata": {},
   "outputs": [
    {
     "name": "stdout",
     "output_type": "stream",
     "text": [
      "goodbye, old state\n",
      "say hello\n"
     ]
    },
    {
     "data": {
      "text/plain": [
       "True"
      ]
     },
     "execution_count": 29,
     "metadata": {},
     "output_type": "execute_result"
    }
   ],
   "source": [
    "lump.sublimate()"
   ]
  },
  {
   "cell_type": "markdown",
   "metadata": {},
   "source": [
    "#### conclution:\n",
    "\n",
    "**State** 状态拥有 `on_enter` 和 `on_exit` 方法，分别是进入和退出时调用方法\n",
    "\n",
    "也可以在 machine 下增加方法 `on_enter_solid`, `on_exit_gas` 方法。"
   ]
  },
  {
   "cell_type": "markdown",
   "metadata": {},
   "source": [
    "### example-4"
   ]
  },
  {
   "cell_type": "code",
   "execution_count": 34,
   "metadata": {},
   "outputs": [],
   "source": [
    "class Matter(object):\n",
    "    def say_hello(self):\n",
    "        print('say hello')\n",
    "    def say_good_bye(self):\n",
    "        print('say_goodbye')\n",
    "        \n",
    "    def on_enter_A(self):\n",
    "        print('we have entered A')\n",
    "        \n",
    "lump = Matter()\n",
    "\n",
    "machine = Machine(lump, states=['A', 'B', 'C'], initial='B')\n",
    "machine.add_transition('toA', '*', 'A')"
   ]
  },
  {
   "cell_type": "code",
   "execution_count": 35,
   "metadata": {},
   "outputs": [
    {
     "data": {
      "text/plain": [
       "'B'"
      ]
     },
     "execution_count": 35,
     "metadata": {},
     "output_type": "execute_result"
    }
   ],
   "source": [
    "lump.state"
   ]
  },
  {
   "cell_type": "code",
   "execution_count": 36,
   "metadata": {},
   "outputs": [
    {
     "name": "stdout",
     "output_type": "stream",
     "text": [
      "we have entered A\n"
     ]
    },
    {
     "data": {
      "text/plain": [
       "True"
      ]
     },
     "execution_count": 36,
     "metadata": {},
     "output_type": "execute_result"
    }
   ],
   "source": [
    "lump.toA()"
   ]
  },
  {
   "cell_type": "code",
   "execution_count": 37,
   "metadata": {},
   "outputs": [
    {
     "data": {
      "text/plain": [
       "'A'"
      ]
     },
     "execution_count": 37,
     "metadata": {},
     "output_type": "execute_result"
    }
   ],
   "source": [
    "lump.state"
   ]
  },
  {
   "cell_type": "code",
   "execution_count": 39,
   "metadata": {},
   "outputs": [
    {
     "data": {
      "text/plain": [
       "True"
      ]
     },
     "execution_count": 39,
     "metadata": {},
     "output_type": "execute_result"
    }
   ],
   "source": [
    "lump.is_A()"
   ]
  },
  {
   "cell_type": "code",
   "execution_count": 40,
   "metadata": {},
   "outputs": [
    {
     "data": {
      "text/plain": [
       "True"
      ]
     },
     "execution_count": 40,
     "metadata": {},
     "output_type": "execute_result"
    }
   ],
   "source": [
    "lump.is_A()"
   ]
  },
  {
   "cell_type": "markdown",
   "metadata": {},
   "source": [
    "### example-5"
   ]
  },
  {
   "cell_type": "code",
   "execution_count": 53,
   "metadata": {},
   "outputs": [],
   "source": [
    "states = ['solid', 'liquid', 'gas', 'plasma']\n",
    "\n",
    "# one type for transitions\n",
    "transition = [\n",
    "    {'trigger': 'melt', 'source': 'solid', 'dest': 'liquid'},\n",
    "    {'trigger': 'evaporate', 'source': 'liquid', 'dest': 'gas'},\n",
    "    {'trigger': 'sublimate', 'source': 'solid', 'dest': 'gas'},\n",
    "    {'trigger': 'sublimate', 'source': 'solid', 'dest': 'gas'},\n",
    "    {'trigger': 'ionize', 'source': 'gas', 'dest': 'plasma'},\n",
    "]\n",
    "\n",
    "machine = Machine(lump, states=states, transitions=transition, initial='liquid')\n"
   ]
  },
  {
   "cell_type": "code",
   "execution_count": 55,
   "metadata": {},
   "outputs": [],
   "source": [
    "# another type of transitions\n",
    "\n",
    "transitions = [\n",
    "    ['melt', 'solid', 'liquid'],\n",
    "    ['evaporate', 'liquid', 'gas'],\n",
    "    ['sublimate', 'solid', 'gas'],\n",
    "    ['ionize', 'gas', 'plasma']\n",
    "        \n",
    "]\n",
    "\n",
    "machine = Machine(lump, states=states, transitions=transitions, initial='liquid')\n"
   ]
  },
  {
   "cell_type": "code",
   "execution_count": 56,
   "metadata": {},
   "outputs": [
    {
     "data": {
      "text/plain": [
       "'liquid'"
      ]
     },
     "execution_count": 56,
     "metadata": {},
     "output_type": "execute_result"
    }
   ],
   "source": [
    "lump.state"
   ]
  },
  {
   "cell_type": "code",
   "execution_count": 57,
   "metadata": {},
   "outputs": [
    {
     "data": {
      "text/plain": [
       "True"
      ]
     },
     "execution_count": 57,
     "metadata": {},
     "output_type": "execute_result"
    }
   ],
   "source": [
    "lump.evaporate()"
   ]
  },
  {
   "cell_type": "code",
   "execution_count": 58,
   "metadata": {},
   "outputs": [
    {
     "data": {
      "text/plain": [
       "'gas'"
      ]
     },
     "execution_count": 58,
     "metadata": {},
     "output_type": "execute_result"
    }
   ],
   "source": [
    "lump.state"
   ]
  },
  {
   "cell_type": "code",
   "execution_count": 59,
   "metadata": {},
   "outputs": [
    {
     "data": {
      "text/plain": [
       "True"
      ]
     },
     "execution_count": 59,
     "metadata": {},
     "output_type": "execute_result"
    }
   ],
   "source": [
    "lump.to_plasma()"
   ]
  },
  {
   "cell_type": "code",
   "execution_count": 61,
   "metadata": {},
   "outputs": [
    {
     "data": {
      "text/plain": [
       "['sublimate', 'to_liquid', 'to_gas', 'melt', 'to_plasma', 'to_solid']"
      ]
     },
     "execution_count": 61,
     "metadata": {},
     "output_type": "execute_result"
    }
   ],
   "source": [
    "machine.get_triggers('solid')"
   ]
  },
  {
   "cell_type": "markdown",
   "metadata": {},
   "source": [
    "### example-6-Transitioning from multiple states"
   ]
  },
  {
   "cell_type": "code",
   "execution_count": 62,
   "metadata": {},
   "outputs": [
    {
     "data": {
      "text/plain": [
       "<transitions.core.Machine at 0x5ff1790>"
      ]
     },
     "execution_count": 62,
     "metadata": {},
     "output_type": "execute_result"
    }
   ],
   "source": [
    "machine"
   ]
  },
  {
   "cell_type": "code",
   "execution_count": 63,
   "metadata": {},
   "outputs": [],
   "source": [
    "machine.add_transition('transmogrify', ['solid', 'liquid', 'gas'], 'plasma')"
   ]
  },
  {
   "cell_type": "code",
   "execution_count": 64,
   "metadata": {},
   "outputs": [
    {
     "data": {
      "text/plain": [
       "'plasma'"
      ]
     },
     "execution_count": 64,
     "metadata": {},
     "output_type": "execute_result"
    }
   ],
   "source": [
    "lump.state\n"
   ]
  },
  {
   "cell_type": "code",
   "execution_count": 65,
   "metadata": {},
   "outputs": [
    {
     "data": {
      "text/plain": [
       "True"
      ]
     },
     "execution_count": 65,
     "metadata": {},
     "output_type": "execute_result"
    }
   ],
   "source": [
    "lump.to_gas()"
   ]
  },
  {
   "cell_type": "code",
   "execution_count": 66,
   "metadata": {},
   "outputs": [
    {
     "data": {
      "text/plain": [
       "'gas'"
      ]
     },
     "execution_count": 66,
     "metadata": {},
     "output_type": "execute_result"
    }
   ],
   "source": [
    "lump.state"
   ]
  },
  {
   "cell_type": "code",
   "execution_count": 67,
   "metadata": {},
   "outputs": [
    {
     "data": {
      "text/plain": [
       "True"
      ]
     },
     "execution_count": 67,
     "metadata": {},
     "output_type": "execute_result"
    }
   ],
   "source": [
    "lump.transmogrify()"
   ]
  },
  {
   "cell_type": "code",
   "execution_count": 69,
   "metadata": {},
   "outputs": [
    {
     "data": {
      "text/plain": [
       "'plasma'"
      ]
     },
     "execution_count": 69,
     "metadata": {},
     "output_type": "execute_result"
    }
   ],
   "source": [
    "lump.state"
   ]
  },
  {
   "cell_type": "code",
   "execution_count": 70,
   "metadata": {},
   "outputs": [],
   "source": [
    "machine.add_transition('to_liquid', '*', 'liquid')"
   ]
  },
  {
   "cell_type": "code",
   "execution_count": 72,
   "metadata": {},
   "outputs": [
    {
     "data": {
      "text/plain": [
       "True"
      ]
     },
     "execution_count": 72,
     "metadata": {},
     "output_type": "execute_result"
    }
   ],
   "source": [
    "lump.to_liquid()"
   ]
  },
  {
   "cell_type": "code",
   "execution_count": 73,
   "metadata": {},
   "outputs": [
    {
     "data": {
      "text/plain": [
       "'liquid'"
      ]
     },
     "execution_count": 73,
     "metadata": {},
     "output_type": "execute_result"
    }
   ],
   "source": [
    "lump.state"
   ]
  },
  {
   "cell_type": "markdown",
   "metadata": {},
   "source": [
    "### example-7-Ordered transitions"
   ]
  },
  {
   "cell_type": "code",
   "execution_count": 75,
   "metadata": {},
   "outputs": [],
   "source": [
    "states = ['A', 'B', 'C']\n",
    "\n",
    "machine7 = Machine(states=states, initial='A')\n",
    "machine7.add_ordered_transitions()"
   ]
  },
  {
   "cell_type": "code",
   "execution_count": 76,
   "metadata": {},
   "outputs": [
    {
     "data": {
      "text/plain": [
       "True"
      ]
     },
     "execution_count": 76,
     "metadata": {},
     "output_type": "execute_result"
    }
   ],
   "source": [
    "machine7.next_state()"
   ]
  },
  {
   "cell_type": "code",
   "execution_count": 77,
   "metadata": {},
   "outputs": [
    {
     "data": {
      "text/plain": [
       "'B'"
      ]
     },
     "execution_count": 77,
     "metadata": {},
     "output_type": "execute_result"
    }
   ],
   "source": [
    "machine7.state"
   ]
  },
  {
   "cell_type": "code",
   "execution_count": 78,
   "metadata": {},
   "outputs": [
    {
     "data": {
      "text/plain": [
       "True"
      ]
     },
     "execution_count": 78,
     "metadata": {},
     "output_type": "execute_result"
    }
   ],
   "source": [
    "machine7.next_state()"
   ]
  },
  {
   "cell_type": "code",
   "execution_count": 79,
   "metadata": {},
   "outputs": [
    {
     "data": {
      "text/plain": [
       "'C'"
      ]
     },
     "execution_count": 79,
     "metadata": {},
     "output_type": "execute_result"
    }
   ],
   "source": [
    "machine7.state"
   ]
  },
  {
   "cell_type": "markdown",
   "metadata": {},
   "source": [
    "### example-8-Queued transitions"
   ]
  },
  {
   "cell_type": "code",
   "execution_count": 82,
   "metadata": {},
   "outputs": [],
   "source": [
    "def go_to_C():\n",
    "    global machine8\n",
    "    machine8.to_C()\n",
    "    \n",
    "def after_advance():\n",
    "    print(\"i'm in state B\")\n",
    "\n",
    "def enter_C():\n",
    "    print(\"i'm in state C\")\n",
    "    \n",
    "states = ['A', 'B', 'C']\n",
    "machine8 = Machine(states=states, initial='A')\n",
    "machine8.add_transition('advance', 'A', 'B', after=after_advance)\n",
    "\n",
    "machine8.on_enter_B(go_to_C)\n",
    "machine8.on_enter_C(enter_C)"
   ]
  },
  {
   "cell_type": "code",
   "execution_count": 83,
   "metadata": {},
   "outputs": [
    {
     "name": "stdout",
     "output_type": "stream",
     "text": [
      "i'm in state C\n",
      "i'm in state B\n"
     ]
    },
    {
     "data": {
      "text/plain": [
       "True"
      ]
     },
     "execution_count": 83,
     "metadata": {},
     "output_type": "execute_result"
    }
   ],
   "source": [
    "machine8.advance()"
   ]
  },
  {
   "cell_type": "code",
   "execution_count": 84,
   "metadata": {},
   "outputs": [
    {
     "data": {
      "text/plain": [
       "'C'"
      ]
     },
     "execution_count": 84,
     "metadata": {},
     "output_type": "execute_result"
    }
   ],
   "source": [
    "machine8.state"
   ]
  },
  {
   "cell_type": "markdown",
   "metadata": {},
   "source": [
    "### example-9-Conditional transitions"
   ]
  },
  {
   "cell_type": "code",
   "execution_count": 92,
   "metadata": {},
   "outputs": [],
   "source": [
    "class Matter9(object):\n",
    "    \n",
    "    def is_flammable(self):\n",
    "        return False\n",
    "    \n",
    "    def is_really_hot(self):\n",
    "        return True\n",
    "    \n",
    "states = ['solid', 'liquid', 'gas', 'plasma']\n",
    "\n",
    "# one type for transitions\n",
    "transition = [\n",
    "    {'trigger': 'melt', 'source': 'solid', 'dest': 'liquid'},\n",
    "    {'trigger': 'evaporate', 'source': 'liquid', 'dest': 'gas'},\n",
    "    {'trigger': 'sublimate', 'source': 'solid', 'dest': 'gas'},\n",
    "    {'trigger': 'sublimate', 'source': 'solid', 'dest': 'gas'},\n",
    "    {'trigger': 'ionize', 'source': 'gas', 'dest': 'plasma'},\n",
    "]\n",
    "\n",
    "lump9 = Matter9()\n",
    "machine9 = Machine(lump9, states=states, transitions=transition, initial='solid')\n",
    "machine9.add_transition('heat', 'solid', 'gas', conditions='is_flammable')\n",
    "machine9.add_transition('heat', 'solid', 'liquid', conditions=['is_really_hot'])\n",
    "\n"
   ]
  },
  {
   "cell_type": "code",
   "execution_count": 93,
   "metadata": {},
   "outputs": [
    {
     "data": {
      "text/plain": [
       "'solid'"
      ]
     },
     "execution_count": 93,
     "metadata": {},
     "output_type": "execute_result"
    }
   ],
   "source": [
    "lump9.state"
   ]
  },
  {
   "cell_type": "code",
   "execution_count": 94,
   "metadata": {},
   "outputs": [
    {
     "data": {
      "text/plain": [
       "True"
      ]
     },
     "execution_count": 94,
     "metadata": {},
     "output_type": "execute_result"
    }
   ],
   "source": [
    "lump9.heat()"
   ]
  },
  {
   "cell_type": "code",
   "execution_count": 95,
   "metadata": {},
   "outputs": [
    {
     "data": {
      "text/plain": [
       "'liquid'"
      ]
     },
     "execution_count": 95,
     "metadata": {},
     "output_type": "execute_result"
    }
   ],
   "source": [
    "lump9.state"
   ]
  },
  {
   "cell_type": "code",
   "execution_count": 99,
   "metadata": {},
   "outputs": [],
   "source": [
    "machine9.add_transition('gaslism', 'liquid', 'solid', conditions=['is_flammable','is_really_hot'])\n"
   ]
  },
  {
   "cell_type": "code",
   "execution_count": 100,
   "metadata": {},
   "outputs": [
    {
     "data": {
      "text/plain": [
       "False"
      ]
     },
     "execution_count": 100,
     "metadata": {},
     "output_type": "execute_result"
    }
   ],
   "source": [
    "lump9.gaslism()"
   ]
  },
  {
   "cell_type": "code",
   "execution_count": 101,
   "metadata": {},
   "outputs": [
    {
     "data": {
      "text/plain": [
       "'liquid'"
      ]
     },
     "execution_count": 101,
     "metadata": {},
     "output_type": "execute_result"
    }
   ],
   "source": [
    "lump9.state"
   ]
  },
  {
   "cell_type": "markdown",
   "metadata": {},
   "source": [
    "### example-10-Extensions"
   ]
  },
  {
   "cell_type": "code",
   "execution_count": 103,
   "metadata": {},
   "outputs": [],
   "source": [
    "from transitions.extensions import MachineFactory\n",
    "\n",
    "diagram_cls = MachineFactory.get_predefined(graph=True)\n",
    "nested_locked_cls = MachineFactory.get_predefined(nested=True, locked=True)\n",
    "\n",
    "# 查看对应的文档和源代码"
   ]
  },
  {
   "cell_type": "markdown",
   "metadata": {},
   "source": [
    "### example-11-Hierarchical State Machine"
   ]
  },
  {
   "cell_type": "code",
   "execution_count": 112,
   "metadata": {},
   "outputs": [],
   "source": [
    "from transitions.extensions import HierarchicalMachine as Machine\n",
    "\n",
    "states = [\n",
    "    'standing',\n",
    "    'walking',\n",
    "    {'name': 'caffeinated', 'children': ['dithering', 'running']}\n",
    "]\n",
    "\n",
    "transitions = [\n",
    "    ['walk', 'standing', 'walking'],\n",
    "    ['stop', 'walking', 'standing'],\n",
    "    ['drink', '*', 'caffeinated'],\n",
    "    ['walk', ['caffeinated', 'caffeinated_dithering'], 'caffeinated_running'],\n",
    "    ['relax', 'caffeinated', 'standing']\n",
    "]\n",
    "\n",
    "machine = Machine(states=states, transitions=transitions, initial='standing', ignore_invalid_triggers=True)\n"
   ]
  },
  {
   "cell_type": "code",
   "execution_count": 114,
   "metadata": {},
   "outputs": [
    {
     "data": {
      "text/plain": [
       "True"
      ]
     },
     "execution_count": 114,
     "metadata": {},
     "output_type": "execute_result"
    }
   ],
   "source": [
    "machine.walk()"
   ]
  },
  {
   "cell_type": "code",
   "execution_count": 115,
   "metadata": {},
   "outputs": [
    {
     "data": {
      "text/plain": [
       "'walking'"
      ]
     },
     "execution_count": 115,
     "metadata": {},
     "output_type": "execute_result"
    }
   ],
   "source": [
    "machine.state"
   ]
  },
  {
   "cell_type": "code",
   "execution_count": 116,
   "metadata": {},
   "outputs": [
    {
     "data": {
      "text/plain": [
       "True"
      ]
     },
     "execution_count": 116,
     "metadata": {},
     "output_type": "execute_result"
    }
   ],
   "source": [
    "machine.stop()"
   ]
  },
  {
   "cell_type": "code",
   "execution_count": 117,
   "metadata": {},
   "outputs": [
    {
     "data": {
      "text/plain": [
       "True"
      ]
     },
     "execution_count": 117,
     "metadata": {},
     "output_type": "execute_result"
    }
   ],
   "source": [
    "machine.drink()"
   ]
  },
  {
   "cell_type": "code",
   "execution_count": 118,
   "metadata": {},
   "outputs": [
    {
     "data": {
      "text/plain": [
       "'caffeinated'"
      ]
     },
     "execution_count": 118,
     "metadata": {},
     "output_type": "execute_result"
    }
   ],
   "source": [
    "machine.state"
   ]
  },
  {
   "cell_type": "code",
   "execution_count": 119,
   "metadata": {},
   "outputs": [
    {
     "data": {
      "text/plain": [
       "True"
      ]
     },
     "execution_count": 119,
     "metadata": {},
     "output_type": "execute_result"
    }
   ],
   "source": [
    "machine.walk()"
   ]
  },
  {
   "cell_type": "code",
   "execution_count": 120,
   "metadata": {},
   "outputs": [
    {
     "data": {
      "text/plain": [
       "'caffeinated_running'"
      ]
     },
     "execution_count": 120,
     "metadata": {},
     "output_type": "execute_result"
    }
   ],
   "source": [
    "machine.state\n"
   ]
  },
  {
   "cell_type": "code",
   "execution_count": 121,
   "metadata": {},
   "outputs": [
    {
     "data": {
      "text/plain": [
       "True"
      ]
     },
     "execution_count": 121,
     "metadata": {},
     "output_type": "execute_result"
    }
   ],
   "source": [
    "machine.relax()"
   ]
  },
  {
   "cell_type": "code",
   "execution_count": 122,
   "metadata": {},
   "outputs": [
    {
     "data": {
      "text/plain": [
       "'standing'"
      ]
     },
     "execution_count": 122,
     "metadata": {},
     "output_type": "execute_result"
    }
   ],
   "source": [
    "machine.state"
   ]
  },
  {
   "cell_type": "markdown",
   "metadata": {},
   "source": [
    "### example-12-Reuse of previously created HSMs"
   ]
  },
  {
   "cell_type": "code",
   "execution_count": 123,
   "metadata": {},
   "outputs": [],
   "source": [
    "count_states = ['1', '2', '3', 'done']\n",
    "count_trans = [\n",
    "    ['increase', '1', '2'],\n",
    "    ['increase', '2', '3'],\n",
    "    ['decrease', '3', '2'],\n",
    "    ['decrease', '2', '1'],\n",
    "    ['done', '*', 'done'],\n",
    "    ['reset', '*', '1'],\n",
    "]\n",
    "\n",
    "counter = Machine(states=count_states, transitions=count_trans, initial='1')\n"
   ]
  },
  {
   "cell_type": "code",
   "execution_count": 124,
   "metadata": {},
   "outputs": [
    {
     "data": {
      "text/plain": [
       "'1'"
      ]
     },
     "execution_count": 124,
     "metadata": {},
     "output_type": "execute_result"
    }
   ],
   "source": [
    "counter.state"
   ]
  },
  {
   "cell_type": "code",
   "execution_count": 125,
   "metadata": {},
   "outputs": [
    {
     "data": {
      "text/plain": [
       "True"
      ]
     },
     "execution_count": 125,
     "metadata": {},
     "output_type": "execute_result"
    }
   ],
   "source": [
    "counter.increase()"
   ]
  },
  {
   "cell_type": "code",
   "execution_count": 126,
   "metadata": {},
   "outputs": [
    {
     "data": {
      "text/plain": [
       "'2'"
      ]
     },
     "execution_count": 126,
     "metadata": {},
     "output_type": "execute_result"
    }
   ],
   "source": [
    "counter.state"
   ]
  },
  {
   "cell_type": "code",
   "execution_count": 127,
   "metadata": {},
   "outputs": [
    {
     "data": {
      "text/plain": [
       "True"
      ]
     },
     "execution_count": 127,
     "metadata": {},
     "output_type": "execute_result"
    }
   ],
   "source": [
    "counter.reset()"
   ]
  },
  {
   "cell_type": "code",
   "execution_count": 128,
   "metadata": {},
   "outputs": [],
   "source": [
    "states = ['waiting', 'collecting', {'name': 'counting', 'children': counter}]\n",
    "\n",
    "transitions = [\n",
    "    ['collect', '*', 'collecting'],\n",
    "    ['wait', '*', 'waiting'],\n",
    "    ['count', 'collecting', 'counting_1']\n",
    "]\n",
    "\n",
    "collector = Machine(states=states, transitions=transitions, initial='waiting')\n"
   ]
  },
  {
   "cell_type": "code",
   "execution_count": 129,
   "metadata": {},
   "outputs": [
    {
     "data": {
      "text/plain": [
       "True"
      ]
     },
     "execution_count": 129,
     "metadata": {},
     "output_type": "execute_result"
    }
   ],
   "source": [
    "collector.collect()"
   ]
  },
  {
   "cell_type": "code",
   "execution_count": 130,
   "metadata": {},
   "outputs": [
    {
     "data": {
      "text/plain": [
       "'collecting'"
      ]
     },
     "execution_count": 130,
     "metadata": {},
     "output_type": "execute_result"
    }
   ],
   "source": [
    "collector.state"
   ]
  },
  {
   "cell_type": "code",
   "execution_count": 131,
   "metadata": {},
   "outputs": [
    {
     "data": {
      "text/plain": [
       "True"
      ]
     },
     "execution_count": 131,
     "metadata": {},
     "output_type": "execute_result"
    }
   ],
   "source": [
    "collector.count()"
   ]
  },
  {
   "cell_type": "code",
   "execution_count": 132,
   "metadata": {},
   "outputs": [
    {
     "data": {
      "text/plain": [
       "'counting_1'"
      ]
     },
     "execution_count": 132,
     "metadata": {},
     "output_type": "execute_result"
    }
   ],
   "source": [
    "collector.state"
   ]
  },
  {
   "cell_type": "code",
   "execution_count": 133,
   "metadata": {},
   "outputs": [
    {
     "data": {
      "text/plain": [
       "True"
      ]
     },
     "execution_count": 133,
     "metadata": {},
     "output_type": "execute_result"
    }
   ],
   "source": [
    "collector.wait()"
   ]
  },
  {
   "cell_type": "code",
   "execution_count": 134,
   "metadata": {},
   "outputs": [
    {
     "data": {
      "text/plain": [
       "'waiting'"
      ]
     },
     "execution_count": 134,
     "metadata": {},
     "output_type": "execute_result"
    }
   ],
   "source": [
    "collector.state"
   ]
  },
  {
   "cell_type": "code",
   "execution_count": null,
   "metadata": {},
   "outputs": [],
   "source": []
  }
 ],
 "metadata": {
  "kernelspec": {
   "display_name": "Python 2",
   "language": "python",
   "name": "python2"
  },
  "language_info": {
   "codemirror_mode": {
    "name": "ipython",
    "version": 2
   },
   "file_extension": ".py",
   "mimetype": "text/x-python",
   "name": "python",
   "nbconvert_exporter": "python",
   "pygments_lexer": "ipython2",
   "version": "2.7.10"
  }
 },
 "nbformat": 4,
 "nbformat_minor": 2
}
