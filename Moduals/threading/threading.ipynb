{
 "cells": [
  {
   "cell_type": "markdown",
   "metadata": {},
   "source": [
    "## threading"
   ]
  },
  {
   "cell_type": "markdown",
   "metadata": {},
   "source": [
    "### threadng.Thread"
   ]
  },
  {
   "cell_type": "code",
   "execution_count": 1,
   "metadata": {
    "collapsed": true
   },
   "outputs": [],
   "source": [
    "import threading\n",
    "import time\n",
    "import Queue"
   ]
  },
  {
   "cell_type": "code",
   "execution_count": 3,
   "metadata": {},
   "outputs": [
    {
     "name": "stdout",
     "output_type": "stream",
     "text": [
      "[0, 0, 1, 1, 2, 2, 3, 3, 4, 4, 5, 5]\n"
     ]
    }
   ],
   "source": [
    "# thread\n",
    "\n",
    "class Th(threading.Thread):\n",
    "    def __init__(self, lst):\n",
    "        super(Th, self).__init__()\n",
    "        self.lst = lst\n",
    "        \n",
    "    def run(self):\n",
    "        \n",
    "        idx = 0\n",
    "        while True:\n",
    "            if idx > 5:\n",
    "                break\n",
    "                \n",
    "            self.lst.append(idx)\n",
    "            time.sleep(0.1)\n",
    "            idx += 1\n",
    "        \n",
    "lst = []\n",
    "\n",
    "t1 = Th(lst)\n",
    "t2 = Th(lst)\n",
    "\n",
    "t1.start()\n",
    "t2.start()\n",
    "\n",
    "t1.join()\n",
    "t2.join()\n",
    "        \n",
    "print lst"
   ]
  },
  {
   "cell_type": "markdown",
   "metadata": {},
   "source": [
    "### threading.Lock"
   ]
  },
  {
   "cell_type": "code",
   "execution_count": 4,
   "metadata": {},
   "outputs": [
    {
     "name": "stdout",
     "output_type": "stream",
     "text": [
      "[0, 0, 1, 1, 2, 2, 3, 3, 4, 4, 5, 5]\n"
     ]
    }
   ],
   "source": [
    "class Th(threading.Thread):\n",
    "    def __init__(self, lst, lock):\n",
    "        super(Th, self).__init__()\n",
    "        self.lst = lst\n",
    "        self.lock = lock\n",
    "        \n",
    "    def run(self):\n",
    "        \n",
    "        idx = 0\n",
    "        while True:\n",
    "            self.lock.acquire()\n",
    "            \n",
    "                \n",
    "            self.lst.append(idx)\n",
    "            \n",
    "            idx += 1\n",
    "            self.lock.release()\n",
    "            time.sleep(0.1)\n",
    "            if idx > 5:\n",
    "                break\n",
    "        \n",
    "lst = []\n",
    "lock = threading.Lock()\n",
    "\n",
    "t1 = Th(lst, lock)\n",
    "t2 = Th(lst, lock)\n",
    "\n",
    "t1.start()\n",
    "t2.start()\n",
    "\n",
    "t1.join()\n",
    "t2.join()\n",
    "\n",
    "print lst"
   ]
  },
  {
   "cell_type": "code",
   "execution_count": 6,
   "metadata": {
    "collapsed": true
   },
   "outputs": [],
   "source": [
    "# 拿了锁一定记得还"
   ]
  },
  {
   "cell_type": "code",
   "execution_count": 7,
   "metadata": {},
   "outputs": [
    {
     "name": "stdout",
     "output_type": "stream",
     "text": [
      "[0, 1, 2, 3, 4, 5, 0, 1, 2, 3, 4, 5]\n"
     ]
    }
   ],
   "source": [
    "# with 语句版本\n",
    "class Th(threading.Thread):\n",
    "    def __init__(self, lst, lock):\n",
    "        super(Th, self).__init__()\n",
    "        self.lst = lst\n",
    "        self.lock = lock\n",
    "        \n",
    "    def run(self):\n",
    "        \n",
    "        idx = 0\n",
    "        while True:\n",
    "            with self.lock:\n",
    "                self.lst.append(idx)\n",
    "                idx += 1\n",
    "                time.sleep(0.1)\n",
    "                if idx > 5:\n",
    "                    break\n",
    "        \n",
    "lst = []\n",
    "lock = threading.Lock()\n",
    "\n",
    "t1 = Th(lst, lock)\n",
    "t2 = Th(lst, lock)\n",
    "\n",
    "t1.start()\n",
    "t2.start()\n",
    "\n",
    "t1.join()\n",
    "t2.join()\n",
    "\n",
    "print lst"
   ]
  },
  {
   "cell_type": "markdown",
   "metadata": {
    "collapsed": true
   },
   "source": [
    "### threading.RLock"
   ]
  },
  {
   "cell_type": "code",
   "execution_count": 8,
   "metadata": {
    "collapsed": true
   },
   "outputs": [],
   "source": [
    "rlock = threading.RLock()"
   ]
  },
  {
   "cell_type": "code",
   "execution_count": 9,
   "metadata": {},
   "outputs": [
    {
     "name": "stdout",
     "output_type": "stream",
     "text": [
      "[1, 2, 3, 4, 5, 6, 1, 2, 3, 4, 5, 6]\n"
     ]
    }
   ],
   "source": [
    "def func1(lst):\n",
    "    \n",
    "    rlock.acquire()\n",
    "    idx = 1\n",
    "    while True:    \n",
    "        with rlock:\n",
    "            lst.append(idx)\n",
    "            if idx > 5:\n",
    "                break\n",
    "                \n",
    "            idx += 1\n",
    "            \n",
    "    rlock.release()\n",
    "            \n",
    "lst = []    \n",
    "\n",
    "t1 = threading.Thread(target=func1, args=(lst,))\n",
    "t2 = threading.Thread(target=func1, args=(lst,))\n",
    "\n",
    "t1.start()\n",
    "t2.start()\n",
    "\n",
    "t1.join()\n",
    "t2.join()\n",
    "\n",
    "print lst"
   ]
  },
  {
   "cell_type": "markdown",
   "metadata": {},
   "source": [
    "### threading.Condition"
   ]
  },
  {
   "cell_type": "code",
   "execution_count": 10,
   "metadata": {
    "collapsed": true
   },
   "outputs": [],
   "source": [
    "import random"
   ]
  },
  {
   "cell_type": "code",
   "execution_count": 12,
   "metadata": {
    "collapsed": true
   },
   "outputs": [],
   "source": [
    "#\n",
    "\n",
    "class Producer(threading.Thread):\n",
    "    \n",
    "    def __init__(self, integers, cond):\n",
    "        \n",
    "        super(Producer, self).__init__()\n",
    "        self.integers = integers\n",
    "        self.cond = cond\n",
    "        \n",
    "    def run(self):\n",
    "        \n",
    "        while True:\n",
    "            \n",
    "            i = random.choice(range(20))\n",
    "            self.cond.acquire()\n",
    "            self.integers.append(i)\n",
    "            print 'append {} into lst'.format(i) \n",
    "            self.cond.notify()\n",
    "            self.cond.release()\n",
    "            \n",
    "            time.sleep(1)\n",
    "            \n",
    "\n",
    "class Consumer(threading.Thread):\n",
    "    \n",
    "    def __init__(self, integers, cond):\n",
    "        \n",
    "        super(Consumer, self).__init__()\n",
    "        self.cond = cond\n",
    "        self.integers = integers\n",
    "        \n",
    "    def run(self):\n",
    "        \n",
    "        while True:\n",
    "            \n",
    "            self.cond.acquire()\n",
    "            while True:\n",
    "                if self.integers:\n",
    "                    i = self.integers.pop()\n",
    "                    print 'consume ', i\n",
    "                    break\n",
    "                    \n",
    "                self.cond.wait()\n",
    "                \n",
    "            self.cond.release()\n",
    "            \n",
    "\n",
    "def main():\n",
    "    integers = []\n",
    "    cond = threading.Condition()\n",
    "    \n",
    "    t1 = Producer(integers, cond)\n",
    "    t2 = Consumer(integers, cond)\n",
    "    \n",
    "    t1.start()\n",
    "    t2.start()\n",
    "    \n",
    "    t1.join()\n",
    "    t2.join()\n",
    "    \n",
    "#     print integers\n",
    "    \n",
    "    "
   ]
  },
  {
   "cell_type": "markdown",
   "metadata": {},
   "source": [
    "### threading.Event"
   ]
  },
  {
   "cell_type": "code",
   "execution_count": null,
   "metadata": {
    "collapsed": true
   },
   "outputs": [],
   "source": [
    "class Producer(threading.Thread):\n",
    "    \n",
    "    def __init__(self, lst, ev):\n",
    "        \n",
    "        super(Producer, self).__init__()\n",
    "        self.lst = lst\n",
    "        self.ev = ev\n",
    "        \n",
    "    def run(self):\n",
    "        \n",
    "        while True:\n",
    "            \n",
    "            i = random.choice(range(20))\n",
    "            self.lst.append(i)\n",
    "            print 'append', i\n",
    "            self.ev.set()\n",
    "            self.ev.clear()\n",
    "            if i > 15:\n",
    "                break\n",
    "            time.sleep(1)\n",
    "            \n",
    "class Consumer(threading.Thread):\n",
    "    \n",
    "    def __init__(self, lst, ev):\n",
    "        \n",
    "        super(Consumer, self).__init__()\n",
    "        self.lst = lst\n",
    "        self.ev = ev\n",
    "        \n",
    "    def run(self):\n",
    "        \n",
    "        while True:\n",
    "            \n",
    "            self.ev.wait()\n",
    "            try:\n",
    "                i = self.lst.pop()\n",
    "                print 'pop', i\n",
    "                \n",
    "            except:\n",
    "                break\n",
    "                time.sleep(1)\n",
    "                \n",
    "            \n",
    "\n",
    "def main():\n",
    "    integers = []\n",
    "    cond = threading.Condition()\n",
    "    \n",
    "    t1 = Producer(integers, cond)\n",
    "    t2 = Consumer(integers, cond)\n",
    "    \n",
    "    t1.start()\n",
    "    t2.start()\n",
    "    \n",
    "    t1.join()\n",
    "    t2.join()\n",
    "    \n",
    "#     print integers\n",
    "    \n",
    "main()"
   ]
  }
 ],
 "metadata": {
  "kernelspec": {
   "display_name": "Python 2",
   "language": "python",
   "name": "python2"
  },
  "language_info": {
   "codemirror_mode": {
    "name": "ipython",
    "version": 2
   },
   "file_extension": ".py",
   "mimetype": "text/x-python",
   "name": "python",
   "nbconvert_exporter": "python",
   "pygments_lexer": "ipython2",
   "version": "2.7.12"
  }
 },
 "nbformat": 4,
 "nbformat_minor": 2
}
