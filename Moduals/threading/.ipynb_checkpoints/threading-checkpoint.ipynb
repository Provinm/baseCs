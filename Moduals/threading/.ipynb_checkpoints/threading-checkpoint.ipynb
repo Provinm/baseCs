{
 "cells": [
  {
   "cell_type": "markdown",
   "metadata": {},
   "source": [
    "## threading"
   ]
  },
  {
   "cell_type": "markdown",
   "metadata": {},
   "source": [
    "### threadng.Thread"
   ]
  },
  {
   "cell_type": "code",
   "execution_count": 1,
   "metadata": {
    "collapsed": true
   },
   "outputs": [],
   "source": [
    "import threading\n",
    "import time\n",
    "import Queue"
   ]
  },
  {
   "cell_type": "code",
   "execution_count": 3,
   "metadata": {},
   "outputs": [
    {
     "name": "stdout",
     "output_type": "stream",
     "text": [
      "[0, 0, 1, 1, 2, 2, 3, 3, 4, 4, 5, 5]\n"
     ]
    }
   ],
   "source": [
    "# thread\n",
    "\n",
    "class Th(threading.Thread):\n",
    "    def __init__(self, lst):\n",
    "        super(Th, self).__init__()\n",
    "        self.lst = lst\n",
    "        \n",
    "    def run(self):\n",
    "        \n",
    "        idx = 0\n",
    "        while True:\n",
    "            if idx > 5:\n",
    "                break\n",
    "                \n",
    "            self.lst.append(idx)\n",
    "            time.sleep(0.1)\n",
    "            idx += 1\n",
    "        \n",
    "lst = []\n",
    "\n",
    "t1 = Th(lst)\n",
    "t2 = Th(lst)\n",
    "\n",
    "t1.start()\n",
    "t2.start()\n",
    "\n",
    "t1.join()\n",
    "t2.join()\n",
    "        \n",
    "print lst"
   ]
  },
  {
   "cell_type": "markdown",
   "metadata": {},
   "source": [
    "### threading.Lock"
   ]
  },
  {
   "cell_type": "code",
   "execution_count": 4,
   "metadata": {},
   "outputs": [
    {
     "name": "stdout",
     "output_type": "stream",
     "text": [
      "[0, 0, 1, 1, 2, 2, 3, 3, 4, 4, 5, 5]\n"
     ]
    }
   ],
   "source": [
    "class Th(threading.Thread):\n",
    "    def __init__(self, lst, lock):\n",
    "        super(Th, self).__init__()\n",
    "        self.lst = lst\n",
    "        self.lock = lock\n",
    "        \n",
    "    def run(self):\n",
    "        \n",
    "        idx = 0\n",
    "        while True:\n",
    "            self.lock.acquire()\n",
    "            \n",
    "                \n",
    "            self.lst.append(idx)\n",
    "            \n",
    "            idx += 1\n",
    "            self.lock.release()\n",
    "            time.sleep(0.1)\n",
    "            if idx > 5:\n",
    "                break\n",
    "        \n",
    "lst = []\n",
    "lock = threading.Lock()\n",
    "\n",
    "t1 = Th(lst, lock)\n",
    "t2 = Th(lst, lock)\n",
    "\n",
    "t1.start()\n",
    "t2.start()\n",
    "\n",
    "t1.join()\n",
    "t2.join()\n",
    "\n",
    "print lst"
   ]
  },
  {
   "cell_type": "code",
   "execution_count": 6,
   "metadata": {
    "collapsed": true
   },
   "outputs": [],
   "source": [
    "# 拿了锁一定记得还"
   ]
  },
  {
   "cell_type": "code",
   "execution_count": 7,
   "metadata": {},
   "outputs": [
    {
     "name": "stdout",
     "output_type": "stream",
     "text": [
      "[0, 1, 2, 3, 4, 5, 0, 1, 2, 3, 4, 5]\n"
     ]
    }
   ],
   "source": [
    "# with 语句版本\n",
    "class Th(threading.Thread):\n",
    "    def __init__(self, lst, lock):\n",
    "        super(Th, self).__init__()\n",
    "        self.lst = lst\n",
    "        self.lock = lock\n",
    "        \n",
    "    def run(self):\n",
    "        \n",
    "        idx = 0\n",
    "        while True:\n",
    "            with self.lock:\n",
    "                self.lst.append(idx)\n",
    "                idx += 1\n",
    "                time.sleep(0.1)\n",
    "                if idx > 5:\n",
    "                    break\n",
    "        \n",
    "lst = []\n",
    "lock = threading.Lock()\n",
    "\n",
    "t1 = Th(lst, lock)\n",
    "t2 = Th(lst, lock)\n",
    "\n",
    "t1.start()\n",
    "t2.start()\n",
    "\n",
    "t1.join()\n",
    "t2.join()\n",
    "\n",
    "print lst"
   ]
  },
  {
   "cell_type": "markdown",
   "metadata": {
    "collapsed": true
   },
   "source": [
    "### threading.RLock"
   ]
  },
  {
   "cell_type": "code",
   "execution_count": 8,
   "metadata": {
    "collapsed": true
   },
   "outputs": [],
   "source": [
    "rlock = threading.RLock()"
   ]
  },
  {
   "cell_type": "code",
   "execution_count": 9,
   "metadata": {},
   "outputs": [
    {
     "name": "stdout",
     "output_type": "stream",
     "text": [
      "[1, 2, 3, 4, 5, 6, 1, 2, 3, 4, 5, 6]\n"
     ]
    }
   ],
   "source": [
    "def func1(lst):\n",
    "    \n",
    "    rlock.acquire()\n",
    "    idx = 1\n",
    "    while True:    \n",
    "        with rlock:\n",
    "            lst.append(idx)\n",
    "            if idx > 5:\n",
    "                break\n",
    "                \n",
    "            idx += 1\n",
    "            \n",
    "    rlock.release()\n",
    "            \n",
    "lst = []    \n",
    "\n",
    "t1 = threading.Thread(target=func1, args=(lst,))\n",
    "t2 = threading.Thread(target=func1, args=(lst,))\n",
    "\n",
    "t1.start()\n",
    "t2.start()\n",
    "\n",
    "t1.join()\n",
    "t2.join()\n",
    "\n",
    "print lst"
   ]
  },
  {
   "cell_type": "markdown",
   "metadata": {},
   "source": [
    "### threading.Condition"
   ]
  },
  {
   "cell_type": "code",
   "execution_count": null,
   "metadata": {
    "collapsed": true
   },
   "outputs": [],
   "source": []
  },
  {
   "cell_type": "code",
   "execution_count": null,
   "metadata": {
    "collapsed": true
   },
   "outputs": [],
   "source": []
  }
 ],
 "metadata": {
  "kernelspec": {
   "display_name": "Python 2",
   "language": "python",
   "name": "python2"
  },
  "language_info": {
   "codemirror_mode": {
    "name": "ipython",
    "version": 2
   },
   "file_extension": ".py",
   "mimetype": "text/x-python",
   "name": "python",
   "nbconvert_exporter": "python",
   "pygments_lexer": "ipython2",
   "version": "2.7.12"
  }
 },
 "nbformat": 4,
 "nbformat_minor": 2
}
