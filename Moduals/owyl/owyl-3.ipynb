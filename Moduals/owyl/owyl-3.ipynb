{
 "cells": [
  {
   "cell_type": "markdown",
   "metadata": {},
   "source": [
    "## owyl-3"
   ]
  },
  {
   "cell_type": "code",
   "execution_count": 2,
   "metadata": {},
   "outputs": [],
   "source": [
    "import owyl\n",
    "from owyl import blackboard"
   ]
  },
  {
   "cell_type": "code",
   "execution_count": 3,
   "metadata": {},
   "outputs": [],
   "source": [
    "import time\n",
    "import threading\n",
    "import random\n",
    "\n",
    "\n",
    "@owyl.task\n",
    "def is_greater_than_10(**kwargs):\n",
    "    bb = kwargs[\"blackboard\"]\n",
    "    yield bb[\"input\"] > 10\n",
    "\n",
    "\n",
    "@owyl.task\n",
    "def is_between_0_and_10(**kwargs):\n",
    "    bb = kwargs[\"blackboard\"]\n",
    "    yield 0 < bb[\"input\"] < 10\n",
    "\n",
    "\n",
    "@owyl.task\n",
    "def wow_large_number(**kwargs):\n",
    "    bb = kwargs[\"blackboard\"]\n",
    "    print \"WOW, %d is a large number!\" % bb[\"input\"]\n",
    "    yield True\n",
    "\n",
    "\n",
    "@owyl.task\n",
    "def doomed(**kwargs):\n",
    "    bb = kwargs[\"blackboard\"]\n",
    "    print \"%d is doomed\" % bb[\"input\"]\n",
    "    yield None\n",
    "\n",
    "\n",
    "@owyl.task\n",
    "def count_from_1(**kwargs):\n",
    "    bb = kwargs[\"blackboard\"]\n",
    "    for i in range(1, bb[\"input\"]):\n",
    "        print \"count\", i\n",
    "        yield\n",
    "    print \"count\", bb[\"input\"]\n",
    "    yield True\n",
    "\n",
    "\n",
    "def test_bt(input_int=5):\n",
    "    print \"test for\", input_int\n",
    "    tree = owyl.selector(\n",
    "            owyl.sequence(is_greater_than_10(), wow_large_number()),\n",
    "            owyl.sequence(is_between_0_and_10(), count_from_1()),\n",
    "#             owyl.repeat(doomed(), times=3),\n",
    "            #policy=owyl.PARALLEL_SUCCESS.REQUIRE_ALL\n",
    "            )\n",
    "    print type(tree)\n",
    "    bt = owyl.visit(tree, blackboard=blackboard.Blackboard(name=\"mybt\", input=input_int))\n",
    "    while True:\n",
    "        try:\n",
    "            bt.next()\n",
    "        except StopIteration:\n",
    "            break\n",
    "    print \"-\"*10"
   ]
  },
  {
   "cell_type": "code",
   "execution_count": 4,
   "metadata": {
    "scrolled": true
   },
   "outputs": [
    {
     "name": "stdout",
     "output_type": "stream",
     "text": [
      "test for 6\n",
      "<type 'function'>\n",
      "count 1\n",
      "count 2\n",
      "count 3\n",
      "count 4\n",
      "count 5\n",
      "count 6\n",
      "----------\n",
      "test for 19\n",
      "<type 'function'>\n",
      "WOW, 19 is a large number!\n",
      "----------\n",
      "test for 18\n",
      "<type 'function'>\n",
      "WOW, 18 is a large number!\n",
      "----------\n",
      "test for 5\n",
      "<type 'function'>\n",
      "count 1\n",
      "count 2\n",
      "count 3\n",
      "count 4\n",
      "count 5\n",
      "----------\n",
      "test for 15\n",
      "<type 'function'>\n",
      "WOW, 15 is a large number!\n",
      "----------\n"
     ]
    }
   ],
   "source": [
    "for i in random.sample(range(20), 5):\n",
    "    test_bt(i)\n",
    "    "
   ]
  },
  {
   "cell_type": "code",
   "execution_count": null,
   "metadata": {},
   "outputs": [],
   "source": []
  }
 ],
 "metadata": {
  "kernelspec": {
   "display_name": "Python 2",
   "language": "python",
   "name": "python2"
  },
  "language_info": {
   "codemirror_mode": {
    "name": "ipython",
    "version": 2
   },
   "file_extension": ".py",
   "mimetype": "text/x-python",
   "name": "python",
   "nbconvert_exporter": "python",
   "pygments_lexer": "ipython2",
   "version": "2.7.10"
  }
 },
 "nbformat": 4,
 "nbformat_minor": 2
}
