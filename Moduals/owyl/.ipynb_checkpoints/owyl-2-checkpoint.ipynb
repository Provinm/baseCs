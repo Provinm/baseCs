{
 "cells": [
  {
   "cell_type": "markdown",
   "metadata": {},
   "source": [
    "## owyl-2"
   ]
  },
  {
   "cell_type": "markdown",
   "metadata": {},
   "source": [
    "- 阅读 owyl 源码"
   ]
  },
  {
   "cell_type": "code",
   "execution_count": 6,
   "metadata": {},
   "outputs": [],
   "source": [
    "def wrap(func, *args, **kwargs):\n",
    "    \"\"\"Wrap a callable as a task. Yield the boolean of its result.\n",
    "    \"\"\"\n",
    "    def initTask(**initkwargs):\n",
    "        def makeIterator(**runkwargs):\n",
    "            result = func(*args, **kwargs)\n",
    "            yield bool(result)\n",
    "        try: makeIterator.__name__ = func.__name__\n",
    "        except AttributeError: pass\n",
    "        try: makeIterator.__doc__ = func.__doc__\n",
    "        except AttributeError: pass\n",
    "        return makeIterator\n",
    "    try: initTask.__doc__ = func.__doc__\n",
    "    except AttributeError: pass\n",
    "    try: initTask.__name__ = func.__name__\n",
    "    except AttributeError: pass\n",
    "    return initTask"
   ]
  },
  {
   "cell_type": "code",
   "execution_count": 7,
   "metadata": {},
   "outputs": [],
   "source": [
    "@wrap\n",
    "def func():\n",
    "    print 1"
   ]
  },
  {
   "cell_type": "code",
   "execution_count": 9,
   "metadata": {},
   "outputs": [],
   "source": [
    "f = func()"
   ]
  },
  {
   "cell_type": "code",
   "execution_count": 11,
   "metadata": {},
   "outputs": [
    {
     "data": {
      "text/plain": [
       "<function __main__.func>"
      ]
     },
     "execution_count": 11,
     "metadata": {},
     "output_type": "execute_result"
    }
   ],
   "source": [
    "f"
   ]
  },
  {
   "cell_type": "code",
   "execution_count": 13,
   "metadata": {},
   "outputs": [],
   "source": [
    "c = f()"
   ]
  },
  {
   "cell_type": "code",
   "execution_count": 14,
   "metadata": {},
   "outputs": [
    {
     "data": {
      "text/plain": [
       "<generator object makeIterator at 0x05E5E918>"
      ]
     },
     "execution_count": 14,
     "metadata": {},
     "output_type": "execute_result"
    }
   ],
   "source": [
    "c"
   ]
  },
  {
   "cell_type": "code",
   "execution_count": 15,
   "metadata": {},
   "outputs": [
    {
     "name": "stdout",
     "output_type": "stream",
     "text": [
      "1\n"
     ]
    },
    {
     "data": {
      "text/plain": [
       "False"
      ]
     },
     "execution_count": 15,
     "metadata": {},
     "output_type": "execute_result"
    }
   ],
   "source": [
    "next(c)"
   ]
  },
  {
   "cell_type": "code",
   "execution_count": 16,
   "metadata": {},
   "outputs": [],
   "source": [
    "def dwrap(func, *args, **kwargs):\n",
    "    \"\"\"Wrap a callable as a task. Yield the boolean of its result.\n",
    "    \"\"\"\n",
    "    def initTask(**initkwargs):\n",
    "        def makeIterator(**runkwargs):\n",
    "            result = func(*args, **kwargs)\n",
    "            yield bool(result)\n",
    "        return makeIterator\n",
    "    return initTask"
   ]
  },
  {
   "cell_type": "code",
   "execution_count": 20,
   "metadata": {},
   "outputs": [],
   "source": [
    "# 回忆以下普通的装饰器，然后在学习以下高端的装饰器\n",
    "\n",
    "def checktime(func, *args, **kw):\n",
    "    print args, kw\n",
    "    def inner(**kws):\n",
    "        print kws\n",
    "        print 'func begins'\n",
    "        r = func(*args, **kw)\n",
    "        print 'func ends'\n",
    "        return r\n",
    "    return inner\n"
   ]
  },
  {
   "cell_type": "code",
   "execution_count": 21,
   "metadata": {},
   "outputs": [
    {
     "name": "stdout",
     "output_type": "stream",
     "text": [
      "() {}\n"
     ]
    }
   ],
   "source": [
    "@checktime\n",
    "def func():\n",
    "    print 3+4"
   ]
  },
  {
   "cell_type": "code",
   "execution_count": 19,
   "metadata": {},
   "outputs": [
    {
     "name": "stdout",
     "output_type": "stream",
     "text": [
      "func begins\n",
      "7\n",
      "func ends\n"
     ]
    }
   ],
   "source": [
    "func()"
   ]
  },
  {
   "cell_type": "code",
   "execution_count": 26,
   "metadata": {},
   "outputs": [
    {
     "name": "stdout",
     "output_type": "stream",
     "text": [
      "() {}\n"
     ]
    }
   ],
   "source": [
    "@checktime\n",
    "def func():\n",
    "    print 1"
   ]
  },
  {
   "cell_type": "code",
   "execution_count": 27,
   "metadata": {},
   "outputs": [
    {
     "name": "stdout",
     "output_type": "stream",
     "text": [
      "{}\n",
      "func begins\n",
      "1\n",
      "func ends\n"
     ]
    }
   ],
   "source": [
    "func()"
   ]
  },
  {
   "cell_type": "code",
   "execution_count": 38,
   "metadata": {},
   "outputs": [],
   "source": [
    "from owyl import blackboard\n",
    "import owyl\n",
    "\n",
    "import time\n",
    "import threading\n",
    "import random\n",
    "\n",
    "\n",
    "@owyl.task\n",
    "def is_greater_than_10(**kwargs):\n",
    "    bb = kwargs[\"blackboard\"]\n",
    "    yield bb[\"input\"] > 10\n",
    "\n",
    "\n",
    "@owyl.task\n",
    "def is_between_0_and_10(**kwargs):\n",
    "    bb = kwargs[\"blackboard\"]\n",
    "    yield 0 < bb[\"input\"] < 10\n",
    "\n",
    "\n",
    "@owyl.task\n",
    "def wow_large_number(**kwargs):\n",
    "    bb = kwargs[\"blackboard\"]\n",
    "    print \"WOW, %d is a large number!\" % bb[\"input\"]\n",
    "    yield True\n",
    "\n",
    "\n",
    "@owyl.task\n",
    "def doomed(**kwargs):\n",
    "    bb = kwargs[\"blackboard\"]\n",
    "    print \"%d is doomed\" % bb[\"input\"]\n",
    "    yield None\n",
    "\n",
    "\n",
    "@owyl.task\n",
    "def count_from_1(**kwargs):\n",
    "    bb = kwargs[\"blackboard\"]\n",
    "    for i in range(1, bb[\"input\"]):\n",
    "        print \"count\", i\n",
    "        yield\n",
    "    print \"count\", bb[\"input\"]\n",
    "    yield True\n",
    "\n",
    "\n",
    "def test_bt(input_int=5):\n",
    "    print \"test for\", input_int\n",
    "    tree = owyl.selector(\n",
    "            owyl.sequence(is_greater_than_10(), wow_large_number()),\n",
    "            owyl.sequence(is_between_0_and_10(), count_from_1()),\n",
    "#             owyl.repeat(doomed(), times=3),\n",
    "            #policy=owyl.PARALLEL_SUCCESS.REQUIRE_ALL\n",
    "            )\n",
    "    print type(tree)\n",
    "    bt = owyl.visit(tree, blackboard.Blackboard(name=\"mybt\", input=input_int))\n",
    "    while True:\n",
    "        try:\n",
    "            bt.next()\n",
    "        except StopIteration:\n",
    "            break\n",
    "    print \"-\"*10"
   ]
  },
  {
   "cell_type": "code",
   "execution_count": 39,
   "metadata": {},
   "outputs": [
    {
     "name": "stdout",
     "output_type": "stream",
     "text": [
      "test for 5\n",
      "<type 'function'>\n"
     ]
    },
    {
     "ename": "TypeError",
     "evalue": "visit() takes exactly 1 argument (2 given)",
     "output_type": "error",
     "traceback": [
      "\u001b[1;31m---------------------------------------------------------------------------\u001b[0m",
      "\u001b[1;31mTypeError\u001b[0m                                 Traceback (most recent call last)",
      "\u001b[1;32m<ipython-input-39-5e82a92c8272>\u001b[0m in \u001b[0;36m<module>\u001b[1;34m()\u001b[0m\n\u001b[1;32m----> 1\u001b[1;33m \u001b[0mtest_bt\u001b[0m\u001b[1;33m(\u001b[0m\u001b[1;33m)\u001b[0m\u001b[1;33m\u001b[0m\u001b[0m\n\u001b[0m",
      "\u001b[1;32m<ipython-input-38-302af15e5a8a>\u001b[0m in \u001b[0;36mtest_bt\u001b[1;34m(input_int)\u001b[0m\n\u001b[0;32m     52\u001b[0m             )\n\u001b[0;32m     53\u001b[0m     \u001b[1;32mprint\u001b[0m \u001b[0mtype\u001b[0m\u001b[1;33m(\u001b[0m\u001b[0mtree\u001b[0m\u001b[1;33m)\u001b[0m\u001b[1;33m\u001b[0m\u001b[0m\n\u001b[1;32m---> 54\u001b[1;33m     \u001b[0mbt\u001b[0m \u001b[1;33m=\u001b[0m \u001b[0mowyl\u001b[0m\u001b[1;33m.\u001b[0m\u001b[0mvisit\u001b[0m\u001b[1;33m(\u001b[0m\u001b[0mtree\u001b[0m\u001b[1;33m,\u001b[0m\u001b[0mblackboard\u001b[0m\u001b[1;33m.\u001b[0m\u001b[0mBlackboard\u001b[0m\u001b[1;33m(\u001b[0m\u001b[0mname\u001b[0m\u001b[1;33m=\u001b[0m\u001b[1;34m\"mybt\"\u001b[0m\u001b[1;33m,\u001b[0m \u001b[0minput\u001b[0m\u001b[1;33m=\u001b[0m\u001b[0minput_int\u001b[0m\u001b[1;33m)\u001b[0m\u001b[1;33m)\u001b[0m\u001b[1;33m\u001b[0m\u001b[0m\n\u001b[0m\u001b[0;32m     55\u001b[0m     \u001b[1;32mwhile\u001b[0m \u001b[0mTrue\u001b[0m\u001b[1;33m:\u001b[0m\u001b[1;33m\u001b[0m\u001b[0m\n\u001b[0;32m     56\u001b[0m         \u001b[1;32mtry\u001b[0m\u001b[1;33m:\u001b[0m\u001b[1;33m\u001b[0m\u001b[0m\n",
      "\u001b[1;31mTypeError\u001b[0m: visit() takes exactly 1 argument (2 given)"
     ]
    }
   ],
   "source": [
    "test_bt()"
   ]
  },
  {
   "cell_type": "code",
   "execution_count": null,
   "metadata": {},
   "outputs": [],
   "source": []
  }
 ],
 "metadata": {
  "kernelspec": {
   "display_name": "Python 2",
   "language": "python",
   "name": "python2"
  },
  "language_info": {
   "codemirror_mode": {
    "name": "ipython",
    "version": 2
   },
   "file_extension": ".py",
   "mimetype": "text/x-python",
   "name": "python",
   "nbconvert_exporter": "python",
   "pygments_lexer": "ipython2",
   "version": "2.7.10"
  }
 },
 "nbformat": 4,
 "nbformat_minor": 2
}
