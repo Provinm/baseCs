{
 "cells": [
  {
   "cell_type": "markdown",
   "metadata": {},
   "source": [
    "## 装饰器进阶-类装饰器-多重装饰器-惰性函数装饰器"
   ]
  },
  {
   "cell_type": "markdown",
   "metadata": {},
   "source": [
    "在之前写过的文章中，我们有介绍过普通的装饰器知识，当然这种内容在网上一搜一大片，我敢说网上 90% 关于装饰器的知识都是比较入门的，今天，我们介绍一些较进阶的装饰器知识。"
   ]
  },
  {
   "cell_type": "markdown",
   "metadata": {},
   "source": [
    "主要有以下三部分构成，难度也是依次递增:\n",
    "- 类装饰器\n",
    "- 多重装饰器\n",
    "- 惰性函数装饰器"
   ]
  },
  {
   "cell_type": "markdown",
   "metadata": {},
   "source": [
    "### 面对对象，我无所不能 —— **类装饰器**"
   ]
  },
  {
   "cell_type": "code",
   "execution_count": 7,
   "metadata": {
    "collapsed": true
   },
   "outputs": [],
   "source": [
    "import time\n",
    "\n",
    "class ClassDecorator(object):\n",
    "    \n",
    "    \n",
    "    def __init__(self, func):\n",
    "        \n",
    "        self._func = func\n",
    "        \n",
    "    def __call__(self, *args, **kw):\n",
    "        start = time.time()\n",
    "        res = self._func(*args, **kw)\n",
    "        print('the func\\'s excecute time is', time.time() - start)\n",
    "        "
   ]
  },
  {
   "cell_type": "code",
   "execution_count": 8,
   "metadata": {
    "collapsed": true
   },
   "outputs": [],
   "source": [
    "@ClassDecorator\n",
    "def func(obj):\n",
    "    \n",
    "    time.sleep(1)\n",
    "    print(obj)"
   ]
  },
  {
   "cell_type": "code",
   "execution_count": 9,
   "metadata": {},
   "outputs": [
    {
     "name": "stdout",
     "output_type": "stream",
     "text": [
      "i am a func\n",
      "the func's excecute time is 1.002049207687378\n"
     ]
    }
   ],
   "source": [
    "func(\"i am a func\")"
   ]
  },
  {
   "cell_type": "markdown",
   "metadata": {},
   "source": [
    "理解类装饰器，首先理解 “一个中心， 两个基本点”，中心就是你得知道装饰器的原理就是将一个对象A(类或者函数)传递给另一个对象B(类或者函数)，然后在 Ｂ 中对　Ａ　进行调用。两个基本点分别是，类由　\\_\\_init\\_\\_ 初始化的; 双下划线　\\_\\_call\\_\\_ 　函数的意义以及执行顺序。本文主要讲装饰器相关的内容，所以对这些细节就不再详细解释了。有兴趣的读者可以参考以下文章：\n",
    "\n",
    "- 装饰器的基本使用方法\n",
    "- [init 和 call 的介绍](https://stackoverflow.com/questions/9663562/what-is-the-difference-between-init-and-call-in-python)\n",
    "\n"
   ]
  },
  {
   "cell_type": "markdown",
   "metadata": {},
   "source": [
    "再说类装饰器的优点，那就是 面对对象的时候，存在无限可能。在以上例子中，稍加修改："
   ]
  },
  {
   "cell_type": "code",
   "execution_count": 10,
   "metadata": {
    "collapsed": true
   },
   "outputs": [],
   "source": [
    "class ClassDecorator2(object):\n",
    "    \n",
    "    \n",
    "    def __init__(self, func):\n",
    "        \n",
    "        self._func = func\n",
    "        self.start_call()\n",
    "        \n",
    "    def __call__(self, *args, **kw):\n",
    "        start = time.time()\n",
    "        res = self._func(*args, **kw)\n",
    "        print('the func\\'s excecute time is', time.time() - start)\n",
    "        \n",
    "    def start_call(self):\n",
    "        \n",
    "        print(\"the class decorator has been initiated\")\n",
    "        "
   ]
  },
  {
   "cell_type": "code",
   "execution_count": 12,
   "metadata": {},
   "outputs": [
    {
     "name": "stdout",
     "output_type": "stream",
     "text": [
      "the class decorator has been initiated\n"
     ]
    }
   ],
   "source": [
    "@ClassDecorator2\n",
    "def func2(obj):\n",
    "    \n",
    "    time.sleep(1)\n",
    "    print(\"func2's obj is\", obj)"
   ]
  },
  {
   "cell_type": "code",
   "execution_count": 13,
   "metadata": {},
   "outputs": [
    {
     "name": "stdout",
     "output_type": "stream",
     "text": [
      "func2's obj is 123\n",
      "the func's excecute time is 1.0017757415771484\n"
     ]
    }
   ],
   "source": [
    "func2(123)"
   ]
  },
  {
   "cell_type": "markdown",
   "metadata": {},
   "source": [
    "看到了么，我们可以在函数还没调用的时候就可以执行一些操作。比如说当你执行某个函数之前，需要预先加载一些环境，使用类装饰器就可以非常优雅的做到这一点。\n",
    "当然，这是只是抛砖引玉，更多更有趣的玩法还需要大家一起挖掘。"
   ]
  },
  {
   "cell_type": "markdown",
   "metadata": {},
   "source": [
    "### 一切皆可被装饰 —— **多重装饰器**。"
   ]
  },
  {
   "cell_type": "code",
   "execution_count": 28,
   "metadata": {
    "collapsed": true
   },
   "outputs": [],
   "source": [
    "# 首先我们构造两个普通的装饰器\n",
    "\n",
    "def decorator1(func):\n",
    "    \n",
    "    def inner(*args, **kw):\n",
    "        \n",
    "        r = func(*args, **kw)\n",
    "        print(\"decorator1's result is\", r)\n",
    "        return \"<i>\" + r + \"<i>\"\n",
    "    return inner\n",
    "\n",
    "\n",
    "def decorator2(func):\n",
    "    \n",
    "    def inner(*args, **kw):\n",
    "        \n",
    "        r = func(*args, **kw)\n",
    "        print(\"decorator2's result is\", r)\n",
    "        return \"<dev>\" + r + \"<dev>\"\n",
    "    return inner"
   ]
  },
  {
   "cell_type": "code",
   "execution_count": 29,
   "metadata": {
    "collapsed": true
   },
   "outputs": [],
   "source": [
    "\n",
    "@decorator2\n",
    "@decorator1\n",
    "def func3(obj):\n",
    "    return str(obj)\n",
    "    "
   ]
  },
  {
   "cell_type": "code",
   "execution_count": 30,
   "metadata": {},
   "outputs": [
    {
     "name": "stdout",
     "output_type": "stream",
     "text": [
      "decorator1's result is 345\n",
      "decorator2's result is <i>345<i>\n"
     ]
    },
    {
     "data": {
      "text/plain": [
       "'<dev><i>345<i><dev>'"
      ]
     },
     "execution_count": 30,
     "metadata": {},
     "output_type": "execute_result"
    }
   ],
   "source": [
    "func3(345)"
   ]
  },
  {
   "cell_type": "markdown",
   "metadata": {},
   "source": [
    "从打印看，我们可以清楚的看到函数的执行顺序，首先装饰器 decorator1 作用于 func3 函数，然后装饰器 decorator2 作用于前两者的结果。这里需要明白，装饰器说白了，就是一个函数或者实例，而前者都可以被装饰。理解到这一点，就是一百重装饰器你也不用发虚了。"
   ]
  },
  {
   "cell_type": "markdown",
   "metadata": {},
   "source": [
    "### 函数，你慢一点 —— **惰性函数装饰器**"
   ]
  },
  {
   "cell_type": "markdown",
   "metadata": {},
   "source": [
    "以上两部分，相信对于已经会基本装饰器的玩家来说，理解起来不是难事，接下来要讲的是 惰性函数装饰器(我自己命名的，实在不知道怎么官方的描述)。\n",
    "这类装饰器返回被装饰函数的函数地址，这样让开发者随心所欲的控制传参。"
   ]
  },
  {
   "cell_type": "code",
   "execution_count": 46,
   "metadata": {
    "collapsed": true
   },
   "outputs": [],
   "source": [
    "def decorator3(func):\n",
    "    \n",
    "    def outer(**outer_kw):\n",
    "        \n",
    "        def inner(**inner_kw):\n",
    "            \n",
    "            outer_kw.update(inner_kw)\n",
    "            r = func(**outer_kw)\n",
    "            return r\n",
    "        \n",
    "        return inner\n",
    "    \n",
    "    return outer"
   ]
  },
  {
   "cell_type": "code",
   "execution_count": 47,
   "metadata": {
    "collapsed": true
   },
   "outputs": [],
   "source": [
    "@decorator3\n",
    "def func4(k=1, v=2):\n",
    "    \n",
    "    print(\"k is {0}, v is {1}\".format(k, v))"
   ]
  },
  {
   "cell_type": "code",
   "execution_count": 48,
   "metadata": {},
   "outputs": [
    {
     "data": {
      "text/plain": [
       "<function __main__.decorator3.<locals>.outer.<locals>.inner>"
      ]
     },
     "execution_count": 48,
     "metadata": {},
     "output_type": "execute_result"
    }
   ],
   "source": [
    "func4()"
   ]
  },
  {
   "cell_type": "code",
   "execution_count": 49,
   "metadata": {},
   "outputs": [
    {
     "name": "stdout",
     "output_type": "stream",
     "text": [
      "k is 100, v is 200\n"
     ]
    }
   ],
   "source": [
    "func4()(k=100, v=200)"
   ]
  },
  {
   "cell_type": "markdown",
   "metadata": {},
   "source": [
    "看到这里，我感觉大部分同学应该是懵逼的，不瞒大家说，我第一次见到这个代码的时候，先是懵逼，然后是惊叹，最后给作者献上了膝盖。原来装饰器还可以这么用，真是太奇妙了。"
   ]
  },
  {
   "cell_type": "markdown",
   "metadata": {},
   "source": [
    "我们来解析一下这个装饰器的构造，为了方便起见，我们添加一些打印来让装饰器的执行变得清晰起来。"
   ]
  },
  {
   "cell_type": "code",
   "execution_count": 52,
   "metadata": {
    "collapsed": true
   },
   "outputs": [],
   "source": [
    "def decorator3(func):\n",
    "    \n",
    "    def outer(**outer_kw):\n",
    "        \n",
    "        def inner(**inner_kw):\n",
    "            \n",
    "            outer_kw.update(inner_kw)\n",
    "            r = func(**outer_kw)\n",
    "            print(\"decorator return finnal result\")\n",
    "            return r\n",
    "        \n",
    "        print(\"decorator return inner\")\n",
    "        return inner\n",
    "    \n",
    "    print(\"decorator return outer\")\n",
    "    return outer"
   ]
  },
  {
   "cell_type": "code",
   "execution_count": 61,
   "metadata": {},
   "outputs": [
    {
     "name": "stdout",
     "output_type": "stream",
     "text": [
      "decorator return outer\n"
     ]
    }
   ],
   "source": [
    "@decorator3\n",
    "def func4(k=1, v=2):\n",
    "    \n",
    "    print(\"k is {0}, v is {1}\".format(k, v))"
   ]
  },
  {
   "cell_type": "code",
   "execution_count": 62,
   "metadata": {},
   "outputs": [
    {
     "name": "stdout",
     "output_type": "stream",
     "text": [
      "decorator return inner\n",
      "<function decorator3.<locals>.outer.<locals>.inner at 0x7fae40515400>\n"
     ]
    }
   ],
   "source": [
    "new_f = func4()\n",
    "print(new_f)"
   ]
  },
  {
   "cell_type": "code",
   "execution_count": 64,
   "metadata": {},
   "outputs": [
    {
     "name": "stdout",
     "output_type": "stream",
     "text": [
      "k is 100, v is 200\n",
      "decorator return finnal result\n"
     ]
    }
   ],
   "source": [
    "r = new_f(k=100, v=200)"
   ]
  },
  {
   "cell_type": "markdown",
   "metadata": {},
   "source": [
    "可以清楚的看到， func4() 的调用结果是装饰器内部的 inner 函数地址，然后 new_f(k=100, v=200) 先是更新了 k,v 的值然后再进行最终的调用，即打印出已经更新的值。"
   ]
  },
  {
   "cell_type": "markdown",
   "metadata": {},
   "source": [
    "这种装饰器的优点在于，你可以对函数进行两次赋值，然后再进行调用，在实际的工程项目中可能会用到这种设计。"
   ]
  },
  {
   "cell_type": "markdown",
   "metadata": {},
   "source": [
    "最后，祝大家看完之后会有收获。"
   ]
  },
  {
   "cell_type": "code",
   "execution_count": null,
   "metadata": {
    "collapsed": true
   },
   "outputs": [],
   "source": []
  }
 ],
 "metadata": {
  "kernelspec": {
   "display_name": "Python 3",
   "language": "python",
   "name": "python3"
  },
  "language_info": {
   "codemirror_mode": {
    "name": "ipython",
    "version": 3
   },
   "file_extension": ".py",
   "mimetype": "text/x-python",
   "name": "python",
   "nbconvert_exporter": "python",
   "pygments_lexer": "ipython3",
   "version": "3.5.2"
  }
 },
 "nbformat": 4,
 "nbformat_minor": 2
}
