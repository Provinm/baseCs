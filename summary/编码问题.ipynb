{
 "cells": [
  {
   "cell_type": "markdown",
   "metadata": {},
   "source": [
    "### Python2 中编码问题"
   ]
  },
  {
   "cell_type": "markdown",
   "metadata": {},
   "source": [
    "在 Py2 中编码需要认识到解码编码过程是在 str 和 unicode 之间转换\n",
    "\n",
    "\n",
    "str --decode --- unicode ---encode ---str\n",
    "\n",
    "unicode 为编码的中转站，要想把 gbk 字符转为 utf-8 字符，首先要将 str decode为通用的 unicode 接着 encode 为另一种形式的 str ."
   ]
  },
  {
   "cell_type": "markdown",
   "metadata": {},
   "source": [
    "```\n",
    ">>> u'你好'.encode('utf-8')\n",
    "'\\xe4\\xbd\\xa0\\xe5\\xa5\\xbd'\n",
    ">>> '你好'.decode('utf-8')\n",
    "u'\\u4f60\\u597d'\n",
    "\n",
    "\n",
    "```"
   ]
  },
  {
   "cell_type": "markdown",
   "metadata": {},
   "source": [
    "### Python3中编码问题\n",
    "\n",
    "和 py2 不同， py3 的解码编码过程是在 bytes 和 str 之间转换\n",
    "\n",
    "str ---encode --- bytes --- decode --- str"
   ]
  },
  {
   "cell_type": "code",
   "execution_count": 3,
   "metadata": {},
   "outputs": [
    {
     "name": "stdout",
     "output_type": "stream",
     "text": [
      "b'\\xe4\\xbd\\xa0\\xe5\\xa5\\xbd'\n"
     ]
    }
   ],
   "source": [
    "s = '你好'.encode('utf-8')\n",
    "print(s)"
   ]
  },
  {
   "cell_type": "code",
   "execution_count": 4,
   "metadata": {},
   "outputs": [
    {
     "name": "stdout",
     "output_type": "stream",
     "text": [
      "浣犲ソ\n"
     ]
    }
   ],
   "source": [
    "print(s.decode('gbk'))"
   ]
  },
  {
   "cell_type": "code",
   "execution_count": 5,
   "metadata": {},
   "outputs": [
    {
     "name": "stdout",
     "output_type": "stream",
     "text": [
      "你好\n"
     ]
    }
   ],
   "source": [
    "print(s.decode('utf-8'))"
   ]
  },
  {
   "cell_type": "code",
   "execution_count": null,
   "metadata": {
    "collapsed": true
   },
   "outputs": [],
   "source": []
  }
 ],
 "metadata": {
  "kernelspec": {
   "display_name": "Python 3",
   "language": "python",
   "name": "python3"
  },
  "language_info": {
   "codemirror_mode": {
    "name": "ipython",
    "version": 3
   },
   "file_extension": ".py",
   "mimetype": "text/x-python",
   "name": "python",
   "nbconvert_exporter": "python",
   "pygments_lexer": "ipython3",
   "version": "3.5.2"
  }
 },
 "nbformat": 4,
 "nbformat_minor": 2
}
