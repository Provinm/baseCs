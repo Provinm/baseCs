{
 "cells": [
  {
   "cell_type": "markdown",
   "metadata": {},
   "source": [
    "## Mutual Import In Python"
   ]
  },
  {
   "cell_type": "markdown",
   "metadata": {},
   "source": [
    "在 Python　的工程化应用中，经常会遇到相互引用的情况。一旦把握不好就容易出现报错，最近在解决代码重构的时候就遇到过此问题，得益于之前看到过的一些精妙的代码实现再加上自己的思考，最好完美且优雅的解决了这种问题。"
   ]
  },
  {
   "cell_type": "markdown",
   "metadata": {},
   "source": [
    "本文章特别提到工程化，是因为该解决方案适合在工程中应用，简单的脚本使用则显得相对臃肿复杂。"
   ]
  },
  {
   "cell_type": "markdown",
   "metadata": {},
   "source": [
    "以下我会逐步的从问题背景，解决思路，最终代码的顺序逐一说明。"
   ]
  },
  {
   "cell_type": "markdown",
   "metadata": {},
   "source": [
    "背景代码抽象如下"
   ]
  },
  {
   "cell_type": "markdown",
   "metadata": {},
   "source": [
    "File a.py\n",
    "\n",
    "```python\n",
    "from b import Bcls\n",
    "\n",
    "class Acls(object):\n",
    "    \n",
    "    def __init__(self):\n",
    "        \n",
    "        self.bcls = Bcls()\n",
    "        \n",
    "A = Acls()\n",
    "        \n",
    "```"
   ]
  },
  {
   "cell_type": "markdown",
   "metadata": {},
   "source": [
    "File b.py\n",
    "\n",
    "```python\n",
    "\n",
    "from a import Acls\n",
    "\n",
    "class Bcls(object):\n",
    "    def __init__(self):\n",
    "    \n",
    "        self.Acls = Acls()\n",
    "        \n",
    "```"
   ]
  },
  {
   "cell_type": "markdown",
   "metadata": {},
   "source": [
    "运行文件 A 时出现报错\n",
    "\n",
    "```python\n",
    "\n",
    "Traceback (most recent call last):\n",
    "  File \"/home/zx/mutual_import/a.py\", line 3, in <module>\n",
    "    from b import Bcls\n",
    "  File \"/home/zx/mutual_import/a.py\", line 4, in <module>\n",
    "    from a import Acls\n",
    "  File \"/home/zx/mutual_import/a.py\", line 3, in <module>\n",
    "    from b import Bcls\n",
    "ImportError: cannot import name Bcls\n",
    "\n",
    "```"
   ]
  },
  {
   "cell_type": "markdown",
   "metadata": {},
   "source": [
    "这么引用最后一定是会出问题的，Acls 在初始化的时候需要先初始化 Bcls, Bcls初始化的时候又需要先初始化 Acls。很多同学会笑，怎么有人会写这种看起来极其不合理的代码，其实在工程应用中，这真的是挺常见的。下面我会逐步的给出思考以及解决过程。"
   ]
  },
  {
   "cell_type": "markdown",
   "metadata": {},
   "source": [
    "我默认读者明白 python 中 import 的知识，以及能正确的区分函数和函数返回值的区别。如果对这两块知识有疑问，可以 google 看看。"
   ]
  },
  {
   "cell_type": "markdown",
   "metadata": {},
   "source": [
    "这里说一下一个类似与单例，但我个人觉得比单例更简单直接的设计模式，它的大名叫 [Brog](https://github.com/faif/python-patterns/blob/master/creational/borg.py)。"
   ]
  },
  {
   "cell_type": "markdown",
   "metadata": {},
   "source": [
    "简单来说，它可以让类下的所有实例共享属性，代码如下："
   ]
  },
  {
   "cell_type": "code",
   "execution_count": 7,
   "metadata": {},
   "outputs": [],
   "source": [
    "class Brog(object):\n",
    "    \n",
    "    _shared = {}\n",
    "    def __init__(self):\n",
    "        self.__dict__ = self._shared"
   ]
  },
  {
   "cell_type": "markdown",
   "metadata": {},
   "source": [
    "这个设计模式的好处在于，你可以在代码的任意地方初始化一个实例，然后向其内部注册属性或者方法，然后该类下所有的实例都会有此方法或者属性"
   ]
  },
  {
   "cell_type": "code",
   "execution_count": 9,
   "metadata": {
    "collapsed": true
   },
   "outputs": [],
   "source": [
    "A = Brog()\n",
    "B = Brog()"
   ]
  },
  {
   "cell_type": "code",
   "execution_count": 11,
   "metadata": {
    "collapsed": true
   },
   "outputs": [],
   "source": [
    "# 向 A 中注册一个属性\n",
    "A.attr = 1"
   ]
  },
  {
   "cell_type": "code",
   "execution_count": 13,
   "metadata": {},
   "outputs": [
    {
     "data": {
      "text/plain": [
       "True"
      ]
     },
     "execution_count": 13,
     "metadata": {},
     "output_type": "execute_result"
    }
   ],
   "source": [
    "# 该属性会立即出现在 B中\n",
    "B.attr == 1"
   ]
  },
  {
   "cell_type": "code",
   "execution_count": 17,
   "metadata": {},
   "outputs": [],
   "source": [
    "# 向 A 中注册一个方法\n",
    "\n",
    "def func():\n",
    "    \n",
    "    print(\"this is func\")\n",
    "    \n",
    "A.func = func"
   ]
  },
  {
   "cell_type": "code",
   "execution_count": 19,
   "metadata": {},
   "outputs": [
    {
     "name": "stdout",
     "output_type": "stream",
     "text": [
      "this is func\n"
     ]
    }
   ],
   "source": [
    "# 该方法同样可以在 B 中直接调用\n",
    "\n",
    "B.func()"
   ]
  },
  {
   "cell_type": "markdown",
   "metadata": {},
   "source": [
    "看到这里，解决思路浮出水面了，我们要使用 Brog 设计模式构造一个中间类，来为两个文件中的类牵线搭桥，这样来解决相互引用的问题。"
   ]
  },
  {
   "cell_type": "markdown",
   "metadata": {},
   "source": [
    "设计思路如下，首先在文件 B 中使用 brog 模式构建一个类，我这里称之为 Bridge"
   ]
  },
  {
   "cell_type": "code",
   "execution_count": 25,
   "metadata": {},
   "outputs": [],
   "source": [
    "# File b.py\n",
    "\n",
    "\n",
    "class Bridge(object):\n",
    "    \n",
    "    _shared = {}\n",
    "    \n",
    "    def __init__(self):\n",
    "        \n",
    "        self.__dict__ = self._shared\n",
    "        \n",
    "    # 为了使代码清晰易懂，提供一个注册方法\n",
    "    def register(self, alias, cls):\n",
    "        # alias 是类的别名\n",
    "        # cls 是类本身\n",
    "        setattr(self, alias, cls)\n",
    "        \n",
    "    # 提供一个调用方法\n",
    "    def invoke(self, alias):\n",
    "        # 使用别名初始化注册好的类\n",
    "        return getattr(self, alias)\n",
    "        \n",
    "    "
   ]
  },
  {
   "cell_type": "markdown",
   "metadata": {},
   "source": [
    "然后修改 B 文件中的 Bcls"
   ]
  },
  {
   "cell_type": "code",
   "execution_count": 26,
   "metadata": {
    "collapsed": true
   },
   "outputs": [],
   "source": [
    "# File b.py\n",
    "\n",
    "class Bcls(object):\n",
    "    \n",
    "    def __init__(self):\n",
    "        # 初始化 bridge\n",
    "        self.bridge = Bridge()\n",
    "        \n",
    "    def invoke_acls(self):\n",
    "        # 使用别名调用　Acls\n",
    "        # 注意这里单独写了一个方法\n",
    "        self.acls = self.bridge.invoke(\"Acls\")\n",
    "        return self.acls"
   ]
  },
  {
   "cell_type": "markdown",
   "metadata": {},
   "source": [
    "以上便是 b.py 文件的全部内容，我们没有向 a 文件 import 任何东西，这是因为我们将注册放到了 A 文件中。"
   ]
  },
  {
   "cell_type": "markdown",
   "metadata": {},
   "source": [
    "以下是 A 文件修改过后的代码"
   ]
  },
  {
   "cell_type": "markdown",
   "metadata": {},
   "source": [
    "文件 a.py\n",
    "\n",
    "```python\n",
    "\n",
    "\n",
    "from b import Blcs, Bridge\n",
    "\n",
    "class Acls(object):\n",
    "\n",
    "    def __init__(self):\n",
    "\n",
    "        self.bcls = Bcls()\n",
    "        \n",
    "# 初始化 bridge 中间类\n",
    "bridge = Bridge()\n",
    "# 初始化 Acls\n",
    "A = Acls()\n",
    "# 将 A 注册到 bridge 中\n",
    "bridge.register(\"Acls\", A)\n",
    "\n",
    "# 此时再 invoke Bcls 中的 Acls\n",
    "# 可以看到 Acls 被注册进 Bcls 了\n",
    "print(A.bls.invoke_alcs())\n",
    "\n",
    "```"
   ]
  },
  {
   "cell_type": "markdown",
   "metadata": {},
   "source": [
    "## 总结"
   ]
  },
  {
   "cell_type": "code",
   "execution_count": null,
   "metadata": {
    "collapsed": true
   },
   "outputs": [],
   "source": []
  }
 ],
 "metadata": {
  "kernelspec": {
   "display_name": "Python 3",
   "language": "python",
   "name": "python3"
  },
  "language_info": {
   "codemirror_mode": {
    "name": "ipython",
    "version": 3
   },
   "file_extension": ".py",
   "mimetype": "text/x-python",
   "name": "python",
   "nbconvert_exporter": "python",
   "pygments_lexer": "ipython3",
   "version": "3.5.2"
  }
 },
 "nbformat": 4,
 "nbformat_minor": 2
}
