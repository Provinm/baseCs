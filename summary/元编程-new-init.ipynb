{
 "cells": [
  {
   "cell_type": "markdown",
   "metadata": {},
   "source": [
    "### __new__ 和 __init__ 的区别\n"
   ]
  },
  {
   "cell_type": "code",
   "execution_count": 7,
   "metadata": {},
   "outputs": [
    {
     "name": "stdout",
     "output_type": "stream",
     "text": [
      "new\n",
      "INIT\n",
      "{'key': <__main__.A object at 0x7f4dc821b160>}\n",
      "====\n",
      "exists\n",
      "INIT\n",
      "{'key': <__main__.A object at 0x7f4dc821b160>}\n",
      "====\n",
      "exists\n",
      "INIT\n",
      "{'key': <__main__.A object at 0x7f4dc821b160>}\n"
     ]
    }
   ],
   "source": [
    "class A:\n",
    "    _dict = dict()\n",
    "    def __new__(cls):\n",
    "        if 'key' in A._dict:\n",
    "            print('exists')\n",
    "            return A._dict['key']\n",
    "        \n",
    "        else:\n",
    "            print('new')\n",
    "            return super(A, cls).__new__(cls)\n",
    "    def __init__(self):\n",
    "        print('INIT')\n",
    "        A._dict['key'] = self\n",
    "        print(A._dict)\n",
    "        \n",
    "a1 = A()\n",
    "print('====')\n",
    "a2 = A()\n",
    "print('====')\n",
    "a3 = A()\n"
   ]
  },
  {
   "cell_type": "markdown",
   "metadata": {},
   "source": [
    "#### 解释以上的代码\n",
    "\n",
    "什么是 \\_\\_new\\_\\_()\n",
    "\n",
    "\\_\\_new\\_\\_() 是一个静态的类方法，他返回一个类的实例\n",
    "\n",
    "什么是 \\_\\_init\\_\\_()\n",
    "\n",
    "\\_\\_init\\_\\_() 是一个实例方法， 不返回任何\n",
    "\n",
    "\\_\\_new\\_\\_() 总是在 \\_\\_init\\_\\_() 之前执行，可以理解为， new 先创造一个实例然后 init 初始化这个实例。\n",
    "\n",
    "\n",
    "new 如何创建实例：\n",
    "```\n",
    "\n",
    "super(A, cls).__new__(cls)\n",
    "\n",
    "```\n",
    "\n"
   ]
  },
  {
   "cell_type": "markdown",
   "metadata": {},
   "source": [
    "#### 使用 __new__ 实现单例模式\n",
    "\n",
    "单例模式特点\n",
    "\n",
    "- 一个类只有一个实例，实例共享\n",
    "- 必须由自己创建这个实例\n",
    "- 必须向整个系统提供这个实例\n",
    "\n"
   ]
  },
  {
   "cell_type": "markdown",
   "metadata": {},
   "source": [
    "#### 类实现"
   ]
  },
  {
   "cell_type": "code",
   "execution_count": 15,
   "metadata": {},
   "outputs": [
    {
     "name": "stdout",
     "output_type": "stream",
     "text": [
      "10743840 10743840\n"
     ]
    }
   ],
   "source": [
    "class Single:\n",
    "    _instance = None\n",
    "    def __new__(cls):\n",
    "        \n",
    "        if cls._instance is None:\n",
    "            Single._insance = object.__new__(cls)\n",
    "        return cls._instance\n",
    "        \n",
    "    def __init__(self):\n",
    "        pass\n",
    "    \n",
    "s1 = Single()\n",
    "s2 = Single()\n",
    "\n",
    "print(id(s1), id(s2))"
   ]
  },
  {
   "cell_type": "markdown",
   "metadata": {},
   "source": [
    "#### 装饰器实现"
   ]
  },
  {
   "cell_type": "code",
   "execution_count": 13,
   "metadata": {},
   "outputs": [
    {
     "name": "stdout",
     "output_type": "stream",
     "text": [
      "139972046867032 139972046867032\n"
     ]
    }
   ],
   "source": [
    "def single(cls):\n",
    "    instance = {}\n",
    "    def getins():\n",
    "        if cls not in instance:\n",
    "            instance[cls] = cls()\n",
    "        return instance[cls]\n",
    "    return getins\n",
    "    \n",
    "@single\n",
    "class A:\n",
    "    \n",
    "    def __init__(self):\n",
    "        pass\n",
    "\n",
    "a1 = A()\n",
    "a2 = A()\n",
    "print(id(a1), id(a2))"
   ]
  }
 ],
 "metadata": {
  "kernelspec": {
   "display_name": "Python 3",
   "language": "python",
   "name": "python3"
  },
  "language_info": {
   "codemirror_mode": {
    "name": "ipython",
    "version": 3
   },
   "file_extension": ".py",
   "mimetype": "text/x-python",
   "name": "python",
   "nbconvert_exporter": "python",
   "pygments_lexer": "ipython3",
   "version": "3.6.2"
  }
 },
 "nbformat": 4,
 "nbformat_minor": 2
}
